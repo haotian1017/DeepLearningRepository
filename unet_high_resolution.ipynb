{
  "nbformat": 4,
  "nbformat_minor": 0,
  "metadata": {
    "accelerator": "GPU",
    "colab": {
      "name": "unet1.ipynb",
      "provenance": [],
      "collapsed_sections": []
    },
    "kernelspec": {
      "display_name": "Python 3",
      "language": "python",
      "name": "python3"
    },
    "language_info": {
      "codemirror_mode": {
        "name": "ipython",
        "version": 3
      },
      "file_extension": ".py",
      "mimetype": "text/x-python",
      "name": "python",
      "nbconvert_exporter": "python",
      "pygments_lexer": "ipython3",
      "version": "3.7.6"
    }
  },
  "cells": [
    {
      "cell_type": "code",
      "metadata": {
        "id": "jVVNRFDpDWPZ",
        "outputId": "181c4461-c3d6-4a0f-8d26-26a5f9a87881",
        "colab": {
          "base_uri": "https://localhost:8080/",
          "height": 34
        }
      },
      "source": [
        "import numpy as np\n",
        "import matplotlib.pyplot as plt\n",
        "from matplotlib.pyplot import imshow, colorbar\n",
        "import pandas as pd\n",
        "import torch \n",
        "import torchvision\n",
        "import torch.nn as nn \n",
        "from IPython.display import Image \n",
        "from torchvision import transforms\n",
        "import matplotlib.pyplot as plt\n",
        "import random\n",
        "import PIL\n",
        "from torch.utils.data import DataLoader\n",
        "from tqdm.auto import tqdm\n",
        "device = torch.device(\"cuda\" if torch.cuda.is_available() else \"cpu\")\n",
        "seed = 12345\n",
        "random.seed(seed)\n",
        "torch.manual_seed(seed)"
      ],
      "execution_count": null,
      "outputs": [
        {
          "output_type": "execute_result",
          "data": {
            "text/plain": [
              "<torch._C.Generator at 0x7f5075c205a0>"
            ]
          },
          "metadata": {
            "tags": []
          },
          "execution_count": 1
        }
      ]
    },
    {
      "cell_type": "code",
      "metadata": {
        "id": "GMH6l62V_ITk",
        "outputId": "b85d0e09-f3a8-4083-a077-3781e2131b0b",
        "colab": {
          "base_uri": "https://localhost:8080/",
          "height": 34
        }
      },
      "source": [
        "from google.colab import drive\n",
        "drive.mount('/content/drive')"
      ],
      "execution_count": null,
      "outputs": [
        {
          "output_type": "stream",
          "text": [
            "Mounted at /content/drive\n"
          ],
          "name": "stdout"
        }
      ]
    },
    {
      "cell_type": "code",
      "metadata": {
        "id": "dBGPZyDPDWPe"
      },
      "source": [
        " # generate the groudtruth data\n",
        "# y = sum_{k=1}^K a0k conv x0k + b*1 + n\n",
        "# s = rng(seed)\n",
        "def gen_data_2D(theta, x_grid, n, b, noise_level, a_type,x_type, raw_data_handeling = None):\n",
        "    \"\"\"\n",
        "    Parameters:\n",
        "    ----------------\n",
        "    theta: the threshold for generating spike train X_0\n",
        "    x_grid: a length 2 list denoting the grid dimension for X\n",
        "    n: the dimension of the kernel (we use squared kernel)\n",
        "    b: the magnitude of the bias term\n",
        "    noise_level: the magnitude of noise\n",
        "    a_type: the kernel type we want to apply on X (randn, 2d-gaussian, sinc)\n",
        "    x_type: which method we want to generate x_0 (bernoulli, bernoulli-gaussian)\n",
        "    raw_data_handeling: our generated X may have some entry as negative values,\n",
        "                        however, this will not happen in real image, so we need\n",
        "                        to take care of those negative entries. (max_0, sigmoid)\n",
        "    \"\"\"\n",
        "    \n",
        "    # generate the kernel a_0\n",
        "    gamma = [1.7, -0.712] # Parameter for AR2 model\n",
        "    t = np.linspace(0, 1, n**2).reshape([n, n]) \n",
        "    case = a_type.lower()\n",
        "    if case == \"randn\": # Random Gaussian\n",
        "        a_0 = np.random.normal(size = [n, n])\n",
        "    elif case == \"sinc\":\n",
        "        sigma = 0.05\n",
        "        a_0 = np.sinc((t-0.5)/sigma)\n",
        "    elif case == \"2d-gaussian\":\n",
        "        sigma = 0.5 # could perturb sigma if you want\n",
        "        # 2D gaussian kernel\n",
        "        grid_hori = np.linspace(-n / 2, n / 2, n)\n",
        "        grid_verti = grid_hori.copy()\n",
        "        mesh_x, mesh_y = np.meshgrid(grid_hori, grid_verti)\n",
        "        a_0 = 1 / np.sqrt(2 * np.pi * sigma ** 2) * np.exp(-(mesh_x ** 2 + mesh_y ** 2) / 2 * sigma ** 2)\n",
        "    else:\n",
        "        raise ValueError(\"Wrong type\")\n",
        "\n",
        "    #a_0 = a_0 / np.linalg.norm(a_0, axis = 0)  # Normalize kernel by column\n",
        "    a_0 = a_0 / np.max(np.linalg.eig(a_0)[0])\n",
        "\n",
        "    # Generate the spike train x_0\n",
        "    m_0, m_1 = x_grid\n",
        "    case_x = x_type.lower()\n",
        "    if case_x == \"bernoulli\":\n",
        "        x_0 = (np.random.uniform(size = [m_0, m_1]) <= theta).astype(int) # Bernoulli spike train\n",
        "    elif case_x == 'bernoulli-gaussian':\n",
        "        # Gaussian-Bernoulli spike train\n",
        "        x_0 = np.random.normal(size = [m_0, m_1]) * (np.random.uniform(size = [m_0, m_1]) <= theta)\n",
        "    else:\n",
        "        raise ValueError(\"Wrong type\")\n",
        "    # Now handle negative entries\n",
        "    if case_x != \"bernoulli\":\n",
        "        case_handle = raw_data_handeling.lower()\n",
        "        if case_handle == \"max_0\":\n",
        "            x_0 = np.maximum(x_0, 0)\n",
        "        elif case_handle == \"sigmoid\":\n",
        "            indices = (x_0 < 0)\n",
        "            x_0[indices] = 1 / (1 + np.exp(-x_0[indices])) \n",
        "\n",
        "    # generate the data y = a_0 conv b_0 + bias + noise\n",
        "    ##### Circular convolution alert\n",
        "    y_0 = cconv(a_0, x_0, [m_0, m_1]) + b * np.ones([m_0,m_1])\n",
        "    y = y_0 + np.random.normal(size = [m_0, m_1]) * noise_level\n",
        "        \n",
        "    return [a_0, x_0, y_0, y]\n",
        "\n",
        "def ar2exp(g):\n",
        "    # get parameters of the convolution kernel for AR2 process\n",
        "    # Dependency of gen_data\n",
        "    if len(g) == 1:\n",
        "        g.append(0)\n",
        "    temp = np.roots([1, -g[0], -g[1]]) # Polynomial roots\n",
        "    d = np.max(temp)\n",
        "    r = np.min(temp)\n",
        "    tau_d = -1 / np.log(d)\n",
        "    tau_r = -1 / np.log(r)\n",
        "\n",
        "    tau_dr = [tau_d, tau_r]\n",
        "    return np.array(tau_dr)\n",
        "\n",
        "def cconv(mat1, mat2, output_shape):\n",
        "    # Since there's a lot of functions use circular function\n",
        "    # and python doesn't have a function for that\n",
        "    # Dependency of gen_data\n",
        "    \n",
        "    return np.real((np.fft.ifft2(np.fft.fft2(mat1, s = output_shape) \\\n",
        "                        * np.fft.fft2(mat2, s = output_shape))))"
      ],
      "execution_count": null,
      "outputs": []
    },
    {
      "cell_type": "code",
      "metadata": {
        "id": "aYDBK5loDgxz"
      },
      "source": [
        "x=[]\n",
        "y1=[]\n",
        "for i in range(2000):\n",
        "  for j in [\"randn\", \"2d-gaussian\", \"sinc\"]:\n",
        "    for k in [\"bernoulli\", \"bernoulli-gaussian\"]:\n",
        "      [a_0, x_0, y_0, y] = gen_data_2D(0.02, [64,64], 3, 0.3, 0.1, j,k, 'sigmoid')\n",
        "      x.append(x_0)\n",
        "      y1.append(y_0)\n",
        "data=pd.DataFrame([x,y1]).T"
      ],
      "execution_count": null,
      "outputs": []
    },
    {
      "cell_type": "code",
      "metadata": {
        "id": "JhNSUt_cIx_b"
      },
      "source": [
        "x_dev=[]\n",
        "y1_dev=[]\n",
        "for i in range(500):\n",
        "  for j in [\"randn\", \"2d-gaussian\", \"sinc\"]:\n",
        "    for k in [\"bernoulli\", \"bernoulli-gaussian\"]:\n",
        "      [a_0, x_0, y_0, y] = gen_data_2D(0.02, [64,64], 3, 0.3, 0.1, j,k, 'sigmoid')\n",
        "      x_dev.append(x_0)\n",
        "      y1_dev.append(y_0)\n",
        "validation=pd.DataFrame([x_dev,y1_dev]).T"
      ],
      "execution_count": null,
      "outputs": []
    },
    {
      "cell_type": "code",
      "metadata": {
        "id": "h3AcKkr8DWPh"
      },
      "source": [
        "class MapDataset(torch.utils.data.Dataset):\n",
        "    \"\"\"\n",
        "    Given a dataset, creates a dataset which applies a mapping function\n",
        "    to its items (lazily, only when an item is called).\n",
        "\n",
        "    Note that data is not cloned/copied from the initial dataset.\n",
        "    \"\"\"\n",
        "\n",
        "    def __init__(self, dataset, map_fn):\n",
        "        self.dataset = dataset\n",
        "        self.map = map_fn\n",
        "\n",
        "    def __getitem__(self, index):\n",
        "        if self.map:     \n",
        "            y = self.map(self.dataset[0][index]).float()\n",
        "            x = self.map(self.dataset[1][index]).float()\n",
        "        else:     \n",
        "            y = self.dataset[0][index]\n",
        "            x = self.dataset[1][index]     \n",
        "        return x, y\n",
        "\n",
        "    def __len__(self):\n",
        "        return len(self.dataset)"
      ],
      "execution_count": null,
      "outputs": []
    },
    {
      "cell_type": "code",
      "metadata": {
        "id": "ErywtS6wDWPk"
      },
      "source": [
        "test_transform = transforms.Compose([\n",
        "                                     transforms.ToTensor()\n",
        "                                     \n",
        "                                     ])\n",
        "\n",
        "train_transform = transforms.Compose([\n",
        "                                      transforms.ToTensor()\n",
        "                                      \n",
        "                                      ])"
      ],
      "execution_count": null,
      "outputs": []
    },
    {
      "cell_type": "code",
      "metadata": {
        "id": "6j8nC-RwDWPn"
      },
      "source": [
        "train_dataset_w_transform  = MapDataset(data, train_transform)\n",
        "val_dataset_w_transform = MapDataset(validation, test_transform)\n",
        "# test_dataset_w_transform = MapDataset(test_dataset, test_transform)\n",
        "\n",
        "bs = 128\n",
        "torch.backends.cudnn.benchmark = True\n",
        "train_loader = DataLoader(train_dataset_w_transform, batch_size=bs, shuffle=True, drop_last=False,num_workers=10, pin_memory=True)\n",
        "val_loader = DataLoader(val_dataset_w_transform, batch_size=bs, shuffle=False, drop_last=False,num_workers=10, pin_memory=True)\n",
        "# test_loader = DataLoader(test_dataset_w_transform, batch_size=bs, shuffle=False, drop_last=False,num_workers=10, pin_memory=True)\n",
        "loader={'train':train_loader,'val':val_loader}"
      ],
      "execution_count": null,
      "outputs": []
    },
    {
      "cell_type": "code",
      "metadata": {
        "id": "mu5yJiOR6VnG"
      },
      "source": [
        "import torch\n",
        "from torch.autograd import Variable\n",
        "\n",
        "\n",
        "class UNet_down_block(torch.nn.Module):\n",
        "    def __init__(self, input_channel, output_channel, down_size):\n",
        "        super(UNet_down_block, self).__init__()\n",
        "        self.conv1 = torch.nn.Conv2d(input_channel, output_channel, 3, padding=1)\n",
        "        self.bn1 = torch.nn.BatchNorm2d(output_channel)\n",
        "        self.conv2 = torch.nn.Conv2d(output_channel, output_channel, 3, padding=1)\n",
        "        self.bn2 = torch.nn.BatchNorm2d(output_channel)\n",
        "        self.conv3 = torch.nn.Conv2d(output_channel, output_channel, 3, padding=1)\n",
        "        self.bn3 = torch.nn.BatchNorm2d(output_channel)\n",
        "        self.max_pool = torch.nn.MaxPool2d(2, 2)\n",
        "        self.relu = torch.nn.ReLU()\n",
        "        self.down_size = down_size\n",
        "\n",
        "    def forward(self, x):\n",
        "        if self.down_size:\n",
        "            x = self.max_pool(x)\n",
        "        x = self.relu(self.bn1(self.conv1(x)))\n",
        "        x = self.relu(self.bn2(self.conv2(x)))\n",
        "        x = self.relu(self.bn3(self.conv3(x)))\n",
        "        return x\n",
        "\n",
        "class UNet_up_block(torch.nn.Module):\n",
        "    def __init__(self, prev_channel, input_channel, output_channel):\n",
        "        super(UNet_up_block, self).__init__()\n",
        "        self.up_sampling = torch.nn.Upsample(scale_factor=2, mode='bilinear')\n",
        "        self.conv1 = torch.nn.Conv2d(prev_channel + input_channel, output_channel, 3, padding=1)\n",
        "        self.bn1 = torch.nn.BatchNorm2d(output_channel)\n",
        "        self.conv2 = torch.nn.Conv2d(output_channel, output_channel, 3, padding=1)\n",
        "        self.bn2 = torch.nn.BatchNorm2d(output_channel)\n",
        "        self.conv3 = torch.nn.Conv2d(output_channel, output_channel, 3, padding=1)\n",
        "        self.bn3 = torch.nn.BatchNorm2d(output_channel)\n",
        "        self.relu = torch.nn.ReLU()\n",
        "\n",
        "    def forward(self, prev_feature_map, x):\n",
        "        x = self.up_sampling(x)\n",
        "        x = torch.cat((x, prev_feature_map), dim=1)\n",
        "        x = self.relu(self.bn1(self.conv1(x)))\n",
        "        x = self.relu(self.bn2(self.conv2(x)))\n",
        "        x = self.relu(self.bn3(self.conv3(x)))\n",
        "        return x\n",
        "\n",
        "\n",
        "class UNet(torch.nn.Module):\n",
        "    def __init__(self):\n",
        "        super(UNet, self).__init__()\n",
        "\n",
        "        self.down_block1 = UNet_down_block(1, 16, False)\n",
        "        self.down_block2 = UNet_down_block(16, 32, True)\n",
        "        self.down_block3 = UNet_down_block(32, 64, True)\n",
        "        self.down_block4 = UNet_down_block(64, 128, True)\n",
        "        self.down_block5 = UNet_down_block(128, 256, True)\n",
        "        self.down_block6 = UNet_down_block(256, 512, True)\n",
        "        self.down_block7 = UNet_down_block(512, 1024, True)\n",
        "\n",
        "        self.mid_conv1 = torch.nn.Conv2d(1024, 1024, 3, padding=1)\n",
        "        self.bn1 = torch.nn.BatchNorm2d(1024)\n",
        "        self.mid_conv2 = torch.nn.Conv2d(1024, 1024, 3, padding=1)\n",
        "        self.bn2 = torch.nn.BatchNorm2d(1024)\n",
        "        self.mid_conv3 = torch.nn.Conv2d(1024, 1024, 3, padding=1)\n",
        "        self.bn3 = torch.nn.BatchNorm2d(1024)\n",
        "\n",
        "        self.up_block1 = UNet_up_block(512, 1024, 512)\n",
        "        self.up_block2 = UNet_up_block(256, 512, 256)\n",
        "        self.up_block3 = UNet_up_block(128, 256, 128)\n",
        "        self.up_block4 = UNet_up_block(64, 128, 64)\n",
        "        self.up_block5 = UNet_up_block(32, 64, 32)\n",
        "        self.up_block6 = UNet_up_block(16, 32, 16)\n",
        "\n",
        "        self.last_conv1 = torch.nn.Conv2d(16, 16, 3, padding=1)\n",
        "        self.last_bn = torch.nn.BatchNorm2d(16)\n",
        "        self.last_conv2 = torch.nn.Conv2d(16, 1, 1, padding=0)\n",
        "        self.relu = torch.nn.ReLU()\n",
        "\n",
        "    def forward(self, x):\n",
        "        self.x1 = self.down_block1(x)\n",
        "        self.x2 = self.down_block2(self.x1)\n",
        "        self.x3 = self.down_block3(self.x2)\n",
        "        self.x4 = self.down_block4(self.x3)\n",
        "        self.x5 = self.down_block5(self.x4)\n",
        "        self.x6 = self.down_block6(self.x5)\n",
        "        self.x7 = self.down_block7(self.x6)\n",
        "        self.x7 = self.relu(self.bn1(self.mid_conv1(self.x7)))\n",
        "        self.x7 = self.relu(self.bn2(self.mid_conv2(self.x7)))\n",
        "        self.x7 = self.relu(self.bn3(self.mid_conv3(self.x7)))\n",
        "        x = self.up_block1(self.x6, self.x7)\n",
        "        x = self.up_block2(self.x5, x)\n",
        "        x = self.up_block3(self.x4, x)\n",
        "        x = self.up_block4(self.x3, x)\n",
        "        x = self.up_block5(self.x2, x)\n",
        "        x = self.up_block6(self.x1, x)\n",
        "        x = self.relu(self.last_bn(self.last_conv1(x)))\n",
        "        x = self.last_conv2(x)\n",
        "        return x"
      ],
      "execution_count": null,
      "outputs": []
    },
    {
      "cell_type": "code",
      "metadata": {
        "id": "VQEmZqnVJTPY"
      },
      "source": [
        "device = torch.device('cuda' if torch.cuda.is_available() else 'cpu')\n",
        "model = UNet()\n",
        "model = model.to(device)\n",
        "\n",
        "# # check keras-like model summary using torchsummary\n",
        "# from torchsummary import summary\n",
        "# summary(model, input_size=(3, 224, 224))"
      ],
      "execution_count": null,
      "outputs": []
    },
    {
      "cell_type": "code",
      "metadata": {
        "id": "0Pubt_FEJvOO"
      },
      "source": [
        "from collections import defaultdict\n",
        "import torch.nn.functional as F\n",
        "def dice_loss(pred, target, smooth = 1.):\n",
        "    pred = pred.contiguous()\n",
        "    target = target.contiguous()    \n",
        "\n",
        "    intersection = (pred * target).sum(dim=2).sum(dim=2)\n",
        "    \n",
        "    loss = (1 - ((2. * intersection + smooth) / (pred.sum(dim=2).sum(dim=2) + target.sum(dim=2).sum(dim=2) + smooth)))\n",
        "    \n",
        "    return loss.mean()\n",
        "\n",
        "def calc_loss(pred, target, metrics, bce_weight=0.5):\n",
        "    bce = F.binary_cross_entropy_with_logits(pred, target)\n",
        "\n",
        "    pred = F.sigmoid(pred)\n",
        "    dice = dice_loss(pred, target)\n",
        "\n",
        "    loss = bce * bce_weight + dice * (1 - bce_weight)\n",
        "\n",
        "    metrics['bce'] += bce.data.cpu().numpy() * target.size(0)\n",
        "    metrics['dice'] += dice.data.cpu().numpy() * target.size(0)\n",
        "    metrics['loss'] += loss.data.cpu().numpy() * target.size(0)\n",
        "\n",
        "    return loss\n",
        "\n",
        "def print_metrics(metrics, epoch_samples, phase):\n",
        "    outputs = []\n",
        "    for k in metrics.keys():\n",
        "        outputs.append(\"{}: {:4f}\".format(k, metrics[k] / epoch_samples))\n",
        "\n",
        "    print(\"{}: {}\".format(phase, \", \".join(outputs)))\n",
        "\n",
        "def train_model(model, optimizer, scheduler, num_epochs=25,dataloaders=loader):\n",
        "    best_model_wts = copy.deepcopy(model.state_dict())\n",
        "    best_loss = 1e10\n",
        "\n",
        "    for epoch in range(num_epochs):\n",
        "        print('Epoch {}/{}'.format(epoch, num_epochs - 1))\n",
        "        print('-' * 10)\n",
        "\n",
        "        since = time.time()\n",
        "\n",
        "        # Each epoch has a training and validation phase\n",
        "        for phase in ['train', 'val']:\n",
        "            if phase == 'train':\n",
        "                scheduler.step()\n",
        "                for param_group in optimizer.param_groups:\n",
        "                    print(\"LR\", param_group['lr'])\n",
        "\n",
        "                model.train()  # Set model to training mode\n",
        "            else:\n",
        "                model.eval()   # Set model to evaluate mode\n",
        "\n",
        "            metrics = defaultdict(float)\n",
        "            epoch_samples = 0\n",
        "\n",
        "            for i,(inputs, labels) in enumerate(dataloaders[phase]):\n",
        "                inputs = inputs.to(device)\n",
        "                labels = labels.to(device)\n",
        "                # zero the parameter gradients\n",
        "                optimizer.zero_grad()\n",
        "\n",
        "                # forward\n",
        "                # track history if only in train\n",
        "                with torch.set_grad_enabled(phase == 'train'):\n",
        "                    outputs = model(inputs)\n",
        "                    loss = calc_loss(outputs, labels, metrics)\n",
        "\n",
        "                    # backward + optimize only if in training phase\n",
        "                    if phase == 'train':\n",
        "                        loss.backward()\n",
        "                        optimizer.step()\n",
        "\n",
        "                # statistics\n",
        "                epoch_samples += inputs.size(0)\n",
        "\n",
        "            print_metrics(metrics, epoch_samples, phase)\n",
        "            epoch_loss = metrics['loss'] / epoch_samples\n",
        "\n",
        "            # deep copy the model\n",
        "            if phase == 'val' and epoch_loss < best_loss:\n",
        "                print(\"saving best model\")\n",
        "                best_loss = epoch_loss\n",
        "                best_model_wts = copy.deepcopy(model.state_dict())\n",
        "                torch.save(best_model_wts,'./best.pt')\n",
        "\n",
        "        time_elapsed = time.time() - since\n",
        "        print('{:.0f}m {:.0f}s'.format(time_elapsed // 60, time_elapsed % 60))\n",
        "\n",
        "    print('Best val loss: {:4f}'.format(best_loss))\n",
        "\n",
        "    # load best model weights\n",
        "    model.load_state_dict(best_model_wts)\n",
        "    return model"
      ],
      "execution_count": null,
      "outputs": []
    },
    {
      "cell_type": "code",
      "metadata": {
        "id": "DJWJsMfkKPXb",
        "outputId": "e4105498-d48e-436b-a450-10dc95e841fd",
        "colab": {
          "base_uri": "https://localhost:8080/",
          "height": 1000
        }
      },
      "source": [
        "import torch\n",
        "import torch.optim as optim\n",
        "from torch.optim import lr_scheduler\n",
        "import time\n",
        "import copy\n",
        "\n",
        "device = torch.device(\"cuda:0\" if torch.cuda.is_available() else \"cpu\")\n",
        "print(device)\n",
        "\n",
        "num_class = 6\n",
        "model = UNet().to(device)\n",
        "\n",
        "# freeze backbone layers\n",
        "#for l in model.base_layers:\n",
        "#    for param in l.parameters():\n",
        "#        param.requires_grad = False\n",
        "\n",
        "optimizer_ft = optim.Adam(filter(lambda p: p.requires_grad, model.parameters()), lr=1e-4)\n",
        "\n",
        "exp_lr_scheduler = lr_scheduler.StepLR(optimizer_ft, step_size=30, gamma=0.1)\n",
        "\n",
        "model = train_model(model, optimizer_ft, exp_lr_scheduler, num_epochs=60)"
      ],
      "execution_count": null,
      "outputs": [
        {
          "output_type": "stream",
          "text": [
            "cuda:0\n",
            "Epoch 0/59\n",
            "----------\n",
            "LR 0.0001\n"
          ],
          "name": "stdout"
        },
        {
          "output_type": "stream",
          "text": [
            "/usr/local/lib/python3.6/dist-packages/torch/optim/lr_scheduler.py:123: UserWarning: Detected call of `lr_scheduler.step()` before `optimizer.step()`. In PyTorch 1.1.0 and later, you should call them in the opposite order: `optimizer.step()` before `lr_scheduler.step()`.  Failure to do this will result in PyTorch skipping the first value of the learning rate schedule. See more details at https://pytorch.org/docs/stable/optim.html#how-to-adjust-learning-rate\n",
            "  \"https://pytorch.org/docs/stable/optim.html#how-to-adjust-learning-rate\", UserWarning)\n",
            "/usr/local/lib/python3.6/dist-packages/torch/nn/functional.py:3121: UserWarning: Default upsampling behavior when mode=bilinear is changed to align_corners=False since 0.4.0. Please specify align_corners=True if the old behavior is desired. See the documentation of nn.Upsample for details.\n",
            "  \"See the documentation of nn.Upsample for details.\".format(mode))\n",
            "/usr/local/lib/python3.6/dist-packages/torch/nn/functional.py:1625: UserWarning: nn.functional.sigmoid is deprecated. Use torch.sigmoid instead.\n",
            "  warnings.warn(\"nn.functional.sigmoid is deprecated. Use torch.sigmoid instead.\")\n"
          ],
          "name": "stderr"
        },
        {
          "output_type": "stream",
          "text": [
            "train: bce: 0.500527, dice: 0.968091, loss: 0.734309\n",
            "val: bce: 0.652479, dice: 0.967541, loss: 0.810010\n",
            "saving best model\n",
            "0m 33s\n",
            "Epoch 1/59\n",
            "----------\n",
            "LR 0.0001\n",
            "train: bce: 0.430288, dice: 0.965927, loss: 0.698108\n",
            "val: bce: 0.418021, dice: 0.967494, loss: 0.692757\n",
            "saving best model\n",
            "0m 27s\n",
            "Epoch 2/59\n",
            "----------\n",
            "LR 0.0001\n",
            "train: bce: 0.406183, dice: 0.964042, loss: 0.685113\n",
            "val: bce: 0.614219, dice: 0.962967, loss: 0.788593\n",
            "0m 26s\n",
            "Epoch 3/59\n",
            "----------\n",
            "LR 0.0001\n",
            "train: bce: 0.384189, dice: 0.962440, loss: 0.673315\n",
            "val: bce: 0.418451, dice: 0.962056, loss: 0.690253\n",
            "saving best model\n",
            "0m 28s\n",
            "Epoch 4/59\n",
            "----------\n",
            "LR 0.0001\n",
            "train: bce: 0.362060, dice: 0.960164, loss: 0.661112\n",
            "val: bce: 0.356384, dice: 0.962218, loss: 0.659301\n",
            "saving best model\n",
            "0m 28s\n",
            "Epoch 5/59\n",
            "----------\n",
            "LR 0.0001\n",
            "train: bce: 0.340431, dice: 0.957191, loss: 0.648811\n",
            "val: bce: 0.341881, dice: 0.967084, loss: 0.654483\n",
            "saving best model\n",
            "0m 28s\n",
            "Epoch 6/59\n",
            "----------\n",
            "LR 0.0001\n",
            "train: bce: 0.321466, dice: 0.948963, loss: 0.635214\n",
            "val: bce: 0.344293, dice: 0.960209, loss: 0.652251\n",
            "saving best model\n",
            "0m 28s\n",
            "Epoch 7/59\n",
            "----------\n",
            "LR 0.0001\n",
            "train: bce: 0.301613, dice: 0.928061, loss: 0.614837\n",
            "val: bce: 0.298493, dice: 0.963720, loss: 0.631106\n",
            "saving best model\n",
            "0m 28s\n",
            "Epoch 8/59\n",
            "----------\n",
            "LR 0.0001\n",
            "train: bce: 0.280144, dice: 0.915859, loss: 0.598002\n",
            "val: bce: 0.265414, dice: 0.917186, loss: 0.591300\n",
            "saving best model\n",
            "0m 28s\n",
            "Epoch 9/59\n",
            "----------\n",
            "LR 0.0001\n",
            "train: bce: 0.260024, dice: 0.906374, loss: 0.583199\n",
            "val: bce: 0.263261, dice: 0.930171, loss: 0.596716\n",
            "0m 27s\n",
            "Epoch 10/59\n",
            "----------\n",
            "LR 0.0001\n",
            "train: bce: 0.242208, dice: 0.896492, loss: 0.569350\n",
            "val: bce: 0.258022, dice: 0.926696, loss: 0.592359\n",
            "0m 27s\n",
            "Epoch 11/59\n",
            "----------\n",
            "LR 0.0001\n",
            "train: bce: 0.224562, dice: 0.886632, loss: 0.555597\n",
            "val: bce: 0.239510, dice: 0.923243, loss: 0.581377\n",
            "saving best model\n",
            "0m 28s\n",
            "Epoch 12/59\n",
            "----------\n",
            "LR 0.0001\n",
            "train: bce: 0.207612, dice: 0.876472, loss: 0.542042\n",
            "val: bce: 0.241124, dice: 0.929103, loss: 0.585113\n",
            "0m 27s\n",
            "Epoch 13/59\n",
            "----------\n",
            "LR 0.0001\n",
            "train: bce: 0.190957, dice: 0.865901, loss: 0.528429\n",
            "val: bce: 0.206001, dice: 0.890777, loss: 0.548389\n",
            "saving best model\n",
            "0m 28s\n",
            "Epoch 14/59\n",
            "----------\n",
            "LR 0.0001\n",
            "train: bce: 0.176077, dice: 0.854999, loss: 0.515538\n",
            "val: bce: 0.225884, dice: 0.924042, loss: 0.574963\n",
            "0m 27s\n",
            "Epoch 15/59\n",
            "----------\n",
            "LR 0.0001\n",
            "train: bce: 0.161714, dice: 0.843622, loss: 0.502668\n",
            "val: bce: 0.188053, dice: 0.880699, loss: 0.534376\n",
            "saving best model\n",
            "0m 28s\n",
            "Epoch 16/59\n",
            "----------\n",
            "LR 0.0001\n",
            "train: bce: 0.147657, dice: 0.830204, loss: 0.488930\n",
            "val: bce: 0.171926, dice: 0.866833, loss: 0.519380\n",
            "saving best model\n",
            "0m 28s\n",
            "Epoch 17/59\n",
            "----------\n",
            "LR 0.0001\n",
            "train: bce: 0.138220, dice: 0.823096, loss: 0.480658\n",
            "val: bce: 0.163210, dice: 0.873278, loss: 0.518244\n",
            "saving best model\n",
            "0m 28s\n",
            "Epoch 18/59\n",
            "----------\n",
            "LR 0.0001\n",
            "train: bce: 0.124415, dice: 0.804771, loss: 0.464593\n",
            "val: bce: 0.150413, dice: 0.850570, loss: 0.500492\n",
            "saving best model\n",
            "0m 28s\n",
            "Epoch 19/59\n",
            "----------\n",
            "LR 0.0001\n",
            "train: bce: 0.112536, dice: 0.787936, loss: 0.450236\n",
            "val: bce: 0.145350, dice: 0.853149, loss: 0.499249\n",
            "saving best model\n",
            "0m 28s\n",
            "Epoch 20/59\n",
            "----------\n",
            "LR 0.0001\n",
            "train: bce: 0.101610, dice: 0.770954, loss: 0.436282\n",
            "val: bce: 0.133571, dice: 0.858491, loss: 0.496031\n",
            "saving best model\n",
            "0m 28s\n",
            "Epoch 21/59\n",
            "----------\n",
            "LR 0.0001\n",
            "train: bce: 0.091300, dice: 0.753761, loss: 0.422530\n",
            "val: bce: 0.143954, dice: 0.885286, loss: 0.514620\n",
            "0m 27s\n",
            "Epoch 22/59\n",
            "----------\n",
            "LR 0.0001\n",
            "train: bce: 0.081544, dice: 0.735595, loss: 0.408570\n",
            "val: bce: 0.117987, dice: 0.824867, loss: 0.471427\n",
            "saving best model\n",
            "0m 28s\n",
            "Epoch 23/59\n",
            "----------\n",
            "LR 0.0001\n",
            "train: bce: 0.071635, dice: 0.716111, loss: 0.393873\n",
            "val: bce: 0.088617, dice: 0.760490, loss: 0.424553\n",
            "saving best model\n",
            "0m 28s\n",
            "Epoch 24/59\n",
            "----------\n",
            "LR 0.0001\n",
            "train: bce: 0.060461, dice: 0.692929, loss: 0.376695\n",
            "val: bce: 0.100045, dice: 0.827496, loss: 0.463770\n",
            "0m 27s\n",
            "Epoch 25/59\n",
            "----------\n",
            "LR 0.0001\n",
            "train: bce: 0.050627, dice: 0.668238, loss: 0.359433\n",
            "val: bce: 0.098740, dice: 0.799193, loss: 0.448967\n",
            "0m 27s\n",
            "Epoch 26/59\n",
            "----------\n",
            "LR 0.0001\n",
            "train: bce: 0.041631, dice: 0.643583, loss: 0.342607\n",
            "val: bce: 0.082896, dice: 0.803509, loss: 0.443202\n",
            "0m 27s\n",
            "Epoch 27/59\n",
            "----------\n",
            "LR 0.0001\n",
            "train: bce: 0.033307, dice: 0.619450, loss: 0.326379\n",
            "val: bce: 0.064418, dice: 0.702598, loss: 0.383508\n",
            "saving best model\n",
            "0m 28s\n",
            "Epoch 28/59\n",
            "----------\n",
            "LR 0.0001\n",
            "train: bce: 0.024909, dice: 0.591955, loss: 0.308432\n",
            "val: bce: 0.068426, dice: 0.730321, loss: 0.399374\n",
            "0m 27s\n",
            "Epoch 29/59\n",
            "----------\n",
            "LR 1e-05\n",
            "train: bce: 0.019456, dice: 0.575933, loss: 0.297694\n",
            "val: bce: 0.055469, dice: 0.678498, loss: 0.366984\n",
            "saving best model\n",
            "0m 28s\n",
            "Epoch 30/59\n",
            "----------\n",
            "LR 1e-05\n",
            "train: bce: 0.018586, dice: 0.573027, loss: 0.295807\n",
            "val: bce: 0.050106, dice: 0.656487, loss: 0.353297\n",
            "saving best model\n",
            "0m 28s\n",
            "Epoch 31/59\n",
            "----------\n",
            "LR 1e-05\n",
            "train: bce: 0.017815, dice: 0.570168, loss: 0.293991\n",
            "val: bce: 0.044777, dice: 0.637970, loss: 0.341374\n",
            "saving best model\n",
            "0m 28s\n",
            "Epoch 32/59\n",
            "----------\n",
            "LR 1e-05\n",
            "train: bce: 0.017187, dice: 0.567391, loss: 0.292289\n",
            "val: bce: 0.069565, dice: 0.715739, loss: 0.392652\n",
            "0m 27s\n",
            "Epoch 33/59\n",
            "----------\n",
            "LR 1e-05\n",
            "train: bce: 0.016299, dice: 0.564826, loss: 0.290562\n",
            "val: bce: 0.055095, dice: 0.673715, loss: 0.364405\n",
            "0m 27s\n",
            "Epoch 34/59\n",
            "----------\n",
            "LR 1e-05\n",
            "train: bce: 0.015500, dice: 0.561932, loss: 0.288716\n",
            "val: bce: 0.130782, dice: 0.849309, loss: 0.490045\n",
            "0m 27s\n",
            "Epoch 35/59\n",
            "----------\n",
            "LR 1e-05\n",
            "train: bce: 0.014886, dice: 0.559511, loss: 0.287199\n",
            "val: bce: 0.056696, dice: 0.677146, loss: 0.366921\n",
            "0m 27s\n",
            "Epoch 36/59\n",
            "----------\n",
            "LR 1e-05\n",
            "train: bce: 0.014259, dice: 0.557044, loss: 0.285651\n",
            "val: bce: 0.078183, dice: 0.751060, loss: 0.414621\n",
            "0m 27s\n",
            "Epoch 37/59\n",
            "----------\n",
            "LR 1e-05\n",
            "train: bce: 0.013534, dice: 0.554159, loss: 0.283846\n",
            "val: bce: 0.073349, dice: 0.724045, loss: 0.398697\n",
            "0m 27s\n",
            "Epoch 38/59\n",
            "----------\n",
            "LR 1e-05\n",
            "train: bce: 0.012938, dice: 0.551613, loss: 0.282275\n",
            "val: bce: 0.057798, dice: 0.676866, loss: 0.367332\n",
            "0m 27s\n",
            "Epoch 39/59\n",
            "----------\n",
            "LR 1e-05\n",
            "train: bce: 0.012101, dice: 0.549169, loss: 0.280635\n",
            "val: bce: 0.052832, dice: 0.658255, loss: 0.355543\n",
            "0m 27s\n",
            "Epoch 40/59\n",
            "----------\n",
            "LR 1e-05\n",
            "train: bce: 0.011548, dice: 0.546659, loss: 0.279104\n",
            "val: bce: 0.039534, dice: 0.612898, loss: 0.326216\n",
            "saving best model\n",
            "0m 28s\n",
            "Epoch 41/59\n",
            "----------\n",
            "LR 1e-05\n",
            "train: bce: 0.010888, dice: 0.544065, loss: 0.277477\n",
            "val: bce: 0.046392, dice: 0.638946, loss: 0.342669\n",
            "0m 27s\n",
            "Epoch 42/59\n",
            "----------\n",
            "LR 1e-05\n",
            "train: bce: 0.010283, dice: 0.541245, loss: 0.275764\n",
            "val: bce: 0.044853, dice: 0.629073, loss: 0.336963\n",
            "0m 27s\n",
            "Epoch 43/59\n",
            "----------\n",
            "LR 1e-05\n",
            "train: bce: 0.009511, dice: 0.538660, loss: 0.274086\n",
            "val: bce: 0.082560, dice: 0.755250, loss: 0.418905\n",
            "0m 27s\n",
            "Epoch 44/59\n",
            "----------\n",
            "LR 1e-05\n",
            "train: bce: 0.009002, dice: 0.536186, loss: 0.272594\n",
            "val: bce: 0.053361, dice: 0.660775, loss: 0.357068\n",
            "0m 27s\n",
            "Epoch 45/59\n",
            "----------\n",
            "LR 1e-05\n",
            "train: bce: 0.008302, dice: 0.533660, loss: 0.270981\n",
            "val: bce: 0.067566, dice: 0.707993, loss: 0.387779\n",
            "0m 27s\n",
            "Epoch 46/59\n",
            "----------\n",
            "LR 1e-05\n",
            "train: bce: 0.007644, dice: 0.530797, loss: 0.269221\n",
            "val: bce: 0.099835, dice: 0.806610, loss: 0.453223\n",
            "0m 27s\n",
            "Epoch 47/59\n",
            "----------\n",
            "LR 1e-05\n",
            "train: bce: 0.007112, dice: 0.528447, loss: 0.267780\n",
            "val: bce: 0.081006, dice: 0.753894, loss: 0.417450\n",
            "0m 27s\n",
            "Epoch 48/59\n",
            "----------\n",
            "LR 1e-05\n",
            "train: bce: 0.006492, dice: 0.526307, loss: 0.266400\n",
            "val: bce: 0.038554, dice: 0.599311, loss: 0.318933\n",
            "saving best model\n",
            "0m 28s\n",
            "Epoch 49/59\n",
            "----------\n",
            "LR 1e-05\n",
            "train: bce: 0.005802, dice: 0.523537, loss: 0.264670\n",
            "val: bce: 0.042748, dice: 0.622179, loss: 0.332464\n",
            "0m 27s\n",
            "Epoch 50/59\n",
            "----------\n",
            "LR 1e-05\n",
            "train: bce: 0.005036, dice: 0.521007, loss: 0.263022\n",
            "val: bce: 0.109800, dice: 0.829058, loss: 0.469429\n",
            "0m 27s\n",
            "Epoch 51/59\n",
            "----------\n",
            "LR 1e-05\n",
            "train: bce: 0.004395, dice: 0.518283, loss: 0.261339\n",
            "val: bce: 0.041487, dice: 0.612052, loss: 0.326769\n",
            "0m 27s\n",
            "Epoch 52/59\n",
            "----------\n",
            "LR 1e-05\n",
            "train: bce: 0.003585, dice: 0.515874, loss: 0.259729\n",
            "val: bce: 0.044349, dice: 0.623482, loss: 0.333916\n",
            "0m 27s\n",
            "Epoch 53/59\n",
            "----------\n",
            "LR 1e-05\n",
            "train: bce: 0.002768, dice: 0.513237, loss: 0.258003\n",
            "val: bce: 0.060889, dice: 0.680786, loss: 0.370837\n",
            "0m 27s\n",
            "Epoch 54/59\n",
            "----------\n",
            "LR 1e-05\n",
            "train: bce: 0.001063, dice: 0.510845, loss: 0.255954\n",
            "val: bce: 0.104919, dice: 0.827026, loss: 0.465972\n",
            "0m 27s\n",
            "Epoch 55/59\n",
            "----------\n",
            "LR 1e-05\n",
            "train: bce: -0.000204, dice: 0.508370, loss: 0.254083\n",
            "val: bce: 0.089080, dice: 0.782586, loss: 0.435833\n",
            "0m 27s\n",
            "Epoch 56/59\n",
            "----------\n",
            "LR 1e-05\n",
            "train: bce: -0.001275, dice: 0.506032, loss: 0.252379\n",
            "val: bce: 0.034848, dice: 0.576002, loss: 0.305425\n",
            "saving best model\n",
            "0m 28s\n",
            "Epoch 57/59\n",
            "----------\n",
            "LR 1e-05\n",
            "train: bce: -0.001672, dice: 0.503325, loss: 0.250827\n",
            "val: bce: 0.103191, dice: 0.826078, loss: 0.464635\n",
            "0m 27s\n",
            "Epoch 58/59\n",
            "----------\n",
            "LR 1e-05\n",
            "train: bce: -0.002322, dice: 0.500778, loss: 0.249228\n",
            "val: bce: 0.081319, dice: 0.738887, loss: 0.410103\n",
            "0m 27s\n",
            "Epoch 59/59\n",
            "----------\n",
            "LR 1.0000000000000002e-06\n",
            "train: bce: -0.003000, dice: 0.499062, loss: 0.248031\n",
            "val: bce: 0.115513, dice: 0.814391, loss: 0.464952\n",
            "0m 27s\n",
            "Best val loss: 0.305425\n"
          ],
          "name": "stdout"
        }
      ]
    },
    {
      "cell_type": "code",
      "metadata": {
        "id": "fq-hat0GMQuL",
        "outputId": "af08aa84-3547-4052-941e-0f13e5dc41a8",
        "colab": {
          "base_uri": "https://localhost:8080/",
          "height": 1000
        }
      },
      "source": [
        "best_model = UNet().to(device)\n",
        "best_model.load_state_dict(torch.load(\"./best.pt\"))\n",
        "best_model.eval()"
      ],
      "execution_count": null,
      "outputs": [
        {
          "output_type": "execute_result",
          "data": {
            "text/plain": [
              "UNet(\n",
              "  (down_block1): UNet_down_block(\n",
              "    (conv1): Conv2d(1, 16, kernel_size=(3, 3), stride=(1, 1), padding=(1, 1))\n",
              "    (bn1): BatchNorm2d(16, eps=1e-05, momentum=0.1, affine=True, track_running_stats=True)\n",
              "    (conv2): Conv2d(16, 16, kernel_size=(3, 3), stride=(1, 1), padding=(1, 1))\n",
              "    (bn2): BatchNorm2d(16, eps=1e-05, momentum=0.1, affine=True, track_running_stats=True)\n",
              "    (conv3): Conv2d(16, 16, kernel_size=(3, 3), stride=(1, 1), padding=(1, 1))\n",
              "    (bn3): BatchNorm2d(16, eps=1e-05, momentum=0.1, affine=True, track_running_stats=True)\n",
              "    (max_pool): MaxPool2d(kernel_size=2, stride=2, padding=0, dilation=1, ceil_mode=False)\n",
              "    (relu): ReLU()\n",
              "  )\n",
              "  (down_block2): UNet_down_block(\n",
              "    (conv1): Conv2d(16, 32, kernel_size=(3, 3), stride=(1, 1), padding=(1, 1))\n",
              "    (bn1): BatchNorm2d(32, eps=1e-05, momentum=0.1, affine=True, track_running_stats=True)\n",
              "    (conv2): Conv2d(32, 32, kernel_size=(3, 3), stride=(1, 1), padding=(1, 1))\n",
              "    (bn2): BatchNorm2d(32, eps=1e-05, momentum=0.1, affine=True, track_running_stats=True)\n",
              "    (conv3): Conv2d(32, 32, kernel_size=(3, 3), stride=(1, 1), padding=(1, 1))\n",
              "    (bn3): BatchNorm2d(32, eps=1e-05, momentum=0.1, affine=True, track_running_stats=True)\n",
              "    (max_pool): MaxPool2d(kernel_size=2, stride=2, padding=0, dilation=1, ceil_mode=False)\n",
              "    (relu): ReLU()\n",
              "  )\n",
              "  (down_block3): UNet_down_block(\n",
              "    (conv1): Conv2d(32, 64, kernel_size=(3, 3), stride=(1, 1), padding=(1, 1))\n",
              "    (bn1): BatchNorm2d(64, eps=1e-05, momentum=0.1, affine=True, track_running_stats=True)\n",
              "    (conv2): Conv2d(64, 64, kernel_size=(3, 3), stride=(1, 1), padding=(1, 1))\n",
              "    (bn2): BatchNorm2d(64, eps=1e-05, momentum=0.1, affine=True, track_running_stats=True)\n",
              "    (conv3): Conv2d(64, 64, kernel_size=(3, 3), stride=(1, 1), padding=(1, 1))\n",
              "    (bn3): BatchNorm2d(64, eps=1e-05, momentum=0.1, affine=True, track_running_stats=True)\n",
              "    (max_pool): MaxPool2d(kernel_size=2, stride=2, padding=0, dilation=1, ceil_mode=False)\n",
              "    (relu): ReLU()\n",
              "  )\n",
              "  (down_block4): UNet_down_block(\n",
              "    (conv1): Conv2d(64, 128, kernel_size=(3, 3), stride=(1, 1), padding=(1, 1))\n",
              "    (bn1): BatchNorm2d(128, eps=1e-05, momentum=0.1, affine=True, track_running_stats=True)\n",
              "    (conv2): Conv2d(128, 128, kernel_size=(3, 3), stride=(1, 1), padding=(1, 1))\n",
              "    (bn2): BatchNorm2d(128, eps=1e-05, momentum=0.1, affine=True, track_running_stats=True)\n",
              "    (conv3): Conv2d(128, 128, kernel_size=(3, 3), stride=(1, 1), padding=(1, 1))\n",
              "    (bn3): BatchNorm2d(128, eps=1e-05, momentum=0.1, affine=True, track_running_stats=True)\n",
              "    (max_pool): MaxPool2d(kernel_size=2, stride=2, padding=0, dilation=1, ceil_mode=False)\n",
              "    (relu): ReLU()\n",
              "  )\n",
              "  (down_block5): UNet_down_block(\n",
              "    (conv1): Conv2d(128, 256, kernel_size=(3, 3), stride=(1, 1), padding=(1, 1))\n",
              "    (bn1): BatchNorm2d(256, eps=1e-05, momentum=0.1, affine=True, track_running_stats=True)\n",
              "    (conv2): Conv2d(256, 256, kernel_size=(3, 3), stride=(1, 1), padding=(1, 1))\n",
              "    (bn2): BatchNorm2d(256, eps=1e-05, momentum=0.1, affine=True, track_running_stats=True)\n",
              "    (conv3): Conv2d(256, 256, kernel_size=(3, 3), stride=(1, 1), padding=(1, 1))\n",
              "    (bn3): BatchNorm2d(256, eps=1e-05, momentum=0.1, affine=True, track_running_stats=True)\n",
              "    (max_pool): MaxPool2d(kernel_size=2, stride=2, padding=0, dilation=1, ceil_mode=False)\n",
              "    (relu): ReLU()\n",
              "  )\n",
              "  (down_block6): UNet_down_block(\n",
              "    (conv1): Conv2d(256, 512, kernel_size=(3, 3), stride=(1, 1), padding=(1, 1))\n",
              "    (bn1): BatchNorm2d(512, eps=1e-05, momentum=0.1, affine=True, track_running_stats=True)\n",
              "    (conv2): Conv2d(512, 512, kernel_size=(3, 3), stride=(1, 1), padding=(1, 1))\n",
              "    (bn2): BatchNorm2d(512, eps=1e-05, momentum=0.1, affine=True, track_running_stats=True)\n",
              "    (conv3): Conv2d(512, 512, kernel_size=(3, 3), stride=(1, 1), padding=(1, 1))\n",
              "    (bn3): BatchNorm2d(512, eps=1e-05, momentum=0.1, affine=True, track_running_stats=True)\n",
              "    (max_pool): MaxPool2d(kernel_size=2, stride=2, padding=0, dilation=1, ceil_mode=False)\n",
              "    (relu): ReLU()\n",
              "  )\n",
              "  (down_block7): UNet_down_block(\n",
              "    (conv1): Conv2d(512, 1024, kernel_size=(3, 3), stride=(1, 1), padding=(1, 1))\n",
              "    (bn1): BatchNorm2d(1024, eps=1e-05, momentum=0.1, affine=True, track_running_stats=True)\n",
              "    (conv2): Conv2d(1024, 1024, kernel_size=(3, 3), stride=(1, 1), padding=(1, 1))\n",
              "    (bn2): BatchNorm2d(1024, eps=1e-05, momentum=0.1, affine=True, track_running_stats=True)\n",
              "    (conv3): Conv2d(1024, 1024, kernel_size=(3, 3), stride=(1, 1), padding=(1, 1))\n",
              "    (bn3): BatchNorm2d(1024, eps=1e-05, momentum=0.1, affine=True, track_running_stats=True)\n",
              "    (max_pool): MaxPool2d(kernel_size=2, stride=2, padding=0, dilation=1, ceil_mode=False)\n",
              "    (relu): ReLU()\n",
              "  )\n",
              "  (mid_conv1): Conv2d(1024, 1024, kernel_size=(3, 3), stride=(1, 1), padding=(1, 1))\n",
              "  (bn1): BatchNorm2d(1024, eps=1e-05, momentum=0.1, affine=True, track_running_stats=True)\n",
              "  (mid_conv2): Conv2d(1024, 1024, kernel_size=(3, 3), stride=(1, 1), padding=(1, 1))\n",
              "  (bn2): BatchNorm2d(1024, eps=1e-05, momentum=0.1, affine=True, track_running_stats=True)\n",
              "  (mid_conv3): Conv2d(1024, 1024, kernel_size=(3, 3), stride=(1, 1), padding=(1, 1))\n",
              "  (bn3): BatchNorm2d(1024, eps=1e-05, momentum=0.1, affine=True, track_running_stats=True)\n",
              "  (up_block1): UNet_up_block(\n",
              "    (up_sampling): Upsample(scale_factor=2.0, mode=bilinear)\n",
              "    (conv1): Conv2d(1536, 512, kernel_size=(3, 3), stride=(1, 1), padding=(1, 1))\n",
              "    (bn1): BatchNorm2d(512, eps=1e-05, momentum=0.1, affine=True, track_running_stats=True)\n",
              "    (conv2): Conv2d(512, 512, kernel_size=(3, 3), stride=(1, 1), padding=(1, 1))\n",
              "    (bn2): BatchNorm2d(512, eps=1e-05, momentum=0.1, affine=True, track_running_stats=True)\n",
              "    (conv3): Conv2d(512, 512, kernel_size=(3, 3), stride=(1, 1), padding=(1, 1))\n",
              "    (bn3): BatchNorm2d(512, eps=1e-05, momentum=0.1, affine=True, track_running_stats=True)\n",
              "    (relu): ReLU()\n",
              "  )\n",
              "  (up_block2): UNet_up_block(\n",
              "    (up_sampling): Upsample(scale_factor=2.0, mode=bilinear)\n",
              "    (conv1): Conv2d(768, 256, kernel_size=(3, 3), stride=(1, 1), padding=(1, 1))\n",
              "    (bn1): BatchNorm2d(256, eps=1e-05, momentum=0.1, affine=True, track_running_stats=True)\n",
              "    (conv2): Conv2d(256, 256, kernel_size=(3, 3), stride=(1, 1), padding=(1, 1))\n",
              "    (bn2): BatchNorm2d(256, eps=1e-05, momentum=0.1, affine=True, track_running_stats=True)\n",
              "    (conv3): Conv2d(256, 256, kernel_size=(3, 3), stride=(1, 1), padding=(1, 1))\n",
              "    (bn3): BatchNorm2d(256, eps=1e-05, momentum=0.1, affine=True, track_running_stats=True)\n",
              "    (relu): ReLU()\n",
              "  )\n",
              "  (up_block3): UNet_up_block(\n",
              "    (up_sampling): Upsample(scale_factor=2.0, mode=bilinear)\n",
              "    (conv1): Conv2d(384, 128, kernel_size=(3, 3), stride=(1, 1), padding=(1, 1))\n",
              "    (bn1): BatchNorm2d(128, eps=1e-05, momentum=0.1, affine=True, track_running_stats=True)\n",
              "    (conv2): Conv2d(128, 128, kernel_size=(3, 3), stride=(1, 1), padding=(1, 1))\n",
              "    (bn2): BatchNorm2d(128, eps=1e-05, momentum=0.1, affine=True, track_running_stats=True)\n",
              "    (conv3): Conv2d(128, 128, kernel_size=(3, 3), stride=(1, 1), padding=(1, 1))\n",
              "    (bn3): BatchNorm2d(128, eps=1e-05, momentum=0.1, affine=True, track_running_stats=True)\n",
              "    (relu): ReLU()\n",
              "  )\n",
              "  (up_block4): UNet_up_block(\n",
              "    (up_sampling): Upsample(scale_factor=2.0, mode=bilinear)\n",
              "    (conv1): Conv2d(192, 64, kernel_size=(3, 3), stride=(1, 1), padding=(1, 1))\n",
              "    (bn1): BatchNorm2d(64, eps=1e-05, momentum=0.1, affine=True, track_running_stats=True)\n",
              "    (conv2): Conv2d(64, 64, kernel_size=(3, 3), stride=(1, 1), padding=(1, 1))\n",
              "    (bn2): BatchNorm2d(64, eps=1e-05, momentum=0.1, affine=True, track_running_stats=True)\n",
              "    (conv3): Conv2d(64, 64, kernel_size=(3, 3), stride=(1, 1), padding=(1, 1))\n",
              "    (bn3): BatchNorm2d(64, eps=1e-05, momentum=0.1, affine=True, track_running_stats=True)\n",
              "    (relu): ReLU()\n",
              "  )\n",
              "  (up_block5): UNet_up_block(\n",
              "    (up_sampling): Upsample(scale_factor=2.0, mode=bilinear)\n",
              "    (conv1): Conv2d(96, 32, kernel_size=(3, 3), stride=(1, 1), padding=(1, 1))\n",
              "    (bn1): BatchNorm2d(32, eps=1e-05, momentum=0.1, affine=True, track_running_stats=True)\n",
              "    (conv2): Conv2d(32, 32, kernel_size=(3, 3), stride=(1, 1), padding=(1, 1))\n",
              "    (bn2): BatchNorm2d(32, eps=1e-05, momentum=0.1, affine=True, track_running_stats=True)\n",
              "    (conv3): Conv2d(32, 32, kernel_size=(3, 3), stride=(1, 1), padding=(1, 1))\n",
              "    (bn3): BatchNorm2d(32, eps=1e-05, momentum=0.1, affine=True, track_running_stats=True)\n",
              "    (relu): ReLU()\n",
              "  )\n",
              "  (up_block6): UNet_up_block(\n",
              "    (up_sampling): Upsample(scale_factor=2.0, mode=bilinear)\n",
              "    (conv1): Conv2d(48, 16, kernel_size=(3, 3), stride=(1, 1), padding=(1, 1))\n",
              "    (bn1): BatchNorm2d(16, eps=1e-05, momentum=0.1, affine=True, track_running_stats=True)\n",
              "    (conv2): Conv2d(16, 16, kernel_size=(3, 3), stride=(1, 1), padding=(1, 1))\n",
              "    (bn2): BatchNorm2d(16, eps=1e-05, momentum=0.1, affine=True, track_running_stats=True)\n",
              "    (conv3): Conv2d(16, 16, kernel_size=(3, 3), stride=(1, 1), padding=(1, 1))\n",
              "    (bn3): BatchNorm2d(16, eps=1e-05, momentum=0.1, affine=True, track_running_stats=True)\n",
              "    (relu): ReLU()\n",
              "  )\n",
              "  (last_conv1): Conv2d(16, 16, kernel_size=(3, 3), stride=(1, 1), padding=(1, 1))\n",
              "  (last_bn): BatchNorm2d(16, eps=1e-05, momentum=0.1, affine=True, track_running_stats=True)\n",
              "  (last_conv2): Conv2d(16, 1, kernel_size=(1, 1), stride=(1, 1))\n",
              "  (relu): ReLU()\n",
              ")"
            ]
          },
          "metadata": {
            "tags": []
          },
          "execution_count": 13
        }
      ]
    },
    {
      "cell_type": "code",
      "metadata": {
        "id": "RICWpC_OH6K7",
        "outputId": "18b7a9e9-480c-418b-e67e-1b910259c250",
        "colab": {
          "base_uri": "https://localhost:8080/",
          "height": 105
        }
      },
      "source": [
        "for i,(inputs, labels) in enumerate(loader[\"train\"]):\n",
        "    inputs = inputs.to(device)\n",
        "    print(inputs.size())\n",
        "    labels = labels.to(device)\n",
        "    outputs = best_model(inputs)\n",
        "    print(outputs.size())\n",
        "    break\n"
      ],
      "execution_count": null,
      "outputs": [
        {
          "output_type": "stream",
          "text": [
            "torch.Size([128, 1, 64, 64])\n",
            "torch.Size([128, 1, 64, 64])\n"
          ],
          "name": "stdout"
        },
        {
          "output_type": "stream",
          "text": [
            "/usr/local/lib/python3.6/dist-packages/torch/nn/functional.py:3121: UserWarning: Default upsampling behavior when mode=bilinear is changed to align_corners=False since 0.4.0. Please specify align_corners=True if the old behavior is desired. See the documentation of nn.Upsample for details.\n",
            "  \"See the documentation of nn.Upsample for details.\".format(mode))\n"
          ],
          "name": "stderr"
        }
      ]
    },
    {
      "cell_type": "code",
      "metadata": {
        "id": "gnyryILuJU_E"
      },
      "source": [
        "y0 = inputs.squeeze(1)[0]\n",
        "x0 = labels.squeeze(1)[0]\n",
        "\n",
        "pred = outputs.squeeze(1)[0]"
      ],
      "execution_count": null,
      "outputs": []
    },
    {
      "cell_type": "code",
      "metadata": {
        "id": "sEix5cu3LJYv",
        "outputId": "2d6b941a-d2bc-4ce1-a6e6-37721aaac7e1",
        "colab": {
          "base_uri": "https://localhost:8080/",
          "height": 248
        }
      },
      "source": [
        "import matplotlib.pyplot as plt\n",
        "\n",
        "plt.imshow(pred.cpu().detach().numpy(),cmap='gray')\n",
        "plt.axis('off')\n",
        "plt.show()"
      ],
      "execution_count": null,
      "outputs": [
        {
          "output_type": "display_data",
          "data": {
            "image/png": "[encoded data removed]",
            "text/plain": [
              "<Figure size 432x288 with 1 Axes>"
            ]
          },
          "metadata": {
            "tags": [],
            "needs_background": "light"
          }
        }
      ]
    },
    {
      "cell_type": "code",
      "metadata": {
        "id": "egTb73eMLxl0",
        "outputId": "237eea42-0e7b-4b11-88a3-d972c84a5ddd",
        "colab": {
          "base_uri": "https://localhost:8080/",
          "height": 248
        }
      },
      "source": [
        "import matplotlib.pyplot as plt\n",
        "\n",
        "plt.imshow(x0.cpu().detach().numpy(),cmap='gray')\n",
        "plt.axis('off')\n",
        "plt.show()"
      ],
      "execution_count": null,
      "outputs": [
        {
          "output_type": "display_data",
          "data": {
            "image/png": "[encoded data removed]",
            "text/plain": [
              "<Figure size 432x288 with 1 Axes>"
            ]
          },
          "metadata": {
            "tags": [],
            "needs_background": "light"
          }
        }
      ]
    },
    {
      "cell_type": "code",
      "metadata": {
        "id": "PZWt3s0BMBbt",
        "outputId": "cca0a123-b454-487d-cb6d-57cc67c14715",
        "colab": {
          "base_uri": "https://localhost:8080/",
          "height": 248
        }
      },
      "source": [
        "import matplotlib.pyplot as plt\n",
        "\n",
        "plt.imshow(y0.cpu().detach().numpy(),cmap='gray')\n",
        "plt.axis('off')\n",
        "plt.show()"
      ],
      "execution_count": null,
      "outputs": [
        {
          "output_type": "display_data",
          "data": {
            "image/png": "[encoded data removed]",
            "text/plain": [
              "<Figure size 432x288 with 1 Axes>"
            ]
          },
          "metadata": {
            "tags": [],
            "needs_background": "light"
          }
        }
      ]
    },
    {
      "cell_type": "code",
      "metadata": {
        "id": "Xl4Xbz6_MFmC",
        "outputId": "fb783afd-8b8c-4653-b6e0-4352e4d8d746",
        "colab": {
          "base_uri": "https://localhost:8080/",
          "height": 153
        }
      },
      "source": [
        "pred"
      ],
      "execution_count": null,
      "outputs": [
        {
          "output_type": "execute_result",
          "data": {
            "text/plain": [
              "tensor([[-1.8425, -1.8752, -1.8720,  ..., -1.7861, -1.8368, -1.7269],\n",
              "        [-1.6660, -1.9266, -1.9458,  ..., -1.8800, -1.8135, -1.8371],\n",
              "        [-1.8728, -1.9701, -1.8852,  ..., -1.8294, -1.8619, -1.8332],\n",
              "        ...,\n",
              "        [-1.7237, -1.8081,  0.7162,  ..., -1.8662, -1.9674, -1.9427],\n",
              "        [-1.3176, -1.5571, -1.7688,  ..., -1.8318, -1.9595, -1.9241],\n",
              "        [-1.9866, -2.1171, -2.0776,  ..., -1.7336, -1.2480, -1.7764]],\n",
              "       device='cuda:0', grad_fn=<SelectBackward>)"
            ]
          },
          "metadata": {
            "tags": []
          },
          "execution_count": 53
        }
      ]
    },
    {
      "cell_type": "code",
      "metadata": {
        "id": "PnFyKvh3N9t0",
        "outputId": "3e738008-5344-4772-9f67-87575fe2c4ef",
        "colab": {
          "base_uri": "https://localhost:8080/",
          "height": 153
        }
      },
      "source": [
        "x0"
      ],
      "execution_count": null,
      "outputs": [
        {
          "output_type": "execute_result",
          "data": {
            "text/plain": [
              "tensor([[-0.0000, 0.0000, 0.0000,  ..., -0.0000, -0.0000, 0.0000],\n",
              "        [0.0000, -0.0000, -0.0000,  ..., -0.0000, -0.0000, 0.0000],\n",
              "        [0.0000, -0.0000, -0.0000,  ..., -0.0000, 0.0000, 0.0000],\n",
              "        ...,\n",
              "        [0.0000, -0.0000, -0.0000,  ..., -0.0000, -0.0000, 0.0000],\n",
              "        [0.0000, -0.0000, -0.0000,  ..., 0.0000, 0.5922, -0.0000],\n",
              "        [0.0000, -0.0000, -0.0000,  ..., 0.0000, -0.0000, 0.0000]],\n",
              "       device='cuda:0')"
            ]
          },
          "metadata": {
            "tags": []
          },
          "execution_count": 54
        }
      ]
    },
    {
      "cell_type": "code",
      "metadata": {
        "id": "fvKy4JNlN_tV",
        "outputId": "fc105fd8-d2f8-44c7-bf8e-15b3d0e08413",
        "colab": {
          "base_uri": "https://localhost:8080/",
          "height": 153
        }
      },
      "source": [
        "y0"
      ],
      "execution_count": null,
      "outputs": [
        {
          "output_type": "execute_result",
          "data": {
            "text/plain": [
              "tensor([[ 0.8095,  0.3000,  0.3000,  ...,  0.3000, -0.0164,  0.4017],\n",
              "        [ 0.3000,  0.3000,  0.3000,  ...,  0.3000,  0.3000,  0.3000],\n",
              "        [ 0.3000,  0.3000,  0.3000,  ...,  0.3000,  0.3000,  0.3000],\n",
              "        ...,\n",
              "        [ 0.3000,  0.3000,  0.2111,  ...,  0.1573,  0.2746,  0.3000],\n",
              "        [ 0.2683,  0.3000, -0.3519,  ...,  0.0314,  0.3707,  0.1216],\n",
              "        [ 0.6792,  0.3000,  0.3000,  ...,  0.3814,  0.6645, -0.0356]],\n",
              "       device='cuda:0')"
            ]
          },
          "metadata": {
            "tags": []
          },
          "execution_count": 55
        }
      ]
    },
    {
      "cell_type": "code",
      "metadata": {
        "id": "qR3ioXaqOCEw",
        "outputId": "fb30f9ef-2c8e-4f52-9452-4a54c1b773e8",
        "colab": {
          "base_uri": "https://localhost:8080/",
          "height": 1000
        }
      },
      "source": [
        "x=[]\n",
        "y1=[]\n",
        "#fig, axs = plt.subplots(18)\n",
        "for i in range(1):\n",
        "  for j in [\"randn\", \"2d-gaussian\", \"sinc\"]:\n",
        "    for k in [\"bernoulli\", \"bernoulli-gaussian\"]:\n",
        "      [a_0, x_0, y_0, y] = gen_data_2D(0.02, [64,64], 3, 0.3, 0.1, j,k, 'sigmoid')\n",
        "      inputs = transforms.ToTensor()(y_0).float().to(device)\n",
        "      #inputs=inputs.to(device)\n",
        "      #print(torch.unsqueeze(inputs,1).size())\n",
        "      labels =  transforms.ToTensor()(x_0).to(device)\n",
        "      outputs = best_model(torch.unsqueeze(inputs,1))\n",
        "      plt.figure(figsize=(20,20))\n",
        "      plt.subplot(131)\n",
        "      plt.title('Original Image {}/{}'.format(j,k))\n",
        "      plt.imshow(x_0,cmap='gray')\n",
        "      #plt.figure(figsize=(8,8))\n",
        "      plt.subplot(132)\n",
        "      plt.title('Predicted Image {}/{}'.format(j,k))\n",
        "      pred=outputs.squeeze(1)[0]\n",
        "      plt.imshow(pred.cpu().detach().numpy(),cmap='gray')\n",
        "      #plt.figure(figsize=(8,8))\n",
        "      plt.subplot(133)\n",
        "      plt.title('Blurred Image {}/{}'.format(j,k))\n",
        "      plt.imshow(y_0,cmap='gray')\n"
      ],
      "execution_count": null,
      "outputs": [
        {
          "output_type": "stream",
          "text": [
            "/usr/local/lib/python3.6/dist-packages/torch/nn/functional.py:3121: UserWarning: Default upsampling behavior when mode=bilinear is changed to align_corners=False since 0.4.0. Please specify align_corners=True if the old behavior is desired. See the documentation of nn.Upsample for details.\n",
            "  \"See the documentation of nn.Upsample for details.\".format(mode))\n"
          ],
          "name": "stderr"
        },
        {
          "output_type": "display_data",
          "data": {
            "image/png": "[encoded data removed]",
            "text/plain": [
              "<Figure size 1440x1440 with 3 Axes>"
            ]
          },
          "metadata": {
            "tags": [],
            "needs_background": "light"
          }
        },
        {
          "output_type": "display_data",
          "data": {
            "image/png": "[encoded data removed]",
            "text/plain": [
              "<Figure size 1440x1440 with 3 Axes>"
            ]
          },
          "metadata": {
            "tags": [],
            "needs_background": "light"
          }
        },
        {
          "output_type": "display_data",
          "data": {
            "image/png": "[encoded data removed]",
            "text/plain": [
              "<Figure size 1440x1440 with 3 Axes>"
            ]
          },
          "metadata": {
            "tags": [],
            "needs_background": "light"
          }
        },
        {
          "output_type": "display_data",
          "data": {
            "image/png": "[encoded data removed]",
            "text/plain": [
              "<Figure size 1440x1440 with 3 Axes>"
            ]
          },
          "metadata": {
            "tags": [],
            "needs_background": "light"
          }
        },
        {
          "output_type": "display_data",
          "data": {
            "image/png": "[encoded data removed]",
            "text/plain": [
              "<Figure size 1440x1440 with 3 Axes>"
            ]
          },
          "metadata": {
            "tags": [],
            "needs_background": "light"
          }
        },
        {
          "output_type": "display_data",
          "data": {
            "image/png": "[encoded data removed]",
            "text/plain": [
              "<Figure size 1440x1440 with 3 Axes>"
            ]
          },
          "metadata": {
            "tags": [],
            "needs_background": "light"
          }
        }
      ]
    },
    {
      "cell_type": "code",
      "metadata": {
        "id": "eTS_YXwWSah8"
      },
      "source": [
        ""
      ],
      "execution_count": null,
      "outputs": []
    }
  ]
}