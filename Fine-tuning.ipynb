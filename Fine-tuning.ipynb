{
  "nbformat": 4,
  "nbformat_minor": 0,
  "metadata": {
    "accelerator": "GPU",
    "colab": {
      "name": "Q2.ipynb",
      "provenance": [],
      "collapsed_sections": []
    },
    "kernelspec": {
      "display_name": "Python 3",
      "language": "python",
      "name": "python3"
    },
    "language_info": {
      "codemirror_mode": {
        "name": "ipython",
        "version": 3
      },
      "file_extension": ".py",
      "mimetype": "text/x-python",
      "name": "python",
      "nbconvert_exporter": "python",
      "pygments_lexer": "ipython3",
      "version": "3.7.3"
    },
    "widgets": {
      "application/vnd.jupyter.widget-state+json": {
        "59cf52ccd62d4cb1a4b29c5609e0338c": {
          "model_module": "@jupyter-widgets/controls",
          "model_name": "HBoxModel",
          "state": {
            "_view_name": "HBoxView",
            "_dom_classes": [],
            "_model_name": "HBoxModel",
            "_view_module": "@jupyter-widgets/controls",
            "_model_module_version": "1.5.0",
            "_view_count": null,
            "_view_module_version": "1.5.0",
            "box_style": "",
            "layout": "IPY_MODEL_5f693b729a954e53aa47fc54f1fcc0b5",
            "_model_module": "@jupyter-widgets/controls",
            "children": [
              "IPY_MODEL_a973f2b8338d408ebe440528793c3dec",
              "IPY_MODEL_8d16c8aaef68494bad72263551e2151c"
            ]
          }
        },
        "5f693b729a954e53aa47fc54f1fcc0b5": {
          "model_module": "@jupyter-widgets/base",
          "model_name": "LayoutModel",
          "state": {
            "_view_name": "LayoutView",
            "grid_template_rows": null,
            "right": null,
            "justify_content": null,
            "_view_module": "@jupyter-widgets/base",
            "overflow": null,
            "_model_module_version": "1.2.0",
            "_view_count": null,
            "flex_flow": null,
            "width": null,
            "min_width": null,
            "border": null,
            "align_items": null,
            "bottom": null,
            "_model_module": "@jupyter-widgets/base",
            "top": null,
            "grid_column": null,
            "overflow_y": null,
            "overflow_x": null,
            "grid_auto_flow": null,
            "grid_area": null,
            "grid_template_columns": null,
            "flex": null,
            "_model_name": "LayoutModel",
            "justify_items": null,
            "grid_row": null,
            "max_height": null,
            "align_content": null,
            "visibility": null,
            "align_self": null,
            "height": null,
            "min_height": null,
            "padding": null,
            "grid_auto_rows": null,
            "grid_gap": null,
            "max_width": null,
            "order": null,
            "_view_module_version": "1.2.0",
            "grid_template_areas": null,
            "object_position": null,
            "object_fit": null,
            "grid_auto_columns": null,
            "margin": null,
            "display": null,
            "left": null
          }
        },
        "a973f2b8338d408ebe440528793c3dec": {
          "model_module": "@jupyter-widgets/controls",
          "model_name": "FloatProgressModel",
          "state": {
            "_view_name": "ProgressView",
            "style": "IPY_MODEL_223dd3a7b3b2438b8f2842db6751e6b6",
            "_dom_classes": [],
            "description": "",
            "_model_name": "FloatProgressModel",
            "bar_style": "info",
            "max": 1,
            "_view_module": "@jupyter-widgets/controls",
            "_model_module_version": "1.5.0",
            "value": 1,
            "_view_count": null,
            "_view_module_version": "1.5.0",
            "orientation": "horizontal",
            "min": 0,
            "description_tooltip": null,
            "_model_module": "@jupyter-widgets/controls",
            "layout": "IPY_MODEL_677d8fc4cd494298952cd15507e4d079"
          }
        },
        "8d16c8aaef68494bad72263551e2151c": {
          "model_module": "@jupyter-widgets/controls",
          "model_name": "HTMLModel",
          "state": {
            "_view_name": "HTMLView",
            "style": "IPY_MODEL_a1a17a92ff804439b0ac6191a5bfa7a4",
            "_dom_classes": [],
            "description": "",
            "_model_name": "HTMLModel",
            "placeholder": "​",
            "_view_module": "@jupyter-widgets/controls",
            "_model_module_version": "1.5.0",
            "value": " 170500096/? [00:20&lt;00:00, 74734701.21it/s]",
            "_view_count": null,
            "_view_module_version": "1.5.0",
            "description_tooltip": null,
            "_model_module": "@jupyter-widgets/controls",
            "layout": "IPY_MODEL_f62faee944054a37bac69b511fca51a1"
          }
        },
        "223dd3a7b3b2438b8f2842db6751e6b6": {
          "model_module": "@jupyter-widgets/controls",
          "model_name": "ProgressStyleModel",
          "state": {
            "_view_name": "StyleView",
            "_model_name": "ProgressStyleModel",
            "description_width": "initial",
            "_view_module": "@jupyter-widgets/base",
            "_model_module_version": "1.5.0",
            "_view_count": null,
            "_view_module_version": "1.2.0",
            "bar_color": null,
            "_model_module": "@jupyter-widgets/controls"
          }
        },
        "677d8fc4cd494298952cd15507e4d079": {
          "model_module": "@jupyter-widgets/base",
          "model_name": "LayoutModel",
          "state": {
            "_view_name": "LayoutView",
            "grid_template_rows": null,
            "right": null,
            "justify_content": null,
            "_view_module": "@jupyter-widgets/base",
            "overflow": null,
            "_model_module_version": "1.2.0",
            "_view_count": null,
            "flex_flow": null,
            "width": null,
            "min_width": null,
            "border": null,
            "align_items": null,
            "bottom": null,
            "_model_module": "@jupyter-widgets/base",
            "top": null,
            "grid_column": null,
            "overflow_y": null,
            "overflow_x": null,
            "grid_auto_flow": null,
            "grid_area": null,
            "grid_template_columns": null,
            "flex": null,
            "_model_name": "LayoutModel",
            "justify_items": null,
            "grid_row": null,
            "max_height": null,
            "align_content": null,
            "visibility": null,
            "align_self": null,
            "height": null,
            "min_height": null,
            "padding": null,
            "grid_auto_rows": null,
            "grid_gap": null,
            "max_width": null,
            "order": null,
            "_view_module_version": "1.2.0",
            "grid_template_areas": null,
            "object_position": null,
            "object_fit": null,
            "grid_auto_columns": null,
            "margin": null,
            "display": null,
            "left": null
          }
        },
        "a1a17a92ff804439b0ac6191a5bfa7a4": {
          "model_module": "@jupyter-widgets/controls",
          "model_name": "DescriptionStyleModel",
          "state": {
            "_view_name": "StyleView",
            "_model_name": "DescriptionStyleModel",
            "description_width": "",
            "_view_module": "@jupyter-widgets/base",
            "_model_module_version": "1.5.0",
            "_view_count": null,
            "_view_module_version": "1.2.0",
            "_model_module": "@jupyter-widgets/controls"
          }
        },
        "f62faee944054a37bac69b511fca51a1": {
          "model_module": "@jupyter-widgets/base",
          "model_name": "LayoutModel",
          "state": {
            "_view_name": "LayoutView",
            "grid_template_rows": null,
            "right": null,
            "justify_content": null,
            "_view_module": "@jupyter-widgets/base",
            "overflow": null,
            "_model_module_version": "1.2.0",
            "_view_count": null,
            "flex_flow": null,
            "width": null,
            "min_width": null,
            "border": null,
            "align_items": null,
            "bottom": null,
            "_model_module": "@jupyter-widgets/base",
            "top": null,
            "grid_column": null,
            "overflow_y": null,
            "overflow_x": null,
            "grid_auto_flow": null,
            "grid_area": null,
            "grid_template_columns": null,
            "flex": null,
            "_model_name": "LayoutModel",
            "justify_items": null,
            "grid_row": null,
            "max_height": null,
            "align_content": null,
            "visibility": null,
            "align_self": null,
            "height": null,
            "min_height": null,
            "padding": null,
            "grid_auto_rows": null,
            "grid_gap": null,
            "max_width": null,
            "order": null,
            "_view_module_version": "1.2.0",
            "grid_template_areas": null,
            "object_position": null,
            "object_fit": null,
            "grid_auto_columns": null,
            "margin": null,
            "display": null,
            "left": null
          }
        },
        "0e64719c3fdc477f8b0b3841225499b1": {
          "model_module": "@jupyter-widgets/controls",
          "model_name": "HBoxModel",
          "state": {
            "_view_name": "HBoxView",
            "_dom_classes": [],
            "_model_name": "HBoxModel",
            "_view_module": "@jupyter-widgets/controls",
            "_model_module_version": "1.5.0",
            "_view_count": null,
            "_view_module_version": "1.5.0",
            "box_style": "",
            "layout": "IPY_MODEL_efb09147407d4dd1a27c4ca14a3a53ca",
            "_model_module": "@jupyter-widgets/controls",
            "children": [
              "IPY_MODEL_5b9f0d752d5c4ee593849ecac1417c41",
              "IPY_MODEL_58e62e3d69b549fe8e1f021aeaf35272"
            ]
          }
        },
        "efb09147407d4dd1a27c4ca14a3a53ca": {
          "model_module": "@jupyter-widgets/base",
          "model_name": "LayoutModel",
          "state": {
            "_view_name": "LayoutView",
            "grid_template_rows": null,
            "right": null,
            "justify_content": null,
            "_view_module": "@jupyter-widgets/base",
            "overflow": null,
            "_model_module_version": "1.2.0",
            "_view_count": null,
            "flex_flow": null,
            "width": null,
            "min_width": null,
            "border": null,
            "align_items": null,
            "bottom": null,
            "_model_module": "@jupyter-widgets/base",
            "top": null,
            "grid_column": null,
            "overflow_y": null,
            "overflow_x": null,
            "grid_auto_flow": null,
            "grid_area": null,
            "grid_template_columns": null,
            "flex": null,
            "_model_name": "LayoutModel",
            "justify_items": null,
            "grid_row": null,
            "max_height": null,
            "align_content": null,
            "visibility": null,
            "align_self": null,
            "height": null,
            "min_height": null,
            "padding": null,
            "grid_auto_rows": null,
            "grid_gap": null,
            "max_width": null,
            "order": null,
            "_view_module_version": "1.2.0",
            "grid_template_areas": null,
            "object_position": null,
            "object_fit": null,
            "grid_auto_columns": null,
            "margin": null,
            "display": null,
            "left": null
          }
        },
        "5b9f0d752d5c4ee593849ecac1417c41": {
          "model_module": "@jupyter-widgets/controls",
          "model_name": "FloatProgressModel",
          "state": {
            "_view_name": "ProgressView",
            "style": "IPY_MODEL_1a9213d610b54cf88379b726af6a0a8a",
            "_dom_classes": [],
            "description": "100%",
            "_model_name": "FloatProgressModel",
            "bar_style": "success",
            "max": 50,
            "_view_module": "@jupyter-widgets/controls",
            "_model_module_version": "1.5.0",
            "value": 50,
            "_view_count": null,
            "_view_module_version": "1.5.0",
            "orientation": "horizontal",
            "min": 0,
            "description_tooltip": null,
            "_model_module": "@jupyter-widgets/controls",
            "layout": "IPY_MODEL_e2b725b3bafb456099280fb482a753a5"
          }
        },
        "58e62e3d69b549fe8e1f021aeaf35272": {
          "model_module": "@jupyter-widgets/controls",
          "model_name": "HTMLModel",
          "state": {
            "_view_name": "HTMLView",
            "style": "IPY_MODEL_5cae47054430444e83bbe3a9a66fa757",
            "_dom_classes": [],
            "description": "",
            "_model_name": "HTMLModel",
            "placeholder": "​",
            "_view_module": "@jupyter-widgets/controls",
            "_model_module_version": "1.5.0",
            "value": " 50/50 [48:20&lt;00:00, 58.00s/it]",
            "_view_count": null,
            "_view_module_version": "1.5.0",
            "description_tooltip": null,
            "_model_module": "@jupyter-widgets/controls",
            "layout": "IPY_MODEL_41fe88faa2c14f91971cc4d59b5234b3"
          }
        },
        "1a9213d610b54cf88379b726af6a0a8a": {
          "model_module": "@jupyter-widgets/controls",
          "model_name": "ProgressStyleModel",
          "state": {
            "_view_name": "StyleView",
            "_model_name": "ProgressStyleModel",
            "description_width": "initial",
            "_view_module": "@jupyter-widgets/base",
            "_model_module_version": "1.5.0",
            "_view_count": null,
            "_view_module_version": "1.2.0",
            "bar_color": null,
            "_model_module": "@jupyter-widgets/controls"
          }
        },
        "e2b725b3bafb456099280fb482a753a5": {
          "model_module": "@jupyter-widgets/base",
          "model_name": "LayoutModel",
          "state": {
            "_view_name": "LayoutView",
            "grid_template_rows": null,
            "right": null,
            "justify_content": null,
            "_view_module": "@jupyter-widgets/base",
            "overflow": null,
            "_model_module_version": "1.2.0",
            "_view_count": null,
            "flex_flow": null,
            "width": null,
            "min_width": null,
            "border": null,
            "align_items": null,
            "bottom": null,
            "_model_module": "@jupyter-widgets/base",
            "top": null,
            "grid_column": null,
            "overflow_y": null,
            "overflow_x": null,
            "grid_auto_flow": null,
            "grid_area": null,
            "grid_template_columns": null,
            "flex": null,
            "_model_name": "LayoutModel",
            "justify_items": null,
            "grid_row": null,
            "max_height": null,
            "align_content": null,
            "visibility": null,
            "align_self": null,
            "height": null,
            "min_height": null,
            "padding": null,
            "grid_auto_rows": null,
            "grid_gap": null,
            "max_width": null,
            "order": null,
            "_view_module_version": "1.2.0",
            "grid_template_areas": null,
            "object_position": null,
            "object_fit": null,
            "grid_auto_columns": null,
            "margin": null,
            "display": null,
            "left": null
          }
        },
        "5cae47054430444e83bbe3a9a66fa757": {
          "model_module": "@jupyter-widgets/controls",
          "model_name": "DescriptionStyleModel",
          "state": {
            "_view_name": "StyleView",
            "_model_name": "DescriptionStyleModel",
            "description_width": "",
            "_view_module": "@jupyter-widgets/base",
            "_model_module_version": "1.5.0",
            "_view_count": null,
            "_view_module_version": "1.2.0",
            "_model_module": "@jupyter-widgets/controls"
          }
        },
        "41fe88faa2c14f91971cc4d59b5234b3": {
          "model_module": "@jupyter-widgets/base",
          "model_name": "LayoutModel",
          "state": {
            "_view_name": "LayoutView",
            "grid_template_rows": null,
            "right": null,
            "justify_content": null,
            "_view_module": "@jupyter-widgets/base",
            "overflow": null,
            "_model_module_version": "1.2.0",
            "_view_count": null,
            "flex_flow": null,
            "width": null,
            "min_width": null,
            "border": null,
            "align_items": null,
            "bottom": null,
            "_model_module": "@jupyter-widgets/base",
            "top": null,
            "grid_column": null,
            "overflow_y": null,
            "overflow_x": null,
            "grid_auto_flow": null,
            "grid_area": null,
            "grid_template_columns": null,
            "flex": null,
            "_model_name": "LayoutModel",
            "justify_items": null,
            "grid_row": null,
            "max_height": null,
            "align_content": null,
            "visibility": null,
            "align_self": null,
            "height": null,
            "min_height": null,
            "padding": null,
            "grid_auto_rows": null,
            "grid_gap": null,
            "max_width": null,
            "order": null,
            "_view_module_version": "1.2.0",
            "grid_template_areas": null,
            "object_position": null,
            "object_fit": null,
            "grid_auto_columns": null,
            "margin": null,
            "display": null,
            "left": null
          }
        },
        "31b1ad8b6d8a4d779d7ee236fa7163d9": {
          "model_module": "@jupyter-widgets/controls",
          "model_name": "HBoxModel",
          "state": {
            "_view_name": "HBoxView",
            "_dom_classes": [],
            "_model_name": "HBoxModel",
            "_view_module": "@jupyter-widgets/controls",
            "_model_module_version": "1.5.0",
            "_view_count": null,
            "_view_module_version": "1.5.0",
            "box_style": "",
            "layout": "IPY_MODEL_a78543da87e143798b1575f16b67e66e",
            "_model_module": "@jupyter-widgets/controls",
            "children": [
              "IPY_MODEL_a38efe46e21b4cfa96897b406e039a77",
              "IPY_MODEL_4e0b605232064a11beb341242b1272f2"
            ]
          }
        },
        "a78543da87e143798b1575f16b67e66e": {
          "model_module": "@jupyter-widgets/base",
          "model_name": "LayoutModel",
          "state": {
            "_view_name": "LayoutView",
            "grid_template_rows": null,
            "right": null,
            "justify_content": null,
            "_view_module": "@jupyter-widgets/base",
            "overflow": null,
            "_model_module_version": "1.2.0",
            "_view_count": null,
            "flex_flow": null,
            "width": null,
            "min_width": null,
            "border": null,
            "align_items": null,
            "bottom": null,
            "_model_module": "@jupyter-widgets/base",
            "top": null,
            "grid_column": null,
            "overflow_y": null,
            "overflow_x": null,
            "grid_auto_flow": null,
            "grid_area": null,
            "grid_template_columns": null,
            "flex": null,
            "_model_name": "LayoutModel",
            "justify_items": null,
            "grid_row": null,
            "max_height": null,
            "align_content": null,
            "visibility": null,
            "align_self": null,
            "height": null,
            "min_height": null,
            "padding": null,
            "grid_auto_rows": null,
            "grid_gap": null,
            "max_width": null,
            "order": null,
            "_view_module_version": "1.2.0",
            "grid_template_areas": null,
            "object_position": null,
            "object_fit": null,
            "grid_auto_columns": null,
            "margin": null,
            "display": null,
            "left": null
          }
        },
        "a38efe46e21b4cfa96897b406e039a77": {
          "model_module": "@jupyter-widgets/controls",
          "model_name": "FloatProgressModel",
          "state": {
            "_view_name": "ProgressView",
            "style": "IPY_MODEL_a6ef835f906f48839dc72ad082a71251",
            "_dom_classes": [],
            "description": " 12%",
            "_model_name": "FloatProgressModel",
            "bar_style": "danger",
            "max": 50,
            "_view_module": "@jupyter-widgets/controls",
            "_model_module_version": "1.5.0",
            "value": 6,
            "_view_count": null,
            "_view_module_version": "1.5.0",
            "orientation": "horizontal",
            "min": 0,
            "description_tooltip": null,
            "_model_module": "@jupyter-widgets/controls",
            "layout": "IPY_MODEL_5ce340d4139d4d2db659f9946ca6d777"
          }
        },
        "4e0b605232064a11beb341242b1272f2": {
          "model_module": "@jupyter-widgets/controls",
          "model_name": "HTMLModel",
          "state": {
            "_view_name": "HTMLView",
            "style": "IPY_MODEL_752a3c82b0d24cdfaeb8c56200e41011",
            "_dom_classes": [],
            "description": "",
            "_model_name": "HTMLModel",
            "placeholder": "​",
            "_view_module": "@jupyter-widgets/controls",
            "_model_module_version": "1.5.0",
            "value": " 6/50 [04:17&lt;26:58, 36.79s/it]",
            "_view_count": null,
            "_view_module_version": "1.5.0",
            "description_tooltip": null,
            "_model_module": "@jupyter-widgets/controls",
            "layout": "IPY_MODEL_62bbbcb52f734c90b0b9ad6f20a1e9e5"
          }
        },
        "a6ef835f906f48839dc72ad082a71251": {
          "model_module": "@jupyter-widgets/controls",
          "model_name": "ProgressStyleModel",
          "state": {
            "_view_name": "StyleView",
            "_model_name": "ProgressStyleModel",
            "description_width": "initial",
            "_view_module": "@jupyter-widgets/base",
            "_model_module_version": "1.5.0",
            "_view_count": null,
            "_view_module_version": "1.2.0",
            "bar_color": null,
            "_model_module": "@jupyter-widgets/controls"
          }
        },
        "5ce340d4139d4d2db659f9946ca6d777": {
          "model_module": "@jupyter-widgets/base",
          "model_name": "LayoutModel",
          "state": {
            "_view_name": "LayoutView",
            "grid_template_rows": null,
            "right": null,
            "justify_content": null,
            "_view_module": "@jupyter-widgets/base",
            "overflow": null,
            "_model_module_version": "1.2.0",
            "_view_count": null,
            "flex_flow": null,
            "width": null,
            "min_width": null,
            "border": null,
            "align_items": null,
            "bottom": null,
            "_model_module": "@jupyter-widgets/base",
            "top": null,
            "grid_column": null,
            "overflow_y": null,
            "overflow_x": null,
            "grid_auto_flow": null,
            "grid_area": null,
            "grid_template_columns": null,
            "flex": null,
            "_model_name": "LayoutModel",
            "justify_items": null,
            "grid_row": null,
            "max_height": null,
            "align_content": null,
            "visibility": null,
            "align_self": null,
            "height": null,
            "min_height": null,
            "padding": null,
            "grid_auto_rows": null,
            "grid_gap": null,
            "max_width": null,
            "order": null,
            "_view_module_version": "1.2.0",
            "grid_template_areas": null,
            "object_position": null,
            "object_fit": null,
            "grid_auto_columns": null,
            "margin": null,
            "display": null,
            "left": null
          }
        },
        "752a3c82b0d24cdfaeb8c56200e41011": {
          "model_module": "@jupyter-widgets/controls",
          "model_name": "DescriptionStyleModel",
          "state": {
            "_view_name": "StyleView",
            "_model_name": "DescriptionStyleModel",
            "description_width": "",
            "_view_module": "@jupyter-widgets/base",
            "_model_module_version": "1.5.0",
            "_view_count": null,
            "_view_module_version": "1.2.0",
            "_model_module": "@jupyter-widgets/controls"
          }
        },
        "62bbbcb52f734c90b0b9ad6f20a1e9e5": {
          "model_module": "@jupyter-widgets/base",
          "model_name": "LayoutModel",
          "state": {
            "_view_name": "LayoutView",
            "grid_template_rows": null,
            "right": null,
            "justify_content": null,
            "_view_module": "@jupyter-widgets/base",
            "overflow": null,
            "_model_module_version": "1.2.0",
            "_view_count": null,
            "flex_flow": null,
            "width": null,
            "min_width": null,
            "border": null,
            "align_items": null,
            "bottom": null,
            "_model_module": "@jupyter-widgets/base",
            "top": null,
            "grid_column": null,
            "overflow_y": null,
            "overflow_x": null,
            "grid_auto_flow": null,
            "grid_area": null,
            "grid_template_columns": null,
            "flex": null,
            "_model_name": "LayoutModel",
            "justify_items": null,
            "grid_row": null,
            "max_height": null,
            "align_content": null,
            "visibility": null,
            "align_self": null,
            "height": null,
            "min_height": null,
            "padding": null,
            "grid_auto_rows": null,
            "grid_gap": null,
            "max_width": null,
            "order": null,
            "_view_module_version": "1.2.0",
            "grid_template_areas": null,
            "object_position": null,
            "object_fit": null,
            "grid_auto_columns": null,
            "margin": null,
            "display": null,
            "left": null
          }
        },
        "11c0e2ae1f194b6ba565c69fbc1a79d8": {
          "model_module": "@jupyter-widgets/controls",
          "model_name": "HBoxModel",
          "state": {
            "_view_name": "HBoxView",
            "_dom_classes": [],
            "_model_name": "HBoxModel",
            "_view_module": "@jupyter-widgets/controls",
            "_model_module_version": "1.5.0",
            "_view_count": null,
            "_view_module_version": "1.5.0",
            "box_style": "",
            "layout": "IPY_MODEL_40295be91dab45e3b89e19756dba4ea9",
            "_model_module": "@jupyter-widgets/controls",
            "children": [
              "IPY_MODEL_48f1795533d946cdaf89189e5a43b93c",
              "IPY_MODEL_250498d85bc54071ace6d9a4e9f66d1b"
            ]
          }
        },
        "40295be91dab45e3b89e19756dba4ea9": {
          "model_module": "@jupyter-widgets/base",
          "model_name": "LayoutModel",
          "state": {
            "_view_name": "LayoutView",
            "grid_template_rows": null,
            "right": null,
            "justify_content": null,
            "_view_module": "@jupyter-widgets/base",
            "overflow": null,
            "_model_module_version": "1.2.0",
            "_view_count": null,
            "flex_flow": null,
            "width": null,
            "min_width": null,
            "border": null,
            "align_items": null,
            "bottom": null,
            "_model_module": "@jupyter-widgets/base",
            "top": null,
            "grid_column": null,
            "overflow_y": null,
            "overflow_x": null,
            "grid_auto_flow": null,
            "grid_area": null,
            "grid_template_columns": null,
            "flex": null,
            "_model_name": "LayoutModel",
            "justify_items": null,
            "grid_row": null,
            "max_height": null,
            "align_content": null,
            "visibility": null,
            "align_self": null,
            "height": null,
            "min_height": null,
            "padding": null,
            "grid_auto_rows": null,
            "grid_gap": null,
            "max_width": null,
            "order": null,
            "_view_module_version": "1.2.0",
            "grid_template_areas": null,
            "object_position": null,
            "object_fit": null,
            "grid_auto_columns": null,
            "margin": null,
            "display": null,
            "left": null
          }
        },
        "48f1795533d946cdaf89189e5a43b93c": {
          "model_module": "@jupyter-widgets/controls",
          "model_name": "FloatProgressModel",
          "state": {
            "_view_name": "ProgressView",
            "style": "IPY_MODEL_d336a4655e7442c0886b63d6603025c8",
            "_dom_classes": [],
            "description": " 74%",
            "_model_name": "FloatProgressModel",
            "bar_style": "danger",
            "max": 50,
            "_view_module": "@jupyter-widgets/controls",
            "_model_module_version": "1.5.0",
            "value": 37,
            "_view_count": null,
            "_view_module_version": "1.5.0",
            "orientation": "horizontal",
            "min": 0,
            "description_tooltip": null,
            "_model_module": "@jupyter-widgets/controls",
            "layout": "IPY_MODEL_8132543b5b744e2998b201d810d24b22"
          }
        },
        "250498d85bc54071ace6d9a4e9f66d1b": {
          "model_module": "@jupyter-widgets/controls",
          "model_name": "HTMLModel",
          "state": {
            "_view_name": "HTMLView",
            "style": "IPY_MODEL_9804fbd36130405b854f2ac50a766d5f",
            "_dom_classes": [],
            "description": "",
            "_model_name": "HTMLModel",
            "placeholder": "​",
            "_view_module": "@jupyter-widgets/controls",
            "_model_module_version": "1.5.0",
            "value": " 37/50 [26:49&lt;09:09, 42.25s/it]",
            "_view_count": null,
            "_view_module_version": "1.5.0",
            "description_tooltip": null,
            "_model_module": "@jupyter-widgets/controls",
            "layout": "IPY_MODEL_48bcec6888ea4dc48d730525be1165f3"
          }
        },
        "d336a4655e7442c0886b63d6603025c8": {
          "model_module": "@jupyter-widgets/controls",
          "model_name": "ProgressStyleModel",
          "state": {
            "_view_name": "StyleView",
            "_model_name": "ProgressStyleModel",
            "description_width": "initial",
            "_view_module": "@jupyter-widgets/base",
            "_model_module_version": "1.5.0",
            "_view_count": null,
            "_view_module_version": "1.2.0",
            "bar_color": null,
            "_model_module": "@jupyter-widgets/controls"
          }
        },
        "8132543b5b744e2998b201d810d24b22": {
          "model_module": "@jupyter-widgets/base",
          "model_name": "LayoutModel",
          "state": {
            "_view_name": "LayoutView",
            "grid_template_rows": null,
            "right": null,
            "justify_content": null,
            "_view_module": "@jupyter-widgets/base",
            "overflow": null,
            "_model_module_version": "1.2.0",
            "_view_count": null,
            "flex_flow": null,
            "width": null,
            "min_width": null,
            "border": null,
            "align_items": null,
            "bottom": null,
            "_model_module": "@jupyter-widgets/base",
            "top": null,
            "grid_column": null,
            "overflow_y": null,
            "overflow_x": null,
            "grid_auto_flow": null,
            "grid_area": null,
            "grid_template_columns": null,
            "flex": null,
            "_model_name": "LayoutModel",
            "justify_items": null,
            "grid_row": null,
            "max_height": null,
            "align_content": null,
            "visibility": null,
            "align_self": null,
            "height": null,
            "min_height": null,
            "padding": null,
            "grid_auto_rows": null,
            "grid_gap": null,
            "max_width": null,
            "order": null,
            "_view_module_version": "1.2.0",
            "grid_template_areas": null,
            "object_position": null,
            "object_fit": null,
            "grid_auto_columns": null,
            "margin": null,
            "display": null,
            "left": null
          }
        },
        "9804fbd36130405b854f2ac50a766d5f": {
          "model_module": "@jupyter-widgets/controls",
          "model_name": "DescriptionStyleModel",
          "state": {
            "_view_name": "StyleView",
            "_model_name": "DescriptionStyleModel",
            "description_width": "",
            "_view_module": "@jupyter-widgets/base",
            "_model_module_version": "1.5.0",
            "_view_count": null,
            "_view_module_version": "1.2.0",
            "_model_module": "@jupyter-widgets/controls"
          }
        },
        "48bcec6888ea4dc48d730525be1165f3": {
          "model_module": "@jupyter-widgets/base",
          "model_name": "LayoutModel",
          "state": {
            "_view_name": "LayoutView",
            "grid_template_rows": null,
            "right": null,
            "justify_content": null,
            "_view_module": "@jupyter-widgets/base",
            "overflow": null,
            "_model_module_version": "1.2.0",
            "_view_count": null,
            "flex_flow": null,
            "width": null,
            "min_width": null,
            "border": null,
            "align_items": null,
            "bottom": null,
            "_model_module": "@jupyter-widgets/base",
            "top": null,
            "grid_column": null,
            "overflow_y": null,
            "overflow_x": null,
            "grid_auto_flow": null,
            "grid_area": null,
            "grid_template_columns": null,
            "flex": null,
            "_model_name": "LayoutModel",
            "justify_items": null,
            "grid_row": null,
            "max_height": null,
            "align_content": null,
            "visibility": null,
            "align_self": null,
            "height": null,
            "min_height": null,
            "padding": null,
            "grid_auto_rows": null,
            "grid_gap": null,
            "max_width": null,
            "order": null,
            "_view_module_version": "1.2.0",
            "grid_template_areas": null,
            "object_position": null,
            "object_fit": null,
            "grid_auto_columns": null,
            "margin": null,
            "display": null,
            "left": null
          }
        },
        "ef9714c9842a48219a3b9ab39e1ff2ed": {
          "model_module": "@jupyter-widgets/controls",
          "model_name": "HBoxModel",
          "state": {
            "_view_name": "HBoxView",
            "_dom_classes": [],
            "_model_name": "HBoxModel",
            "_view_module": "@jupyter-widgets/controls",
            "_model_module_version": "1.5.0",
            "_view_count": null,
            "_view_module_version": "1.5.0",
            "box_style": "",
            "layout": "IPY_MODEL_f754c294005c4e7ab8614452dfe5490d",
            "_model_module": "@jupyter-widgets/controls",
            "children": [
              "IPY_MODEL_e7751b4467d0475a815b2d9b7b26ce0c",
              "IPY_MODEL_db582173a6404e1fa8d90884f9c55e75"
            ]
          }
        },
        "f754c294005c4e7ab8614452dfe5490d": {
          "model_module": "@jupyter-widgets/base",
          "model_name": "LayoutModel",
          "state": {
            "_view_name": "LayoutView",
            "grid_template_rows": null,
            "right": null,
            "justify_content": null,
            "_view_module": "@jupyter-widgets/base",
            "overflow": null,
            "_model_module_version": "1.2.0",
            "_view_count": null,
            "flex_flow": null,
            "width": null,
            "min_width": null,
            "border": null,
            "align_items": null,
            "bottom": null,
            "_model_module": "@jupyter-widgets/base",
            "top": null,
            "grid_column": null,
            "overflow_y": null,
            "overflow_x": null,
            "grid_auto_flow": null,
            "grid_area": null,
            "grid_template_columns": null,
            "flex": null,
            "_model_name": "LayoutModel",
            "justify_items": null,
            "grid_row": null,
            "max_height": null,
            "align_content": null,
            "visibility": null,
            "align_self": null,
            "height": null,
            "min_height": null,
            "padding": null,
            "grid_auto_rows": null,
            "grid_gap": null,
            "max_width": null,
            "order": null,
            "_view_module_version": "1.2.0",
            "grid_template_areas": null,
            "object_position": null,
            "object_fit": null,
            "grid_auto_columns": null,
            "margin": null,
            "display": null,
            "left": null
          }
        },
        "e7751b4467d0475a815b2d9b7b26ce0c": {
          "model_module": "@jupyter-widgets/controls",
          "model_name": "FloatProgressModel",
          "state": {
            "_view_name": "ProgressView",
            "style": "IPY_MODEL_cd8a7eaaf38848adbc926cd777ff15d4",
            "_dom_classes": [],
            "description": " 70%",
            "_model_name": "FloatProgressModel",
            "bar_style": "danger",
            "max": 50,
            "_view_module": "@jupyter-widgets/controls",
            "_model_module_version": "1.5.0",
            "value": 35,
            "_view_count": null,
            "_view_module_version": "1.5.0",
            "orientation": "horizontal",
            "min": 0,
            "description_tooltip": null,
            "_model_module": "@jupyter-widgets/controls",
            "layout": "IPY_MODEL_0f6146a807ad4cf6a23aa0c747b0600c"
          }
        },
        "db582173a6404e1fa8d90884f9c55e75": {
          "model_module": "@jupyter-widgets/controls",
          "model_name": "HTMLModel",
          "state": {
            "_view_name": "HTMLView",
            "style": "IPY_MODEL_84c98ae65ef1478695f582965be2bc31",
            "_dom_classes": [],
            "description": "",
            "_model_name": "HTMLModel",
            "placeholder": "​",
            "_view_module": "@jupyter-widgets/controls",
            "_model_module_version": "1.5.0",
            "value": " 35/50 [22:45&lt;09:27, 37.81s/it]",
            "_view_count": null,
            "_view_module_version": "1.5.0",
            "description_tooltip": null,
            "_model_module": "@jupyter-widgets/controls",
            "layout": "IPY_MODEL_f5bd769b792f4915a307fec538a18b6d"
          }
        },
        "cd8a7eaaf38848adbc926cd777ff15d4": {
          "model_module": "@jupyter-widgets/controls",
          "model_name": "ProgressStyleModel",
          "state": {
            "_view_name": "StyleView",
            "_model_name": "ProgressStyleModel",
            "description_width": "initial",
            "_view_module": "@jupyter-widgets/base",
            "_model_module_version": "1.5.0",
            "_view_count": null,
            "_view_module_version": "1.2.0",
            "bar_color": null,
            "_model_module": "@jupyter-widgets/controls"
          }
        },
        "0f6146a807ad4cf6a23aa0c747b0600c": {
          "model_module": "@jupyter-widgets/base",
          "model_name": "LayoutModel",
          "state": {
            "_view_name": "LayoutView",
            "grid_template_rows": null,
            "right": null,
            "justify_content": null,
            "_view_module": "@jupyter-widgets/base",
            "overflow": null,
            "_model_module_version": "1.2.0",
            "_view_count": null,
            "flex_flow": null,
            "width": null,
            "min_width": null,
            "border": null,
            "align_items": null,
            "bottom": null,
            "_model_module": "@jupyter-widgets/base",
            "top": null,
            "grid_column": null,
            "overflow_y": null,
            "overflow_x": null,
            "grid_auto_flow": null,
            "grid_area": null,
            "grid_template_columns": null,
            "flex": null,
            "_model_name": "LayoutModel",
            "justify_items": null,
            "grid_row": null,
            "max_height": null,
            "align_content": null,
            "visibility": null,
            "align_self": null,
            "height": null,
            "min_height": null,
            "padding": null,
            "grid_auto_rows": null,
            "grid_gap": null,
            "max_width": null,
            "order": null,
            "_view_module_version": "1.2.0",
            "grid_template_areas": null,
            "object_position": null,
            "object_fit": null,
            "grid_auto_columns": null,
            "margin": null,
            "display": null,
            "left": null
          }
        },
        "84c98ae65ef1478695f582965be2bc31": {
          "model_module": "@jupyter-widgets/controls",
          "model_name": "DescriptionStyleModel",
          "state": {
            "_view_name": "StyleView",
            "_model_name": "DescriptionStyleModel",
            "description_width": "",
            "_view_module": "@jupyter-widgets/base",
            "_model_module_version": "1.5.0",
            "_view_count": null,
            "_view_module_version": "1.2.0",
            "_model_module": "@jupyter-widgets/controls"
          }
        },
        "f5bd769b792f4915a307fec538a18b6d": {
          "model_module": "@jupyter-widgets/base",
          "model_name": "LayoutModel",
          "state": {
            "_view_name": "LayoutView",
            "grid_template_rows": null,
            "right": null,
            "justify_content": null,
            "_view_module": "@jupyter-widgets/base",
            "overflow": null,
            "_model_module_version": "1.2.0",
            "_view_count": null,
            "flex_flow": null,
            "width": null,
            "min_width": null,
            "border": null,
            "align_items": null,
            "bottom": null,
            "_model_module": "@jupyter-widgets/base",
            "top": null,
            "grid_column": null,
            "overflow_y": null,
            "overflow_x": null,
            "grid_auto_flow": null,
            "grid_area": null,
            "grid_template_columns": null,
            "flex": null,
            "_model_name": "LayoutModel",
            "justify_items": null,
            "grid_row": null,
            "max_height": null,
            "align_content": null,
            "visibility": null,
            "align_self": null,
            "height": null,
            "min_height": null,
            "padding": null,
            "grid_auto_rows": null,
            "grid_gap": null,
            "max_width": null,
            "order": null,
            "_view_module_version": "1.2.0",
            "grid_template_areas": null,
            "object_position": null,
            "object_fit": null,
            "grid_auto_columns": null,
            "margin": null,
            "display": null,
            "left": null
          }
        },
        "07cdebc69fbd4be690ccbd8f01e7448c": {
          "model_module": "@jupyter-widgets/controls",
          "model_name": "HBoxModel",
          "state": {
            "_view_name": "HBoxView",
            "_dom_classes": [],
            "_model_name": "HBoxModel",
            "_view_module": "@jupyter-widgets/controls",
            "_model_module_version": "1.5.0",
            "_view_count": null,
            "_view_module_version": "1.5.0",
            "box_style": "",
            "layout": "IPY_MODEL_9a8811f8b26f4d58b5982e6b2c66de5e",
            "_model_module": "@jupyter-widgets/controls",
            "children": [
              "IPY_MODEL_dce95a4efe71401893aca88309af8bd5",
              "IPY_MODEL_4bf070d8317646d0a59afea5d72243b0"
            ]
          }
        },
        "9a8811f8b26f4d58b5982e6b2c66de5e": {
          "model_module": "@jupyter-widgets/base",
          "model_name": "LayoutModel",
          "state": {
            "_view_name": "LayoutView",
            "grid_template_rows": null,
            "right": null,
            "justify_content": null,
            "_view_module": "@jupyter-widgets/base",
            "overflow": null,
            "_model_module_version": "1.2.0",
            "_view_count": null,
            "flex_flow": null,
            "width": null,
            "min_width": null,
            "border": null,
            "align_items": null,
            "bottom": null,
            "_model_module": "@jupyter-widgets/base",
            "top": null,
            "grid_column": null,
            "overflow_y": null,
            "overflow_x": null,
            "grid_auto_flow": null,
            "grid_area": null,
            "grid_template_columns": null,
            "flex": null,
            "_model_name": "LayoutModel",
            "justify_items": null,
            "grid_row": null,
            "max_height": null,
            "align_content": null,
            "visibility": null,
            "align_self": null,
            "height": null,
            "min_height": null,
            "padding": null,
            "grid_auto_rows": null,
            "grid_gap": null,
            "max_width": null,
            "order": null,
            "_view_module_version": "1.2.0",
            "grid_template_areas": null,
            "object_position": null,
            "object_fit": null,
            "grid_auto_columns": null,
            "margin": null,
            "display": null,
            "left": null
          }
        },
        "dce95a4efe71401893aca88309af8bd5": {
          "model_module": "@jupyter-widgets/controls",
          "model_name": "FloatProgressModel",
          "state": {
            "_view_name": "ProgressView",
            "style": "IPY_MODEL_813d1b0ec3ea4c6698ec92d540e44425",
            "_dom_classes": [],
            "description": " 26%",
            "_model_name": "FloatProgressModel",
            "bar_style": "danger",
            "max": 50,
            "_view_module": "@jupyter-widgets/controls",
            "_model_module_version": "1.5.0",
            "value": 13,
            "_view_count": null,
            "_view_module_version": "1.5.0",
            "orientation": "horizontal",
            "min": 0,
            "description_tooltip": null,
            "_model_module": "@jupyter-widgets/controls",
            "layout": "IPY_MODEL_4d558b0e12b34e328b2d6a1e3da1e3fc"
          }
        },
        "4bf070d8317646d0a59afea5d72243b0": {
          "model_module": "@jupyter-widgets/controls",
          "model_name": "HTMLModel",
          "state": {
            "_view_name": "HTMLView",
            "style": "IPY_MODEL_9624b75c6f684595a613a28e8d9e3f1f",
            "_dom_classes": [],
            "description": "",
            "_model_name": "HTMLModel",
            "placeholder": "​",
            "_view_module": "@jupyter-widgets/controls",
            "_model_module_version": "1.5.0",
            "value": " 13/50 [09:55&lt;26:10, 42.44s/it]",
            "_view_count": null,
            "_view_module_version": "1.5.0",
            "description_tooltip": null,
            "_model_module": "@jupyter-widgets/controls",
            "layout": "IPY_MODEL_2d980ee928f449b384a05ab7e2abbc87"
          }
        },
        "813d1b0ec3ea4c6698ec92d540e44425": {
          "model_module": "@jupyter-widgets/controls",
          "model_name": "ProgressStyleModel",
          "state": {
            "_view_name": "StyleView",
            "_model_name": "ProgressStyleModel",
            "description_width": "initial",
            "_view_module": "@jupyter-widgets/base",
            "_model_module_version": "1.5.0",
            "_view_count": null,
            "_view_module_version": "1.2.0",
            "bar_color": null,
            "_model_module": "@jupyter-widgets/controls"
          }
        },
        "4d558b0e12b34e328b2d6a1e3da1e3fc": {
          "model_module": "@jupyter-widgets/base",
          "model_name": "LayoutModel",
          "state": {
            "_view_name": "LayoutView",
            "grid_template_rows": null,
            "right": null,
            "justify_content": null,
            "_view_module": "@jupyter-widgets/base",
            "overflow": null,
            "_model_module_version": "1.2.0",
            "_view_count": null,
            "flex_flow": null,
            "width": null,
            "min_width": null,
            "border": null,
            "align_items": null,
            "bottom": null,
            "_model_module": "@jupyter-widgets/base",
            "top": null,
            "grid_column": null,
            "overflow_y": null,
            "overflow_x": null,
            "grid_auto_flow": null,
            "grid_area": null,
            "grid_template_columns": null,
            "flex": null,
            "_model_name": "LayoutModel",
            "justify_items": null,
            "grid_row": null,
            "max_height": null,
            "align_content": null,
            "visibility": null,
            "align_self": null,
            "height": null,
            "min_height": null,
            "padding": null,
            "grid_auto_rows": null,
            "grid_gap": null,
            "max_width": null,
            "order": null,
            "_view_module_version": "1.2.0",
            "grid_template_areas": null,
            "object_position": null,
            "object_fit": null,
            "grid_auto_columns": null,
            "margin": null,
            "display": null,
            "left": null
          }
        },
        "9624b75c6f684595a613a28e8d9e3f1f": {
          "model_module": "@jupyter-widgets/controls",
          "model_name": "DescriptionStyleModel",
          "state": {
            "_view_name": "StyleView",
            "_model_name": "DescriptionStyleModel",
            "description_width": "",
            "_view_module": "@jupyter-widgets/base",
            "_model_module_version": "1.5.0",
            "_view_count": null,
            "_view_module_version": "1.2.0",
            "_model_module": "@jupyter-widgets/controls"
          }
        },
        "2d980ee928f449b384a05ab7e2abbc87": {
          "model_module": "@jupyter-widgets/base",
          "model_name": "LayoutModel",
          "state": {
            "_view_name": "LayoutView",
            "grid_template_rows": null,
            "right": null,
            "justify_content": null,
            "_view_module": "@jupyter-widgets/base",
            "overflow": null,
            "_model_module_version": "1.2.0",
            "_view_count": null,
            "flex_flow": null,
            "width": null,
            "min_width": null,
            "border": null,
            "align_items": null,
            "bottom": null,
            "_model_module": "@jupyter-widgets/base",
            "top": null,
            "grid_column": null,
            "overflow_y": null,
            "overflow_x": null,
            "grid_auto_flow": null,
            "grid_area": null,
            "grid_template_columns": null,
            "flex": null,
            "_model_name": "LayoutModel",
            "justify_items": null,
            "grid_row": null,
            "max_height": null,
            "align_content": null,
            "visibility": null,
            "align_self": null,
            "height": null,
            "min_height": null,
            "padding": null,
            "grid_auto_rows": null,
            "grid_gap": null,
            "max_width": null,
            "order": null,
            "_view_module_version": "1.2.0",
            "grid_template_areas": null,
            "object_position": null,
            "object_fit": null,
            "grid_auto_columns": null,
            "margin": null,
            "display": null,
            "left": null
          }
        },
        "ef958d2ba396489c85c7b357ad747515": {
          "model_module": "@jupyter-widgets/controls",
          "model_name": "HBoxModel",
          "state": {
            "_view_name": "HBoxView",
            "_dom_classes": [],
            "_model_name": "HBoxModel",
            "_view_module": "@jupyter-widgets/controls",
            "_model_module_version": "1.5.0",
            "_view_count": null,
            "_view_module_version": "1.5.0",
            "box_style": "",
            "layout": "IPY_MODEL_0f41968db40f417694b4a5b9d01d2a5b",
            "_model_module": "@jupyter-widgets/controls",
            "children": [
              "IPY_MODEL_795b5317323d40b9a2a11aa455cd261d",
              "IPY_MODEL_baf438e8ad1e476abee1186396cb0b30"
            ]
          }
        },
        "0f41968db40f417694b4a5b9d01d2a5b": {
          "model_module": "@jupyter-widgets/base",
          "model_name": "LayoutModel",
          "state": {
            "_view_name": "LayoutView",
            "grid_template_rows": null,
            "right": null,
            "justify_content": null,
            "_view_module": "@jupyter-widgets/base",
            "overflow": null,
            "_model_module_version": "1.2.0",
            "_view_count": null,
            "flex_flow": null,
            "width": null,
            "min_width": null,
            "border": null,
            "align_items": null,
            "bottom": null,
            "_model_module": "@jupyter-widgets/base",
            "top": null,
            "grid_column": null,
            "overflow_y": null,
            "overflow_x": null,
            "grid_auto_flow": null,
            "grid_area": null,
            "grid_template_columns": null,
            "flex": null,
            "_model_name": "LayoutModel",
            "justify_items": null,
            "grid_row": null,
            "max_height": null,
            "align_content": null,
            "visibility": null,
            "align_self": null,
            "height": null,
            "min_height": null,
            "padding": null,
            "grid_auto_rows": null,
            "grid_gap": null,
            "max_width": null,
            "order": null,
            "_view_module_version": "1.2.0",
            "grid_template_areas": null,
            "object_position": null,
            "object_fit": null,
            "grid_auto_columns": null,
            "margin": null,
            "display": null,
            "left": null
          }
        },
        "795b5317323d40b9a2a11aa455cd261d": {
          "model_module": "@jupyter-widgets/controls",
          "model_name": "FloatProgressModel",
          "state": {
            "_view_name": "ProgressView",
            "style": "IPY_MODEL_c830cd4a4a0340b6baaf072b0c04fb16",
            "_dom_classes": [],
            "description": " 26%",
            "_model_name": "FloatProgressModel",
            "bar_style": "danger",
            "max": 50,
            "_view_module": "@jupyter-widgets/controls",
            "_model_module_version": "1.5.0",
            "value": 13,
            "_view_count": null,
            "_view_module_version": "1.5.0",
            "orientation": "horizontal",
            "min": 0,
            "description_tooltip": null,
            "_model_module": "@jupyter-widgets/controls",
            "layout": "IPY_MODEL_4a36c7b8880c4456a7d486e555806a33"
          }
        },
        "baf438e8ad1e476abee1186396cb0b30": {
          "model_module": "@jupyter-widgets/controls",
          "model_name": "HTMLModel",
          "state": {
            "_view_name": "HTMLView",
            "style": "IPY_MODEL_8b10767aa7db479bb75e5d4bd78ec3e7",
            "_dom_classes": [],
            "description": "",
            "_model_name": "HTMLModel",
            "placeholder": "​",
            "_view_module": "@jupyter-widgets/controls",
            "_model_module_version": "1.5.0",
            "value": " 13/50 [10:25&lt;27:30, 44.61s/it]",
            "_view_count": null,
            "_view_module_version": "1.5.0",
            "description_tooltip": null,
            "_model_module": "@jupyter-widgets/controls",
            "layout": "IPY_MODEL_10b4df0eba5747f29e19732c366b85b5"
          }
        },
        "c830cd4a4a0340b6baaf072b0c04fb16": {
          "model_module": "@jupyter-widgets/controls",
          "model_name": "ProgressStyleModel",
          "state": {
            "_view_name": "StyleView",
            "_model_name": "ProgressStyleModel",
            "description_width": "initial",
            "_view_module": "@jupyter-widgets/base",
            "_model_module_version": "1.5.0",
            "_view_count": null,
            "_view_module_version": "1.2.0",
            "bar_color": null,
            "_model_module": "@jupyter-widgets/controls"
          }
        },
        "4a36c7b8880c4456a7d486e555806a33": {
          "model_module": "@jupyter-widgets/base",
          "model_name": "LayoutModel",
          "state": {
            "_view_name": "LayoutView",
            "grid_template_rows": null,
            "right": null,
            "justify_content": null,
            "_view_module": "@jupyter-widgets/base",
            "overflow": null,
            "_model_module_version": "1.2.0",
            "_view_count": null,
            "flex_flow": null,
            "width": null,
            "min_width": null,
            "border": null,
            "align_items": null,
            "bottom": null,
            "_model_module": "@jupyter-widgets/base",
            "top": null,
            "grid_column": null,
            "overflow_y": null,
            "overflow_x": null,
            "grid_auto_flow": null,
            "grid_area": null,
            "grid_template_columns": null,
            "flex": null,
            "_model_name": "LayoutModel",
            "justify_items": null,
            "grid_row": null,
            "max_height": null,
            "align_content": null,
            "visibility": null,
            "align_self": null,
            "height": null,
            "min_height": null,
            "padding": null,
            "grid_auto_rows": null,
            "grid_gap": null,
            "max_width": null,
            "order": null,
            "_view_module_version": "1.2.0",
            "grid_template_areas": null,
            "object_position": null,
            "object_fit": null,
            "grid_auto_columns": null,
            "margin": null,
            "display": null,
            "left": null
          }
        },
        "8b10767aa7db479bb75e5d4bd78ec3e7": {
          "model_module": "@jupyter-widgets/controls",
          "model_name": "DescriptionStyleModel",
          "state": {
            "_view_name": "StyleView",
            "_model_name": "DescriptionStyleModel",
            "description_width": "",
            "_view_module": "@jupyter-widgets/base",
            "_model_module_version": "1.5.0",
            "_view_count": null,
            "_view_module_version": "1.2.0",
            "_model_module": "@jupyter-widgets/controls"
          }
        },
        "10b4df0eba5747f29e19732c366b85b5": {
          "model_module": "@jupyter-widgets/base",
          "model_name": "LayoutModel",
          "state": {
            "_view_name": "LayoutView",
            "grid_template_rows": null,
            "right": null,
            "justify_content": null,
            "_view_module": "@jupyter-widgets/base",
            "overflow": null,
            "_model_module_version": "1.2.0",
            "_view_count": null,
            "flex_flow": null,
            "width": null,
            "min_width": null,
            "border": null,
            "align_items": null,
            "bottom": null,
            "_model_module": "@jupyter-widgets/base",
            "top": null,
            "grid_column": null,
            "overflow_y": null,
            "overflow_x": null,
            "grid_auto_flow": null,
            "grid_area": null,
            "grid_template_columns": null,
            "flex": null,
            "_model_name": "LayoutModel",
            "justify_items": null,
            "grid_row": null,
            "max_height": null,
            "align_content": null,
            "visibility": null,
            "align_self": null,
            "height": null,
            "min_height": null,
            "padding": null,
            "grid_auto_rows": null,
            "grid_gap": null,
            "max_width": null,
            "order": null,
            "_view_module_version": "1.2.0",
            "grid_template_areas": null,
            "object_position": null,
            "object_fit": null,
            "grid_auto_columns": null,
            "margin": null,
            "display": null,
            "left": null
          }
        },
        "29e2cde41d4f42b5a70057b492730a61": {
          "model_module": "@jupyter-widgets/controls",
          "model_name": "HBoxModel",
          "state": {
            "_view_name": "HBoxView",
            "_dom_classes": [],
            "_model_name": "HBoxModel",
            "_view_module": "@jupyter-widgets/controls",
            "_model_module_version": "1.5.0",
            "_view_count": null,
            "_view_module_version": "1.5.0",
            "box_style": "",
            "layout": "IPY_MODEL_8d5691dc951c4ceea6f093f94cf05937",
            "_model_module": "@jupyter-widgets/controls",
            "children": [
              "IPY_MODEL_091747803bec4b57bffcb51732f122d2",
              "IPY_MODEL_c00d30536c714dec93e28cd8270c317f"
            ]
          }
        },
        "8d5691dc951c4ceea6f093f94cf05937": {
          "model_module": "@jupyter-widgets/base",
          "model_name": "LayoutModel",
          "state": {
            "_view_name": "LayoutView",
            "grid_template_rows": null,
            "right": null,
            "justify_content": null,
            "_view_module": "@jupyter-widgets/base",
            "overflow": null,
            "_model_module_version": "1.2.0",
            "_view_count": null,
            "flex_flow": null,
            "width": null,
            "min_width": null,
            "border": null,
            "align_items": null,
            "bottom": null,
            "_model_module": "@jupyter-widgets/base",
            "top": null,
            "grid_column": null,
            "overflow_y": null,
            "overflow_x": null,
            "grid_auto_flow": null,
            "grid_area": null,
            "grid_template_columns": null,
            "flex": null,
            "_model_name": "LayoutModel",
            "justify_items": null,
            "grid_row": null,
            "max_height": null,
            "align_content": null,
            "visibility": null,
            "align_self": null,
            "height": null,
            "min_height": null,
            "padding": null,
            "grid_auto_rows": null,
            "grid_gap": null,
            "max_width": null,
            "order": null,
            "_view_module_version": "1.2.0",
            "grid_template_areas": null,
            "object_position": null,
            "object_fit": null,
            "grid_auto_columns": null,
            "margin": null,
            "display": null,
            "left": null
          }
        },
        "091747803bec4b57bffcb51732f122d2": {
          "model_module": "@jupyter-widgets/controls",
          "model_name": "FloatProgressModel",
          "state": {
            "_view_name": "ProgressView",
            "style": "IPY_MODEL_b2818d2eac5440fb8033156b7df08ffe",
            "_dom_classes": [],
            "description": "100%",
            "_model_name": "FloatProgressModel",
            "bar_style": "success",
            "max": 50,
            "_view_module": "@jupyter-widgets/controls",
            "_model_module_version": "1.5.0",
            "value": 50,
            "_view_count": null,
            "_view_module_version": "1.5.0",
            "orientation": "horizontal",
            "min": 0,
            "description_tooltip": null,
            "_model_module": "@jupyter-widgets/controls",
            "layout": "IPY_MODEL_a896acf233a84bd5932c8a593f7ae880"
          }
        },
        "c00d30536c714dec93e28cd8270c317f": {
          "model_module": "@jupyter-widgets/controls",
          "model_name": "HTMLModel",
          "state": {
            "_view_name": "HTMLView",
            "style": "IPY_MODEL_a3693d8c88124b209fdc1792b26251ab",
            "_dom_classes": [],
            "description": "",
            "_model_name": "HTMLModel",
            "placeholder": "​",
            "_view_module": "@jupyter-widgets/controls",
            "_model_module_version": "1.5.0",
            "value": " 50/50 [1:10:01&lt;00:00, 84.03s/it]",
            "_view_count": null,
            "_view_module_version": "1.5.0",
            "description_tooltip": null,
            "_model_module": "@jupyter-widgets/controls",
            "layout": "IPY_MODEL_933d896f6f95433484a99d58a2f04775"
          }
        },
        "b2818d2eac5440fb8033156b7df08ffe": {
          "model_module": "@jupyter-widgets/controls",
          "model_name": "ProgressStyleModel",
          "state": {
            "_view_name": "StyleView",
            "_model_name": "ProgressStyleModel",
            "description_width": "initial",
            "_view_module": "@jupyter-widgets/base",
            "_model_module_version": "1.5.0",
            "_view_count": null,
            "_view_module_version": "1.2.0",
            "bar_color": null,
            "_model_module": "@jupyter-widgets/controls"
          }
        },
        "a896acf233a84bd5932c8a593f7ae880": {
          "model_module": "@jupyter-widgets/base",
          "model_name": "LayoutModel",
          "state": {
            "_view_name": "LayoutView",
            "grid_template_rows": null,
            "right": null,
            "justify_content": null,
            "_view_module": "@jupyter-widgets/base",
            "overflow": null,
            "_model_module_version": "1.2.0",
            "_view_count": null,
            "flex_flow": null,
            "width": null,
            "min_width": null,
            "border": null,
            "align_items": null,
            "bottom": null,
            "_model_module": "@jupyter-widgets/base",
            "top": null,
            "grid_column": null,
            "overflow_y": null,
            "overflow_x": null,
            "grid_auto_flow": null,
            "grid_area": null,
            "grid_template_columns": null,
            "flex": null,
            "_model_name": "LayoutModel",
            "justify_items": null,
            "grid_row": null,
            "max_height": null,
            "align_content": null,
            "visibility": null,
            "align_self": null,
            "height": null,
            "min_height": null,
            "padding": null,
            "grid_auto_rows": null,
            "grid_gap": null,
            "max_width": null,
            "order": null,
            "_view_module_version": "1.2.0",
            "grid_template_areas": null,
            "object_position": null,
            "object_fit": null,
            "grid_auto_columns": null,
            "margin": null,
            "display": null,
            "left": null
          }
        },
        "a3693d8c88124b209fdc1792b26251ab": {
          "model_module": "@jupyter-widgets/controls",
          "model_name": "DescriptionStyleModel",
          "state": {
            "_view_name": "StyleView",
            "_model_name": "DescriptionStyleModel",
            "description_width": "",
            "_view_module": "@jupyter-widgets/base",
            "_model_module_version": "1.5.0",
            "_view_count": null,
            "_view_module_version": "1.2.0",
            "_model_module": "@jupyter-widgets/controls"
          }
        },
        "933d896f6f95433484a99d58a2f04775": {
          "model_module": "@jupyter-widgets/base",
          "model_name": "LayoutModel",
          "state": {
            "_view_name": "LayoutView",
            "grid_template_rows": null,
            "right": null,
            "justify_content": null,
            "_view_module": "@jupyter-widgets/base",
            "overflow": null,
            "_model_module_version": "1.2.0",
            "_view_count": null,
            "flex_flow": null,
            "width": null,
            "min_width": null,
            "border": null,
            "align_items": null,
            "bottom": null,
            "_model_module": "@jupyter-widgets/base",
            "top": null,
            "grid_column": null,
            "overflow_y": null,
            "overflow_x": null,
            "grid_auto_flow": null,
            "grid_area": null,
            "grid_template_columns": null,
            "flex": null,
            "_model_name": "LayoutModel",
            "justify_items": null,
            "grid_row": null,
            "max_height": null,
            "align_content": null,
            "visibility": null,
            "align_self": null,
            "height": null,
            "min_height": null,
            "padding": null,
            "grid_auto_rows": null,
            "grid_gap": null,
            "max_width": null,
            "order": null,
            "_view_module_version": "1.2.0",
            "grid_template_areas": null,
            "object_position": null,
            "object_fit": null,
            "grid_auto_columns": null,
            "margin": null,
            "display": null,
            "left": null
          }
        },
        "9617bfde36714fc39fe168b912abc111": {
          "model_module": "@jupyter-widgets/controls",
          "model_name": "HBoxModel",
          "state": {
            "_view_name": "HBoxView",
            "_dom_classes": [],
            "_model_name": "HBoxModel",
            "_view_module": "@jupyter-widgets/controls",
            "_model_module_version": "1.5.0",
            "_view_count": null,
            "_view_module_version": "1.5.0",
            "box_style": "",
            "layout": "IPY_MODEL_3423756218da42c68e6c39904ab964a9",
            "_model_module": "@jupyter-widgets/controls",
            "children": [
              "IPY_MODEL_2370257e8cca46b99e7ff73e5b33205f",
              "IPY_MODEL_8e68c185e5024fbeae9f801d7c37e879"
            ]
          }
        },
        "3423756218da42c68e6c39904ab964a9": {
          "model_module": "@jupyter-widgets/base",
          "model_name": "LayoutModel",
          "state": {
            "_view_name": "LayoutView",
            "grid_template_rows": null,
            "right": null,
            "justify_content": null,
            "_view_module": "@jupyter-widgets/base",
            "overflow": null,
            "_model_module_version": "1.2.0",
            "_view_count": null,
            "flex_flow": null,
            "width": null,
            "min_width": null,
            "border": null,
            "align_items": null,
            "bottom": null,
            "_model_module": "@jupyter-widgets/base",
            "top": null,
            "grid_column": null,
            "overflow_y": null,
            "overflow_x": null,
            "grid_auto_flow": null,
            "grid_area": null,
            "grid_template_columns": null,
            "flex": null,
            "_model_name": "LayoutModel",
            "justify_items": null,
            "grid_row": null,
            "max_height": null,
            "align_content": null,
            "visibility": null,
            "align_self": null,
            "height": null,
            "min_height": null,
            "padding": null,
            "grid_auto_rows": null,
            "grid_gap": null,
            "max_width": null,
            "order": null,
            "_view_module_version": "1.2.0",
            "grid_template_areas": null,
            "object_position": null,
            "object_fit": null,
            "grid_auto_columns": null,
            "margin": null,
            "display": null,
            "left": null
          }
        },
        "2370257e8cca46b99e7ff73e5b33205f": {
          "model_module": "@jupyter-widgets/controls",
          "model_name": "FloatProgressModel",
          "state": {
            "_view_name": "ProgressView",
            "style": "IPY_MODEL_03af5108e0b34e7f8fc36caf3e4a8749",
            "_dom_classes": [],
            "description": " 56%",
            "_model_name": "FloatProgressModel",
            "bar_style": "danger",
            "max": 50,
            "_view_module": "@jupyter-widgets/controls",
            "_model_module_version": "1.5.0",
            "value": 28,
            "_view_count": null,
            "_view_module_version": "1.5.0",
            "orientation": "horizontal",
            "min": 0,
            "description_tooltip": null,
            "_model_module": "@jupyter-widgets/controls",
            "layout": "IPY_MODEL_044ba23f983a4a678205bcaa56275f3f"
          }
        },
        "8e68c185e5024fbeae9f801d7c37e879": {
          "model_module": "@jupyter-widgets/controls",
          "model_name": "HTMLModel",
          "state": {
            "_view_name": "HTMLView",
            "style": "IPY_MODEL_8e40cb1035694579a9052427526984d3",
            "_dom_classes": [],
            "description": "",
            "_model_name": "HTMLModel",
            "placeholder": "​",
            "_view_module": "@jupyter-widgets/controls",
            "_model_module_version": "1.5.0",
            "value": " 28/50 [39:50&lt;30:12, 82.38s/it]",
            "_view_count": null,
            "_view_module_version": "1.5.0",
            "description_tooltip": null,
            "_model_module": "@jupyter-widgets/controls",
            "layout": "IPY_MODEL_3b87f26316db4dc89127dd8aac935d56"
          }
        },
        "03af5108e0b34e7f8fc36caf3e4a8749": {
          "model_module": "@jupyter-widgets/controls",
          "model_name": "ProgressStyleModel",
          "state": {
            "_view_name": "StyleView",
            "_model_name": "ProgressStyleModel",
            "description_width": "initial",
            "_view_module": "@jupyter-widgets/base",
            "_model_module_version": "1.5.0",
            "_view_count": null,
            "_view_module_version": "1.2.0",
            "bar_color": null,
            "_model_module": "@jupyter-widgets/controls"
          }
        },
        "044ba23f983a4a678205bcaa56275f3f": {
          "model_module": "@jupyter-widgets/base",
          "model_name": "LayoutModel",
          "state": {
            "_view_name": "LayoutView",
            "grid_template_rows": null,
            "right": null,
            "justify_content": null,
            "_view_module": "@jupyter-widgets/base",
            "overflow": null,
            "_model_module_version": "1.2.0",
            "_view_count": null,
            "flex_flow": null,
            "width": null,
            "min_width": null,
            "border": null,
            "align_items": null,
            "bottom": null,
            "_model_module": "@jupyter-widgets/base",
            "top": null,
            "grid_column": null,
            "overflow_y": null,
            "overflow_x": null,
            "grid_auto_flow": null,
            "grid_area": null,
            "grid_template_columns": null,
            "flex": null,
            "_model_name": "LayoutModel",
            "justify_items": null,
            "grid_row": null,
            "max_height": null,
            "align_content": null,
            "visibility": null,
            "align_self": null,
            "height": null,
            "min_height": null,
            "padding": null,
            "grid_auto_rows": null,
            "grid_gap": null,
            "max_width": null,
            "order": null,
            "_view_module_version": "1.2.0",
            "grid_template_areas": null,
            "object_position": null,
            "object_fit": null,
            "grid_auto_columns": null,
            "margin": null,
            "display": null,
            "left": null
          }
        },
        "8e40cb1035694579a9052427526984d3": {
          "model_module": "@jupyter-widgets/controls",
          "model_name": "DescriptionStyleModel",
          "state": {
            "_view_name": "StyleView",
            "_model_name": "DescriptionStyleModel",
            "description_width": "",
            "_view_module": "@jupyter-widgets/base",
            "_model_module_version": "1.5.0",
            "_view_count": null,
            "_view_module_version": "1.2.0",
            "_model_module": "@jupyter-widgets/controls"
          }
        },
        "3b87f26316db4dc89127dd8aac935d56": {
          "model_module": "@jupyter-widgets/base",
          "model_name": "LayoutModel",
          "state": {
            "_view_name": "LayoutView",
            "grid_template_rows": null,
            "right": null,
            "justify_content": null,
            "_view_module": "@jupyter-widgets/base",
            "overflow": null,
            "_model_module_version": "1.2.0",
            "_view_count": null,
            "flex_flow": null,
            "width": null,
            "min_width": null,
            "border": null,
            "align_items": null,
            "bottom": null,
            "_model_module": "@jupyter-widgets/base",
            "top": null,
            "grid_column": null,
            "overflow_y": null,
            "overflow_x": null,
            "grid_auto_flow": null,
            "grid_area": null,
            "grid_template_columns": null,
            "flex": null,
            "_model_name": "LayoutModel",
            "justify_items": null,
            "grid_row": null,
            "max_height": null,
            "align_content": null,
            "visibility": null,
            "align_self": null,
            "height": null,
            "min_height": null,
            "padding": null,
            "grid_auto_rows": null,
            "grid_gap": null,
            "max_width": null,
            "order": null,
            "_view_module_version": "1.2.0",
            "grid_template_areas": null,
            "object_position": null,
            "object_fit": null,
            "grid_auto_columns": null,
            "margin": null,
            "display": null,
            "left": null
          }
        },
        "2dc07d1f51c84fc19a6e993a16b708a2": {
          "model_module": "@jupyter-widgets/controls",
          "model_name": "HBoxModel",
          "state": {
            "_dom_classes": [],
            "_model_module": "@jupyter-widgets/controls",
            "_model_module_version": "1.5.0",
            "_model_name": "HBoxModel",
            "_view_count": null,
            "_view_module": "@jupyter-widgets/controls",
            "_view_module_version": "1.5.0",
            "_view_name": "HBoxView",
            "box_style": "",
            "children": [
              "IPY_MODEL_2d1a2a07472c4ef7bf40677af108a33d",
              "IPY_MODEL_01eea7720a594446b3f4bd64512108cc"
            ],
            "layout": "IPY_MODEL_6e48822e13f14ed297b0d32bd6727f68"
          }
        },
        "6e48822e13f14ed297b0d32bd6727f68": {
          "model_module": "@jupyter-widgets/base",
          "model_name": "LayoutModel",
          "state": {
            "_model_module": "@jupyter-widgets/base",
            "_model_module_version": "1.2.0",
            "_model_name": "LayoutModel",
            "_view_count": null,
            "_view_module": "@jupyter-widgets/base",
            "_view_module_version": "1.2.0",
            "_view_name": "LayoutView",
            "align_content": null,
            "align_items": null,
            "align_self": null,
            "border": null,
            "bottom": null,
            "display": null,
            "flex": null,
            "flex_flow": null,
            "grid_area": null,
            "grid_auto_columns": null,
            "grid_auto_flow": null,
            "grid_auto_rows": null,
            "grid_column": null,
            "grid_gap": null,
            "grid_row": null,
            "grid_template_areas": null,
            "grid_template_columns": null,
            "grid_template_rows": null,
            "height": null,
            "justify_content": null,
            "justify_items": null,
            "left": null,
            "margin": null,
            "max_height": null,
            "max_width": null,
            "min_height": null,
            "min_width": null,
            "object_fit": null,
            "object_position": null,
            "order": null,
            "overflow": null,
            "overflow_x": null,
            "overflow_y": null,
            "padding": null,
            "right": null,
            "top": null,
            "visibility": null,
            "width": null
          }
        },
        "2d1a2a07472c4ef7bf40677af108a33d": {
          "model_module": "@jupyter-widgets/controls",
          "model_name": "FloatProgressModel",
          "state": {
            "_dom_classes": [],
            "_model_module": "@jupyter-widgets/controls",
            "_model_module_version": "1.5.0",
            "_model_name": "FloatProgressModel",
            "_view_count": null,
            "_view_module": "@jupyter-widgets/controls",
            "_view_module_version": "1.5.0",
            "_view_name": "ProgressView",
            "bar_style": "danger",
            "description": " 26%",
            "description_tooltip": null,
            "layout": "IPY_MODEL_8be2fee435244fb2926eaeecf2b7e16b",
            "max": 50,
            "min": 0,
            "orientation": "horizontal",
            "style": "IPY_MODEL_953d824dcd5048a79c89818ef5c57b9c",
            "value": 13
          }
        },
        "01eea7720a594446b3f4bd64512108cc": {
          "model_module": "@jupyter-widgets/controls",
          "model_name": "HTMLModel",
          "state": {
            "_dom_classes": [],
            "_model_module": "@jupyter-widgets/controls",
            "_model_module_version": "1.5.0",
            "_model_name": "HTMLModel",
            "_view_count": null,
            "_view_module": "@jupyter-widgets/controls",
            "_view_module_version": "1.5.0",
            "_view_name": "HTMLView",
            "description": "",
            "description_tooltip": null,
            "layout": "IPY_MODEL_3a3c4f36c80847db9131991ab483c19e",
            "placeholder": "​",
            "style": "IPY_MODEL_42bbd0c529de4440995026570c3f3ca7",
            "value": " 13/50 [03:46&lt;09:59, 16.20s/it]"
          }
        },
        "953d824dcd5048a79c89818ef5c57b9c": {
          "model_module": "@jupyter-widgets/controls",
          "model_name": "ProgressStyleModel",
          "state": {
            "_model_module": "@jupyter-widgets/controls",
            "_model_module_version": "1.5.0",
            "_model_name": "ProgressStyleModel",
            "_view_count": null,
            "_view_module": "@jupyter-widgets/base",
            "_view_module_version": "1.2.0",
            "_view_name": "StyleView",
            "bar_color": null,
            "description_width": "initial"
          }
        },
        "8be2fee435244fb2926eaeecf2b7e16b": {
          "model_module": "@jupyter-widgets/base",
          "model_name": "LayoutModel",
          "state": {
            "_model_module": "@jupyter-widgets/base",
            "_model_module_version": "1.2.0",
            "_model_name": "LayoutModel",
            "_view_count": null,
            "_view_module": "@jupyter-widgets/base",
            "_view_module_version": "1.2.0",
            "_view_name": "LayoutView",
            "align_content": null,
            "align_items": null,
            "align_self": null,
            "border": null,
            "bottom": null,
            "display": null,
            "flex": null,
            "flex_flow": null,
            "grid_area": null,
            "grid_auto_columns": null,
            "grid_auto_flow": null,
            "grid_auto_rows": null,
            "grid_column": null,
            "grid_gap": null,
            "grid_row": null,
            "grid_template_areas": null,
            "grid_template_columns": null,
            "grid_template_rows": null,
            "height": null,
            "justify_content": null,
            "justify_items": null,
            "left": null,
            "margin": null,
            "max_height": null,
            "max_width": null,
            "min_height": null,
            "min_width": null,
            "object_fit": null,
            "object_position": null,
            "order": null,
            "overflow": null,
            "overflow_x": null,
            "overflow_y": null,
            "padding": null,
            "right": null,
            "top": null,
            "visibility": null,
            "width": null
          }
        },
        "42bbd0c529de4440995026570c3f3ca7": {
          "model_module": "@jupyter-widgets/controls",
          "model_name": "DescriptionStyleModel",
          "state": {
            "_model_module": "@jupyter-widgets/controls",
            "_model_module_version": "1.5.0",
            "_model_name": "DescriptionStyleModel",
            "_view_count": null,
            "_view_module": "@jupyter-widgets/base",
            "_view_module_version": "1.2.0",
            "_view_name": "StyleView",
            "description_width": ""
          }
        },
        "3a3c4f36c80847db9131991ab483c19e": {
          "model_module": "@jupyter-widgets/base",
          "model_name": "LayoutModel",
          "state": {
            "_model_module": "@jupyter-widgets/base",
            "_model_module_version": "1.2.0",
            "_model_name": "LayoutModel",
            "_view_count": null,
            "_view_module": "@jupyter-widgets/base",
            "_view_module_version": "1.2.0",
            "_view_name": "LayoutView",
            "align_content": null,
            "align_items": null,
            "align_self": null,
            "border": null,
            "bottom": null,
            "display": null,
            "flex": null,
            "flex_flow": null,
            "grid_area": null,
            "grid_auto_columns": null,
            "grid_auto_flow": null,
            "grid_auto_rows": null,
            "grid_column": null,
            "grid_gap": null,
            "grid_row": null,
            "grid_template_areas": null,
            "grid_template_columns": null,
            "grid_template_rows": null,
            "height": null,
            "justify_content": null,
            "justify_items": null,
            "left": null,
            "margin": null,
            "max_height": null,
            "max_width": null,
            "min_height": null,
            "min_width": null,
            "object_fit": null,
            "object_position": null,
            "order": null,
            "overflow": null,
            "overflow_x": null,
            "overflow_y": null,
            "padding": null,
            "right": null,
            "top": null,
            "visibility": null,
            "width": null
          }
        },
        "5c625acb850a44e1b2bc08822609feae": {
          "model_module": "@jupyter-widgets/controls",
          "model_name": "HBoxModel",
          "state": {
            "_dom_classes": [],
            "_model_module": "@jupyter-widgets/controls",
            "_model_module_version": "1.5.0",
            "_model_name": "HBoxModel",
            "_view_count": null,
            "_view_module": "@jupyter-widgets/controls",
            "_view_module_version": "1.5.0",
            "_view_name": "HBoxView",
            "box_style": "",
            "children": [
              "IPY_MODEL_67f88691a25748b581e68418714d4232",
              "IPY_MODEL_129c858bb8fd4ee599531a3f314e7273"
            ],
            "layout": "IPY_MODEL_35a17a30ad83439da56d5ad31de55e71"
          }
        },
        "35a17a30ad83439da56d5ad31de55e71": {
          "model_module": "@jupyter-widgets/base",
          "model_name": "LayoutModel",
          "state": {
            "_model_module": "@jupyter-widgets/base",
            "_model_module_version": "1.2.0",
            "_model_name": "LayoutModel",
            "_view_count": null,
            "_view_module": "@jupyter-widgets/base",
            "_view_module_version": "1.2.0",
            "_view_name": "LayoutView",
            "align_content": null,
            "align_items": null,
            "align_self": null,
            "border": null,
            "bottom": null,
            "display": null,
            "flex": null,
            "flex_flow": null,
            "grid_area": null,
            "grid_auto_columns": null,
            "grid_auto_flow": null,
            "grid_auto_rows": null,
            "grid_column": null,
            "grid_gap": null,
            "grid_row": null,
            "grid_template_areas": null,
            "grid_template_columns": null,
            "grid_template_rows": null,
            "height": null,
            "justify_content": null,
            "justify_items": null,
            "left": null,
            "margin": null,
            "max_height": null,
            "max_width": null,
            "min_height": null,
            "min_width": null,
            "object_fit": null,
            "object_position": null,
            "order": null,
            "overflow": null,
            "overflow_x": null,
            "overflow_y": null,
            "padding": null,
            "right": null,
            "top": null,
            "visibility": null,
            "width": null
          }
        },
        "67f88691a25748b581e68418714d4232": {
          "model_module": "@jupyter-widgets/controls",
          "model_name": "FloatProgressModel",
          "state": {
            "_dom_classes": [],
            "_model_module": "@jupyter-widgets/controls",
            "_model_module_version": "1.5.0",
            "_model_name": "FloatProgressModel",
            "_view_count": null,
            "_view_module": "@jupyter-widgets/controls",
            "_view_module_version": "1.5.0",
            "_view_name": "ProgressView",
            "bar_style": "danger",
            "description": "  0%",
            "description_tooltip": null,
            "layout": "IPY_MODEL_7686d696b7aa4a6da8126ee519ad0644",
            "max": 50,
            "min": 0,
            "orientation": "horizontal",
            "style": "IPY_MODEL_e07914420bee46e88aeb5338e1d9ad04",
            "value": 0
          }
        },
        "129c858bb8fd4ee599531a3f314e7273": {
          "model_module": "@jupyter-widgets/controls",
          "model_name": "HTMLModel",
          "state": {
            "_dom_classes": [],
            "_model_module": "@jupyter-widgets/controls",
            "_model_module_version": "1.5.0",
            "_model_name": "HTMLModel",
            "_view_count": null,
            "_view_module": "@jupyter-widgets/controls",
            "_view_module_version": "1.5.0",
            "_view_name": "HTMLView",
            "description": "",
            "description_tooltip": null,
            "layout": "IPY_MODEL_e5897ae97a6d40dc96f6aa2c6e13b66a",
            "placeholder": "​",
            "style": "IPY_MODEL_9b8f211393414e0f84204cdea7fe567c",
            "value": " 0/50 [00:00&lt;?, ?it/s]"
          }
        },
        "e07914420bee46e88aeb5338e1d9ad04": {
          "model_module": "@jupyter-widgets/controls",
          "model_name": "ProgressStyleModel",
          "state": {
            "_model_module": "@jupyter-widgets/controls",
            "_model_module_version": "1.5.0",
            "_model_name": "ProgressStyleModel",
            "_view_count": null,
            "_view_module": "@jupyter-widgets/base",
            "_view_module_version": "1.2.0",
            "_view_name": "StyleView",
            "bar_color": null,
            "description_width": "initial"
          }
        },
        "7686d696b7aa4a6da8126ee519ad0644": {
          "model_module": "@jupyter-widgets/base",
          "model_name": "LayoutModel",
          "state": {
            "_model_module": "@jupyter-widgets/base",
            "_model_module_version": "1.2.0",
            "_model_name": "LayoutModel",
            "_view_count": null,
            "_view_module": "@jupyter-widgets/base",
            "_view_module_version": "1.2.0",
            "_view_name": "LayoutView",
            "align_content": null,
            "align_items": null,
            "align_self": null,
            "border": null,
            "bottom": null,
            "display": null,
            "flex": null,
            "flex_flow": null,
            "grid_area": null,
            "grid_auto_columns": null,
            "grid_auto_flow": null,
            "grid_auto_rows": null,
            "grid_column": null,
            "grid_gap": null,
            "grid_row": null,
            "grid_template_areas": null,
            "grid_template_columns": null,
            "grid_template_rows": null,
            "height": null,
            "justify_content": null,
            "justify_items": null,
            "left": null,
            "margin": null,
            "max_height": null,
            "max_width": null,
            "min_height": null,
            "min_width": null,
            "object_fit": null,
            "object_position": null,
            "order": null,
            "overflow": null,
            "overflow_x": null,
            "overflow_y": null,
            "padding": null,
            "right": null,
            "top": null,
            "visibility": null,
            "width": null
          }
        },
        "9b8f211393414e0f84204cdea7fe567c": {
          "model_module": "@jupyter-widgets/controls",
          "model_name": "DescriptionStyleModel",
          "state": {
            "_model_module": "@jupyter-widgets/controls",
            "_model_module_version": "1.5.0",
            "_model_name": "DescriptionStyleModel",
            "_view_count": null,
            "_view_module": "@jupyter-widgets/base",
            "_view_module_version": "1.2.0",
            "_view_name": "StyleView",
            "description_width": ""
          }
        },
        "e5897ae97a6d40dc96f6aa2c6e13b66a": {
          "model_module": "@jupyter-widgets/base",
          "model_name": "LayoutModel",
          "state": {
            "_model_module": "@jupyter-widgets/base",
            "_model_module_version": "1.2.0",
            "_model_name": "LayoutModel",
            "_view_count": null,
            "_view_module": "@jupyter-widgets/base",
            "_view_module_version": "1.2.0",
            "_view_name": "LayoutView",
            "align_content": null,
            "align_items": null,
            "align_self": null,
            "border": null,
            "bottom": null,
            "display": null,
            "flex": null,
            "flex_flow": null,
            "grid_area": null,
            "grid_auto_columns": null,
            "grid_auto_flow": null,
            "grid_auto_rows": null,
            "grid_column": null,
            "grid_gap": null,
            "grid_row": null,
            "grid_template_areas": null,
            "grid_template_columns": null,
            "grid_template_rows": null,
            "height": null,
            "justify_content": null,
            "justify_items": null,
            "left": null,
            "margin": null,
            "max_height": null,
            "max_width": null,
            "min_height": null,
            "min_width": null,
            "object_fit": null,
            "object_position": null,
            "order": null,
            "overflow": null,
            "overflow_x": null,
            "overflow_y": null,
            "padding": null,
            "right": null,
            "top": null,
            "visibility": null,
            "width": null
          }
        }
      }
    }
  },
  "cells": [
    {
      "cell_type": "markdown",
      "metadata": {
        "id": "JccQsl2OtAOi"
      },
      "source": [
        "### Imports "
      ]
    },
    {
      "cell_type": "code",
      "metadata": {
        "id": "5elHgLPSoiT7"
      },
      "source": [
        "import torch \n",
        "import torchvision\n",
        "import torch.nn as nn \n",
        "from IPython.display import Image \n",
        "from torchvision import transforms\n",
        "import matplotlib.pyplot as plt\n",
        "import random\n",
        "import PIL\n",
        "from torch.utils.data import DataLoader\n",
        "from tqdm.auto import tqdm\n",
        "device = torch.device(\"cuda\" if torch.cuda.is_available() else \"cpu\")\n",
        "seed = 12345\n",
        "random.seed(seed)\n",
        "torch.manual_seed(seed)\n",
        "import copy"
      ],
      "execution_count": 1,
      "outputs": []
    },
    {
      "cell_type": "markdown",
      "metadata": {
        "id": "y8Aj_LrAhwRP"
      },
      "source": [
        "#### Mount your google drive so you can save model checkpoints, and report your test results on the final best model after hyperparameter tuning"
      ]
    },
    {
      "cell_type": "code",
      "metadata": {
        "id": "utx0ySGqQbha",
        "outputId": "cbe08e67-40f2-4e3e-c95f-9ef559e2c76e",
        "colab": {
          "base_uri": "https://localhost:8080/",
          "height": 34
        }
      },
      "source": [
        "from google.colab import drive\n",
        "drive.mount('/content/drive')"
      ],
      "execution_count": 2,
      "outputs": [
        {
          "output_type": "stream",
          "text": [
            "Mounted at /content/drive\n"
          ],
          "name": "stdout"
        }
      ]
    },
    {
      "cell_type": "markdown",
      "metadata": {
        "id": "zqzOqBsvs9kA"
      },
      "source": [
        "### Data loading "
      ]
    },
    {
      "cell_type": "markdown",
      "metadata": {
        "id": "3-3MVXNOhdCc"
      },
      "source": [
        "##### Run the following cells to load the dataset. Setting download=True will download it for you."
      ]
    },
    {
      "cell_type": "code",
      "metadata": {
        "id": "8rb7Ng7_VcwL",
        "outputId": "cda9867f-9749-49ae-f332-595a7fdd40d9",
        "colab": {
          "base_uri": "https://localhost:8080/",
          "height": 100,
          "referenced_widgets": [
            "59cf52ccd62d4cb1a4b29c5609e0338c",
            "5f693b729a954e53aa47fc54f1fcc0b5",
            "a973f2b8338d408ebe440528793c3dec",
            "8d16c8aaef68494bad72263551e2151c",
            "223dd3a7b3b2438b8f2842db6751e6b6",
            "677d8fc4cd494298952cd15507e4d079",
            "a1a17a92ff804439b0ac6191a5bfa7a4",
            "f62faee944054a37bac69b511fca51a1"
          ]
        }
      },
      "source": [
        "cifar10_train = torchvision.datasets.CIFAR10(root='./cifar10', \n",
        "                                             train=True, \n",
        "                                             transform=None, \n",
        "                                             target_transform=None,\n",
        "                                             download=True)\n",
        "cifar10_test = torchvision.datasets.CIFAR10(root='./cifar10', \n",
        "                                             train=False, \n",
        "                                             transform=None, \n",
        "                                             target_transform=None,\n",
        "                                             download=True)\n",
        "\n",
        "# Divides the dataset into train and val so that we can use the val to choose our hyperparameters\n",
        "train_dataset, val_dataset = torch.utils.data.random_split(cifar10_train, [40000, 10000],\n",
        "                                                           generator=torch.Generator().manual_seed(12345))\n",
        "                                                           \n",
        "test_dataset = cifar10_test"
      ],
      "execution_count": 3,
      "outputs": [
        {
          "output_type": "stream",
          "text": [
            "Downloading https://www.cs.toronto.edu/~kriz/cifar-10-python.tar.gz to ./cifar10/cifar-10-python.tar.gz\n"
          ],
          "name": "stdout"
        },
        {
          "output_type": "display_data",
          "data": {
            "application/vnd.jupyter.widget-view+json": {
              "model_id": "59cf52ccd62d4cb1a4b29c5609e0338c",
              "version_minor": 0,
              "version_major": 2
            },
            "text/plain": [
              "HBox(children=(FloatProgress(value=1.0, bar_style='info', max=1.0), HTML(value='')))"
            ]
          },
          "metadata": {
            "tags": []
          }
        },
        {
          "output_type": "stream",
          "text": [
            "Extracting ./cifar10/cifar-10-python.tar.gz to ./cifar10\n",
            "Files already downloaded and verified\n"
          ],
          "name": "stdout"
        }
      ]
    },
    {
      "cell_type": "code",
      "metadata": {
        "id": "J_NzhpK8KvQC"
      },
      "source": [
        "# Helper code to support adding different transforms on the dataset lazily after downloading the dataset\n",
        "# From https://discuss.pytorch.org/t/apply-different-transform-data-augmentation-to-train-and-validation/63580/5\n",
        "class MapDataset(torch.utils.data.Dataset):\n",
        "    \"\"\"\n",
        "    Given a dataset, creates a dataset which applies a mapping function\n",
        "    to its items (lazily, only when an item is called).\n",
        "\n",
        "    Note that data is not cloned/copied from the initial dataset.\n",
        "    \"\"\"\n",
        "\n",
        "    def __init__(self, dataset, map_fn):\n",
        "        self.dataset = dataset\n",
        "        self.map = map_fn\n",
        "\n",
        "    def __getitem__(self, index):\n",
        "        if self.map:     \n",
        "            x = self.map(self.dataset[index][0]) \n",
        "        else:     \n",
        "            x = self.dataset[index][0]  \n",
        "        y = self.dataset[index][1]         \n",
        "        return x, y\n",
        "\n",
        "    def __len__(self):\n",
        "        return len(self.dataset)"
      ],
      "execution_count": 53,
      "outputs": []
    },
    {
      "cell_type": "markdown",
      "metadata": {
        "id": "MMbXzcUiKc7e"
      },
      "source": [
        "#### Standard transforms to apply on images - Convert to tensors and normalize with mean and std. These are the basic transforms that you will always apply. The mean and std have been pre calculated on the training set. "
      ]
    },
    {
      "cell_type": "code",
      "metadata": {
        "id": "LWEKU9xQKbkW"
      },
      "source": [
        "# Notice that we apply the same mean and std normalization calculated on train, to both the train and test datasets.\n",
        "test_transform = transforms.Compose([\n",
        "                                     transforms.ToTensor(),\n",
        "                                     transforms.Normalize(\n",
        "                                         [0.4373, 0.4434, 0.4725],\n",
        "                                         [0.1201, 0.1231, 0.1052])\n",
        "                                     ])\n",
        "\n",
        "train_transform = transforms.Compose([\n",
        "                                      transforms.ToTensor(),\n",
        "                                      transforms.Normalize(\n",
        "                                          [0.4373, 0.4434, 0.4725],\n",
        "                                          [0.1201, 0.1231, 0.1052])\n",
        "                                      ])\n"
      ],
      "execution_count": 54,
      "outputs": []
    },
    {
      "cell_type": "code",
      "metadata": {
        "id": "TrDIxTs2JwbO"
      },
      "source": [
        "train_dataset_w_transform  = MapDataset(train_dataset, train_transform)\n",
        "val_dataset_w_transform = MapDataset(val_dataset, test_transform)\n",
        "test_dataset_w_transform = MapDataset(test_dataset, test_transform)"
      ],
      "execution_count": 55,
      "outputs": []
    },
    {
      "cell_type": "code",
      "metadata": {
        "id": "4LcExDS1tyjI"
      },
      "source": [
        "bs = 128\n",
        "torch.backends.cudnn.benchmark = True\n",
        "train_loader = DataLoader(train_dataset_w_transform, batch_size=bs, shuffle=True, drop_last=False,num_workers=10, pin_memory=True)\n",
        "val_loader = DataLoader(val_dataset_w_transform, batch_size=bs, shuffle=False, drop_last=False,num_workers=10, pin_memory=True)\n",
        "test_loader = DataLoader(test_dataset_w_transform, batch_size=bs, shuffle=False, drop_last=False,num_workers=10, pin_memory=True)"
      ],
      "execution_count": 56,
      "outputs": []
    },
    {
      "cell_type": "markdown",
      "metadata": {
        "id": "pXLFsEihoMTn"
      },
      "source": [
        "### Q 2.1 Training loop"
      ]
    },
    {
      "cell_type": "markdown",
      "metadata": {
        "id": "ksECLwMqkgj_"
      },
      "source": [
        "In this question, fill in the missing parts to build a generic training loop that returns the train and validation losses and accuracies. The #TODOs will guide you through the key points and you should fill some code for each #TODO. You might need to add some additional code for bookkeeping the losses and accuracies"
      ]
    },
    {
      "cell_type": "code",
      "metadata": {
        "id": "GnmWg9P9N5U_"
      },
      "source": [
        "def train_loop(model, criterion, optimizer,  train_loader, val_loader):\n",
        "    \"\"\"\n",
        "    Generic training loop\n",
        "\n",
        "    Parameters\n",
        "    ----------\n",
        "    model : Object instance of your model class \n",
        "    criterion : Loss function \n",
        "    optimizer : Instance of optimizer class of your choice \n",
        "    train_loader : Training data loader \n",
        "    val_loader : Validation data loader\n",
        "\n",
        "    Returns\n",
        "    -------\n",
        "    train_losses : List with train loss on dataset per epoch\n",
        "    train_accuracies : List with train accuracy on dataset per epoch\n",
        "    val_losses : List with validation loss on dataset per epoch\n",
        "    val_accuracies : List with validation accuracy on dataset per epoch\n",
        "\n",
        "    \"\"\"\n",
        "    best_val = 0.0\n",
        "    train_losses = []\n",
        "    val_losses = []\n",
        "    train_accuracies = []\n",
        "    val_accuracies = []\n",
        "    max_patience = 5\n",
        "    patience_counter = 0\n",
        "    \n",
        "    # Training\n",
        "    for t in tqdm(range(50)):\n",
        "        running_correct = 0\n",
        "        running_loss = 0\n",
        "        running_total = 0\n",
        "        # TODO : Set the model to train mode        \n",
        "        model.train()\n",
        "        # TODO: Loop over the training set \n",
        "        for i, (data, labels) in enumerate(train_loader):\n",
        "          \n",
        "            # TODO: Put the inputs and targets on the write device\n",
        "          image = data.to(device)\n",
        "\n",
        "          label = labels.to(device)\n",
        "            # TODO: Feed forward to get the logits\n",
        "          output=model(image)\n",
        "            # TODO: Compute the loss and accuracy\n",
        "          loss=criterion(output,label)\n",
        "          preds = output.data.max(-1)[1]\n",
        "          \n",
        "            # TODO: zero the gradients before running\n",
        "            # the backward pass.\n",
        "          model.zero_grad()\n",
        "            # TODO: Backward pass to compute the gradient\n",
        "            # of loss w.r.t our learnable params. \n",
        "          loss.backward()\n",
        "            # TODO: Update params\n",
        "          optimizer.step()  \n",
        "            # TODO: Keep track of accuracy and loss\n",
        "          num_imgs = image.size()[0]\n",
        "          running_correct += torch.sum(preds ==label).item()\n",
        "          running_loss += loss.item()*num_imgs\n",
        "          running_total += num_imgs\n",
        "        train_losses.append(float(running_loss/running_total))\n",
        "        train_accuracies.append(float(running_correct/running_total))\n",
        "        # TODO: Switch the model to eval mode\n",
        "        model.eval()\n",
        "        running_correct = 0\n",
        "        running_loss = 0\n",
        "        running_total = 0\n",
        "\n",
        "        with torch.no_grad():\n",
        "            # TODO: Loop over the validation set \n",
        "            for i, (data, labels) in enumerate(val_loader):\n",
        "              \n",
        "                # TODO: Put the inputs and targets on the write device\n",
        "              image=data.to(device)\n",
        "              label=labels.to(device)\n",
        "                # TODO: Feed forward to get the logits\n",
        "              output=model(image)\n",
        "                # TODO: Compute the loss and accuracy\n",
        "              loss=criterion(output,label)\n",
        "              preds = output.data.max(-1)[1]\n",
        "                # TODO: Keep track of accuracy and loss\n",
        "              num_imgs = image.size()[0]\n",
        "              running_correct += torch.sum(preds ==label).item()\n",
        "              running_loss += loss.item()*num_imgs\n",
        "              running_total += num_imgs\n",
        "        val_losses.append(float(running_loss/running_total))\n",
        "        val_accuracies.append(float(running_correct/running_total))\n",
        "        if val_accuracies[-1] > best_val:\n",
        "          best_val = val_accuracies[-1]\n",
        "          patience_counter = 0\n",
        "\n",
        "          # TODO: Save best model, optimizer, epoch_number\n",
        "          best_model=copy.deepcopy(model)\n",
        "          torch.save({'epoch': t, \n",
        "                      'model_stat_dict': best_model.state_dict(),\n",
        "                      'optimizer_state_dict': optimizer.state_dict()},\n",
        "                       str(optimizer)[0:5].strip(\"(\").strip()+str(optimizer.state_dict()['param_groups'][0]['lr'])+'.pickle')\n",
        "          \n",
        "        else:\n",
        "          patience_counter += 1    \n",
        "          if patience_counter > max_patience: \n",
        "            break\n",
        "\n",
        "        print(\"[EPOCH]: %i, [TRAIN LOSS]: %.6f, [TRAIN ACCURACY]: %.3f\" % (t, train_losses[-1], train_accuracies[-1]))\n",
        "        print(\"[EPOCH]: %i, [VAL LOSS]: %.6f, [VAL ACCURACY]: %.3f \\n\" % (t, val_losses[-1] ,val_accuracies[-1]))\n",
        "\n",
        "    return train_losses, train_accuracies, val_losses, val_accuracies"
      ],
      "execution_count": 57,
      "outputs": []
    },
    {
      "cell_type": "markdown",
      "metadata": {
        "id": "0sdCTYUouY4o"
      },
      "source": [
        "### Q 2.2 Shallow convolutional network. "
      ]
    },
    {
      "cell_type": "code",
      "metadata": {
        "id": "FKqYI2qxp95J"
      },
      "source": [
        "class View(nn.Module):\n",
        "    def __init__(self, shape):\n",
        "      super().__init__()\n",
        "      self.shape = shape\n",
        "\n",
        "    def forward(self, x):\n",
        "        return x.view(*self.shape)"
      ],
      "execution_count": 58,
      "outputs": []
    },
    {
      "cell_type": "code",
      "metadata": {
        "id": "FDHE0lOgpF0W"
      },
      "source": [
        "\n",
        "ShallowNet =  nn.Sequential(\n",
        "      nn.Conv2d(in_channels = 3, out_channels = 64, kernel_size=5, padding=2),\n",
        "      nn.ReLU(),\n",
        "      nn.MaxPool2d(kernel_size=2),\n",
        "      nn.Conv2d(in_channels = 64, out_channels = 128, kernel_size=3, padding=1),\n",
        "      nn.ReLU(),\n",
        "      nn.MaxPool2d(kernel_size=2),\n",
        "      nn.Conv2d(in_channels = 128, out_channels = 256, kernel_size=3, padding=1),\n",
        "      nn.ReLU(),\n",
        "      nn.MaxPool2d(kernel_size=8),\n",
        "      View((-1,256)),\n",
        "      nn.Linear(256, 10),\n",
        ")"
      ],
      "execution_count": 59,
      "outputs": []
    },
    {
      "cell_type": "markdown",
      "metadata": {
        "id": "iV26KJLDrzhx"
      },
      "source": [
        "#### Write the object oriented version of ShallowNet"
      ]
    },
    {
      "cell_type": "code",
      "metadata": {
        "id": "H8YygdvnuqDM"
      },
      "source": [
        "class ShallowConvnet(nn.Module):\n",
        "    def __init__(self, input_channels, num_classes):\n",
        "        \"\"\"\n",
        "\n",
        "        Parameters\n",
        "        ----------\n",
        "        input_channels : Number of input channels\n",
        "        num_classes : Number of classes for the final prediction \n",
        "        \"\"\"\n",
        "        super(ShallowConvnet, self).__init__()\n",
        "        self.conv1=nn.Conv2d(in_channels = input_channels, out_channels = 64, kernel_size=5, padding=2)\n",
        "        self.relu=nn.ReLU()\n",
        "        self.maxpool=nn.MaxPool2d(kernel_size=2)\n",
        "        self.conv2=nn.Conv2d(in_channels = 64, out_channels = 128, kernel_size=3, padding=1)\n",
        "        self.maxpool2=nn.MaxPool2d(kernel_size=8)\n",
        "        self.conv3=nn.Conv2d(in_channels = 128, out_channels = 256, kernel_size=3, padding=1)\n",
        "        self.linear=nn.Linear(256,num_classes)\n",
        "       \n",
        "        # TODO\n",
        "\n",
        "    def forward(self, x):\n",
        "        \"\"\"\n",
        "        \n",
        "        Parameters\n",
        "        ----------\n",
        "        x\n",
        "\n",
        "        Returns\n",
        "        -------\n",
        "        output : Result after running through the model\n",
        "        \"\"\"\n",
        "        x=self.conv1(x)\n",
        "        x=self.relu(x)\n",
        "        x=self.maxpool(x)\n",
        "        x=self.conv2(x)\n",
        "        x=self.relu(x)\n",
        "        x=self.maxpool(x)\n",
        "        x=self.conv3(x)\n",
        "        x=self.relu(x)\n",
        "        x=self.maxpool2(x)\n",
        "        output=self.linear(x.view(-1,256))\n",
        "        return output\n",
        "        # TODO\n",
        "\n",
        "        "
      ],
      "execution_count": 65,
      "outputs": []
    },
    {
      "cell_type": "markdown",
      "metadata": {
        "id": "UjEH5jIhwnet"
      },
      "source": [
        "### Q2.3 Instantiate the model and run this using an SGD optimizer, with the appropriate loss function for classification\n",
        "\n",
        "Report the learning curves (training and validation accuracy vs number of epochs)"
      ]
    },
    {
      "cell_type": "code",
      "metadata": {
        "id": "_oG1E-YRu4Cj",
        "outputId": "b1fc2e11-e9af-4428-d935-ae985267f84c",
        "colab": {
          "base_uri": "https://localhost:8080/",
          "height": 1000,
          "referenced_widgets": [
            "0e64719c3fdc477f8b0b3841225499b1",
            "efb09147407d4dd1a27c4ca14a3a53ca",
            "5b9f0d752d5c4ee593849ecac1417c41",
            "58e62e3d69b549fe8e1f021aeaf35272",
            "1a9213d610b54cf88379b726af6a0a8a",
            "e2b725b3bafb456099280fb482a753a5",
            "5cae47054430444e83bbe3a9a66fa757",
            "41fe88faa2c14f91971cc4d59b5234b3"
          ]
        }
      },
      "source": [
        "# TODO : Initialize the model and cast to correct device\n",
        "if torch.cuda.is_available():\n",
        "    device = torch.device(\"cuda\")\n",
        "else:\n",
        "    device = torch.device(\"cpu\")\n",
        "# TODO : Initialize the criterion\n",
        "criterion=nn.CrossEntropyLoss()\n",
        "model=ShallowConvnet(3,10)\n",
        "model=model.to(device)\n",
        "# TODO : Initialize the SGD optimizer with lr 1e-3\n",
        "optimizer=torch.optim.SGD(model.parameters(),lr=1e-3)\n",
        "# TODO : Run the training loop using this model\n",
        "train_losses, train_accuracies, val_losses, val_accuracies=train_loop(model, criterion, optimizer,  train_loader, val_loader)"
      ],
      "execution_count": 66,
      "outputs": [
        {
          "output_type": "display_data",
          "data": {
            "application/vnd.jupyter.widget-view+json": {
              "model_id": "0e64719c3fdc477f8b0b3841225499b1",
              "version_minor": 0,
              "version_major": 2
            },
            "text/plain": [
              "HBox(children=(FloatProgress(value=0.0, max=50.0), HTML(value='')))"
            ]
          },
          "metadata": {
            "tags": []
          }
        },
        {
          "output_type": "stream",
          "text": [
            "[EPOCH]: 0, [TRAIN LOSS]: 2.280104, [TRAIN ACCURACY]: 0.142\n",
            "[EPOCH]: 0, [VAL LOSS]: 2.251798, [VAL ACCURACY]: 0.179 \n",
            "\n",
            "[EPOCH]: 1, [TRAIN LOSS]: 2.223011, [TRAIN ACCURACY]: 0.225\n",
            "[EPOCH]: 1, [VAL LOSS]: 2.195984, [VAL ACCURACY]: 0.242 \n",
            "\n",
            "[EPOCH]: 2, [TRAIN LOSS]: 2.164878, [TRAIN ACCURACY]: 0.254\n",
            "[EPOCH]: 2, [VAL LOSS]: 2.139887, [VAL ACCURACY]: 0.264 \n",
            "\n",
            "[EPOCH]: 3, [TRAIN LOSS]: 2.110806, [TRAIN ACCURACY]: 0.269\n",
            "[EPOCH]: 3, [VAL LOSS]: 2.089823, [VAL ACCURACY]: 0.274 \n",
            "\n",
            "[EPOCH]: 4, [TRAIN LOSS]: 2.062772, [TRAIN ACCURACY]: 0.284\n",
            "[EPOCH]: 4, [VAL LOSS]: 2.043825, [VAL ACCURACY]: 0.288 \n",
            "\n",
            "[EPOCH]: 5, [TRAIN LOSS]: 2.018023, [TRAIN ACCURACY]: 0.299\n",
            "[EPOCH]: 5, [VAL LOSS]: 1.999326, [VAL ACCURACY]: 0.299 \n",
            "\n",
            "[EPOCH]: 6, [TRAIN LOSS]: 1.975306, [TRAIN ACCURACY]: 0.313\n",
            "[EPOCH]: 6, [VAL LOSS]: 1.956150, [VAL ACCURACY]: 0.315 \n",
            "\n",
            "[EPOCH]: 7, [TRAIN LOSS]: 1.934098, [TRAIN ACCURACY]: 0.327\n",
            "[EPOCH]: 7, [VAL LOSS]: 1.917036, [VAL ACCURACY]: 0.335 \n",
            "\n",
            "[EPOCH]: 8, [TRAIN LOSS]: 1.894157, [TRAIN ACCURACY]: 0.339\n",
            "[EPOCH]: 8, [VAL LOSS]: 1.877148, [VAL ACCURACY]: 0.344 \n",
            "\n",
            "[EPOCH]: 9, [TRAIN LOSS]: 1.854748, [TRAIN ACCURACY]: 0.353\n",
            "[EPOCH]: 9, [VAL LOSS]: 1.836008, [VAL ACCURACY]: 0.367 \n",
            "\n",
            "[EPOCH]: 10, [TRAIN LOSS]: 1.815917, [TRAIN ACCURACY]: 0.366\n",
            "[EPOCH]: 10, [VAL LOSS]: 1.800024, [VAL ACCURACY]: 0.380 \n",
            "\n",
            "[EPOCH]: 11, [TRAIN LOSS]: 1.779062, [TRAIN ACCURACY]: 0.378\n",
            "[EPOCH]: 11, [VAL LOSS]: 1.762525, [VAL ACCURACY]: 0.395 \n",
            "\n",
            "[EPOCH]: 12, [TRAIN LOSS]: 1.744005, [TRAIN ACCURACY]: 0.389\n",
            "[EPOCH]: 12, [VAL LOSS]: 1.729546, [VAL ACCURACY]: 0.404 \n",
            "\n",
            "[EPOCH]: 13, [TRAIN LOSS]: 1.712294, [TRAIN ACCURACY]: 0.400\n",
            "[EPOCH]: 13, [VAL LOSS]: 1.701767, [VAL ACCURACY]: 0.412 \n",
            "\n",
            "[EPOCH]: 14, [TRAIN LOSS]: 1.683163, [TRAIN ACCURACY]: 0.412\n",
            "[EPOCH]: 14, [VAL LOSS]: 1.672219, [VAL ACCURACY]: 0.418 \n",
            "\n",
            "[EPOCH]: 15, [TRAIN LOSS]: 1.656352, [TRAIN ACCURACY]: 0.419\n",
            "[EPOCH]: 15, [VAL LOSS]: 1.649535, [VAL ACCURACY]: 0.419 \n",
            "\n",
            "[EPOCH]: 16, [TRAIN LOSS]: 1.631572, [TRAIN ACCURACY]: 0.427\n",
            "[EPOCH]: 16, [VAL LOSS]: 1.626225, [VAL ACCURACY]: 0.432 \n",
            "\n",
            "[EPOCH]: 17, [TRAIN LOSS]: 1.608753, [TRAIN ACCURACY]: 0.433\n",
            "[EPOCH]: 17, [VAL LOSS]: 1.602170, [VAL ACCURACY]: 0.444 \n",
            "\n",
            "[EPOCH]: 18, [TRAIN LOSS]: 1.588436, [TRAIN ACCURACY]: 0.442\n",
            "[EPOCH]: 18, [VAL LOSS]: 1.582790, [VAL ACCURACY]: 0.448 \n",
            "\n",
            "[EPOCH]: 19, [TRAIN LOSS]: 1.569172, [TRAIN ACCURACY]: 0.449\n",
            "[EPOCH]: 19, [VAL LOSS]: 1.569648, [VAL ACCURACY]: 0.451 \n",
            "\n",
            "[EPOCH]: 20, [TRAIN LOSS]: 1.550034, [TRAIN ACCURACY]: 0.457\n",
            "[EPOCH]: 20, [VAL LOSS]: 1.546048, [VAL ACCURACY]: 0.462 \n",
            "\n",
            "[EPOCH]: 21, [TRAIN LOSS]: 1.532815, [TRAIN ACCURACY]: 0.462\n",
            "[EPOCH]: 21, [VAL LOSS]: 1.537740, [VAL ACCURACY]: 0.458 \n",
            "\n",
            "[EPOCH]: 22, [TRAIN LOSS]: 1.516318, [TRAIN ACCURACY]: 0.467\n",
            "[EPOCH]: 22, [VAL LOSS]: 1.527424, [VAL ACCURACY]: 0.463 \n",
            "\n",
            "[EPOCH]: 23, [TRAIN LOSS]: 1.501619, [TRAIN ACCURACY]: 0.473\n",
            "[EPOCH]: 23, [VAL LOSS]: 1.506163, [VAL ACCURACY]: 0.475 \n",
            "\n",
            "[EPOCH]: 24, [TRAIN LOSS]: 1.485799, [TRAIN ACCURACY]: 0.479\n",
            "[EPOCH]: 24, [VAL LOSS]: 1.489098, [VAL ACCURACY]: 0.483 \n",
            "\n",
            "[EPOCH]: 25, [TRAIN LOSS]: 1.470878, [TRAIN ACCURACY]: 0.486\n",
            "[EPOCH]: 25, [VAL LOSS]: 1.479639, [VAL ACCURACY]: 0.485 \n",
            "\n",
            "[EPOCH]: 26, [TRAIN LOSS]: 1.457394, [TRAIN ACCURACY]: 0.490\n",
            "[EPOCH]: 26, [VAL LOSS]: 1.468330, [VAL ACCURACY]: 0.493 \n",
            "\n",
            "[EPOCH]: 27, [TRAIN LOSS]: 1.443504, [TRAIN ACCURACY]: 0.495\n",
            "[EPOCH]: 27, [VAL LOSS]: 1.453532, [VAL ACCURACY]: 0.495 \n",
            "\n",
            "[EPOCH]: 28, [TRAIN LOSS]: 1.431184, [TRAIN ACCURACY]: 0.499\n",
            "[EPOCH]: 28, [VAL LOSS]: 1.451960, [VAL ACCURACY]: 0.490 \n",
            "\n",
            "[EPOCH]: 29, [TRAIN LOSS]: 1.418763, [TRAIN ACCURACY]: 0.503\n",
            "[EPOCH]: 29, [VAL LOSS]: 1.430131, [VAL ACCURACY]: 0.501 \n",
            "\n",
            "[EPOCH]: 30, [TRAIN LOSS]: 1.405574, [TRAIN ACCURACY]: 0.509\n",
            "[EPOCH]: 30, [VAL LOSS]: 1.419510, [VAL ACCURACY]: 0.506 \n",
            "\n",
            "[EPOCH]: 31, [TRAIN LOSS]: 1.393881, [TRAIN ACCURACY]: 0.513\n",
            "[EPOCH]: 31, [VAL LOSS]: 1.427204, [VAL ACCURACY]: 0.498 \n",
            "\n",
            "[EPOCH]: 32, [TRAIN LOSS]: 1.382169, [TRAIN ACCURACY]: 0.520\n",
            "[EPOCH]: 32, [VAL LOSS]: 1.405029, [VAL ACCURACY]: 0.516 \n",
            "\n",
            "[EPOCH]: 33, [TRAIN LOSS]: 1.370738, [TRAIN ACCURACY]: 0.522\n",
            "[EPOCH]: 33, [VAL LOSS]: 1.394009, [VAL ACCURACY]: 0.517 \n",
            "\n",
            "[EPOCH]: 34, [TRAIN LOSS]: 1.360057, [TRAIN ACCURACY]: 0.525\n",
            "[EPOCH]: 34, [VAL LOSS]: 1.381614, [VAL ACCURACY]: 0.522 \n",
            "\n",
            "[EPOCH]: 35, [TRAIN LOSS]: 1.348945, [TRAIN ACCURACY]: 0.530\n",
            "[EPOCH]: 35, [VAL LOSS]: 1.383677, [VAL ACCURACY]: 0.512 \n",
            "\n",
            "[EPOCH]: 36, [TRAIN LOSS]: 1.338446, [TRAIN ACCURACY]: 0.533\n",
            "[EPOCH]: 36, [VAL LOSS]: 1.368499, [VAL ACCURACY]: 0.526 \n",
            "\n",
            "[EPOCH]: 37, [TRAIN LOSS]: 1.327529, [TRAIN ACCURACY]: 0.537\n",
            "[EPOCH]: 37, [VAL LOSS]: 1.375883, [VAL ACCURACY]: 0.515 \n",
            "\n",
            "[EPOCH]: 38, [TRAIN LOSS]: 1.318124, [TRAIN ACCURACY]: 0.542\n",
            "[EPOCH]: 38, [VAL LOSS]: 1.344436, [VAL ACCURACY]: 0.532 \n",
            "\n",
            "[EPOCH]: 39, [TRAIN LOSS]: 1.307308, [TRAIN ACCURACY]: 0.545\n",
            "[EPOCH]: 39, [VAL LOSS]: 1.363683, [VAL ACCURACY]: 0.523 \n",
            "\n",
            "[EPOCH]: 40, [TRAIN LOSS]: 1.298631, [TRAIN ACCURACY]: 0.548\n",
            "[EPOCH]: 40, [VAL LOSS]: 1.356693, [VAL ACCURACY]: 0.520 \n",
            "\n",
            "[EPOCH]: 41, [TRAIN LOSS]: 1.290120, [TRAIN ACCURACY]: 0.551\n",
            "[EPOCH]: 41, [VAL LOSS]: 1.322686, [VAL ACCURACY]: 0.544 \n",
            "\n",
            "[EPOCH]: 42, [TRAIN LOSS]: 1.279443, [TRAIN ACCURACY]: 0.555\n",
            "[EPOCH]: 42, [VAL LOSS]: 1.322375, [VAL ACCURACY]: 0.541 \n",
            "\n",
            "[EPOCH]: 43, [TRAIN LOSS]: 1.270616, [TRAIN ACCURACY]: 0.561\n",
            "[EPOCH]: 43, [VAL LOSS]: 1.302289, [VAL ACCURACY]: 0.552 \n",
            "\n",
            "[EPOCH]: 44, [TRAIN LOSS]: 1.260877, [TRAIN ACCURACY]: 0.561\n",
            "[EPOCH]: 44, [VAL LOSS]: 1.303332, [VAL ACCURACY]: 0.556 \n",
            "\n",
            "[EPOCH]: 45, [TRAIN LOSS]: 1.253100, [TRAIN ACCURACY]: 0.565\n",
            "[EPOCH]: 45, [VAL LOSS]: 1.315573, [VAL ACCURACY]: 0.541 \n",
            "\n",
            "[EPOCH]: 46, [TRAIN LOSS]: 1.244697, [TRAIN ACCURACY]: 0.567\n",
            "[EPOCH]: 46, [VAL LOSS]: 1.300819, [VAL ACCURACY]: 0.546 \n",
            "\n",
            "[EPOCH]: 47, [TRAIN LOSS]: 1.236268, [TRAIN ACCURACY]: 0.572\n",
            "[EPOCH]: 47, [VAL LOSS]: 1.296920, [VAL ACCURACY]: 0.550 \n",
            "\n",
            "[EPOCH]: 48, [TRAIN LOSS]: 1.227962, [TRAIN ACCURACY]: 0.577\n",
            "[EPOCH]: 48, [VAL LOSS]: 1.275787, [VAL ACCURACY]: 0.561 \n",
            "\n",
            "[EPOCH]: 49, [TRAIN LOSS]: 1.220620, [TRAIN ACCURACY]: 0.579\n",
            "[EPOCH]: 49, [VAL LOSS]: 1.267333, [VAL ACCURACY]: 0.565 \n",
            "\n",
            "\n"
          ],
          "name": "stdout"
        }
      ]
    },
    {
      "cell_type": "code",
      "metadata": {
        "id": "yf2rFiujSSGE",
        "outputId": "87db4338-c131-4a7d-c124-fa9479f95fa2",
        "colab": {
          "base_uri": "https://localhost:8080/",
          "height": 298
        }
      },
      "source": [
        "plt.subplot(2,1,1)\n",
        "plt.plot(range(len(train_losses)),train_losses,label='train loss')\n",
        "plt.plot(range(len(val_losses)),val_losses,label='val loss')\n",
        "plt.title('training loss vs val loss for shallow convnet')\n",
        "plt.legend()\n",
        "plt.subplot(2,1,2)\n",
        "plt.plot(range(len(train_accuracies)),train_accuracies,label='train acc')\n",
        "plt.plot(range(len(val_accuracies)),val_accuracies,label='val acc')\n",
        "plt.title('training accuracy vs val accuracy for shallow convnet')\n",
        "plt.legend()"
      ],
      "execution_count": 96,
      "outputs": [
        {
          "output_type": "execute_result",
          "data": {
            "text/plain": [
              "<matplotlib.legend.Legend at 0x7f3b0d29be48>"
            ]
          },
          "metadata": {
            "tags": []
          },
          "execution_count": 96
        },
        {
          "output_type": "display_data",
          "data": {
            "image/png": "[encoded data removed]",
            "text/plain": [
              "<Figure size 432x288 with 2 Axes>"
            ]
          },
          "metadata": {
            "tags": [],
            "needs_background": "light"
          }
        }
      ]
    },
    {
      "cell_type": "markdown",
      "metadata": {
        "id": "cLRvwxlJoFQO"
      },
      "source": [
        "### Q2.4 Simple convolution network - "
      ]
    },
    {
      "cell_type": "markdown",
      "metadata": {
        "id": "lSUz9ljRxRc5"
      },
      "source": [
        "Design a convolutional neural network with the following specification: \n",
        "For each convolution layer, use appropriate padding such that it maintains the resolution of the image. The resolution should be changing only when you introduce maxpooling layers. Each convolution layer should be followed by a relu non-linearity. The first two blocks containing 3 convolutional layers are each followed by a maxpooling layer that halves the resolution of the image. After the third block, use maxpooling to get a resolution of 1 X 1. Finally, apply a linear transformation to project to the number of classes. \n",
        "\n",
        "Structure of the convolution layers of the model:\n",
        "1. Number of input channels to the model = 3\n",
        "2. First convolution layer of kernel size 5 with filter size 64 and padding such that it maintains the resolution of the image.\n",
        "3. Followed by a block of 3 convolution layers of kernel size 3, filter size 64 and padding such that it maintains the resolution of the image.\n",
        "5. Followed by 3 convolution layers of kernel size 3, filter size 128 and padding such that it maintains the resolution of the image.\n",
        "6. Followed by 3 convolution layers of kernel size 3, filter size 256 and padding such that it maintains the resolution of the image. \n",
        "\n",
        "\n"
      ]
    },
    {
      "cell_type": "code",
      "metadata": {
        "id": "GfwKR3uNlsNc"
      },
      "source": [
        "# Use the description of the structure of the model and the hints given below \n",
        "\n",
        "class SimpleConvnet(nn.Module):\n",
        "    def __init__(self, input_channels, num_classes):\n",
        "        super(SimpleConvnet, self).__init__()\n",
        "        # TODO\n",
        "        self.conv1=nn.Conv2d(input_channels,64,5,padding=2)\n",
        "        self.relu=nn.ReLU()\n",
        "        self.conv_block1=nn.Sequential(\n",
        "      nn.Conv2d(in_channels = 64, out_channels = 64, kernel_size=3, padding=1),\n",
        "      nn.ReLU(),\n",
        "      nn.Conv2d(in_channels = 64, out_channels = 64, kernel_size=3, padding=1),\n",
        "      nn.ReLU(),\n",
        "      nn.Conv2d(in_channels = 64, out_channels = 64, kernel_size=3, padding=1),\n",
        "      nn.ReLU(),)\n",
        "        self.maxpool1=nn.MaxPool2d(kernel_size=2)\n",
        "        self.conv_block2=nn.Sequential(\n",
        "      nn.Conv2d(in_channels = 64, out_channels = 128, kernel_size=3, padding=1),\n",
        "      nn.ReLU(),\n",
        "      nn.Conv2d(in_channels = 128, out_channels = 128, kernel_size=3, padding=1),\n",
        "      nn.ReLU(),\n",
        "      nn.Conv2d(in_channels = 128, out_channels = 128, kernel_size=3, padding=1),\n",
        "      nn.ReLU(),)\n",
        "        self.maxpool2=nn.MaxPool2d(kernel_size=2)\n",
        "        self.conv_block3=nn.Sequential(\n",
        "      nn.Conv2d(in_channels = 128, out_channels = 256, kernel_size=3, padding=1),\n",
        "      nn.ReLU(),\n",
        "      nn.Conv2d(in_channels = 256, out_channels = 256, kernel_size=3, padding=1),\n",
        "      nn.ReLU(),\n",
        "      nn.Conv2d(in_channels = 256, out_channels = 256, kernel_size=3, padding=1),\n",
        "      nn.ReLU(),)\n",
        "        self.maxpool3=nn.MaxPool2d(kernel_size=8)\n",
        "        self.linear=nn.Linear(256,10)\n",
        "    def forward(self, x):\n",
        "       output=self.relu(self.conv1(x))\n",
        "       output=self.conv_block1(output)\n",
        "       output=self.maxpool1(output)\n",
        "       output=self.conv_block2(output)\n",
        "       output=self.maxpool2(output)\n",
        "       output=self.conv_block3(output)\n",
        "       output=self.maxpool3(output)\n",
        "       output=self.linear(output.view(-1,256))\n",
        "       return output\n",
        "        "
      ],
      "execution_count": 68,
      "outputs": []
    },
    {
      "cell_type": "code",
      "metadata": {
        "id": "q_WKoU3ewH2B",
        "outputId": "7ca70424-39f4-4a12-a587-7b30fbc96701",
        "colab": {
          "base_uri": "https://localhost:8080/",
          "height": 355,
          "referenced_widgets": [
            "31b1ad8b6d8a4d779d7ee236fa7163d9",
            "a78543da87e143798b1575f16b67e66e",
            "a38efe46e21b4cfa96897b406e039a77",
            "4e0b605232064a11beb341242b1272f2",
            "a6ef835f906f48839dc72ad082a71251",
            "5ce340d4139d4d2db659f9946ca6d777",
            "752a3c82b0d24cdfaeb8c56200e41011",
            "62bbbcb52f734c90b0b9ad6f20a1e9e5"
          ]
        }
      },
      "source": [
        "# TODO : Initialize the model and cast to correct device\n",
        "if torch.cuda.is_available():\n",
        "    device = torch.device(\"cuda\")\n",
        "else:\n",
        "    device = torch.device(\"cpu\")\n",
        "# TODO : Initialize the criterion\n",
        "criterion=nn.CrossEntropyLoss()\n",
        "model=SimpleConvnet(3,10)\n",
        "model=model.to(device)\n",
        "# TODO : Initialize the SGD optimizer with lr 1e-3\n",
        "optimizer=torch.optim.SGD(model.parameters(),lr=1e-3)\n",
        "# TODO : Run the training loop using this model\n",
        "train_losses1, train_accuracies1, val_losses1, val_accuracies1=train_loop(model, criterion, optimizer,  train_loader, val_loader)"
      ],
      "execution_count": 69,
      "outputs": [
        {
          "output_type": "display_data",
          "data": {
            "application/vnd.jupyter.widget-view+json": {
              "model_id": "31b1ad8b6d8a4d779d7ee236fa7163d9",
              "version_minor": 0,
              "version_major": 2
            },
            "text/plain": [
              "HBox(children=(FloatProgress(value=0.0, max=50.0), HTML(value='')))"
            ]
          },
          "metadata": {
            "tags": []
          }
        },
        {
          "output_type": "stream",
          "text": [
            "[EPOCH]: 0, [TRAIN LOSS]: 2.303401, [TRAIN ACCURACY]: 0.101\n",
            "[EPOCH]: 0, [VAL LOSS]: 2.303900, [VAL ACCURACY]: 0.098 \n",
            "\n",
            "[EPOCH]: 1, [TRAIN LOSS]: 2.303333, [TRAIN ACCURACY]: 0.101\n",
            "[EPOCH]: 1, [VAL LOSS]: 2.303818, [VAL ACCURACY]: 0.098 \n",
            "\n",
            "[EPOCH]: 2, [TRAIN LOSS]: 2.303270, [TRAIN ACCURACY]: 0.101\n",
            "[EPOCH]: 2, [VAL LOSS]: 2.303742, [VAL ACCURACY]: 0.098 \n",
            "\n",
            "[EPOCH]: 3, [TRAIN LOSS]: 2.303212, [TRAIN ACCURACY]: 0.101\n",
            "[EPOCH]: 3, [VAL LOSS]: 2.303673, [VAL ACCURACY]: 0.098 \n",
            "\n",
            "[EPOCH]: 4, [TRAIN LOSS]: 2.303159, [TRAIN ACCURACY]: 0.101\n",
            "[EPOCH]: 4, [VAL LOSS]: 2.303608, [VAL ACCURACY]: 0.098 \n",
            "\n",
            "[EPOCH]: 5, [TRAIN LOSS]: 2.303111, [TRAIN ACCURACY]: 0.101\n",
            "[EPOCH]: 5, [VAL LOSS]: 2.303548, [VAL ACCURACY]: 0.098 \n",
            "\n"
          ],
          "name": "stdout"
        }
      ]
    },
    {
      "cell_type": "markdown",
      "metadata": {
        "id": "mZRJhVst0BLv"
      },
      "source": [
        "### Q 2.5 Report results of training using SGD optimizer for both ShallowNet and SimpleConvnet. What do you observe?"
      ]
    },
    {
      "cell_type": "code",
      "metadata": {
        "id": "wzihIsWys_vt",
        "outputId": "23671e52-14c7-45ef-9d56-2c1388b9b675",
        "colab": {
          "base_uri": "https://localhost:8080/",
          "height": 298
        }
      },
      "source": [
        "plt.subplot(2,1,1)\n",
        "plt.plot(range(len(train_losses)),train_losses,label='shallow')\n",
        "plt.plot(range(len(train_losses1)),train_losses1,label='simpleconv')\n",
        "plt.title('training loss for shallow and simple convnet')\n",
        "plt.legend()\n",
        "plt.subplot(2,1,2)\n",
        "plt.plot(range(len(val_losses)),val_losses,label='shallow')\n",
        "plt.plot(range(len(val_losses1)),val_losses1,label='simpleconv')\n",
        "plt.title('validation loss for shallow and simple convnet')\n",
        "plt.legend()"
      ],
      "execution_count": 75,
      "outputs": [
        {
          "output_type": "execute_result",
          "data": {
            "text/plain": [
              "<matplotlib.legend.Legend at 0x7f3b0d91beb8>"
            ]
          },
          "metadata": {
            "tags": []
          },
          "execution_count": 75
        },
        {
          "output_type": "display_data",
          "data": {
            "image/png": "[encoded data removed]",
            "text/plain": [
              "<Figure size 432x288 with 2 Axes>"
            ]
          },
          "metadata": {
            "tags": [],
            "needs_background": "light"
          }
        }
      ]
    },
    {
      "cell_type": "code",
      "metadata": {
        "id": "6KGFooNcTr8y"
      },
      "source": [
        "plt.subplot(2,1,1)\n",
        "plt.plot(range(len(train_accuracies)),train_accuracies,label='shallow')\n",
        "plt.plot(range(len(train_accuracies1)),train_accuracies1,label='simpleconv')\n",
        "plt.title('training accuracy for shallow and simple convnet')\n",
        "plt.legend()\n",
        "plt.subplot(2,1,2)\n",
        "plt.plot(range(len(val_accuracies)),val_accuracies,label='shallow')\n",
        "plt.plot(range(len(val_accuracies1)),val_accuracies1,label='simpleconv')\n",
        "plt.title('validation accuracy for shallow and simple convnet')\n",
        "plt.legend()"
      ],
      "execution_count": null,
      "outputs": []
    },
    {
      "cell_type": "markdown",
      "metadata": {
        "id": "yZwwQMVjRBxB"
      },
      "source": [
        "### I observed that the model doesn't learn anything because validation loss doesn't decrease and validation accuracy doesn't increase. The problem is very likely to be gradient vanishing. "
      ]
    },
    {
      "cell_type": "markdown",
      "metadata": {
        "id": "uv6ExxBvLL3Y"
      },
      "source": [
        "### Q 2.6 Add batch normalization"
      ]
    },
    {
      "cell_type": "markdown",
      "metadata": {
        "id": "S8IFrRqC0WwA"
      },
      "source": [
        "#### Q2.6 a After each relu layer, add a batch normalization layer to the network SimpleConvnet you created above"
      ]
    },
    {
      "cell_type": "code",
      "metadata": {
        "id": "U7nvtAeBoiUX"
      },
      "source": [
        "class SimpleConvnet2(nn.Module):\n",
        "    def __init__(self, input_channels, num_classes):\n",
        "        super(SimpleConvnet2, self).__init__()\n",
        "        \n",
        "        # TODO\n",
        "        \n",
        "        self.conv1=nn.Conv2d(input_channels,64,5,padding=2)\n",
        "        self.relu=nn.ReLU()\n",
        "        self.conv_bn1 = nn.BatchNorm2d(64)\n",
        "        self.conv_block1=nn.Sequential(\n",
        "      nn.Conv2d(in_channels = 64, out_channels = 64, kernel_size=3, padding=1),\n",
        "      nn.ReLU(),\n",
        "      nn.BatchNorm2d(64),\n",
        "      nn.Conv2d(in_channels = 64, out_channels = 64, kernel_size=3, padding=1),\n",
        "      nn.ReLU(),\n",
        "      nn.BatchNorm2d(64),\n",
        "      nn.Conv2d(in_channels = 64, out_channels = 64, kernel_size=3, padding=1),\n",
        "      nn.ReLU(),\n",
        "      nn.BatchNorm2d(64),)\n",
        "        self.maxpool1=nn.MaxPool2d(kernel_size=2)\n",
        "        self.conv_block2=nn.Sequential(\n",
        "      nn.Conv2d(in_channels = 64, out_channels = 128, kernel_size=3, padding=1),\n",
        "      nn.ReLU(),\n",
        "      nn.BatchNorm2d(128),\n",
        "      nn.Conv2d(in_channels = 128, out_channels = 128, kernel_size=3, padding=1),\n",
        "      nn.ReLU(),\n",
        "      nn.BatchNorm2d(128),\n",
        "      nn.Conv2d(in_channels = 128, out_channels = 128, kernel_size=3, padding=1),\n",
        "      nn.ReLU(),\n",
        "      nn.BatchNorm2d(128))\n",
        "\n",
        "        self.maxpool2=nn.MaxPool2d(kernel_size=2)\n",
        "        self.conv_block3=nn.Sequential(\n",
        "      nn.Conv2d(in_channels = 128, out_channels = 256, kernel_size=3, padding=1),\n",
        "      nn.ReLU(),\n",
        "      nn.BatchNorm2d(256),\n",
        "      nn.Conv2d(in_channels = 256, out_channels = 256, kernel_size=3, padding=1),\n",
        "      nn.ReLU(),\n",
        "      nn.BatchNorm2d(256),\n",
        "      nn.Conv2d(in_channels = 256, out_channels = 256, kernel_size=3, padding=1),\n",
        "      nn.ReLU(),\n",
        "      nn.BatchNorm2d(256),)\n",
        "        \n",
        "        self.maxpool3=nn.MaxPool2d(kernel_size=8)\n",
        "        self.linear=nn.Linear(256,10)\n",
        "    \n",
        "    def forward(self, x):\n",
        "       \n",
        "       # TODO\n",
        "       output=self.relu(self.conv1(x))\n",
        "       output=self.conv_block1(self.conv_bn1(output))\n",
        "       output=self.maxpool1(output)\n",
        "       output=self.conv_block2(output)\n",
        "       output=self.maxpool2(output)\n",
        "       output=self.conv_block3(output)\n",
        "       output=self.maxpool3(output)\n",
        "       output=self.linear(output.view(-1,256))\n",
        "       return output\n",
        "        "
      ],
      "execution_count": 73,
      "outputs": []
    },
    {
      "cell_type": "code",
      "metadata": {
        "id": "hgqQzKV10tz7",
        "outputId": "02572a26-7bb8-4ca2-b740-e4e2a8f9b427",
        "colab": {
          "base_uri": "https://localhost:8080/",
          "height": 1000,
          "referenced_widgets": [
            "11c0e2ae1f194b6ba565c69fbc1a79d8",
            "40295be91dab45e3b89e19756dba4ea9",
            "48f1795533d946cdaf89189e5a43b93c",
            "250498d85bc54071ace6d9a4e9f66d1b",
            "d336a4655e7442c0886b63d6603025c8",
            "8132543b5b744e2998b201d810d24b22",
            "9804fbd36130405b854f2ac50a766d5f",
            "48bcec6888ea4dc48d730525be1165f3"
          ]
        }
      },
      "source": [
        "# TODO : Initialize the model and cast to correct device\n",
        "if torch.cuda.is_available():\n",
        "    device = torch.device(\"cuda\")\n",
        "else:\n",
        "    device = torch.device(\"cpu\")\n",
        "# TODO : Initialize the criterion\n",
        "criterion=nn.CrossEntropyLoss()\n",
        "model=SimpleConvnet2(3,10)\n",
        "model=model.to(device)\n",
        "# TODO : Initialize the SGD optimizer with lr 1e-3\n",
        "optimizer=torch.optim.SGD(model.parameters(),lr=1e-3)\n",
        "# TODO : Run the training loop using this model\n",
        "train_losses_bn, train_accuracies_bn, val_losses_bn, val_accuracies_bn=train_loop(model, criterion, optimizer,  train_loader, val_loader)"
      ],
      "execution_count": 74,
      "outputs": [
        {
          "output_type": "display_data",
          "data": {
            "application/vnd.jupyter.widget-view+json": {
              "model_id": "11c0e2ae1f194b6ba565c69fbc1a79d8",
              "version_minor": 0,
              "version_major": 2
            },
            "text/plain": [
              "HBox(children=(FloatProgress(value=0.0, max=50.0), HTML(value='')))"
            ]
          },
          "metadata": {
            "tags": []
          }
        },
        {
          "output_type": "stream",
          "text": [
            "[EPOCH]: 0, [TRAIN LOSS]: 1.771360, [TRAIN ACCURACY]: 0.349\n",
            "[EPOCH]: 0, [VAL LOSS]: 1.546145, [VAL ACCURACY]: 0.434 \n",
            "\n",
            "[EPOCH]: 1, [TRAIN LOSS]: 1.414759, [TRAIN ACCURACY]: 0.486\n",
            "[EPOCH]: 1, [VAL LOSS]: 1.396911, [VAL ACCURACY]: 0.497 \n",
            "\n",
            "[EPOCH]: 2, [TRAIN LOSS]: 1.247024, [TRAIN ACCURACY]: 0.558\n",
            "[EPOCH]: 2, [VAL LOSS]: 1.303060, [VAL ACCURACY]: 0.533 \n",
            "\n",
            "[EPOCH]: 3, [TRAIN LOSS]: 1.113915, [TRAIN ACCURACY]: 0.610\n",
            "[EPOCH]: 3, [VAL LOSS]: 1.244413, [VAL ACCURACY]: 0.558 \n",
            "\n",
            "[EPOCH]: 4, [TRAIN LOSS]: 1.003801, [TRAIN ACCURACY]: 0.658\n",
            "[EPOCH]: 4, [VAL LOSS]: 1.198669, [VAL ACCURACY]: 0.573 \n",
            "\n",
            "[EPOCH]: 5, [TRAIN LOSS]: 0.909306, [TRAIN ACCURACY]: 0.700\n",
            "[EPOCH]: 5, [VAL LOSS]: 1.154862, [VAL ACCURACY]: 0.589 \n",
            "\n",
            "[EPOCH]: 6, [TRAIN LOSS]: 0.821425, [TRAIN ACCURACY]: 0.732\n",
            "[EPOCH]: 6, [VAL LOSS]: 1.156904, [VAL ACCURACY]: 0.589 \n",
            "\n",
            "[EPOCH]: 7, [TRAIN LOSS]: 0.742555, [TRAIN ACCURACY]: 0.769\n",
            "[EPOCH]: 7, [VAL LOSS]: 1.123198, [VAL ACCURACY]: 0.604 \n",
            "\n",
            "[EPOCH]: 8, [TRAIN LOSS]: 0.665416, [TRAIN ACCURACY]: 0.805\n",
            "[EPOCH]: 8, [VAL LOSS]: 1.093784, [VAL ACCURACY]: 0.612 \n",
            "\n",
            "[EPOCH]: 9, [TRAIN LOSS]: 0.594426, [TRAIN ACCURACY]: 0.834\n",
            "[EPOCH]: 9, [VAL LOSS]: 1.074366, [VAL ACCURACY]: 0.621 \n",
            "\n",
            "[EPOCH]: 10, [TRAIN LOSS]: 0.527611, [TRAIN ACCURACY]: 0.863\n",
            "[EPOCH]: 10, [VAL LOSS]: 1.130622, [VAL ACCURACY]: 0.605 \n",
            "\n",
            "[EPOCH]: 11, [TRAIN LOSS]: 0.463819, [TRAIN ACCURACY]: 0.891\n",
            "[EPOCH]: 11, [VAL LOSS]: 1.073831, [VAL ACCURACY]: 0.625 \n",
            "\n",
            "[EPOCH]: 12, [TRAIN LOSS]: 0.411299, [TRAIN ACCURACY]: 0.913\n",
            "[EPOCH]: 12, [VAL LOSS]: 1.062228, [VAL ACCURACY]: 0.629 \n",
            "\n",
            "[EPOCH]: 13, [TRAIN LOSS]: 0.359664, [TRAIN ACCURACY]: 0.932\n",
            "[EPOCH]: 13, [VAL LOSS]: 1.055248, [VAL ACCURACY]: 0.632 \n",
            "\n",
            "[EPOCH]: 14, [TRAIN LOSS]: 0.309833, [TRAIN ACCURACY]: 0.951\n",
            "[EPOCH]: 14, [VAL LOSS]: 1.053641, [VAL ACCURACY]: 0.637 \n",
            "\n",
            "[EPOCH]: 15, [TRAIN LOSS]: 0.269512, [TRAIN ACCURACY]: 0.963\n",
            "[EPOCH]: 15, [VAL LOSS]: 1.051031, [VAL ACCURACY]: 0.638 \n",
            "\n",
            "[EPOCH]: 16, [TRAIN LOSS]: 0.233948, [TRAIN ACCURACY]: 0.973\n",
            "[EPOCH]: 16, [VAL LOSS]: 1.040702, [VAL ACCURACY]: 0.643 \n",
            "\n",
            "[EPOCH]: 17, [TRAIN LOSS]: 0.198890, [TRAIN ACCURACY]: 0.982\n",
            "[EPOCH]: 17, [VAL LOSS]: 1.054044, [VAL ACCURACY]: 0.639 \n",
            "\n",
            "[EPOCH]: 18, [TRAIN LOSS]: 0.177195, [TRAIN ACCURACY]: 0.985\n",
            "[EPOCH]: 18, [VAL LOSS]: 1.065560, [VAL ACCURACY]: 0.636 \n",
            "\n",
            "[EPOCH]: 19, [TRAIN LOSS]: 0.153314, [TRAIN ACCURACY]: 0.990\n",
            "[EPOCH]: 19, [VAL LOSS]: 1.052371, [VAL ACCURACY]: 0.642 \n",
            "\n",
            "[EPOCH]: 20, [TRAIN LOSS]: 0.133107, [TRAIN ACCURACY]: 0.994\n",
            "[EPOCH]: 20, [VAL LOSS]: 1.064463, [VAL ACCURACY]: 0.639 \n",
            "\n",
            "[EPOCH]: 21, [TRAIN LOSS]: 0.116148, [TRAIN ACCURACY]: 0.996\n",
            "[EPOCH]: 21, [VAL LOSS]: 1.065027, [VAL ACCURACY]: 0.644 \n",
            "\n",
            "[EPOCH]: 22, [TRAIN LOSS]: 0.101597, [TRAIN ACCURACY]: 0.997\n",
            "[EPOCH]: 22, [VAL LOSS]: 1.068315, [VAL ACCURACY]: 0.647 \n",
            "\n",
            "[EPOCH]: 23, [TRAIN LOSS]: 0.091700, [TRAIN ACCURACY]: 0.998\n",
            "[EPOCH]: 23, [VAL LOSS]: 1.069435, [VAL ACCURACY]: 0.651 \n",
            "\n",
            "[EPOCH]: 24, [TRAIN LOSS]: 0.081337, [TRAIN ACCURACY]: 0.998\n",
            "[EPOCH]: 24, [VAL LOSS]: 1.072324, [VAL ACCURACY]: 0.647 \n",
            "\n",
            "[EPOCH]: 25, [TRAIN LOSS]: 0.070512, [TRAIN ACCURACY]: 0.999\n",
            "[EPOCH]: 25, [VAL LOSS]: 1.072767, [VAL ACCURACY]: 0.651 \n",
            "\n",
            "[EPOCH]: 26, [TRAIN LOSS]: 0.066408, [TRAIN ACCURACY]: 0.999\n",
            "[EPOCH]: 26, [VAL LOSS]: 1.070571, [VAL ACCURACY]: 0.652 \n",
            "\n",
            "[EPOCH]: 27, [TRAIN LOSS]: 0.061012, [TRAIN ACCURACY]: 0.999\n",
            "[EPOCH]: 27, [VAL LOSS]: 1.089483, [VAL ACCURACY]: 0.647 \n",
            "\n",
            "[EPOCH]: 28, [TRAIN LOSS]: 0.055679, [TRAIN ACCURACY]: 1.000\n",
            "[EPOCH]: 28, [VAL LOSS]: 1.087563, [VAL ACCURACY]: 0.653 \n",
            "\n",
            "[EPOCH]: 29, [TRAIN LOSS]: 0.050296, [TRAIN ACCURACY]: 1.000\n",
            "[EPOCH]: 29, [VAL LOSS]: 1.087054, [VAL ACCURACY]: 0.651 \n",
            "\n",
            "[EPOCH]: 30, [TRAIN LOSS]: 0.047048, [TRAIN ACCURACY]: 1.000\n",
            "[EPOCH]: 30, [VAL LOSS]: 1.095725, [VAL ACCURACY]: 0.651 \n",
            "\n",
            "[EPOCH]: 31, [TRAIN LOSS]: 0.042626, [TRAIN ACCURACY]: 1.000\n",
            "[EPOCH]: 31, [VAL LOSS]: 1.089421, [VAL ACCURACY]: 0.657 \n",
            "\n",
            "[EPOCH]: 32, [TRAIN LOSS]: 0.039661, [TRAIN ACCURACY]: 1.000\n",
            "[EPOCH]: 32, [VAL LOSS]: 1.131217, [VAL ACCURACY]: 0.645 \n",
            "\n",
            "[EPOCH]: 33, [TRAIN LOSS]: 0.037148, [TRAIN ACCURACY]: 1.000\n",
            "[EPOCH]: 33, [VAL LOSS]: 1.093774, [VAL ACCURACY]: 0.657 \n",
            "\n",
            "[EPOCH]: 34, [TRAIN LOSS]: 0.034848, [TRAIN ACCURACY]: 1.000\n",
            "[EPOCH]: 34, [VAL LOSS]: 1.104624, [VAL ACCURACY]: 0.653 \n",
            "\n",
            "[EPOCH]: 35, [TRAIN LOSS]: 0.033170, [TRAIN ACCURACY]: 1.000\n",
            "[EPOCH]: 35, [VAL LOSS]: 1.108031, [VAL ACCURACY]: 0.654 \n",
            "\n",
            "[EPOCH]: 36, [TRAIN LOSS]: 0.030389, [TRAIN ACCURACY]: 1.000\n",
            "[EPOCH]: 36, [VAL LOSS]: 1.104005, [VAL ACCURACY]: 0.657 \n",
            "\n"
          ],
          "name": "stdout"
        }
      ]
    },
    {
      "cell_type": "markdown",
      "metadata": {
        "id": "w5wqxHGa0vZe"
      },
      "source": [
        "#### Q2.6 b Plot the the training curves (training loss vs \\# epochs, training accuracy vs # epochs) using SGD (lr 1e-3) with and without batch normalization. Comment on the difference. "
      ]
    },
    {
      "cell_type": "markdown",
      "metadata": {
        "id": "C1zHdq36e2uV"
      },
      "source": [
        " The model doesn't learn anything without batch normalization. The train accuracy gets to 100% quickly, but validation accuracy stays low. This is a sign of overfitting. After we add batch normalization layers after each relu, loss starts to decrease after each epoch and accuracy starts to increase. By the time when train accuracy gets to 100%, the validation accuracy is about 65.7%."
      ]
    },
    {
      "cell_type": "code",
      "metadata": {
        "id": "bUElAasSuDH8",
        "outputId": "5f8472d2-6344-48bc-8a14-591bf00c5e98",
        "colab": {
          "base_uri": "https://localhost:8080/",
          "height": 298
        }
      },
      "source": [
        "plt.subplot(2,1,1)\n",
        "plt.plot(range(len(train_losses_bn)),train_losses_bn,label='with bn')\n",
        "plt.plot(range(len(train_losses1)),train_losses1,label='without bn')\n",
        "plt.title('training loss with BN vs without BN')\n",
        "plt.legend()\n",
        "plt.subplot(2,1,2)\n",
        "plt.plot(range(len(val_losses_bn)),val_losses_bn,label='with bn')\n",
        "plt.plot(range(len(val_losses1)),val_losses1,label='without bn')\n",
        "plt.title('validation loss with BN vs without BN')\n",
        "plt.legend()"
      ],
      "execution_count": 76,
      "outputs": [
        {
          "output_type": "execute_result",
          "data": {
            "text/plain": [
              "<matplotlib.legend.Legend at 0x7f3b0da03828>"
            ]
          },
          "metadata": {
            "tags": []
          },
          "execution_count": 76
        },
        {
          "output_type": "display_data",
          "data": {
            "image/png": "[encoded data removed]",
            "text/plain": [
              "<Figure size 432x288 with 2 Axes>"
            ]
          },
          "metadata": {
            "tags": [],
            "needs_background": "light"
          }
        }
      ]
    },
    {
      "cell_type": "code",
      "metadata": {
        "id": "dBWpu0OmwZb4",
        "outputId": "5ee5b3ad-31fd-4c5f-b05c-8d83ad660b8f",
        "colab": {
          "base_uri": "https://localhost:8080/",
          "height": 298
        }
      },
      "source": [
        "plt.subplot(2,1,1)\n",
        "plt.plot(range(len(train_accuracies_bn)),train_accuracies_bn,label='with bn')\n",
        "plt.plot(range(len(train_accuracies1)),train_accuracies1,label='without bn')\n",
        "plt.title('training accuracy with BN vs without BN')\n",
        "plt.legend()\n",
        "plt.subplot(2,1,2)\n",
        "plt.plot(range(len(val_accuracies_bn)),val_accuracies_bn,label='with bn')\n",
        "plt.plot(range(len(val_accuracies1)),val_accuracies1,label='without bn')\n",
        "plt.title('validation accuracy with BN vs without BN')\n",
        "plt.legend(loc='lower right')"
      ],
      "execution_count": 78,
      "outputs": [
        {
          "output_type": "execute_result",
          "data": {
            "text/plain": [
              "<matplotlib.legend.Legend at 0x7f3b0d8f1470>"
            ]
          },
          "metadata": {
            "tags": []
          },
          "execution_count": 78
        },
        {
          "output_type": "display_data",
          "data": {
            "image/png": "[encoded data removed]",
            "text/plain": [
              "<Figure size 432x288 with 2 Axes>"
            ]
          },
          "metadata": {
            "tags": [],
            "needs_background": "light"
          }
        }
      ]
    },
    {
      "cell_type": "markdown",
      "metadata": {
        "id": "ZW0227y408ej"
      },
      "source": [
        "#### Q2.6 c. Try running the same two networks with an Adam optimizer (lr 1e-4). Plot the the training curves (training loss vs \\# epochs, training accuracy vs # epochs) with and without batch normalization. Comment on the difference. "
      ]
    },
    {
      "cell_type": "code",
      "metadata": {
        "id": "n_FrABG-zZQk",
        "outputId": "52a0a48c-0c94-4728-f955-48f8a2c6bb6a",
        "colab": {
          "base_uri": "https://localhost:8080/",
          "height": 1000,
          "referenced_widgets": [
            "ef9714c9842a48219a3b9ab39e1ff2ed",
            "f754c294005c4e7ab8614452dfe5490d",
            "e7751b4467d0475a815b2d9b7b26ce0c",
            "db582173a6404e1fa8d90884f9c55e75",
            "cd8a7eaaf38848adbc926cd777ff15d4",
            "0f6146a807ad4cf6a23aa0c747b0600c",
            "84c98ae65ef1478695f582965be2bc31",
            "f5bd769b792f4915a307fec538a18b6d"
          ]
        }
      },
      "source": [
        "criterion=nn.CrossEntropyLoss()\n",
        "model=SimpleConvnet(3,10)\n",
        "model=model.to(device)\n",
        "optimizer_adam = torch.optim.Adam(model.parameters(), lr=1e-4)\n",
        "train_losses_adam, train_accuracies_adam, val_losses_adam, val_accuracies_adam=train_loop(model, criterion, optimizer_adam,  train_loader, val_loader)"
      ],
      "execution_count": 79,
      "outputs": [
        {
          "output_type": "display_data",
          "data": {
            "application/vnd.jupyter.widget-view+json": {
              "model_id": "ef9714c9842a48219a3b9ab39e1ff2ed",
              "version_minor": 0,
              "version_major": 2
            },
            "text/plain": [
              "HBox(children=(FloatProgress(value=0.0, max=50.0), HTML(value='')))"
            ]
          },
          "metadata": {
            "tags": []
          }
        },
        {
          "output_type": "stream",
          "text": [
            "[EPOCH]: 0, [TRAIN LOSS]: 1.920023, [TRAIN ACCURACY]: 0.285\n",
            "[EPOCH]: 0, [VAL LOSS]: 1.675183, [VAL ACCURACY]: 0.388 \n",
            "\n",
            "[EPOCH]: 1, [TRAIN LOSS]: 1.548334, [TRAIN ACCURACY]: 0.438\n",
            "[EPOCH]: 1, [VAL LOSS]: 1.490469, [VAL ACCURACY]: 0.472 \n",
            "\n",
            "[EPOCH]: 2, [TRAIN LOSS]: 1.381473, [TRAIN ACCURACY]: 0.502\n",
            "[EPOCH]: 2, [VAL LOSS]: 1.331295, [VAL ACCURACY]: 0.523 \n",
            "\n",
            "[EPOCH]: 3, [TRAIN LOSS]: 1.257152, [TRAIN ACCURACY]: 0.548\n",
            "[EPOCH]: 3, [VAL LOSS]: 1.256268, [VAL ACCURACY]: 0.550 \n",
            "\n",
            "[EPOCH]: 4, [TRAIN LOSS]: 1.154115, [TRAIN ACCURACY]: 0.588\n",
            "[EPOCH]: 4, [VAL LOSS]: 1.202639, [VAL ACCURACY]: 0.577 \n",
            "\n",
            "[EPOCH]: 5, [TRAIN LOSS]: 1.061320, [TRAIN ACCURACY]: 0.621\n",
            "[EPOCH]: 5, [VAL LOSS]: 1.157692, [VAL ACCURACY]: 0.603 \n",
            "\n",
            "[EPOCH]: 6, [TRAIN LOSS]: 0.979674, [TRAIN ACCURACY]: 0.654\n",
            "[EPOCH]: 6, [VAL LOSS]: 1.119964, [VAL ACCURACY]: 0.607 \n",
            "\n",
            "[EPOCH]: 7, [TRAIN LOSS]: 0.894604, [TRAIN ACCURACY]: 0.687\n",
            "[EPOCH]: 7, [VAL LOSS]: 1.056296, [VAL ACCURACY]: 0.629 \n",
            "\n",
            "[EPOCH]: 8, [TRAIN LOSS]: 0.813916, [TRAIN ACCURACY]: 0.715\n",
            "[EPOCH]: 8, [VAL LOSS]: 1.037012, [VAL ACCURACY]: 0.638 \n",
            "\n",
            "[EPOCH]: 9, [TRAIN LOSS]: 0.737088, [TRAIN ACCURACY]: 0.742\n",
            "[EPOCH]: 9, [VAL LOSS]: 1.038681, [VAL ACCURACY]: 0.645 \n",
            "\n",
            "[EPOCH]: 10, [TRAIN LOSS]: 0.660663, [TRAIN ACCURACY]: 0.772\n",
            "[EPOCH]: 10, [VAL LOSS]: 1.032949, [VAL ACCURACY]: 0.648 \n",
            "\n",
            "[EPOCH]: 11, [TRAIN LOSS]: 0.596184, [TRAIN ACCURACY]: 0.793\n",
            "[EPOCH]: 11, [VAL LOSS]: 1.092699, [VAL ACCURACY]: 0.647 \n",
            "\n",
            "[EPOCH]: 12, [TRAIN LOSS]: 0.517033, [TRAIN ACCURACY]: 0.820\n",
            "[EPOCH]: 12, [VAL LOSS]: 1.154674, [VAL ACCURACY]: 0.647 \n",
            "\n",
            "[EPOCH]: 13, [TRAIN LOSS]: 0.435325, [TRAIN ACCURACY]: 0.849\n",
            "[EPOCH]: 13, [VAL LOSS]: 1.287790, [VAL ACCURACY]: 0.636 \n",
            "\n",
            "[EPOCH]: 14, [TRAIN LOSS]: 0.360236, [TRAIN ACCURACY]: 0.875\n",
            "[EPOCH]: 14, [VAL LOSS]: 1.328494, [VAL ACCURACY]: 0.649 \n",
            "\n",
            "[EPOCH]: 15, [TRAIN LOSS]: 0.291598, [TRAIN ACCURACY]: 0.898\n",
            "[EPOCH]: 15, [VAL LOSS]: 1.337068, [VAL ACCURACY]: 0.644 \n",
            "\n",
            "[EPOCH]: 16, [TRAIN LOSS]: 0.229717, [TRAIN ACCURACY]: 0.921\n",
            "[EPOCH]: 16, [VAL LOSS]: 1.629824, [VAL ACCURACY]: 0.647 \n",
            "\n",
            "[EPOCH]: 17, [TRAIN LOSS]: 0.192653, [TRAIN ACCURACY]: 0.933\n",
            "[EPOCH]: 17, [VAL LOSS]: 1.671117, [VAL ACCURACY]: 0.648 \n",
            "\n",
            "[EPOCH]: 18, [TRAIN LOSS]: 0.152705, [TRAIN ACCURACY]: 0.947\n",
            "[EPOCH]: 18, [VAL LOSS]: 1.887439, [VAL ACCURACY]: 0.634 \n",
            "\n",
            "[EPOCH]: 19, [TRAIN LOSS]: 0.123629, [TRAIN ACCURACY]: 0.956\n",
            "[EPOCH]: 19, [VAL LOSS]: 2.097300, [VAL ACCURACY]: 0.644 \n",
            "\n",
            "[EPOCH]: 20, [TRAIN LOSS]: 0.111358, [TRAIN ACCURACY]: 0.960\n",
            "[EPOCH]: 20, [VAL LOSS]: 2.196667, [VAL ACCURACY]: 0.649 \n",
            "\n",
            "[EPOCH]: 21, [TRAIN LOSS]: 0.110544, [TRAIN ACCURACY]: 0.961\n",
            "[EPOCH]: 21, [VAL LOSS]: 2.258876, [VAL ACCURACY]: 0.642 \n",
            "\n",
            "[EPOCH]: 22, [TRAIN LOSS]: 0.088745, [TRAIN ACCURACY]: 0.970\n",
            "[EPOCH]: 22, [VAL LOSS]: 2.275601, [VAL ACCURACY]: 0.642 \n",
            "\n",
            "[EPOCH]: 23, [TRAIN LOSS]: 0.080872, [TRAIN ACCURACY]: 0.972\n",
            "[EPOCH]: 23, [VAL LOSS]: 2.309496, [VAL ACCURACY]: 0.652 \n",
            "\n",
            "[EPOCH]: 24, [TRAIN LOSS]: 0.076527, [TRAIN ACCURACY]: 0.974\n",
            "[EPOCH]: 24, [VAL LOSS]: 2.391845, [VAL ACCURACY]: 0.642 \n",
            "\n",
            "[EPOCH]: 25, [TRAIN LOSS]: 0.084496, [TRAIN ACCURACY]: 0.970\n",
            "[EPOCH]: 25, [VAL LOSS]: 2.290386, [VAL ACCURACY]: 0.647 \n",
            "\n",
            "[EPOCH]: 26, [TRAIN LOSS]: 0.068530, [TRAIN ACCURACY]: 0.976\n",
            "[EPOCH]: 26, [VAL LOSS]: 2.409239, [VAL ACCURACY]: 0.640 \n",
            "\n",
            "[EPOCH]: 27, [TRAIN LOSS]: 0.060089, [TRAIN ACCURACY]: 0.980\n",
            "[EPOCH]: 27, [VAL LOSS]: 2.549063, [VAL ACCURACY]: 0.652 \n",
            "\n",
            "[EPOCH]: 28, [TRAIN LOSS]: 0.065721, [TRAIN ACCURACY]: 0.976\n",
            "[EPOCH]: 28, [VAL LOSS]: 2.404100, [VAL ACCURACY]: 0.646 \n",
            "\n",
            "[EPOCH]: 29, [TRAIN LOSS]: 0.080777, [TRAIN ACCURACY]: 0.973\n",
            "[EPOCH]: 29, [VAL LOSS]: 2.264408, [VAL ACCURACY]: 0.659 \n",
            "\n",
            "[EPOCH]: 30, [TRAIN LOSS]: 0.047302, [TRAIN ACCURACY]: 0.983\n",
            "[EPOCH]: 30, [VAL LOSS]: 2.558847, [VAL ACCURACY]: 0.654 \n",
            "\n",
            "[EPOCH]: 31, [TRAIN LOSS]: 0.053937, [TRAIN ACCURACY]: 0.981\n",
            "[EPOCH]: 31, [VAL LOSS]: 2.492695, [VAL ACCURACY]: 0.653 \n",
            "\n",
            "[EPOCH]: 32, [TRAIN LOSS]: 0.064542, [TRAIN ACCURACY]: 0.979\n",
            "[EPOCH]: 32, [VAL LOSS]: 2.426745, [VAL ACCURACY]: 0.653 \n",
            "\n",
            "[EPOCH]: 33, [TRAIN LOSS]: 0.044899, [TRAIN ACCURACY]: 0.985\n",
            "[EPOCH]: 33, [VAL LOSS]: 2.848619, [VAL ACCURACY]: 0.657 \n",
            "\n",
            "[EPOCH]: 34, [TRAIN LOSS]: 0.055277, [TRAIN ACCURACY]: 0.981\n",
            "[EPOCH]: 34, [VAL LOSS]: 2.614711, [VAL ACCURACY]: 0.647 \n",
            "\n"
          ],
          "name": "stdout"
        }
      ]
    },
    {
      "cell_type": "code",
      "metadata": {
        "id": "MHEnMHDwfvxW",
        "outputId": "f57be193-f3c6-49eb-b330-2322d009eb92",
        "colab": {
          "base_uri": "https://localhost:8080/",
          "height": 712,
          "referenced_widgets": [
            "07cdebc69fbd4be690ccbd8f01e7448c",
            "9a8811f8b26f4d58b5982e6b2c66de5e",
            "dce95a4efe71401893aca88309af8bd5",
            "4bf070d8317646d0a59afea5d72243b0",
            "813d1b0ec3ea4c6698ec92d540e44425",
            "4d558b0e12b34e328b2d6a1e3da1e3fc",
            "9624b75c6f684595a613a28e8d9e3f1f",
            "2d980ee928f449b384a05ab7e2abbc87"
          ]
        }
      },
      "source": [
        "criterion=nn.CrossEntropyLoss()\n",
        "model=SimpleConvnet2(3,10)\n",
        "model=model.to(device)\n",
        "optimizer_adam = torch.optim.Adam(model.parameters(), lr=1e-4)\n",
        "train_losses_adam_bn, train_accuracies_adam_bn, val_losses_adam_bn, val_accuracies_adam_bn=train_loop(model, criterion, optimizer_adam,  train_loader, val_loader)"
      ],
      "execution_count": 80,
      "outputs": [
        {
          "output_type": "display_data",
          "data": {
            "application/vnd.jupyter.widget-view+json": {
              "model_id": "07cdebc69fbd4be690ccbd8f01e7448c",
              "version_minor": 0,
              "version_major": 2
            },
            "text/plain": [
              "HBox(children=(FloatProgress(value=0.0, max=50.0), HTML(value='')))"
            ]
          },
          "metadata": {
            "tags": []
          }
        },
        {
          "output_type": "stream",
          "text": [
            "[EPOCH]: 0, [TRAIN LOSS]: 1.478744, [TRAIN ACCURACY]: 0.474\n",
            "[EPOCH]: 0, [VAL LOSS]: 1.192155, [VAL ACCURACY]: 0.578 \n",
            "\n",
            "[EPOCH]: 1, [TRAIN LOSS]: 0.996469, [TRAIN ACCURACY]: 0.652\n",
            "[EPOCH]: 1, [VAL LOSS]: 0.974229, [VAL ACCURACY]: 0.651 \n",
            "\n",
            "[EPOCH]: 2, [TRAIN LOSS]: 0.754650, [TRAIN ACCURACY]: 0.744\n",
            "[EPOCH]: 2, [VAL LOSS]: 0.858743, [VAL ACCURACY]: 0.697 \n",
            "\n",
            "[EPOCH]: 3, [TRAIN LOSS]: 0.575251, [TRAIN ACCURACY]: 0.810\n",
            "[EPOCH]: 3, [VAL LOSS]: 0.789097, [VAL ACCURACY]: 0.721 \n",
            "\n",
            "[EPOCH]: 4, [TRAIN LOSS]: 0.415940, [TRAIN ACCURACY]: 0.875\n",
            "[EPOCH]: 4, [VAL LOSS]: 0.772041, [VAL ACCURACY]: 0.728 \n",
            "\n",
            "[EPOCH]: 5, [TRAIN LOSS]: 0.276715, [TRAIN ACCURACY]: 0.927\n",
            "[EPOCH]: 5, [VAL LOSS]: 0.764854, [VAL ACCURACY]: 0.734 \n",
            "\n",
            "[EPOCH]: 6, [TRAIN LOSS]: 0.163125, [TRAIN ACCURACY]: 0.966\n",
            "[EPOCH]: 6, [VAL LOSS]: 0.804315, [VAL ACCURACY]: 0.734 \n",
            "\n",
            "[EPOCH]: 7, [TRAIN LOSS]: 0.082364, [TRAIN ACCURACY]: 0.988\n",
            "[EPOCH]: 7, [VAL LOSS]: 0.801795, [VAL ACCURACY]: 0.750 \n",
            "\n",
            "[EPOCH]: 8, [TRAIN LOSS]: 0.046710, [TRAIN ACCURACY]: 0.993\n",
            "[EPOCH]: 8, [VAL LOSS]: 0.966044, [VAL ACCURACY]: 0.731 \n",
            "\n",
            "[EPOCH]: 9, [TRAIN LOSS]: 0.128901, [TRAIN ACCURACY]: 0.960\n",
            "[EPOCH]: 9, [VAL LOSS]: 1.004586, [VAL ACCURACY]: 0.716 \n",
            "\n",
            "[EPOCH]: 10, [TRAIN LOSS]: 0.229996, [TRAIN ACCURACY]: 0.921\n",
            "[EPOCH]: 10, [VAL LOSS]: 0.893121, [VAL ACCURACY]: 0.735 \n",
            "\n",
            "[EPOCH]: 11, [TRAIN LOSS]: 0.098520, [TRAIN ACCURACY]: 0.969\n",
            "[EPOCH]: 11, [VAL LOSS]: 0.967907, [VAL ACCURACY]: 0.740 \n",
            "\n",
            "[EPOCH]: 12, [TRAIN LOSS]: 0.068470, [TRAIN ACCURACY]: 0.979\n",
            "[EPOCH]: 12, [VAL LOSS]: 1.014987, [VAL ACCURACY]: 0.740 \n",
            "\n"
          ],
          "name": "stdout"
        }
      ]
    },
    {
      "cell_type": "code",
      "metadata": {
        "id": "8pKqTaZLzl_j",
        "outputId": "29108564-f92c-4c25-b272-b33e2388129c",
        "colab": {
          "base_uri": "https://localhost:8080/",
          "height": 298
        }
      },
      "source": [
        "plt.subplot(2,1,1)\n",
        "plt.plot(range(len(train_losses_adam_bn)),train_losses_adam_bn,label='with bn')\n",
        "plt.plot(range(len(train_losses_adam)),train_losses_adam,label='without bn')\n",
        "plt.title('training loss with Adam BN vs without BN')\n",
        "plt.legend()\n",
        "plt.subplot(2,1,2)\n",
        "plt.plot(range(len(val_losses_adam_bn)),val_losses_adam_bn,label='with bn')\n",
        "plt.plot(range(len(val_losses_adam)),val_losses_adam,label='without bn')\n",
        "plt.title('validation loss with Adam BN vs without BN')\n",
        "plt.legend()"
      ],
      "execution_count": 81,
      "outputs": [
        {
          "output_type": "execute_result",
          "data": {
            "text/plain": [
              "<matplotlib.legend.Legend at 0x7f3b0963c978>"
            ]
          },
          "metadata": {
            "tags": []
          },
          "execution_count": 81
        },
        {
          "output_type": "display_data",
          "data": {
            "image/png": "[encoded data removed]",
            "text/plain": [
              "<Figure size 432x288 with 2 Axes>"
            ]
          },
          "metadata": {
            "tags": [],
            "needs_background": "light"
          }
        }
      ]
    },
    {
      "cell_type": "code",
      "metadata": {
        "id": "3ntkAuK0zqKw",
        "outputId": "7eb56b3e-9b0e-4485-a11e-1f4c7cb6f6e9",
        "colab": {
          "base_uri": "https://localhost:8080/",
          "height": 298
        }
      },
      "source": [
        "plt.subplot(2,1,1)\n",
        "plt.plot(range(len(train_accuracies_bn)),train_accuracies_bn,label='with bn')\n",
        "plt.plot(range(len(train_accuracies1)),train_accuracies1,label='without bn')\n",
        "plt.title('training accuracy with Adam BN vs without BN')\n",
        "plt.legend()\n",
        "plt.subplot(2,1,2)\n",
        "plt.plot(range(len(val_accuracies_bn)),val_accuracies_bn,label='with bn')\n",
        "plt.plot(range(len(val_accuracies1)),val_accuracies1,label='without bn')\n",
        "plt.title('validation accuracy with Adam BN vs without BN')\n",
        "plt.legend()"
      ],
      "execution_count": 82,
      "outputs": [
        {
          "output_type": "execute_result",
          "data": {
            "text/plain": [
              "<matplotlib.legend.Legend at 0x7f3b0d789d30>"
            ]
          },
          "metadata": {
            "tags": []
          },
          "execution_count": 82
        },
        {
          "output_type": "display_data",
          "data": {
            "image/png": "[encoded data removed]",
            "text/plain": [
              "<Figure size 432x288 with 2 Axes>"
            ]
          },
          "metadata": {
            "tags": [],
            "needs_background": "light"
          }
        }
      ]
    },
    {
      "cell_type": "markdown",
      "metadata": {
        "id": "KzHcN4nsO6y0"
      },
      "source": [
        "### Without batch normalization, the model still doesn't learn anything with Adam optimizer. There's decrease in loss, but accuracy shows that model doesn't learn anything. With batch normalization, model learns as well as before when we use SGD."
      ]
    },
    {
      "cell_type": "markdown",
      "metadata": {
        "id": "XeVzHHciAt-W"
      },
      "source": [
        "#### Q2.6 d Once you choose an optimizer and see that it does train, make sure your model has enough capacity by overfitting on one batch of the data set. You should be able to get 100% train accuracy. \n"
      ]
    },
    {
      "cell_type": "markdown",
      "metadata": {
        "id": "ANkTYeTWn6Mv"
      },
      "source": [
        "### Q 2.7 Add residual connections"
      ]
    },
    {
      "cell_type": "markdown",
      "metadata": {
        "id": "A55lJPET13Q7"
      },
      "source": [
        "#### Residual connections help stabilise training and lead to faster convergence. In this question you will introduce residual connections into the SimpleConvnet2 model that you built above. \n",
        "\n",
        "We will add residual connections after each block of 3 convolutional layers. Lets consider the first block of three convolutional layers. The input to this block, the so called residual, is added to the output of the block before the final batch normalization layer of that block. \n",
        "\n",
        "\n",
        "IMP NOTE: You will notice that the number of filters of these two summands are not the same. For this, you will need to use a convolution layer on the residual component, which changes the number of filters while keeping the rest of the dimensions the same. This can be achieved with a careful selection of the input_channels, output_channels, kernel_size and padding parameters. "
      ]
    },
    {
      "cell_type": "code",
      "metadata": {
        "id": "rzxWZNrmUzFT"
      },
      "source": [
        "class ResidualConvnet(nn.Module):\n",
        "    def __init__(self, input_channels, num_classes):\n",
        "        super(ResidualConvnet, self).__init__()\n",
        "        self.conv1=nn.Conv2d(input_channels,64,5,padding=2)\n",
        "        self.relu=nn.ReLU()\n",
        "        self.conv_bn1 = nn.BatchNorm2d(64)\n",
        "        self.conv_block1=nn.Sequential(\n",
        "      nn.Conv2d(in_channels = 64, out_channels = 64, kernel_size=3, padding=1),\n",
        "      nn.ReLU(),\n",
        "      nn.BatchNorm2d(64),\n",
        "      nn.Conv2d(in_channels = 64, out_channels = 64, kernel_size=3, padding=1),\n",
        "      nn.ReLU(),\n",
        "      nn.BatchNorm2d(64),\n",
        "      nn.Conv2d(in_channels = 64, out_channels = 64, kernel_size=3, padding=1),\n",
        "      nn.ReLU(),\n",
        "      )\n",
        "        self.maxpool1=nn.MaxPool2d(kernel_size=2)\n",
        "        self.conv_block2=nn.Sequential(\n",
        "      nn.Conv2d(in_channels = 64, out_channels = 128, kernel_size=3, padding=1),\n",
        "      nn.ReLU(),\n",
        "      nn.BatchNorm2d(128),\n",
        "      nn.Conv2d(in_channels = 128, out_channels = 128, kernel_size=3, padding=1),\n",
        "      nn.ReLU(),\n",
        "      nn.BatchNorm2d(128),\n",
        "      nn.Conv2d(in_channels = 128, out_channels = 128, kernel_size=3, padding=1),\n",
        "      nn.ReLU(),\n",
        "      )\n",
        "        self.conv_bn2=nn.BatchNorm2d(128)\n",
        "        self.transition1=nn.Conv2d(64,128,1)\n",
        "        self.maxpool2=nn.MaxPool2d(kernel_size=2)\n",
        "        self.conv_block3=nn.Sequential(\n",
        "      nn.Conv2d(in_channels = 128, out_channels = 256, kernel_size=3, padding=1),\n",
        "      nn.ReLU(),\n",
        "      nn.BatchNorm2d(256),\n",
        "      nn.Conv2d(in_channels = 256, out_channels = 256, kernel_size=3, padding=1),\n",
        "      nn.ReLU(),\n",
        "      nn.BatchNorm2d(256),\n",
        "      nn.Conv2d(in_channels = 256, out_channels = 256, kernel_size=3, padding=1),\n",
        "      nn.ReLU(),\n",
        "      )\n",
        "        self.transition2=nn.Conv2d(128,256,1)\n",
        "        self.conv_bn3=nn.BatchNorm2d(256)\n",
        "        self.maxpool3=nn.MaxPool2d(kernel_size=8)\n",
        "        self.linear=nn.Linear(256,10)\n",
        "        # TODO\n",
        "    \n",
        "    def forward(self, x):\n",
        "       output=self.conv_bn1(self.relu(self.conv1(x)))\n",
        "       output=self.conv_block1(output)+output\n",
        "       output=self.conv_bn1(output)\n",
        "       output=self.maxpool1(output)\n",
        "       output=self.conv_block2(output)+self.transition1(output)\n",
        "       output=self.conv_bn2(output)\n",
        "       output=self.maxpool2(output)\n",
        "       output=self.conv_block3(output)+self.transition2(output)\n",
        "       output=self.conv_bn3(output)\n",
        "       output=self.maxpool3(output)\n",
        "       output=self.linear(output.view(-1,256))\n",
        "       return output\n",
        "        \n",
        "        # TODO \n",
        "        "
      ],
      "execution_count": 83,
      "outputs": []
    },
    {
      "cell_type": "code",
      "metadata": {
        "id": "Wn9OWZiceenh",
        "outputId": "dc4ace83-fe09-420f-8b9b-1cdbe6f8be36",
        "colab": {
          "base_uri": "https://localhost:8080/",
          "height": 712,
          "referenced_widgets": [
            "ef958d2ba396489c85c7b357ad747515",
            "0f41968db40f417694b4a5b9d01d2a5b",
            "795b5317323d40b9a2a11aa455cd261d",
            "baf438e8ad1e476abee1186396cb0b30",
            "c830cd4a4a0340b6baaf072b0c04fb16",
            "4a36c7b8880c4456a7d486e555806a33",
            "8b10767aa7db479bb75e5d4bd78ec3e7",
            "10b4df0eba5747f29e19732c366b85b5"
          ]
        }
      },
      "source": [
        "# TODO : Initialize the model and cast to correct device\n",
        "if torch.cuda.is_available():\n",
        "    device = torch.device(\"cuda\")\n",
        "else:\n",
        "    device = torch.device(\"cpu\")\n",
        "# TODO : Initialize the criterion\n",
        "criterion=nn.CrossEntropyLoss()\n",
        "model=ResidualConvnet(3,10)\n",
        "model=model.to(device)\n",
        "# TODO : Initialize the Adam optimizer with lr 1e-4\n",
        "optimizer=torch.optim.Adam(model.parameters(),lr=1e-4)\n",
        "# TODO : Run the training loop using this model\n",
        "train_losses_res, train_accuracies_res, val_losses_res, val_accuracies_res=train_loop(model, criterion, optimizer,  train_loader, val_loader)"
      ],
      "execution_count": 84,
      "outputs": [
        {
          "output_type": "display_data",
          "data": {
            "application/vnd.jupyter.widget-view+json": {
              "model_id": "ef958d2ba396489c85c7b357ad747515",
              "version_minor": 0,
              "version_major": 2
            },
            "text/plain": [
              "HBox(children=(FloatProgress(value=0.0, max=50.0), HTML(value='')))"
            ]
          },
          "metadata": {
            "tags": []
          }
        },
        {
          "output_type": "stream",
          "text": [
            "[EPOCH]: 0, [TRAIN LOSS]: 1.367493, [TRAIN ACCURACY]: 0.515\n",
            "[EPOCH]: 0, [VAL LOSS]: 1.315908, [VAL ACCURACY]: 0.537 \n",
            "\n",
            "[EPOCH]: 1, [TRAIN LOSS]: 0.902308, [TRAIN ACCURACY]: 0.692\n",
            "[EPOCH]: 1, [VAL LOSS]: 1.126678, [VAL ACCURACY]: 0.603 \n",
            "\n",
            "[EPOCH]: 2, [TRAIN LOSS]: 0.671876, [TRAIN ACCURACY]: 0.779\n",
            "[EPOCH]: 2, [VAL LOSS]: 1.019058, [VAL ACCURACY]: 0.645 \n",
            "\n",
            "[EPOCH]: 3, [TRAIN LOSS]: 0.496337, [TRAIN ACCURACY]: 0.846\n",
            "[EPOCH]: 3, [VAL LOSS]: 0.975927, [VAL ACCURACY]: 0.662 \n",
            "\n",
            "[EPOCH]: 4, [TRAIN LOSS]: 0.348280, [TRAIN ACCURACY]: 0.904\n",
            "[EPOCH]: 4, [VAL LOSS]: 0.966402, [VAL ACCURACY]: 0.663 \n",
            "\n",
            "[EPOCH]: 5, [TRAIN LOSS]: 0.221345, [TRAIN ACCURACY]: 0.952\n",
            "[EPOCH]: 5, [VAL LOSS]: 1.109292, [VAL ACCURACY]: 0.626 \n",
            "\n",
            "[EPOCH]: 6, [TRAIN LOSS]: 0.116675, [TRAIN ACCURACY]: 0.985\n",
            "[EPOCH]: 6, [VAL LOSS]: 1.089484, [VAL ACCURACY]: 0.647 \n",
            "\n",
            "[EPOCH]: 7, [TRAIN LOSS]: 0.052887, [TRAIN ACCURACY]: 0.997\n",
            "[EPOCH]: 7, [VAL LOSS]: 0.971295, [VAL ACCURACY]: 0.686 \n",
            "\n",
            "[EPOCH]: 8, [TRAIN LOSS]: 0.023061, [TRAIN ACCURACY]: 1.000\n",
            "[EPOCH]: 8, [VAL LOSS]: 1.020590, [VAL ACCURACY]: 0.684 \n",
            "\n",
            "[EPOCH]: 9, [TRAIN LOSS]: 0.010533, [TRAIN ACCURACY]: 1.000\n",
            "[EPOCH]: 9, [VAL LOSS]: 1.060992, [VAL ACCURACY]: 0.682 \n",
            "\n",
            "[EPOCH]: 10, [TRAIN LOSS]: 0.005934, [TRAIN ACCURACY]: 1.000\n",
            "[EPOCH]: 10, [VAL LOSS]: 1.119283, [VAL ACCURACY]: 0.678 \n",
            "\n",
            "[EPOCH]: 11, [TRAIN LOSS]: 0.003933, [TRAIN ACCURACY]: 1.000\n",
            "[EPOCH]: 11, [VAL LOSS]: 1.137967, [VAL ACCURACY]: 0.674 \n",
            "\n",
            "[EPOCH]: 12, [TRAIN LOSS]: 0.002817, [TRAIN ACCURACY]: 1.000\n",
            "[EPOCH]: 12, [VAL LOSS]: 1.145499, [VAL ACCURACY]: 0.677 \n",
            "\n"
          ],
          "name": "stdout"
        }
      ]
    },
    {
      "cell_type": "markdown",
      "metadata": {
        "id": "NRrWJ63c4C0f"
      },
      "source": [
        "### Q 2.8 Plot the training curves with and without the residual connection. Comment on the difference. "
      ]
    },
    {
      "cell_type": "code",
      "metadata": {
        "id": "IF9RtIEF1IV-",
        "outputId": "20539a9a-c8c2-4b18-8587-0debd3effb81",
        "colab": {
          "base_uri": "https://localhost:8080/",
          "height": 298
        }
      },
      "source": [
        "plt.subplot(2,1,1)\n",
        "plt.plot(range(len(train_losses_adam_bn)),train_losses_adam_bn,label='without res')\n",
        "plt.plot(range(len(train_losses_res)),train_losses_res,label='with res')\n",
        "plt.title('training loss with Adam res vs without res')\n",
        "plt.legend()\n",
        "plt.subplot(2,1,2)\n",
        "plt.plot(range(len(val_losses_adam_bn)),val_losses_adam_bn,label='without res')\n",
        "plt.plot(range(len(val_losses_res)),val_losses_res,label='with res')\n",
        "plt.title('validation loss with Adam res vs without res')\n",
        "plt.legend()"
      ],
      "execution_count": 97,
      "outputs": [
        {
          "output_type": "execute_result",
          "data": {
            "text/plain": [
              "<matplotlib.legend.Legend at 0x7f3b0d24a630>"
            ]
          },
          "metadata": {
            "tags": []
          },
          "execution_count": 97
        },
        {
          "output_type": "display_data",
          "data": {
            "image/png": "[encoded data removed]",
            "text/plain": [
              "<Figure size 432x288 with 2 Axes>"
            ]
          },
          "metadata": {
            "tags": [],
            "needs_background": "light"
          }
        }
      ]
    },
    {
      "cell_type": "code",
      "metadata": {
        "id": "kH5V_lDL1Mox",
        "outputId": "37a44e00-d99b-4b18-a177-0ee1fe111514",
        "colab": {
          "base_uri": "https://localhost:8080/",
          "height": 298
        }
      },
      "source": [
        "plt.subplot(2,1,1)\n",
        "plt.plot(range(len(train_accuracies_bn)),train_accuracies_bn,label='without res')\n",
        "plt.plot(range(len(train_accuracies_res)),train_accuracies_res,label='with res')\n",
        "plt.title('training accuracy with res vs without res')\n",
        "plt.legend()\n",
        "plt.subplot(2,1,2)\n",
        "plt.plot(range(len(val_accuracies_bn)),val_accuracies_bn,label='without res')\n",
        "plt.plot(range(len(val_accuracies_res)),val_accuracies_res,label='with res')\n",
        "plt.title('validation accuracy with res vs without res')\n",
        "plt.legend()"
      ],
      "execution_count": 98,
      "outputs": [
        {
          "output_type": "execute_result",
          "data": {
            "text/plain": [
              "<matplotlib.legend.Legend at 0x7f3b0d194978>"
            ]
          },
          "metadata": {
            "tags": []
          },
          "execution_count": 98
        },
        {
          "output_type": "display_data",
          "data": {
            "image/png": "[encoded data removed]",
            "text/plain": [
              "<Figure size 432x288 with 2 Axes>"
            ]
          },
          "metadata": {
            "tags": [],
            "needs_background": "light"
          }
        }
      ]
    },
    {
      "cell_type": "markdown",
      "metadata": {
        "id": "UcSm8k9aNnzF"
      },
      "source": [
        "### With residual connection, the model has better performance interm of validation accuracy. It also shortens the training time and turns on early-stopping while meantaining the similar or even higher performance."
      ]
    },
    {
      "cell_type": "markdown",
      "metadata": {
        "id": "1QXPnxcrx-VU"
      },
      "source": [
        "### Q2.9 Reducing overfiting \n",
        "\n"
      ]
    },
    {
      "cell_type": "markdown",
      "metadata": {
        "id": "HISbvoBh8JTJ"
      },
      "source": [
        "In the previous questions, you might have observed that there is a large difference between the training and validation losses. This is a sign that the model is overfitting. One way to combat this is by adding random transformations to the input data to make your model more robust and prevent it from memorizing the input data. \n",
        "\n",
        "Torchvision provides several transforms that you can readily apply to your data. Experiment with adding a few transforms and report your results in terms of learning curves to see if the gap between the training and validation loss reduces and try to achieve better perfomance on the validation set. "
      ]
    },
    {
      "cell_type": "code",
      "metadata": {
        "id": "0cZRQd-VK7ev"
      },
      "source": [
        "test_transform = transforms.Compose([\n",
        "                                     transforms.ToTensor(),\n",
        "                                     transforms.Normalize(\n",
        "                                         [0.4373, 0.4434, 0.4725],\n",
        "                                         [0.1201, 0.1231, 0.1052])\n",
        "                                     \n",
        "                                     ])\n",
        "\n",
        "train_transform = transforms.Compose([\n",
        "                                      torchvision.transforms.ColorJitter(hue=.05, saturation=.05),\n",
        "                                     torchvision.transforms.RandomHorizontalFlip(),\n",
        "                                     torchvision.transforms.RandomRotation(20),\n",
        "                                      # TODO: Add more transforms here \n",
        "                                      transforms.ToTensor(),\n",
        "                                      transforms.Normalize(\n",
        "                                          [0.4373, 0.4434, 0.4725],\n",
        "                                          [0.1201, 0.1231, 0.1052])                                  \n",
        "                                      ])\n"
      ],
      "execution_count": 87,
      "outputs": []
    },
    {
      "cell_type": "code",
      "metadata": {
        "id": "brZrUl7mK7ez"
      },
      "source": [
        "train_dataset_w_transform  = MapDataset(train_dataset, train_transform)\n",
        "val_dataset_w_transform = MapDataset(val_dataset, test_transform)\n",
        "test_dataset_w_transform = MapDataset(test_dataset, test_transform)"
      ],
      "execution_count": 88,
      "outputs": []
    },
    {
      "cell_type": "code",
      "metadata": {
        "id": "kZp6DqwfK7e1"
      },
      "source": [
        "bs = 128\n",
        "train_loader = DataLoader(train_dataset_w_transform, batch_size=bs, shuffle=True, drop_last=False)\n",
        "val_loader = DataLoader(val_dataset_w_transform, batch_size=bs, shuffle=False, drop_last=False)\n",
        "test_loader = DataLoader(test_dataset_w_transform, batch_size=bs, shuffle=False, drop_last=False)"
      ],
      "execution_count": 89,
      "outputs": []
    },
    {
      "cell_type": "markdown",
      "metadata": {
        "id": "xR_9tihT5Vmu"
      },
      "source": [
        "#### Use the residual network that you built above and use data augmentation to reduce the overfitting "
      ]
    },
    {
      "cell_type": "code",
      "metadata": {
        "id": "WxMLVdrUwh--",
        "outputId": "7dac3773-ee6e-4fb7-c303-05080b517bf0",
        "colab": {
          "base_uri": "https://localhost:8080/",
          "height": 1000,
          "referenced_widgets": [
            "29e2cde41d4f42b5a70057b492730a61",
            "8d5691dc951c4ceea6f093f94cf05937",
            "091747803bec4b57bffcb51732f122d2",
            "c00d30536c714dec93e28cd8270c317f",
            "b2818d2eac5440fb8033156b7df08ffe",
            "a896acf233a84bd5932c8a593f7ae880",
            "a3693d8c88124b209fdc1792b26251ab",
            "933d896f6f95433484a99d58a2f04775"
          ]
        }
      },
      "source": [
        "if torch.cuda.is_available():\n",
        "    device = torch.device(\"cuda\")\n",
        "else:\n",
        "    device = torch.device(\"cpu\")\n",
        "# TODO : Initialize the criterion\n",
        "criterion=nn.CrossEntropyLoss()\n",
        "model=ResidualConvnet(3,10)\n",
        "model=model.to(device)\n",
        "# TODO : Initialize the SGD optimizer with lr 1e-3\n",
        "optimizer=torch.optim.SGD(model.parameters(),lr=1e-3)\n",
        "# TODO : Run the training loop using this model\n",
        "train_losses_aug, train_accuracies_aug, val_losses_aug, val_accuracies_aug=train_loop(model, criterion, optimizer,  train_loader, val_loader)"
      ],
      "execution_count": 90,
      "outputs": [
        {
          "output_type": "display_data",
          "data": {
            "application/vnd.jupyter.widget-view+json": {
              "model_id": "29e2cde41d4f42b5a70057b492730a61",
              "version_minor": 0,
              "version_major": 2
            },
            "text/plain": [
              "HBox(children=(FloatProgress(value=0.0, max=50.0), HTML(value='')))"
            ]
          },
          "metadata": {
            "tags": []
          }
        },
        {
          "output_type": "stream",
          "text": [
            "[EPOCH]: 0, [TRAIN LOSS]: 1.956193, [TRAIN ACCURACY]: 0.294\n",
            "[EPOCH]: 0, [VAL LOSS]: 1.837723, [VAL ACCURACY]: 0.325 \n",
            "\n",
            "[EPOCH]: 1, [TRAIN LOSS]: 1.685277, [TRAIN ACCURACY]: 0.398\n",
            "[EPOCH]: 1, [VAL LOSS]: 1.690147, [VAL ACCURACY]: 0.382 \n",
            "\n",
            "[EPOCH]: 2, [TRAIN LOSS]: 1.561265, [TRAIN ACCURACY]: 0.439\n",
            "[EPOCH]: 2, [VAL LOSS]: 1.585892, [VAL ACCURACY]: 0.422 \n",
            "\n",
            "[EPOCH]: 3, [TRAIN LOSS]: 1.473606, [TRAIN ACCURACY]: 0.472\n",
            "[EPOCH]: 3, [VAL LOSS]: 1.503651, [VAL ACCURACY]: 0.455 \n",
            "\n",
            "[EPOCH]: 4, [TRAIN LOSS]: 1.408546, [TRAIN ACCURACY]: 0.499\n",
            "[EPOCH]: 4, [VAL LOSS]: 1.475255, [VAL ACCURACY]: 0.464 \n",
            "\n",
            "[EPOCH]: 5, [TRAIN LOSS]: 1.348837, [TRAIN ACCURACY]: 0.522\n",
            "[EPOCH]: 5, [VAL LOSS]: 1.438306, [VAL ACCURACY]: 0.473 \n",
            "\n",
            "[EPOCH]: 6, [TRAIN LOSS]: 1.304990, [TRAIN ACCURACY]: 0.537\n",
            "[EPOCH]: 6, [VAL LOSS]: 1.381320, [VAL ACCURACY]: 0.504 \n",
            "\n",
            "[EPOCH]: 7, [TRAIN LOSS]: 1.263602, [TRAIN ACCURACY]: 0.553\n",
            "[EPOCH]: 7, [VAL LOSS]: 1.340498, [VAL ACCURACY]: 0.524 \n",
            "\n",
            "[EPOCH]: 8, [TRAIN LOSS]: 1.225414, [TRAIN ACCURACY]: 0.566\n",
            "[EPOCH]: 8, [VAL LOSS]: 1.317066, [VAL ACCURACY]: 0.533 \n",
            "\n",
            "[EPOCH]: 9, [TRAIN LOSS]: 1.192483, [TRAIN ACCURACY]: 0.579\n",
            "[EPOCH]: 9, [VAL LOSS]: 1.293995, [VAL ACCURACY]: 0.540 \n",
            "\n",
            "[EPOCH]: 10, [TRAIN LOSS]: 1.160108, [TRAIN ACCURACY]: 0.593\n",
            "[EPOCH]: 10, [VAL LOSS]: 1.258370, [VAL ACCURACY]: 0.554 \n",
            "\n",
            "[EPOCH]: 11, [TRAIN LOSS]: 1.134184, [TRAIN ACCURACY]: 0.599\n",
            "[EPOCH]: 11, [VAL LOSS]: 1.234966, [VAL ACCURACY]: 0.561 \n",
            "\n",
            "[EPOCH]: 12, [TRAIN LOSS]: 1.108316, [TRAIN ACCURACY]: 0.610\n",
            "[EPOCH]: 12, [VAL LOSS]: 1.214187, [VAL ACCURACY]: 0.573 \n",
            "\n",
            "[EPOCH]: 13, [TRAIN LOSS]: 1.082285, [TRAIN ACCURACY]: 0.622\n",
            "[EPOCH]: 13, [VAL LOSS]: 1.238483, [VAL ACCURACY]: 0.556 \n",
            "\n",
            "[EPOCH]: 14, [TRAIN LOSS]: 1.060905, [TRAIN ACCURACY]: 0.629\n",
            "[EPOCH]: 14, [VAL LOSS]: 1.188846, [VAL ACCURACY]: 0.581 \n",
            "\n",
            "[EPOCH]: 15, [TRAIN LOSS]: 1.036311, [TRAIN ACCURACY]: 0.636\n",
            "[EPOCH]: 15, [VAL LOSS]: 1.177829, [VAL ACCURACY]: 0.577 \n",
            "\n",
            "[EPOCH]: 16, [TRAIN LOSS]: 1.018238, [TRAIN ACCURACY]: 0.643\n",
            "[EPOCH]: 16, [VAL LOSS]: 1.157548, [VAL ACCURACY]: 0.590 \n",
            "\n",
            "[EPOCH]: 17, [TRAIN LOSS]: 1.000332, [TRAIN ACCURACY]: 0.650\n",
            "[EPOCH]: 17, [VAL LOSS]: 1.180040, [VAL ACCURACY]: 0.581 \n",
            "\n",
            "[EPOCH]: 18, [TRAIN LOSS]: 0.976709, [TRAIN ACCURACY]: 0.658\n",
            "[EPOCH]: 18, [VAL LOSS]: 1.153415, [VAL ACCURACY]: 0.591 \n",
            "\n",
            "[EPOCH]: 19, [TRAIN LOSS]: 0.968514, [TRAIN ACCURACY]: 0.661\n",
            "[EPOCH]: 19, [VAL LOSS]: 1.116428, [VAL ACCURACY]: 0.607 \n",
            "\n",
            "[EPOCH]: 20, [TRAIN LOSS]: 0.948114, [TRAIN ACCURACY]: 0.668\n",
            "[EPOCH]: 20, [VAL LOSS]: 1.127641, [VAL ACCURACY]: 0.598 \n",
            "\n",
            "[EPOCH]: 21, [TRAIN LOSS]: 0.927848, [TRAIN ACCURACY]: 0.676\n",
            "[EPOCH]: 21, [VAL LOSS]: 1.174596, [VAL ACCURACY]: 0.581 \n",
            "\n",
            "[EPOCH]: 22, [TRAIN LOSS]: 0.918632, [TRAIN ACCURACY]: 0.679\n",
            "[EPOCH]: 22, [VAL LOSS]: 1.109454, [VAL ACCURACY]: 0.605 \n",
            "\n",
            "[EPOCH]: 23, [TRAIN LOSS]: 0.904979, [TRAIN ACCURACY]: 0.685\n",
            "[EPOCH]: 23, [VAL LOSS]: 1.081039, [VAL ACCURACY]: 0.618 \n",
            "\n",
            "[EPOCH]: 24, [TRAIN LOSS]: 0.889185, [TRAIN ACCURACY]: 0.690\n",
            "[EPOCH]: 24, [VAL LOSS]: 1.028629, [VAL ACCURACY]: 0.634 \n",
            "\n",
            "[EPOCH]: 25, [TRAIN LOSS]: 0.875910, [TRAIN ACCURACY]: 0.694\n",
            "[EPOCH]: 25, [VAL LOSS]: 1.074060, [VAL ACCURACY]: 0.618 \n",
            "\n",
            "[EPOCH]: 26, [TRAIN LOSS]: 0.863724, [TRAIN ACCURACY]: 0.698\n",
            "[EPOCH]: 26, [VAL LOSS]: 1.066014, [VAL ACCURACY]: 0.622 \n",
            "\n",
            "[EPOCH]: 27, [TRAIN LOSS]: 0.846170, [TRAIN ACCURACY]: 0.706\n",
            "[EPOCH]: 27, [VAL LOSS]: 1.050098, [VAL ACCURACY]: 0.631 \n",
            "\n",
            "[EPOCH]: 28, [TRAIN LOSS]: 0.840451, [TRAIN ACCURACY]: 0.705\n",
            "[EPOCH]: 28, [VAL LOSS]: 1.022680, [VAL ACCURACY]: 0.639 \n",
            "\n",
            "[EPOCH]: 29, [TRAIN LOSS]: 0.828995, [TRAIN ACCURACY]: 0.712\n",
            "[EPOCH]: 29, [VAL LOSS]: 0.969859, [VAL ACCURACY]: 0.654 \n",
            "\n",
            "[EPOCH]: 30, [TRAIN LOSS]: 0.813545, [TRAIN ACCURACY]: 0.714\n",
            "[EPOCH]: 30, [VAL LOSS]: 0.981043, [VAL ACCURACY]: 0.655 \n",
            "\n",
            "[EPOCH]: 31, [TRAIN LOSS]: 0.803627, [TRAIN ACCURACY]: 0.722\n",
            "[EPOCH]: 31, [VAL LOSS]: 0.957963, [VAL ACCURACY]: 0.664 \n",
            "\n",
            "[EPOCH]: 32, [TRAIN LOSS]: 0.792813, [TRAIN ACCURACY]: 0.726\n",
            "[EPOCH]: 32, [VAL LOSS]: 0.983497, [VAL ACCURACY]: 0.655 \n",
            "\n",
            "[EPOCH]: 33, [TRAIN LOSS]: 0.783657, [TRAIN ACCURACY]: 0.728\n",
            "[EPOCH]: 33, [VAL LOSS]: 1.019636, [VAL ACCURACY]: 0.639 \n",
            "\n",
            "[EPOCH]: 34, [TRAIN LOSS]: 0.775766, [TRAIN ACCURACY]: 0.730\n",
            "[EPOCH]: 34, [VAL LOSS]: 0.938482, [VAL ACCURACY]: 0.677 \n",
            "\n",
            "[EPOCH]: 35, [TRAIN LOSS]: 0.763646, [TRAIN ACCURACY]: 0.735\n",
            "[EPOCH]: 35, [VAL LOSS]: 0.946494, [VAL ACCURACY]: 0.668 \n",
            "\n",
            "[EPOCH]: 36, [TRAIN LOSS]: 0.753297, [TRAIN ACCURACY]: 0.740\n",
            "[EPOCH]: 36, [VAL LOSS]: 0.935082, [VAL ACCURACY]: 0.676 \n",
            "\n",
            "[EPOCH]: 37, [TRAIN LOSS]: 0.746899, [TRAIN ACCURACY]: 0.742\n",
            "[EPOCH]: 37, [VAL LOSS]: 0.929389, [VAL ACCURACY]: 0.677 \n",
            "\n",
            "[EPOCH]: 38, [TRAIN LOSS]: 0.738908, [TRAIN ACCURACY]: 0.745\n",
            "[EPOCH]: 38, [VAL LOSS]: 0.932777, [VAL ACCURACY]: 0.676 \n",
            "\n",
            "[EPOCH]: 39, [TRAIN LOSS]: 0.728183, [TRAIN ACCURACY]: 0.750\n",
            "[EPOCH]: 39, [VAL LOSS]: 0.894554, [VAL ACCURACY]: 0.688 \n",
            "\n",
            "[EPOCH]: 40, [TRAIN LOSS]: 0.715279, [TRAIN ACCURACY]: 0.754\n",
            "[EPOCH]: 40, [VAL LOSS]: 0.925360, [VAL ACCURACY]: 0.677 \n",
            "\n",
            "[EPOCH]: 41, [TRAIN LOSS]: 0.706397, [TRAIN ACCURACY]: 0.754\n",
            "[EPOCH]: 41, [VAL LOSS]: 0.934953, [VAL ACCURACY]: 0.671 \n",
            "\n",
            "[EPOCH]: 42, [TRAIN LOSS]: 0.697520, [TRAIN ACCURACY]: 0.759\n",
            "[EPOCH]: 42, [VAL LOSS]: 0.921528, [VAL ACCURACY]: 0.674 \n",
            "\n",
            "[EPOCH]: 43, [TRAIN LOSS]: 0.691782, [TRAIN ACCURACY]: 0.762\n",
            "[EPOCH]: 43, [VAL LOSS]: 0.879725, [VAL ACCURACY]: 0.694 \n",
            "\n",
            "[EPOCH]: 44, [TRAIN LOSS]: 0.682460, [TRAIN ACCURACY]: 0.766\n",
            "[EPOCH]: 44, [VAL LOSS]: 0.904324, [VAL ACCURACY]: 0.682 \n",
            "\n",
            "[EPOCH]: 45, [TRAIN LOSS]: 0.678429, [TRAIN ACCURACY]: 0.767\n",
            "[EPOCH]: 45, [VAL LOSS]: 0.843633, [VAL ACCURACY]: 0.707 \n",
            "\n",
            "[EPOCH]: 46, [TRAIN LOSS]: 0.672069, [TRAIN ACCURACY]: 0.769\n",
            "[EPOCH]: 46, [VAL LOSS]: 0.885203, [VAL ACCURACY]: 0.694 \n",
            "\n",
            "[EPOCH]: 47, [TRAIN LOSS]: 0.659469, [TRAIN ACCURACY]: 0.774\n",
            "[EPOCH]: 47, [VAL LOSS]: 0.860308, [VAL ACCURACY]: 0.708 \n",
            "\n",
            "[EPOCH]: 48, [TRAIN LOSS]: 0.655273, [TRAIN ACCURACY]: 0.773\n",
            "[EPOCH]: 48, [VAL LOSS]: 0.884318, [VAL ACCURACY]: 0.692 \n",
            "\n",
            "[EPOCH]: 49, [TRAIN LOSS]: 0.640778, [TRAIN ACCURACY]: 0.781\n",
            "[EPOCH]: 49, [VAL LOSS]: 0.895807, [VAL ACCURACY]: 0.691 \n",
            "\n",
            "\n"
          ],
          "name": "stdout"
        }
      ]
    },
    {
      "cell_type": "markdown",
      "metadata": {
        "id": "O2rhPXb4nRFA"
      },
      "source": [
        "### Q 2.10  Effect of learning rate decay "
      ]
    },
    {
      "cell_type": "markdown",
      "metadata": {
        "id": "VDqvgBeptLpD"
      },
      "source": [
        "#### Here you need to change the training loop to have one additional operation - add the scheduler step at the end of each epoch. Experiment with different learning rate schedulers provided by pytorch. Report results using atleast StepLR. "
      ]
    },
    {
      "cell_type": "code",
      "metadata": {
        "id": "DoDm84bvtbYK"
      },
      "source": [
        "from torch.optim.lr_scheduler import StepLR"
      ],
      "execution_count": 91,
      "outputs": []
    },
    {
      "cell_type": "code",
      "metadata": {
        "id": "nbGSCk4N57qX"
      },
      "source": [
        "def train_loop2(model, criterion, optimizer, scheduler,  train_loader, val_loader):\n",
        "    \"\"\"\n",
        "    Generic training loop\n",
        "\n",
        "    Parameters\n",
        "    ----------\n",
        "    model : Object instance of your model class \n",
        "    criterion : Loss function \n",
        "    optimizer : Instance of optimizer class of your choice \n",
        "    scheduler : Instance of scheduler class of your choice \n",
        "    train_loader : Training data loader \n",
        "    val_loader : Validation data loader\n",
        "\n",
        "    Returns\n",
        "    -------\n",
        "    train_losses : List with train loss on dataset per epoch\n",
        "    train_accuracies : List with train accuracy on dataset per epoch\n",
        "    val_losses : List with validation loss on dataset per epoch\n",
        "    val_accuracies : List with validation accuracy on dataset per epoch\n",
        "\n",
        "    \"\"\"\n",
        "    best_val = 0.0\n",
        "    train_losses = []\n",
        "    val_losses = []\n",
        "    train_accuracies = []\n",
        "    val_accuracies = []\n",
        "    max_patience = 5\n",
        "    patience_counter = 0\n",
        "    # Training\n",
        "    for t in tqdm(range(50)):\n",
        "        running_correct = 0\n",
        "        running_loss = 0\n",
        "        running_total = 0\n",
        "        # TODO : Set the model to train mode        \n",
        "        model.train()\n",
        "        # TODO: Loop over the training set \n",
        "        for i, (data, labels) in enumerate(train_loader):\n",
        "          \n",
        "            # TODO: Put the inputs and targets on the write device\n",
        "          image = data.to(device)\n",
        "\n",
        "          label = labels.to(device)\n",
        "            # TODO: Feed forward to get the logits\n",
        "          output=model(image)\n",
        "            # TODO: Compute the loss and accuracy\n",
        "          loss=criterion(output,label)\n",
        "          preds = output.data.max(-1)[1]\n",
        "          \n",
        "            # TODO: zero the gradients before running\n",
        "            # the backward pass.\n",
        "          model.zero_grad()\n",
        "            # TODO: Backward pass to compute the gradient\n",
        "            # of loss w.r.t our learnable params. \n",
        "          loss.backward()\n",
        "            # TODO: Update params\n",
        "          optimizer.step()  \n",
        "            # TODO: Keep track of accuracy and loss\n",
        "          num_imgs = image.size()[0]\n",
        "          running_correct += torch.sum(preds ==label).item()\n",
        "          running_loss += loss.item()*num_imgs\n",
        "          running_total += num_imgs\n",
        "        train_losses.append(float(running_loss/running_total))\n",
        "        train_accuracies.append(float(running_correct/running_total))\n",
        "        # TODO: Switch the model to eval mode\n",
        "        model.eval()\n",
        "        running_correct = 0\n",
        "        running_loss = 0\n",
        "        running_total = 0\n",
        "\n",
        "        with torch.no_grad():\n",
        "            # TODO: Loop over the validation set \n",
        "            for i, (data, labels) in enumerate(val_loader):\n",
        "              \n",
        "                # TODO: Put the inputs and targets on the write device\n",
        "              image=data.to(device)\n",
        "              label=labels.to(device)\n",
        "                # TODO: Feed forward to get the logits\n",
        "              output=model(image)\n",
        "                # TODO: Compute the loss and accuracy\n",
        "              loss=criterion(output,label)\n",
        "              preds = output.data.max(-1)[1]\n",
        "                # TODO: Keep track of accuracy and loss\n",
        "              num_imgs = image.size()[0]\n",
        "              running_correct += torch.sum(preds ==label).item()\n",
        "              running_loss += loss.item()*num_imgs\n",
        "              running_total += num_imgs\n",
        "        val_losses.append(float(running_loss/running_total))\n",
        "        val_accuracies.append(float(running_correct/running_total))\n",
        "        if val_accuracies[-1] > best_val:\n",
        "          best_val = val_accuracies[-1]\n",
        "          patience_counter = 0\n",
        "\n",
        "          # TODO: Save best model, optimizer, epoch_number\n",
        "          best_model=copy.deepcopy(model)\n",
        "          torch.save({'epoch': t, \n",
        "                      'model_stat_dict': best_model.state_dict(),\n",
        "                      'optimizer_state_dict': optimizer.state_dict()},\n",
        "                       str(scheduler.gamma)+'steplr.pickle')\n",
        "        else:\n",
        "          patience_counter += 1    \n",
        "          if patience_counter > max_patience: \n",
        "            break\n",
        "\n",
        "        print(\"[EPOCH]: %i, [TRAIN LOSS]: %.6f, [TRAIN ACCURACY]: %.3f\" % (t, train_losses[-1], train_accuracies[-1]))\n",
        "        print(\"[EPOCH]: %i, [VAL LOSS]: %.6f, [VAL ACCURACY]: %.3f \\n\" % (t, val_losses[-1] ,val_accuracies[-1]))\n",
        "\n",
        "        # TODO : scheduler step\n",
        "        if scheduler:\n",
        "            scheduler.step()\n",
        "    return train_losses, train_accuracies, val_losses, val_accuracies"
      ],
      "execution_count": 92,
      "outputs": []
    },
    {
      "cell_type": "code",
      "metadata": {
        "id": "bK1P1aU0sbJn",
        "outputId": "b67d111f-3a4d-4aab-f110-b6458ea70c1f",
        "colab": {
          "base_uri": "https://localhost:8080/",
          "height": 1000,
          "referenced_widgets": [
            "9617bfde36714fc39fe168b912abc111",
            "3423756218da42c68e6c39904ab964a9",
            "2370257e8cca46b99e7ff73e5b33205f",
            "8e68c185e5024fbeae9f801d7c37e879",
            "03af5108e0b34e7f8fc36caf3e4a8749",
            "044ba23f983a4a678205bcaa56275f3f",
            "8e40cb1035694579a9052427526984d3",
            "3b87f26316db4dc89127dd8aac935d56"
          ]
        }
      },
      "source": [
        "# TODO : Initialize the model and cast to correct device\n",
        "if torch.cuda.is_available():\n",
        "    device = torch.device(\"cuda\")\n",
        "else:\n",
        "    device = torch.device(\"cpu\")\n",
        "# TODO : Initialize the criterion\n",
        "criterion=nn.CrossEntropyLoss()\n",
        "model=ResidualConvnet(3,10)\n",
        "model=model.to(device)\n",
        "# TODO : Initialize the SGD optimizer with lr 1e-3\n",
        "optimizer=torch.optim.Adam(model.parameters(),lr=1e-4)\n",
        "param_grid={'lr': [1e-6,1e-5,1e-4,1e-3,1e-2],\n",
        "            'optimizer' : [torch.optim.SGD,torch.optim.Adam]}\n",
        "# TODO : Initialize the \n",
        "scheduler = StepLR(optimizer, step_size=30, gamma=0.1)\n",
        "# TODO : Run the training loop using this model\n",
        "train_losses_lr, train_accuracies_lr, val_losses_lr, val_accuracies_lr=train_loop2(model, criterion, optimizer, scheduler,  train_loader, val_loader)"
      ],
      "execution_count": 93,
      "outputs": [
        {
          "output_type": "display_data",
          "data": {
            "application/vnd.jupyter.widget-view+json": {
              "model_id": "9617bfde36714fc39fe168b912abc111",
              "version_minor": 0,
              "version_major": 2
            },
            "text/plain": [
              "HBox(children=(FloatProgress(value=0.0, max=50.0), HTML(value='')))"
            ]
          },
          "metadata": {
            "tags": []
          }
        },
        {
          "output_type": "stream",
          "text": [
            "[EPOCH]: 0, [TRAIN LOSS]: 1.503921, [TRAIN ACCURACY]: 0.461\n",
            "[EPOCH]: 0, [VAL LOSS]: 1.387481, [VAL ACCURACY]: 0.517 \n",
            "\n",
            "[EPOCH]: 1, [TRAIN LOSS]: 1.139820, [TRAIN ACCURACY]: 0.595\n",
            "[EPOCH]: 1, [VAL LOSS]: 1.201516, [VAL ACCURACY]: 0.586 \n",
            "\n",
            "[EPOCH]: 2, [TRAIN LOSS]: 0.966342, [TRAIN ACCURACY]: 0.663\n",
            "[EPOCH]: 2, [VAL LOSS]: 1.203125, [VAL ACCURACY]: 0.595 \n",
            "\n",
            "[EPOCH]: 3, [TRAIN LOSS]: 0.842253, [TRAIN ACCURACY]: 0.707\n",
            "[EPOCH]: 3, [VAL LOSS]: 0.971080, [VAL ACCURACY]: 0.669 \n",
            "\n",
            "[EPOCH]: 4, [TRAIN LOSS]: 0.767080, [TRAIN ACCURACY]: 0.733\n",
            "[EPOCH]: 4, [VAL LOSS]: 0.877754, [VAL ACCURACY]: 0.699 \n",
            "\n",
            "[EPOCH]: 5, [TRAIN LOSS]: 0.690764, [TRAIN ACCURACY]: 0.763\n",
            "[EPOCH]: 5, [VAL LOSS]: 0.825107, [VAL ACCURACY]: 0.721 \n",
            "\n",
            "[EPOCH]: 6, [TRAIN LOSS]: 0.636394, [TRAIN ACCURACY]: 0.782\n",
            "[EPOCH]: 6, [VAL LOSS]: 0.769408, [VAL ACCURACY]: 0.737 \n",
            "\n",
            "[EPOCH]: 7, [TRAIN LOSS]: 0.592632, [TRAIN ACCURACY]: 0.796\n",
            "[EPOCH]: 7, [VAL LOSS]: 0.735533, [VAL ACCURACY]: 0.746 \n",
            "\n",
            "[EPOCH]: 8, [TRAIN LOSS]: 0.548837, [TRAIN ACCURACY]: 0.811\n",
            "[EPOCH]: 8, [VAL LOSS]: 0.649029, [VAL ACCURACY]: 0.775 \n",
            "\n",
            "[EPOCH]: 9, [TRAIN LOSS]: 0.514761, [TRAIN ACCURACY]: 0.825\n",
            "[EPOCH]: 9, [VAL LOSS]: 0.676727, [VAL ACCURACY]: 0.768 \n",
            "\n",
            "[EPOCH]: 10, [TRAIN LOSS]: 0.482119, [TRAIN ACCURACY]: 0.835\n",
            "[EPOCH]: 10, [VAL LOSS]: 0.708344, [VAL ACCURACY]: 0.763 \n",
            "\n",
            "[EPOCH]: 11, [TRAIN LOSS]: 0.457095, [TRAIN ACCURACY]: 0.844\n",
            "[EPOCH]: 11, [VAL LOSS]: 0.691949, [VAL ACCURACY]: 0.767 \n",
            "\n",
            "[EPOCH]: 12, [TRAIN LOSS]: 0.426694, [TRAIN ACCURACY]: 0.854\n",
            "[EPOCH]: 12, [VAL LOSS]: 0.639601, [VAL ACCURACY]: 0.781 \n",
            "\n",
            "[EPOCH]: 13, [TRAIN LOSS]: 0.398781, [TRAIN ACCURACY]: 0.865\n",
            "[EPOCH]: 13, [VAL LOSS]: 0.617722, [VAL ACCURACY]: 0.793 \n",
            "\n",
            "[EPOCH]: 14, [TRAIN LOSS]: 0.378361, [TRAIN ACCURACY]: 0.870\n",
            "[EPOCH]: 14, [VAL LOSS]: 0.651147, [VAL ACCURACY]: 0.784 \n",
            "\n",
            "[EPOCH]: 15, [TRAIN LOSS]: 0.357673, [TRAIN ACCURACY]: 0.877\n",
            "[EPOCH]: 15, [VAL LOSS]: 0.605900, [VAL ACCURACY]: 0.799 \n",
            "\n",
            "[EPOCH]: 16, [TRAIN LOSS]: 0.340618, [TRAIN ACCURACY]: 0.884\n",
            "[EPOCH]: 16, [VAL LOSS]: 0.604178, [VAL ACCURACY]: 0.796 \n",
            "\n",
            "[EPOCH]: 17, [TRAIN LOSS]: 0.314402, [TRAIN ACCURACY]: 0.895\n",
            "[EPOCH]: 17, [VAL LOSS]: 0.564248, [VAL ACCURACY]: 0.815 \n",
            "\n",
            "[EPOCH]: 18, [TRAIN LOSS]: 0.297628, [TRAIN ACCURACY]: 0.900\n",
            "[EPOCH]: 18, [VAL LOSS]: 0.582776, [VAL ACCURACY]: 0.806 \n",
            "\n",
            "[EPOCH]: 19, [TRAIN LOSS]: 0.281599, [TRAIN ACCURACY]: 0.904\n",
            "[EPOCH]: 19, [VAL LOSS]: 0.571077, [VAL ACCURACY]: 0.817 \n",
            "\n",
            "[EPOCH]: 20, [TRAIN LOSS]: 0.265694, [TRAIN ACCURACY]: 0.909\n",
            "[EPOCH]: 20, [VAL LOSS]: 0.587578, [VAL ACCURACY]: 0.813 \n",
            "\n",
            "[EPOCH]: 21, [TRAIN LOSS]: 0.256745, [TRAIN ACCURACY]: 0.913\n",
            "[EPOCH]: 21, [VAL LOSS]: 0.567748, [VAL ACCURACY]: 0.812 \n",
            "\n",
            "[EPOCH]: 22, [TRAIN LOSS]: 0.236287, [TRAIN ACCURACY]: 0.921\n",
            "[EPOCH]: 22, [VAL LOSS]: 0.538156, [VAL ACCURACY]: 0.824 \n",
            "\n",
            "[EPOCH]: 23, [TRAIN LOSS]: 0.225072, [TRAIN ACCURACY]: 0.924\n",
            "[EPOCH]: 23, [VAL LOSS]: 0.556015, [VAL ACCURACY]: 0.822 \n",
            "\n",
            "[EPOCH]: 24, [TRAIN LOSS]: 0.212797, [TRAIN ACCURACY]: 0.928\n",
            "[EPOCH]: 24, [VAL LOSS]: 0.608361, [VAL ACCURACY]: 0.808 \n",
            "\n",
            "[EPOCH]: 25, [TRAIN LOSS]: 0.204396, [TRAIN ACCURACY]: 0.931\n",
            "[EPOCH]: 25, [VAL LOSS]: 0.584598, [VAL ACCURACY]: 0.817 \n",
            "\n",
            "[EPOCH]: 26, [TRAIN LOSS]: 0.194186, [TRAIN ACCURACY]: 0.935\n",
            "[EPOCH]: 26, [VAL LOSS]: 0.599317, [VAL ACCURACY]: 0.815 \n",
            "\n",
            "[EPOCH]: 27, [TRAIN LOSS]: 0.184923, [TRAIN ACCURACY]: 0.938\n",
            "[EPOCH]: 27, [VAL LOSS]: 0.589271, [VAL ACCURACY]: 0.818 \n",
            "\n"
          ],
          "name": "stdout"
        }
      ]
    },
    {
      "cell_type": "code",
      "metadata": {
        "id": "mLjb2r9T3t9a",
        "outputId": "9342dae1-2e2a-4631-9652-fb7f946a0a58",
        "colab": {
          "base_uri": "https://localhost:8080/",
          "height": 298
        }
      },
      "source": [
        "plt.subplot(2,1,1)\n",
        "plt.plot(range(len(train_losses_lr)),train_losses_lr,label='steplr')\n",
        "plt.title('training loss with steplr')\n",
        "plt.legend()\n",
        "plt.subplot(2,1,2)\n",
        "plt.plot(range(len(val_losses_lr)),val_losses_lr,label='steplr')\n",
        "plt.title('validation loss with steplr')\n",
        "plt.legend()"
      ],
      "execution_count": 94,
      "outputs": [
        {
          "output_type": "execute_result",
          "data": {
            "text/plain": [
              "<matplotlib.legend.Legend at 0x7f3b0d37fac8>"
            ]
          },
          "metadata": {
            "tags": []
          },
          "execution_count": 94
        },
        {
          "output_type": "display_data",
          "data": {
            "image/png": "[encoded data removed]",
            "text/plain": [
              "<Figure size 432x288 with 2 Axes>"
            ]
          },
          "metadata": {
            "tags": [],
            "needs_background": "light"
          }
        }
      ]
    },
    {
      "cell_type": "code",
      "metadata": {
        "id": "lkls5LUi32QV",
        "outputId": "47718b58-40aa-4275-e9e0-32ce06132010",
        "colab": {
          "base_uri": "https://localhost:8080/",
          "height": 298
        }
      },
      "source": [
        "plt.subplot(2,1,1)\n",
        "plt.plot(range(len(train_accuracies_lr)),train_accuracies_lr,label='steplr')\n",
        "plt.title('training accuracy with steplr')\n",
        "plt.legend()\n",
        "plt.subplot(2,1,2)\n",
        "plt.plot(range(len(val_accuracies_lr)),val_accuracies_lr,label='steplr')\n",
        "plt.title('validation accuracy with steplr')\n",
        "plt.legend()"
      ],
      "execution_count": 95,
      "outputs": [
        {
          "output_type": "execute_result",
          "data": {
            "text/plain": [
              "<matplotlib.legend.Legend at 0x7f3b0d34c908>"
            ]
          },
          "metadata": {
            "tags": []
          },
          "execution_count": 95
        },
        {
          "output_type": "display_data",
          "data": {
            "image/png": "[encoded data removed]",
            "text/plain": [
              "<Figure size 432x288 with 2 Axes>"
            ]
          },
          "metadata": {
            "tags": [],
            "needs_background": "light"
          }
        }
      ]
    },
    {
      "cell_type": "markdown",
      "metadata": {
        "id": "cG8bhd5V97iJ"
      },
      "source": [
        "### Q2.11 Hyper parameter tuning \n"
      ]
    },
    {
      "cell_type": "markdown",
      "metadata": {
        "id": "G05PHYHJ-DF2"
      },
      "source": [
        "#### Experiment with a range of learning rates and optimizers, as well as the parameter in the learning rate scheduler for StepLR. Report the following plots: \n",
        "\n",
        "1. Learning curves (training and validation loss for 5 different learning rate with SGD optimizer)\n",
        "2. Learning curves (training and validation loss for 5 different learning rate with Adam optimizer)\n",
        "3. Learning curves (training and validation loss for 5 different gamma parameter for the StepLR)\n",
        "\n",
        "\n",
        "\n"
      ]
    },
    {
      "cell_type": "code",
      "metadata": {
        "id": "zaZulSxLrVn-",
        "outputId": "91a417d1-1ce5-4dac-f1b9-2ef3cef2091e",
        "colab": {
          "base_uri": "https://localhost:8080/",
          "height": 1000,
          "referenced_widgets": [
            "2dc07d1f51c84fc19a6e993a16b708a2",
            "6e48822e13f14ed297b0d32bd6727f68",
            "2d1a2a07472c4ef7bf40677af108a33d",
            "01eea7720a594446b3f4bd64512108cc",
            "953d824dcd5048a79c89818ef5c57b9c",
            "8be2fee435244fb2926eaeecf2b7e16b",
            "42bbd0c529de4440995026570c3f3ca7",
            "3a3c4f36c80847db9131991ab483c19e",
            "5c625acb850a44e1b2bc08822609feae",
            "35a17a30ad83439da56d5ad31de55e71",
            "67f88691a25748b581e68418714d4232",
            "129c858bb8fd4ee599531a3f314e7273",
            "e07914420bee46e88aeb5338e1d9ad04",
            "7686d696b7aa4a6da8126ee519ad0644",
            "9b8f211393414e0f84204cdea7fe567c",
            "e5897ae97a6d40dc96f6aa2c6e13b66a",
            "60896036d2254a61af51936851502a7b",
            "29dfac7ab1e44e6c8b8d1523e695c601",
            "a090593532d14a6e918ce4e3b4ab6278",
            "25627c7dc4f24fe3ade6070d1afc2009",
            "0f4940104731445b931dedb2cae06e2d"
          ]
        }
      },
      "source": [
        "if torch.cuda.is_available():\n",
        "    device = torch.device(\"cuda\")\n",
        "else:\n",
        "    device = torch.device(\"cpu\")\n",
        "model=ResidualConvnet(3,10)\n",
        "model=model.to(device)\n",
        "acc=[]\n",
        "\n",
        "for l_r in [1e-5,1e-4,1e-3,1e-2,1e-1]:\n",
        "    \n",
        "  optimizer=torch.optim.SGD(model.parameters(),lr=l_r)\n",
        "  train_losses_aug, train_accuracies_aug, val_losses_aug, val_accuracies_aug=train_loop(model, criterion, optimizer,  train_loader, val_loader)\n",
        "  acc.append(max(val_accuracies_aug))\n",
        "  plt.subplot(2,1, 1) \n",
        "  plt.plot(range(len(train_losses_aug)),train_losses_aug,label=str(l_r))\n",
        "  plt.title('SGD train loss')\n",
        "  plt.legend()\n",
        "  plt.subplot(2, 1, 2) \n",
        "  plt.plot(range(len(val_losses_aug)),val_losses_aug,label=str(l_r))\n",
        "  plt.title('SGD val loss')\n",
        "  plt.legend()\n",
        "\n"
      ],
      "execution_count": null,
      "outputs": [
        {
          "output_type": "display_data",
          "data": {
            "application/vnd.jupyter.widget-view+json": {
              "model_id": "60896036d2254a61af51936851502a7b",
              "version_major": 2,
              "version_minor": 0
            },
            "text/plain": [
              "HBox(children=(IntProgress(value=0, max=50), HTML(value='')))"
            ]
          },
          "metadata": {
            "tags": []
          }
        },
        {
          "output_type": "stream",
          "text": [
            "[EPOCH]: 0, [TRAIN LOSS]: 3.039649, [TRAIN ACCURACY]: 0.103\n",
            "[EPOCH]: 0, [VAL LOSS]: 2.562539, [VAL ACCURACY]: 0.104 \n",
            "\n",
            "[EPOCH]: 1, [TRAIN LOSS]: 2.604458, [TRAIN ACCURACY]: 0.107\n",
            "[EPOCH]: 1, [VAL LOSS]: 2.424399, [VAL ACCURACY]: 0.107 \n",
            "\n",
            "[EPOCH]: 2, [TRAIN LOSS]: 2.446948, [TRAIN ACCURACY]: 0.114\n",
            "[EPOCH]: 2, [VAL LOSS]: 2.351686, [VAL ACCURACY]: 0.120 \n",
            "\n",
            "[EPOCH]: 3, [TRAIN LOSS]: 2.357214, [TRAIN ACCURACY]: 0.130\n",
            "[EPOCH]: 3, [VAL LOSS]: 2.304435, [VAL ACCURACY]: 0.133 \n",
            "\n",
            "[EPOCH]: 4, [TRAIN LOSS]: 2.296016, [TRAIN ACCURACY]: 0.147\n",
            "[EPOCH]: 4, [VAL LOSS]: 2.271787, [VAL ACCURACY]: 0.142 \n",
            "\n",
            "[EPOCH]: 5, [TRAIN LOSS]: 2.255215, [TRAIN ACCURACY]: 0.163\n",
            "[EPOCH]: 5, [VAL LOSS]: 2.246761, [VAL ACCURACY]: 0.150 \n",
            "\n",
            "[EPOCH]: 6, [TRAIN LOSS]: 2.224765, [TRAIN ACCURACY]: 0.178\n",
            "[EPOCH]: 6, [VAL LOSS]: 2.230273, [VAL ACCURACY]: 0.156 \n",
            "\n",
            "[EPOCH]: 7, [TRAIN LOSS]: 2.199646, [TRAIN ACCURACY]: 0.185\n",
            "[EPOCH]: 7, [VAL LOSS]: 2.216484, [VAL ACCURACY]: 0.163 \n",
            "\n",
            "[EPOCH]: 8, [TRAIN LOSS]: 2.183105, [TRAIN ACCURACY]: 0.196\n",
            "[EPOCH]: 8, [VAL LOSS]: 2.206629, [VAL ACCURACY]: 0.166 \n",
            "\n",
            "[EPOCH]: 9, [TRAIN LOSS]: 2.168229, [TRAIN ACCURACY]: 0.201\n",
            "[EPOCH]: 9, [VAL LOSS]: 2.191101, [VAL ACCURACY]: 0.170 \n",
            "\n",
            "[EPOCH]: 10, [TRAIN LOSS]: 2.153318, [TRAIN ACCURACY]: 0.206\n",
            "[EPOCH]: 10, [VAL LOSS]: 2.180026, [VAL ACCURACY]: 0.174 \n",
            "\n",
            "[EPOCH]: 11, [TRAIN LOSS]: 2.136861, [TRAIN ACCURACY]: 0.214\n",
            "[EPOCH]: 11, [VAL LOSS]: 2.170746, [VAL ACCURACY]: 0.177 \n",
            "\n",
            "[EPOCH]: 12, [TRAIN LOSS]: 2.125612, [TRAIN ACCURACY]: 0.219\n",
            "[EPOCH]: 12, [VAL LOSS]: 2.160517, [VAL ACCURACY]: 0.182 \n",
            "\n",
            "[EPOCH]: 13, [TRAIN LOSS]: 2.110320, [TRAIN ACCURACY]: 0.226\n",
            "[EPOCH]: 13, [VAL LOSS]: 2.149001, [VAL ACCURACY]: 0.189 \n",
            "\n",
            "[EPOCH]: 14, [TRAIN LOSS]: 2.100782, [TRAIN ACCURACY]: 0.228\n",
            "[EPOCH]: 14, [VAL LOSS]: 2.140851, [VAL ACCURACY]: 0.192 \n",
            "\n",
            "[EPOCH]: 15, [TRAIN LOSS]: 2.089362, [TRAIN ACCURACY]: 0.234\n",
            "[EPOCH]: 15, [VAL LOSS]: 2.133869, [VAL ACCURACY]: 0.197 \n",
            "\n",
            "[EPOCH]: 16, [TRAIN LOSS]: 2.082424, [TRAIN ACCURACY]: 0.240\n",
            "[EPOCH]: 16, [VAL LOSS]: 2.130555, [VAL ACCURACY]: 0.199 \n",
            "\n",
            "[EPOCH]: 17, [TRAIN LOSS]: 2.073057, [TRAIN ACCURACY]: 0.242\n",
            "[EPOCH]: 17, [VAL LOSS]: 2.117478, [VAL ACCURACY]: 0.206 \n",
            "\n",
            "[EPOCH]: 18, [TRAIN LOSS]: 2.064405, [TRAIN ACCURACY]: 0.243\n",
            "[EPOCH]: 18, [VAL LOSS]: 2.109604, [VAL ACCURACY]: 0.211 \n",
            "\n",
            "[EPOCH]: 19, [TRAIN LOSS]: 2.059214, [TRAIN ACCURACY]: 0.245\n",
            "[EPOCH]: 19, [VAL LOSS]: 2.107091, [VAL ACCURACY]: 0.214 \n",
            "\n",
            "[EPOCH]: 20, [TRAIN LOSS]: 2.047327, [TRAIN ACCURACY]: 0.253\n",
            "[EPOCH]: 20, [VAL LOSS]: 2.100750, [VAL ACCURACY]: 0.216 \n",
            "\n",
            "[EPOCH]: 21, [TRAIN LOSS]: 2.040683, [TRAIN ACCURACY]: 0.260\n",
            "[EPOCH]: 21, [VAL LOSS]: 2.093554, [VAL ACCURACY]: 0.218 \n",
            "\n",
            "[EPOCH]: 22, [TRAIN LOSS]: 2.035978, [TRAIN ACCURACY]: 0.260\n",
            "[EPOCH]: 22, [VAL LOSS]: 2.088358, [VAL ACCURACY]: 0.221 \n",
            "\n",
            "[EPOCH]: 23, [TRAIN LOSS]: 2.027325, [TRAIN ACCURACY]: 0.260\n",
            "[EPOCH]: 23, [VAL LOSS]: 2.082448, [VAL ACCURACY]: 0.223 \n",
            "\n",
            "[EPOCH]: 24, [TRAIN LOSS]: 2.022635, [TRAIN ACCURACY]: 0.264\n",
            "[EPOCH]: 24, [VAL LOSS]: 2.075715, [VAL ACCURACY]: 0.227 \n",
            "\n",
            "[EPOCH]: 25, [TRAIN LOSS]: 2.015865, [TRAIN ACCURACY]: 0.268\n",
            "[EPOCH]: 25, [VAL LOSS]: 2.075674, [VAL ACCURACY]: 0.228 \n",
            "\n",
            "[EPOCH]: 26, [TRAIN LOSS]: 2.010707, [TRAIN ACCURACY]: 0.266\n",
            "[EPOCH]: 26, [VAL LOSS]: 2.067381, [VAL ACCURACY]: 0.234 \n",
            "\n",
            "[EPOCH]: 27, [TRAIN LOSS]: 2.004690, [TRAIN ACCURACY]: 0.272\n",
            "[EPOCH]: 27, [VAL LOSS]: 2.060414, [VAL ACCURACY]: 0.237 \n",
            "\n",
            "[EPOCH]: 28, [TRAIN LOSS]: 1.996265, [TRAIN ACCURACY]: 0.274\n",
            "[EPOCH]: 28, [VAL LOSS]: 2.061458, [VAL ACCURACY]: 0.238 \n",
            "\n",
            "[EPOCH]: 29, [TRAIN LOSS]: 1.992956, [TRAIN ACCURACY]: 0.277\n",
            "[EPOCH]: 29, [VAL LOSS]: 2.053115, [VAL ACCURACY]: 0.242 \n",
            "\n",
            "[EPOCH]: 30, [TRAIN LOSS]: 1.988958, [TRAIN ACCURACY]: 0.279\n",
            "[EPOCH]: 30, [VAL LOSS]: 2.051337, [VAL ACCURACY]: 0.243 \n",
            "\n",
            "[EPOCH]: 31, [TRAIN LOSS]: 1.983898, [TRAIN ACCURACY]: 0.278\n",
            "[EPOCH]: 31, [VAL LOSS]: 2.044430, [VAL ACCURACY]: 0.245 \n",
            "\n",
            "[EPOCH]: 32, [TRAIN LOSS]: 1.979191, [TRAIN ACCURACY]: 0.282\n",
            "[EPOCH]: 32, [VAL LOSS]: 2.043114, [VAL ACCURACY]: 0.248 \n",
            "\n",
            "[EPOCH]: 33, [TRAIN LOSS]: 1.972585, [TRAIN ACCURACY]: 0.286\n",
            "[EPOCH]: 33, [VAL LOSS]: 2.039750, [VAL ACCURACY]: 0.247 \n",
            "\n",
            "[EPOCH]: 34, [TRAIN LOSS]: 1.965786, [TRAIN ACCURACY]: 0.288\n",
            "[EPOCH]: 34, [VAL LOSS]: 2.035556, [VAL ACCURACY]: 0.250 \n",
            "\n",
            "[EPOCH]: 35, [TRAIN LOSS]: 1.961755, [TRAIN ACCURACY]: 0.288\n",
            "[EPOCH]: 35, [VAL LOSS]: 2.028923, [VAL ACCURACY]: 0.254 \n",
            "\n",
            "[EPOCH]: 36, [TRAIN LOSS]: 1.961889, [TRAIN ACCURACY]: 0.288\n",
            "[EPOCH]: 36, [VAL LOSS]: 2.030702, [VAL ACCURACY]: 0.253 \n",
            "\n",
            "[EPOCH]: 37, [TRAIN LOSS]: 1.953800, [TRAIN ACCURACY]: 0.296\n",
            "[EPOCH]: 37, [VAL LOSS]: 2.023339, [VAL ACCURACY]: 0.256 \n",
            "\n",
            "[EPOCH]: 38, [TRAIN LOSS]: 1.948852, [TRAIN ACCURACY]: 0.297\n",
            "[EPOCH]: 38, [VAL LOSS]: 2.021040, [VAL ACCURACY]: 0.257 \n",
            "\n",
            "[EPOCH]: 39, [TRAIN LOSS]: 1.945478, [TRAIN ACCURACY]: 0.299\n",
            "[EPOCH]: 39, [VAL LOSS]: 2.012331, [VAL ACCURACY]: 0.259 \n",
            "\n",
            "[EPOCH]: 40, [TRAIN LOSS]: 1.941413, [TRAIN ACCURACY]: 0.297\n",
            "[EPOCH]: 40, [VAL LOSS]: 2.018565, [VAL ACCURACY]: 0.257 \n",
            "\n",
            "[EPOCH]: 41, [TRAIN LOSS]: 1.937213, [TRAIN ACCURACY]: 0.303\n",
            "[EPOCH]: 41, [VAL LOSS]: 2.016079, [VAL ACCURACY]: 0.257 \n",
            "\n",
            "[EPOCH]: 42, [TRAIN LOSS]: 1.933482, [TRAIN ACCURACY]: 0.304\n",
            "[EPOCH]: 42, [VAL LOSS]: 2.013211, [VAL ACCURACY]: 0.260 \n",
            "\n",
            "[EPOCH]: 43, [TRAIN LOSS]: 1.931890, [TRAIN ACCURACY]: 0.301\n",
            "[EPOCH]: 43, [VAL LOSS]: 2.006532, [VAL ACCURACY]: 0.263 \n",
            "\n",
            "[EPOCH]: 44, [TRAIN LOSS]: 1.927804, [TRAIN ACCURACY]: 0.305\n",
            "[EPOCH]: 44, [VAL LOSS]: 2.001459, [VAL ACCURACY]: 0.264 \n",
            "\n",
            "[EPOCH]: 45, [TRAIN LOSS]: 1.921951, [TRAIN ACCURACY]: 0.308\n",
            "[EPOCH]: 45, [VAL LOSS]: 2.010755, [VAL ACCURACY]: 0.260 \n",
            "\n",
            "[EPOCH]: 46, [TRAIN LOSS]: 1.917840, [TRAIN ACCURACY]: 0.309\n",
            "[EPOCH]: 46, [VAL LOSS]: 1.996930, [VAL ACCURACY]: 0.265 \n",
            "\n",
            "[EPOCH]: 47, [TRAIN LOSS]: 1.914031, [TRAIN ACCURACY]: 0.310\n",
            "[EPOCH]: 47, [VAL LOSS]: 2.002198, [VAL ACCURACY]: 0.265 \n",
            "\n",
            "[EPOCH]: 48, [TRAIN LOSS]: 1.909951, [TRAIN ACCURACY]: 0.309\n",
            "[EPOCH]: 48, [VAL LOSS]: 1.987437, [VAL ACCURACY]: 0.271 \n",
            "\n",
            "[EPOCH]: 49, [TRAIN LOSS]: 1.907257, [TRAIN ACCURACY]: 0.315\n",
            "[EPOCH]: 49, [VAL LOSS]: 1.989910, [VAL ACCURACY]: 0.270 \n",
            "\n"
          ],
          "name": "stdout"
        },
        {
          "output_type": "display_data",
          "data": {
            "application/vnd.jupyter.widget-view+json": {
              "model_id": "29dfac7ab1e44e6c8b8d1523e695c601",
              "version_major": 2,
              "version_minor": 0
            },
            "text/plain": [
              "HBox(children=(IntProgress(value=0, max=50), HTML(value='')))"
            ]
          },
          "metadata": {
            "tags": []
          }
        },
        {
          "output_type": "stream",
          "text": [
            "[EPOCH]: 0, [TRAIN LOSS]: 1.887355, [TRAIN ACCURACY]: 0.322\n",
            "[EPOCH]: 0, [VAL LOSS]: 1.966334, [VAL ACCURACY]: 0.281 \n",
            "\n",
            "[EPOCH]: 1, [TRAIN LOSS]: 1.855725, [TRAIN ACCURACY]: 0.336\n",
            "[EPOCH]: 1, [VAL LOSS]: 1.937824, [VAL ACCURACY]: 0.295 \n",
            "\n",
            "[EPOCH]: 2, [TRAIN LOSS]: 1.828750, [TRAIN ACCURACY]: 0.345\n",
            "[EPOCH]: 2, [VAL LOSS]: 1.917543, [VAL ACCURACY]: 0.302 \n",
            "\n",
            "[EPOCH]: 3, [TRAIN LOSS]: 1.803533, [TRAIN ACCURACY]: 0.354\n",
            "[EPOCH]: 3, [VAL LOSS]: 1.900009, [VAL ACCURACY]: 0.311 \n",
            "\n",
            "[EPOCH]: 4, [TRAIN LOSS]: 1.778881, [TRAIN ACCURACY]: 0.364\n",
            "[EPOCH]: 4, [VAL LOSS]: 1.886786, [VAL ACCURACY]: 0.320 \n",
            "\n",
            "[EPOCH]: 5, [TRAIN LOSS]: 1.759349, [TRAIN ACCURACY]: 0.370\n",
            "[EPOCH]: 5, [VAL LOSS]: 1.875198, [VAL ACCURACY]: 0.325 \n",
            "\n",
            "[EPOCH]: 6, [TRAIN LOSS]: 1.736388, [TRAIN ACCURACY]: 0.377\n",
            "[EPOCH]: 6, [VAL LOSS]: 1.852865, [VAL ACCURACY]: 0.332 \n",
            "\n",
            "[EPOCH]: 7, [TRAIN LOSS]: 1.720579, [TRAIN ACCURACY]: 0.384\n",
            "[EPOCH]: 7, [VAL LOSS]: 1.852796, [VAL ACCURACY]: 0.335 \n",
            "\n",
            "[EPOCH]: 8, [TRAIN LOSS]: 1.697278, [TRAIN ACCURACY]: 0.392\n",
            "[EPOCH]: 8, [VAL LOSS]: 1.839032, [VAL ACCURACY]: 0.340 \n",
            "\n",
            "[EPOCH]: 9, [TRAIN LOSS]: 1.681304, [TRAIN ACCURACY]: 0.398\n",
            "[EPOCH]: 9, [VAL LOSS]: 1.828887, [VAL ACCURACY]: 0.345 \n",
            "\n",
            "[EPOCH]: 10, [TRAIN LOSS]: 1.666902, [TRAIN ACCURACY]: 0.404\n",
            "[EPOCH]: 10, [VAL LOSS]: 1.815901, [VAL ACCURACY]: 0.352 \n",
            "\n",
            "[EPOCH]: 11, [TRAIN LOSS]: 1.650990, [TRAIN ACCURACY]: 0.406\n",
            "[EPOCH]: 11, [VAL LOSS]: 1.816202, [VAL ACCURACY]: 0.352 \n",
            "\n",
            "[EPOCH]: 12, [TRAIN LOSS]: 1.635595, [TRAIN ACCURACY]: 0.412\n",
            "[EPOCH]: 12, [VAL LOSS]: 1.797096, [VAL ACCURACY]: 0.360 \n",
            "\n",
            "[EPOCH]: 13, [TRAIN LOSS]: 1.622216, [TRAIN ACCURACY]: 0.419\n",
            "[EPOCH]: 13, [VAL LOSS]: 1.811141, [VAL ACCURACY]: 0.357 \n",
            "\n",
            "[EPOCH]: 14, [TRAIN LOSS]: 1.607611, [TRAIN ACCURACY]: 0.424\n",
            "[EPOCH]: 14, [VAL LOSS]: 1.789904, [VAL ACCURACY]: 0.364 \n",
            "\n",
            "[EPOCH]: 15, [TRAIN LOSS]: 1.595150, [TRAIN ACCURACY]: 0.429\n",
            "[EPOCH]: 15, [VAL LOSS]: 1.791673, [VAL ACCURACY]: 0.368 \n",
            "\n",
            "[EPOCH]: 16, [TRAIN LOSS]: 1.578523, [TRAIN ACCURACY]: 0.435\n",
            "[EPOCH]: 16, [VAL LOSS]: 1.761967, [VAL ACCURACY]: 0.375 \n",
            "\n",
            "[EPOCH]: 17, [TRAIN LOSS]: 1.570282, [TRAIN ACCURACY]: 0.439\n",
            "[EPOCH]: 17, [VAL LOSS]: 1.769506, [VAL ACCURACY]: 0.375 \n",
            "\n",
            "[EPOCH]: 18, [TRAIN LOSS]: 1.560220, [TRAIN ACCURACY]: 0.442\n",
            "[EPOCH]: 18, [VAL LOSS]: 1.767101, [VAL ACCURACY]: 0.376 \n",
            "\n",
            "[EPOCH]: 19, [TRAIN LOSS]: 1.546446, [TRAIN ACCURACY]: 0.446\n",
            "[EPOCH]: 19, [VAL LOSS]: 1.760349, [VAL ACCURACY]: 0.381 \n",
            "\n",
            "[EPOCH]: 20, [TRAIN LOSS]: 1.538960, [TRAIN ACCURACY]: 0.447\n",
            "[EPOCH]: 20, [VAL LOSS]: 1.747411, [VAL ACCURACY]: 0.387 \n",
            "\n",
            "[EPOCH]: 21, [TRAIN LOSS]: 1.526080, [TRAIN ACCURACY]: 0.455\n",
            "[EPOCH]: 21, [VAL LOSS]: 1.738550, [VAL ACCURACY]: 0.390 \n",
            "\n",
            "[EPOCH]: 22, [TRAIN LOSS]: 1.519352, [TRAIN ACCURACY]: 0.456\n",
            "[EPOCH]: 22, [VAL LOSS]: 1.729414, [VAL ACCURACY]: 0.392 \n",
            "\n",
            "[EPOCH]: 23, [TRAIN LOSS]: 1.511481, [TRAIN ACCURACY]: 0.459\n",
            "[EPOCH]: 23, [VAL LOSS]: 1.731636, [VAL ACCURACY]: 0.393 \n",
            "\n",
            "[EPOCH]: 24, [TRAIN LOSS]: 1.498603, [TRAIN ACCURACY]: 0.464\n",
            "[EPOCH]: 24, [VAL LOSS]: 1.713237, [VAL ACCURACY]: 0.401 \n",
            "\n",
            "[EPOCH]: 25, [TRAIN LOSS]: 1.489102, [TRAIN ACCURACY]: 0.469\n",
            "[EPOCH]: 25, [VAL LOSS]: 1.706495, [VAL ACCURACY]: 0.402 \n",
            "\n",
            "[EPOCH]: 26, [TRAIN LOSS]: 1.480323, [TRAIN ACCURACY]: 0.470\n",
            "[EPOCH]: 26, [VAL LOSS]: 1.696723, [VAL ACCURACY]: 0.406 \n",
            "\n",
            "[EPOCH]: 27, [TRAIN LOSS]: 1.472713, [TRAIN ACCURACY]: 0.475\n",
            "[EPOCH]: 27, [VAL LOSS]: 1.692580, [VAL ACCURACY]: 0.407 \n",
            "\n",
            "[EPOCH]: 28, [TRAIN LOSS]: 1.463704, [TRAIN ACCURACY]: 0.477\n",
            "[EPOCH]: 28, [VAL LOSS]: 1.686592, [VAL ACCURACY]: 0.410 \n",
            "\n",
            "[EPOCH]: 29, [TRAIN LOSS]: 1.457315, [TRAIN ACCURACY]: 0.480\n",
            "[EPOCH]: 29, [VAL LOSS]: 1.683156, [VAL ACCURACY]: 0.411 \n",
            "\n",
            "[EPOCH]: 30, [TRAIN LOSS]: 1.446376, [TRAIN ACCURACY]: 0.483\n",
            "[EPOCH]: 30, [VAL LOSS]: 1.681502, [VAL ACCURACY]: 0.411 \n",
            "\n",
            "[EPOCH]: 31, [TRAIN LOSS]: 1.439686, [TRAIN ACCURACY]: 0.484\n",
            "[EPOCH]: 31, [VAL LOSS]: 1.658491, [VAL ACCURACY]: 0.421 \n",
            "\n",
            "[EPOCH]: 32, [TRAIN LOSS]: 1.430619, [TRAIN ACCURACY]: 0.489\n",
            "[EPOCH]: 32, [VAL LOSS]: 1.672966, [VAL ACCURACY]: 0.419 \n",
            "\n",
            "[EPOCH]: 33, [TRAIN LOSS]: 1.426747, [TRAIN ACCURACY]: 0.490\n",
            "[EPOCH]: 33, [VAL LOSS]: 1.662302, [VAL ACCURACY]: 0.420 \n",
            "\n",
            "[EPOCH]: 34, [TRAIN LOSS]: 1.418920, [TRAIN ACCURACY]: 0.492\n",
            "[EPOCH]: 34, [VAL LOSS]: 1.667420, [VAL ACCURACY]: 0.418 \n",
            "\n",
            "[EPOCH]: 35, [TRAIN LOSS]: 1.413516, [TRAIN ACCURACY]: 0.493\n",
            "[EPOCH]: 35, [VAL LOSS]: 1.670292, [VAL ACCURACY]: 0.420 \n",
            "\n",
            "[EPOCH]: 36, [TRAIN LOSS]: 1.405368, [TRAIN ACCURACY]: 0.497\n",
            "[EPOCH]: 36, [VAL LOSS]: 1.657248, [VAL ACCURACY]: 0.422 \n",
            "\n",
            "[EPOCH]: 37, [TRAIN LOSS]: 1.399670, [TRAIN ACCURACY]: 0.500\n",
            "[EPOCH]: 37, [VAL LOSS]: 1.655660, [VAL ACCURACY]: 0.422 \n",
            "\n",
            "[EPOCH]: 38, [TRAIN LOSS]: 1.393109, [TRAIN ACCURACY]: 0.504\n",
            "[EPOCH]: 38, [VAL LOSS]: 1.646019, [VAL ACCURACY]: 0.428 \n",
            "\n",
            "[EPOCH]: 39, [TRAIN LOSS]: 1.381952, [TRAIN ACCURACY]: 0.507\n",
            "[EPOCH]: 39, [VAL LOSS]: 1.642816, [VAL ACCURACY]: 0.428 \n",
            "\n",
            "[EPOCH]: 40, [TRAIN LOSS]: 1.377363, [TRAIN ACCURACY]: 0.506\n",
            "[EPOCH]: 40, [VAL LOSS]: 1.637973, [VAL ACCURACY]: 0.428 \n",
            "\n",
            "[EPOCH]: 41, [TRAIN LOSS]: 1.374190, [TRAIN ACCURACY]: 0.510\n",
            "[EPOCH]: 41, [VAL LOSS]: 1.621192, [VAL ACCURACY]: 0.434 \n",
            "\n",
            "[EPOCH]: 42, [TRAIN LOSS]: 1.367826, [TRAIN ACCURACY]: 0.510\n",
            "[EPOCH]: 42, [VAL LOSS]: 1.633152, [VAL ACCURACY]: 0.430 \n",
            "\n",
            "[EPOCH]: 43, [TRAIN LOSS]: 1.356614, [TRAIN ACCURACY]: 0.518\n",
            "[EPOCH]: 43, [VAL LOSS]: 1.615057, [VAL ACCURACY]: 0.438 \n",
            "\n",
            "[EPOCH]: 44, [TRAIN LOSS]: 1.356278, [TRAIN ACCURACY]: 0.515\n",
            "[EPOCH]: 44, [VAL LOSS]: 1.644036, [VAL ACCURACY]: 0.430 \n",
            "\n",
            "[EPOCH]: 45, [TRAIN LOSS]: 1.349497, [TRAIN ACCURACY]: 0.517\n",
            "[EPOCH]: 45, [VAL LOSS]: 1.625781, [VAL ACCURACY]: 0.435 \n",
            "\n",
            "[EPOCH]: 46, [TRAIN LOSS]: 1.346365, [TRAIN ACCURACY]: 0.520\n",
            "[EPOCH]: 46, [VAL LOSS]: 1.635122, [VAL ACCURACY]: 0.434 \n",
            "\n",
            "[EPOCH]: 47, [TRAIN LOSS]: 1.336546, [TRAIN ACCURACY]: 0.524\n",
            "[EPOCH]: 47, [VAL LOSS]: 1.621930, [VAL ACCURACY]: 0.435 \n",
            "\n",
            "[EPOCH]: 48, [TRAIN LOSS]: 1.332708, [TRAIN ACCURACY]: 0.526\n",
            "[EPOCH]: 48, [VAL LOSS]: 1.629685, [VAL ACCURACY]: 0.434 \n",
            "\n",
            "[EPOCH]: 49, [TRAIN LOSS]: 1.326805, [TRAIN ACCURACY]: 0.527\n",
            "[EPOCH]: 49, [VAL LOSS]: 1.610400, [VAL ACCURACY]: 0.440 \n",
            "\n"
          ],
          "name": "stdout"
        },
        {
          "output_type": "stream",
          "text": [
            "/scratch/hg1580/kaggle/lib/python3.7/site-packages/ipykernel_launcher.py:14: MatplotlibDeprecationWarning: Adding an axes using the same arguments as a previous axes currently reuses the earlier instance.  In a future version, a new instance will always be created and returned.  Meanwhile, this warning can be suppressed, and the future behavior ensured, by passing a unique label to each axes instance.\n",
            "  \n",
            "/scratch/hg1580/kaggle/lib/python3.7/site-packages/ipykernel_launcher.py:18: MatplotlibDeprecationWarning: Adding an axes using the same arguments as a previous axes currently reuses the earlier instance.  In a future version, a new instance will always be created and returned.  Meanwhile, this warning can be suppressed, and the future behavior ensured, by passing a unique label to each axes instance.\n"
          ],
          "name": "stderr"
        },
        {
          "output_type": "display_data",
          "data": {
            "application/vnd.jupyter.widget-view+json": {
              "model_id": "a090593532d14a6e918ce4e3b4ab6278",
              "version_major": 2,
              "version_minor": 0
            },
            "text/plain": [
              "HBox(children=(IntProgress(value=0, max=50), HTML(value='')))"
            ]
          },
          "metadata": {
            "tags": []
          }
        },
        {
          "output_type": "stream",
          "text": [
            "[EPOCH]: 0, [TRAIN LOSS]: 1.310481, [TRAIN ACCURACY]: 0.531\n",
            "[EPOCH]: 0, [VAL LOSS]: 1.579422, [VAL ACCURACY]: 0.450 \n",
            "\n",
            "[EPOCH]: 1, [TRAIN LOSS]: 1.268717, [TRAIN ACCURACY]: 0.549\n",
            "[EPOCH]: 1, [VAL LOSS]: 1.545677, [VAL ACCURACY]: 0.464 \n",
            "\n",
            "[EPOCH]: 2, [TRAIN LOSS]: 1.233849, [TRAIN ACCURACY]: 0.560\n",
            "[EPOCH]: 2, [VAL LOSS]: 1.471919, [VAL ACCURACY]: 0.490 \n",
            "\n",
            "[EPOCH]: 3, [TRAIN LOSS]: 1.201372, [TRAIN ACCURACY]: 0.573\n",
            "[EPOCH]: 3, [VAL LOSS]: 1.519877, [VAL ACCURACY]: 0.469 \n",
            "\n",
            "[EPOCH]: 4, [TRAIN LOSS]: 1.163746, [TRAIN ACCURACY]: 0.585\n",
            "[EPOCH]: 4, [VAL LOSS]: 1.498928, [VAL ACCURACY]: 0.485 \n",
            "\n",
            "[EPOCH]: 5, [TRAIN LOSS]: 1.139568, [TRAIN ACCURACY]: 0.594\n",
            "[EPOCH]: 5, [VAL LOSS]: 1.542725, [VAL ACCURACY]: 0.474 \n",
            "\n",
            "[EPOCH]: 6, [TRAIN LOSS]: 1.114664, [TRAIN ACCURACY]: 0.605\n",
            "[EPOCH]: 6, [VAL LOSS]: 1.485739, [VAL ACCURACY]: 0.486 \n",
            "\n",
            "[EPOCH]: 7, [TRAIN LOSS]: 1.091964, [TRAIN ACCURACY]: 0.613\n",
            "[EPOCH]: 7, [VAL LOSS]: 1.518140, [VAL ACCURACY]: 0.474 \n",
            "\n",
            "[EPOCH]: 8, [TRAIN LOSS]: 1.068289, [TRAIN ACCURACY]: 0.623\n",
            "[EPOCH]: 8, [VAL LOSS]: 1.404523, [VAL ACCURACY]: 0.516 \n",
            "\n",
            "[EPOCH]: 9, [TRAIN LOSS]: 1.043373, [TRAIN ACCURACY]: 0.632\n",
            "[EPOCH]: 9, [VAL LOSS]: 1.428861, [VAL ACCURACY]: 0.507 \n",
            "\n",
            "[EPOCH]: 10, [TRAIN LOSS]: 1.024438, [TRAIN ACCURACY]: 0.640\n",
            "[EPOCH]: 10, [VAL LOSS]: 1.445309, [VAL ACCURACY]: 0.501 \n",
            "\n",
            "[EPOCH]: 11, [TRAIN LOSS]: 1.006357, [TRAIN ACCURACY]: 0.645\n",
            "[EPOCH]: 11, [VAL LOSS]: 1.450238, [VAL ACCURACY]: 0.498 \n",
            "\n",
            "[EPOCH]: 12, [TRAIN LOSS]: 0.987226, [TRAIN ACCURACY]: 0.654\n",
            "[EPOCH]: 12, [VAL LOSS]: 1.475497, [VAL ACCURACY]: 0.495 \n",
            "\n",
            "[EPOCH]: 13, [TRAIN LOSS]: 0.968782, [TRAIN ACCURACY]: 0.663\n",
            "[EPOCH]: 13, [VAL LOSS]: 1.357168, [VAL ACCURACY]: 0.536 \n",
            "\n",
            "[EPOCH]: 14, [TRAIN LOSS]: 0.947258, [TRAIN ACCURACY]: 0.667\n",
            "[EPOCH]: 14, [VAL LOSS]: 1.336815, [VAL ACCURACY]: 0.541 \n",
            "\n",
            "[EPOCH]: 15, [TRAIN LOSS]: 0.939749, [TRAIN ACCURACY]: 0.671\n",
            "[EPOCH]: 15, [VAL LOSS]: 1.346960, [VAL ACCURACY]: 0.539 \n",
            "\n",
            "[EPOCH]: 16, [TRAIN LOSS]: 0.921062, [TRAIN ACCURACY]: 0.677\n",
            "[EPOCH]: 16, [VAL LOSS]: 1.349757, [VAL ACCURACY]: 0.533 \n",
            "\n",
            "[EPOCH]: 17, [TRAIN LOSS]: 0.906676, [TRAIN ACCURACY]: 0.683\n",
            "[EPOCH]: 17, [VAL LOSS]: 1.304338, [VAL ACCURACY]: 0.554 \n",
            "\n",
            "[EPOCH]: 18, [TRAIN LOSS]: 0.892305, [TRAIN ACCURACY]: 0.688\n",
            "[EPOCH]: 18, [VAL LOSS]: 1.309966, [VAL ACCURACY]: 0.551 \n",
            "\n",
            "[EPOCH]: 19, [TRAIN LOSS]: 0.872624, [TRAIN ACCURACY]: 0.698\n",
            "[EPOCH]: 19, [VAL LOSS]: 1.323603, [VAL ACCURACY]: 0.542 \n",
            "\n",
            "[EPOCH]: 20, [TRAIN LOSS]: 0.867492, [TRAIN ACCURACY]: 0.697\n",
            "[EPOCH]: 20, [VAL LOSS]: 1.399848, [VAL ACCURACY]: 0.527 \n",
            "\n",
            "[EPOCH]: 21, [TRAIN LOSS]: 0.852904, [TRAIN ACCURACY]: 0.703\n",
            "[EPOCH]: 21, [VAL LOSS]: 1.304275, [VAL ACCURACY]: 0.552 \n",
            "\n",
            "[EPOCH]: 22, [TRAIN LOSS]: 0.839464, [TRAIN ACCURACY]: 0.708\n",
            "[EPOCH]: 22, [VAL LOSS]: 1.267194, [VAL ACCURACY]: 0.574 \n",
            "\n",
            "[EPOCH]: 23, [TRAIN LOSS]: 0.827017, [TRAIN ACCURACY]: 0.712\n",
            "[EPOCH]: 23, [VAL LOSS]: 1.235762, [VAL ACCURACY]: 0.577 \n",
            "\n",
            "[EPOCH]: 24, [TRAIN LOSS]: 0.815376, [TRAIN ACCURACY]: 0.716\n",
            "[EPOCH]: 24, [VAL LOSS]: 1.342798, [VAL ACCURACY]: 0.553 \n",
            "\n",
            "[EPOCH]: 25, [TRAIN LOSS]: 0.804021, [TRAIN ACCURACY]: 0.720\n",
            "[EPOCH]: 25, [VAL LOSS]: 1.290889, [VAL ACCURACY]: 0.560 \n",
            "\n",
            "[EPOCH]: 26, [TRAIN LOSS]: 0.792025, [TRAIN ACCURACY]: 0.726\n",
            "[EPOCH]: 26, [VAL LOSS]: 1.274982, [VAL ACCURACY]: 0.569 \n",
            "\n",
            "[EPOCH]: 27, [TRAIN LOSS]: 0.782941, [TRAIN ACCURACY]: 0.731\n",
            "[EPOCH]: 27, [VAL LOSS]: 1.321517, [VAL ACCURACY]: 0.557 \n",
            "\n",
            "[EPOCH]: 28, [TRAIN LOSS]: 0.770911, [TRAIN ACCURACY]: 0.731\n",
            "[EPOCH]: 28, [VAL LOSS]: 1.249201, [VAL ACCURACY]: 0.577 \n",
            "\n",
            "[EPOCH]: 29, [TRAIN LOSS]: 0.760407, [TRAIN ACCURACY]: 0.738\n",
            "[EPOCH]: 29, [VAL LOSS]: 1.258341, [VAL ACCURACY]: 0.576 \n",
            "\n",
            "[EPOCH]: 30, [TRAIN LOSS]: 0.749209, [TRAIN ACCURACY]: 0.740\n",
            "[EPOCH]: 30, [VAL LOSS]: 1.295423, [VAL ACCURACY]: 0.574 \n",
            "\n",
            "[EPOCH]: 31, [TRAIN LOSS]: 0.741177, [TRAIN ACCURACY]: 0.744\n",
            "[EPOCH]: 31, [VAL LOSS]: 1.222929, [VAL ACCURACY]: 0.591 \n",
            "\n",
            "[EPOCH]: 32, [TRAIN LOSS]: 0.733309, [TRAIN ACCURACY]: 0.747\n",
            "[EPOCH]: 32, [VAL LOSS]: 1.342325, [VAL ACCURACY]: 0.559 \n",
            "\n",
            "[EPOCH]: 33, [TRAIN LOSS]: 0.724647, [TRAIN ACCURACY]: 0.749\n",
            "[EPOCH]: 33, [VAL LOSS]: 1.329335, [VAL ACCURACY]: 0.556 \n",
            "\n",
            "[EPOCH]: 34, [TRAIN LOSS]: 0.715829, [TRAIN ACCURACY]: 0.753\n",
            "[EPOCH]: 34, [VAL LOSS]: 1.260288, [VAL ACCURACY]: 0.583 \n",
            "\n",
            "[EPOCH]: 35, [TRAIN LOSS]: 0.704409, [TRAIN ACCURACY]: 0.756\n",
            "[EPOCH]: 35, [VAL LOSS]: 1.279288, [VAL ACCURACY]: 0.580 \n",
            "\n",
            "[EPOCH]: 36, [TRAIN LOSS]: 0.701030, [TRAIN ACCURACY]: 0.756\n",
            "[EPOCH]: 36, [VAL LOSS]: 1.261505, [VAL ACCURACY]: 0.584 \n",
            "\n"
          ],
          "name": "stdout"
        },
        {
          "output_type": "display_data",
          "data": {
            "application/vnd.jupyter.widget-view+json": {
              "model_id": "25627c7dc4f24fe3ade6070d1afc2009",
              "version_major": 2,
              "version_minor": 0
            },
            "text/plain": [
              "HBox(children=(IntProgress(value=0, max=50), HTML(value='')))"
            ]
          },
          "metadata": {
            "tags": []
          }
        },
        {
          "output_type": "stream",
          "text": [
            "[EPOCH]: 0, [TRAIN LOSS]: 0.910045, [TRAIN ACCURACY]: 0.681\n",
            "[EPOCH]: 0, [VAL LOSS]: 1.080148, [VAL ACCURACY]: 0.631 \n",
            "\n",
            "[EPOCH]: 1, [TRAIN LOSS]: 0.799693, [TRAIN ACCURACY]: 0.721\n",
            "[EPOCH]: 1, [VAL LOSS]: 1.155574, [VAL ACCURACY]: 0.610 \n",
            "\n",
            "[EPOCH]: 2, [TRAIN LOSS]: 0.730374, [TRAIN ACCURACY]: 0.746\n",
            "[EPOCH]: 2, [VAL LOSS]: 1.050579, [VAL ACCURACY]: 0.649 \n",
            "\n",
            "[EPOCH]: 3, [TRAIN LOSS]: 0.679482, [TRAIN ACCURACY]: 0.764\n",
            "[EPOCH]: 3, [VAL LOSS]: 0.907326, [VAL ACCURACY]: 0.695 \n",
            "\n",
            "[EPOCH]: 4, [TRAIN LOSS]: 0.642307, [TRAIN ACCURACY]: 0.777\n",
            "[EPOCH]: 4, [VAL LOSS]: 0.827782, [VAL ACCURACY]: 0.721 \n",
            "\n",
            "[EPOCH]: 5, [TRAIN LOSS]: 0.598974, [TRAIN ACCURACY]: 0.792\n",
            "[EPOCH]: 5, [VAL LOSS]: 0.962171, [VAL ACCURACY]: 0.676 \n",
            "\n",
            "[EPOCH]: 6, [TRAIN LOSS]: 0.573750, [TRAIN ACCURACY]: 0.798\n",
            "[EPOCH]: 6, [VAL LOSS]: 1.077560, [VAL ACCURACY]: 0.652 \n",
            "\n",
            "[EPOCH]: 7, [TRAIN LOSS]: 0.535335, [TRAIN ACCURACY]: 0.814\n",
            "[EPOCH]: 7, [VAL LOSS]: 0.811958, [VAL ACCURACY]: 0.726 \n",
            "\n",
            "[EPOCH]: 8, [TRAIN LOSS]: 0.511020, [TRAIN ACCURACY]: 0.822\n",
            "[EPOCH]: 8, [VAL LOSS]: 0.770495, [VAL ACCURACY]: 0.736 \n",
            "\n",
            "[EPOCH]: 9, [TRAIN LOSS]: 0.487556, [TRAIN ACCURACY]: 0.830\n",
            "[EPOCH]: 9, [VAL LOSS]: 0.787692, [VAL ACCURACY]: 0.735 \n",
            "\n",
            "[EPOCH]: 10, [TRAIN LOSS]: 0.462357, [TRAIN ACCURACY]: 0.840\n",
            "[EPOCH]: 10, [VAL LOSS]: 0.770631, [VAL ACCURACY]: 0.740 \n",
            "\n",
            "[EPOCH]: 11, [TRAIN LOSS]: 0.441320, [TRAIN ACCURACY]: 0.846\n",
            "[EPOCH]: 11, [VAL LOSS]: 1.012567, [VAL ACCURACY]: 0.677 \n",
            "\n",
            "[EPOCH]: 12, [TRAIN LOSS]: 0.419741, [TRAIN ACCURACY]: 0.856\n",
            "[EPOCH]: 12, [VAL LOSS]: 0.747265, [VAL ACCURACY]: 0.750 \n",
            "\n",
            "[EPOCH]: 13, [TRAIN LOSS]: 0.403045, [TRAIN ACCURACY]: 0.859\n",
            "[EPOCH]: 13, [VAL LOSS]: 0.781030, [VAL ACCURACY]: 0.749 \n",
            "\n",
            "[EPOCH]: 14, [TRAIN LOSS]: 0.385932, [TRAIN ACCURACY]: 0.867\n",
            "[EPOCH]: 14, [VAL LOSS]: 0.896739, [VAL ACCURACY]: 0.714 \n",
            "\n",
            "[EPOCH]: 15, [TRAIN LOSS]: 0.374944, [TRAIN ACCURACY]: 0.871\n",
            "[EPOCH]: 15, [VAL LOSS]: 0.750845, [VAL ACCURACY]: 0.758 \n",
            "\n",
            "[EPOCH]: 16, [TRAIN LOSS]: 0.355177, [TRAIN ACCURACY]: 0.877\n",
            "[EPOCH]: 16, [VAL LOSS]: 0.668773, [VAL ACCURACY]: 0.780 \n",
            "\n",
            "[EPOCH]: 17, [TRAIN LOSS]: 0.344553, [TRAIN ACCURACY]: 0.882\n",
            "[EPOCH]: 17, [VAL LOSS]: 0.725606, [VAL ACCURACY]: 0.768 \n",
            "\n",
            "[EPOCH]: 18, [TRAIN LOSS]: 0.324116, [TRAIN ACCURACY]: 0.888\n",
            "[EPOCH]: 18, [VAL LOSS]: 0.735108, [VAL ACCURACY]: 0.771 \n",
            "\n",
            "[EPOCH]: 19, [TRAIN LOSS]: 0.310800, [TRAIN ACCURACY]: 0.892\n",
            "[EPOCH]: 19, [VAL LOSS]: 0.691395, [VAL ACCURACY]: 0.780 \n",
            "\n",
            "[EPOCH]: 20, [TRAIN LOSS]: 0.297581, [TRAIN ACCURACY]: 0.897\n",
            "[EPOCH]: 20, [VAL LOSS]: 0.829853, [VAL ACCURACY]: 0.745 \n",
            "\n",
            "[EPOCH]: 21, [TRAIN LOSS]: 0.286739, [TRAIN ACCURACY]: 0.901\n",
            "[EPOCH]: 21, [VAL LOSS]: 0.734989, [VAL ACCURACY]: 0.771 \n",
            "\n"
          ],
          "name": "stdout"
        },
        {
          "output_type": "display_data",
          "data": {
            "application/vnd.jupyter.widget-view+json": {
              "model_id": "0f4940104731445b931dedb2cae06e2d",
              "version_major": 2,
              "version_minor": 0
            },
            "text/plain": [
              "HBox(children=(IntProgress(value=0, max=50), HTML(value='')))"
            ]
          },
          "metadata": {
            "tags": []
          }
        },
        {
          "output_type": "stream",
          "text": [
            "[EPOCH]: 0, [TRAIN LOSS]: 2.194043, [TRAIN ACCURACY]: 0.407\n",
            "[EPOCH]: 0, [VAL LOSS]: 1.331417, [VAL ACCURACY]: 0.542 \n",
            "\n",
            "[EPOCH]: 1, [TRAIN LOSS]: 1.225379, [TRAIN ACCURACY]: 0.608\n",
            "[EPOCH]: 1, [VAL LOSS]: 1.157065, [VAL ACCURACY]: 0.630 \n",
            "\n",
            "[EPOCH]: 2, [TRAIN LOSS]: 0.867384, [TRAIN ACCURACY]: 0.715\n",
            "[EPOCH]: 2, [VAL LOSS]: 0.869316, [VAL ACCURACY]: 0.696 \n",
            "\n",
            "[EPOCH]: 3, [TRAIN LOSS]: 0.715192, [TRAIN ACCURACY]: 0.764\n",
            "[EPOCH]: 3, [VAL LOSS]: 0.764810, [VAL ACCURACY]: 0.763 \n",
            "\n",
            "[EPOCH]: 4, [TRAIN LOSS]: 0.625878, [TRAIN ACCURACY]: 0.788\n",
            "[EPOCH]: 4, [VAL LOSS]: 1.516603, [VAL ACCURACY]: 0.677 \n",
            "\n",
            "[EPOCH]: 5, [TRAIN LOSS]: 0.565805, [TRAIN ACCURACY]: 0.806\n",
            "[EPOCH]: 5, [VAL LOSS]: 0.610708, [VAL ACCURACY]: 0.792 \n",
            "\n",
            "[EPOCH]: 6, [TRAIN LOSS]: 0.506076, [TRAIN ACCURACY]: 0.826\n",
            "[EPOCH]: 6, [VAL LOSS]: 0.620234, [VAL ACCURACY]: 0.795 \n",
            "\n",
            "[EPOCH]: 7, [TRAIN LOSS]: 0.462062, [TRAIN ACCURACY]: 0.841\n",
            "[EPOCH]: 7, [VAL LOSS]: 0.619391, [VAL ACCURACY]: 0.792 \n",
            "\n",
            "[EPOCH]: 8, [TRAIN LOSS]: 0.432252, [TRAIN ACCURACY]: 0.850\n",
            "[EPOCH]: 8, [VAL LOSS]: 0.544853, [VAL ACCURACY]: 0.830 \n",
            "\n",
            "[EPOCH]: 9, [TRAIN LOSS]: 0.396948, [TRAIN ACCURACY]: 0.862\n",
            "[EPOCH]: 9, [VAL LOSS]: 0.539861, [VAL ACCURACY]: 0.829 \n",
            "\n",
            "[EPOCH]: 10, [TRAIN LOSS]: 0.371803, [TRAIN ACCURACY]: 0.872\n",
            "[EPOCH]: 10, [VAL LOSS]: 0.461906, [VAL ACCURACY]: 0.849 \n",
            "\n",
            "[EPOCH]: 11, [TRAIN LOSS]: 0.348329, [TRAIN ACCURACY]: 0.878\n",
            "[EPOCH]: 11, [VAL LOSS]: 0.661224, [VAL ACCURACY]: 0.794 \n",
            "\n",
            "[EPOCH]: 12, [TRAIN LOSS]: 0.324408, [TRAIN ACCURACY]: 0.886\n",
            "[EPOCH]: 12, [VAL LOSS]: 0.455751, [VAL ACCURACY]: 0.851 \n",
            "\n",
            "[EPOCH]: 13, [TRAIN LOSS]: 0.306928, [TRAIN ACCURACY]: 0.893\n",
            "[EPOCH]: 13, [VAL LOSS]: 0.475375, [VAL ACCURACY]: 0.849 \n",
            "\n",
            "[EPOCH]: 14, [TRAIN LOSS]: 0.286274, [TRAIN ACCURACY]: 0.899\n",
            "[EPOCH]: 14, [VAL LOSS]: 0.475409, [VAL ACCURACY]: 0.847 \n",
            "\n",
            "[EPOCH]: 15, [TRAIN LOSS]: 0.269833, [TRAIN ACCURACY]: 0.905\n",
            "[EPOCH]: 15, [VAL LOSS]: 0.504412, [VAL ACCURACY]: 0.847 \n",
            "\n",
            "[EPOCH]: 16, [TRAIN LOSS]: 0.254085, [TRAIN ACCURACY]: 0.912\n",
            "[EPOCH]: 16, [VAL LOSS]: 0.559852, [VAL ACCURACY]: 0.829 \n",
            "\n",
            "[EPOCH]: 17, [TRAIN LOSS]: 0.234775, [TRAIN ACCURACY]: 0.916\n",
            "[EPOCH]: 17, [VAL LOSS]: 0.437802, [VAL ACCURACY]: 0.857 \n",
            "\n",
            "[EPOCH]: 18, [TRAIN LOSS]: 0.230123, [TRAIN ACCURACY]: 0.919\n",
            "[EPOCH]: 18, [VAL LOSS]: 0.444940, [VAL ACCURACY]: 0.866 \n",
            "\n",
            "[EPOCH]: 19, [TRAIN LOSS]: 0.213301, [TRAIN ACCURACY]: 0.924\n",
            "[EPOCH]: 19, [VAL LOSS]: 0.686310, [VAL ACCURACY]: 0.814 \n",
            "\n",
            "[EPOCH]: 20, [TRAIN LOSS]: 0.205666, [TRAIN ACCURACY]: 0.926\n",
            "[EPOCH]: 20, [VAL LOSS]: 0.531490, [VAL ACCURACY]: 0.848 \n",
            "\n",
            "[EPOCH]: 21, [TRAIN LOSS]: 0.196682, [TRAIN ACCURACY]: 0.930\n",
            "[EPOCH]: 21, [VAL LOSS]: 0.480699, [VAL ACCURACY]: 0.865 \n",
            "\n",
            "[EPOCH]: 22, [TRAIN LOSS]: 0.180866, [TRAIN ACCURACY]: 0.936\n",
            "[EPOCH]: 22, [VAL LOSS]: 0.546905, [VAL ACCURACY]: 0.848 \n",
            "\n",
            "[EPOCH]: 23, [TRAIN LOSS]: 0.170018, [TRAIN ACCURACY]: 0.939\n",
            "[EPOCH]: 23, [VAL LOSS]: 0.583242, [VAL ACCURACY]: 0.836 \n",
            "\n"
          ],
          "name": "stdout"
        },
        {
          "output_type": "display_data",
          "data": {
            "image/png": "[encoded data removed]",
            "text/plain": [
              "<Figure size 432x288 with 2 Axes>"
            ]
          },
          "metadata": {
            "tags": [],
            "needs_background": "light"
          }
        }
      ]
    },
    {
      "cell_type": "code",
      "metadata": {
        "id": "E-K4dQCHZ2Zz",
        "outputId": "d08e328a-7708-4d14-964f-3e94b6c1a70f",
        "colab": {
          "referenced_widgets": [
            "1ee70f25b7e5482cabd6c121f71b7fa0",
            "de09b3dcfb0d49619e3c5c64eb6c164b",
            "baba7d30e51947c89ea70181ee4bd0a7",
            "8547e80cb57a49e7858263b456d0c648",
            "ccbe839b36d944f4b1a3933606e9d817"
          ]
        }
      },
      "source": [
        "if torch.cuda.is_available():\n",
        "    device = torch.device(\"cuda\")\n",
        "else:\n",
        "    device = torch.device(\"cpu\")\n",
        "model=ResidualConvnet(3,10)\n",
        "model=model.to(device)\n",
        "criterion=nn.CrossEntropyLoss()\n",
        "\n",
        "acc=[]\n",
        "for l_r in [1e-5,1e-4,1e-3,1e-2,1e-1]:\n",
        "  optimizer=torch.optim.Adam(model.parameters(),lr=l_r)\n",
        "  train_losses_aug, train_accuracies_aug, val_losses_aug, val_accuracies_aug=train_loop(model, criterion, optimizer,  train_loader, val_loader)\n",
        "  acc.append(max(val_accuracies_aug))\n",
        "  plt.subplot(2, 1, 1) \n",
        "  plt.plot(range(len(train_losses_aug)),train_losses_aug,label=str(l_r))\n",
        "  plt.title('Adam train loss')\n",
        "  plt.legend()\n",
        "  plt.subplot(2, 1, 2) \n",
        "  plt.plot(range(len(val_losses_aug)),val_losses_aug,label=str(l_r))\n",
        "  plt.title('Adam val loss')\n",
        "  plt.legend()"
      ],
      "execution_count": null,
      "outputs": [
        {
          "output_type": "display_data",
          "data": {
            "application/vnd.jupyter.widget-view+json": {
              "model_id": "1ee70f25b7e5482cabd6c121f71b7fa0",
              "version_major": 2,
              "version_minor": 0
            },
            "text/plain": [
              "HBox(children=(IntProgress(value=0, max=50), HTML(value='')))"
            ]
          },
          "metadata": {
            "tags": []
          }
        },
        {
          "output_type": "stream",
          "text": [
            "[EPOCH]: 0, [TRAIN LOSS]: 2.196600, [TRAIN ACCURACY]: 0.280\n",
            "[EPOCH]: 0, [VAL LOSS]: 1.845903, [VAL ACCURACY]: 0.331 \n",
            "\n",
            "[EPOCH]: 1, [TRAIN LOSS]: 1.661494, [TRAIN ACCURACY]: 0.410\n",
            "[EPOCH]: 1, [VAL LOSS]: 1.651704, [VAL ACCURACY]: 0.406 \n",
            "\n",
            "[EPOCH]: 2, [TRAIN LOSS]: 1.509273, [TRAIN ACCURACY]: 0.462\n",
            "[EPOCH]: 2, [VAL LOSS]: 1.532097, [VAL ACCURACY]: 0.458 \n",
            "\n",
            "[EPOCH]: 3, [TRAIN LOSS]: 1.404723, [TRAIN ACCURACY]: 0.501\n",
            "[EPOCH]: 3, [VAL LOSS]: 1.451711, [VAL ACCURACY]: 0.487 \n",
            "\n",
            "[EPOCH]: 4, [TRAIN LOSS]: 1.322389, [TRAIN ACCURACY]: 0.532\n",
            "[EPOCH]: 4, [VAL LOSS]: 1.391545, [VAL ACCURACY]: 0.512 \n",
            "\n",
            "[EPOCH]: 5, [TRAIN LOSS]: 1.263927, [TRAIN ACCURACY]: 0.555\n",
            "[EPOCH]: 5, [VAL LOSS]: 1.341091, [VAL ACCURACY]: 0.528 \n",
            "\n",
            "[EPOCH]: 6, [TRAIN LOSS]: 1.209231, [TRAIN ACCURACY]: 0.577\n",
            "[EPOCH]: 6, [VAL LOSS]: 1.297757, [VAL ACCURACY]: 0.547 \n",
            "\n",
            "[EPOCH]: 7, [TRAIN LOSS]: 1.161237, [TRAIN ACCURACY]: 0.594\n",
            "[EPOCH]: 7, [VAL LOSS]: 1.257451, [VAL ACCURACY]: 0.559 \n",
            "\n",
            "[EPOCH]: 8, [TRAIN LOSS]: 1.120663, [TRAIN ACCURACY]: 0.607\n",
            "[EPOCH]: 8, [VAL LOSS]: 1.242863, [VAL ACCURACY]: 0.564 \n",
            "\n",
            "[EPOCH]: 9, [TRAIN LOSS]: 1.087740, [TRAIN ACCURACY]: 0.621\n",
            "[EPOCH]: 9, [VAL LOSS]: 1.231642, [VAL ACCURACY]: 0.566 \n",
            "\n",
            "[EPOCH]: 10, [TRAIN LOSS]: 1.057961, [TRAIN ACCURACY]: 0.629\n",
            "[EPOCH]: 10, [VAL LOSS]: 1.194423, [VAL ACCURACY]: 0.579 \n",
            "\n",
            "[EPOCH]: 11, [TRAIN LOSS]: 1.030695, [TRAIN ACCURACY]: 0.641\n",
            "[EPOCH]: 11, [VAL LOSS]: 1.187070, [VAL ACCURACY]: 0.580 \n",
            "\n",
            "[EPOCH]: 12, [TRAIN LOSS]: 1.004533, [TRAIN ACCURACY]: 0.651\n",
            "[EPOCH]: 12, [VAL LOSS]: 1.197147, [VAL ACCURACY]: 0.571 \n",
            "\n",
            "[EPOCH]: 13, [TRAIN LOSS]: 0.981787, [TRAIN ACCURACY]: 0.659\n",
            "[EPOCH]: 13, [VAL LOSS]: 1.128089, [VAL ACCURACY]: 0.603 \n",
            "\n",
            "[EPOCH]: 14, [TRAIN LOSS]: 0.965900, [TRAIN ACCURACY]: 0.664\n",
            "[EPOCH]: 14, [VAL LOSS]: 1.146788, [VAL ACCURACY]: 0.595 \n",
            "\n",
            "[EPOCH]: 15, [TRAIN LOSS]: 0.941659, [TRAIN ACCURACY]: 0.674\n",
            "[EPOCH]: 15, [VAL LOSS]: 1.139744, [VAL ACCURACY]: 0.596 \n",
            "\n",
            "[EPOCH]: 16, [TRAIN LOSS]: 0.924426, [TRAIN ACCURACY]: 0.680\n",
            "[EPOCH]: 16, [VAL LOSS]: 1.080324, [VAL ACCURACY]: 0.622 \n",
            "\n",
            "[EPOCH]: 17, [TRAIN LOSS]: 0.904407, [TRAIN ACCURACY]: 0.689\n",
            "[EPOCH]: 17, [VAL LOSS]: 1.101418, [VAL ACCURACY]: 0.609 \n",
            "\n",
            "[EPOCH]: 18, [TRAIN LOSS]: 0.886930, [TRAIN ACCURACY]: 0.692\n",
            "[EPOCH]: 18, [VAL LOSS]: 1.096309, [VAL ACCURACY]: 0.612 \n",
            "\n",
            "[EPOCH]: 19, [TRAIN LOSS]: 0.871554, [TRAIN ACCURACY]: 0.698\n",
            "[EPOCH]: 19, [VAL LOSS]: 1.052309, [VAL ACCURACY]: 0.628 \n",
            "\n",
            "[EPOCH]: 20, [TRAIN LOSS]: 0.860482, [TRAIN ACCURACY]: 0.705\n",
            "[EPOCH]: 20, [VAL LOSS]: 1.053830, [VAL ACCURACY]: 0.624 \n",
            "\n",
            "[EPOCH]: 21, [TRAIN LOSS]: 0.843055, [TRAIN ACCURACY]: 0.711\n",
            "[EPOCH]: 21, [VAL LOSS]: 1.053812, [VAL ACCURACY]: 0.626 \n",
            "\n",
            "[EPOCH]: 22, [TRAIN LOSS]: 0.835130, [TRAIN ACCURACY]: 0.712\n",
            "[EPOCH]: 22, [VAL LOSS]: 1.032572, [VAL ACCURACY]: 0.636 \n",
            "\n",
            "[EPOCH]: 23, [TRAIN LOSS]: 0.818356, [TRAIN ACCURACY]: 0.719\n",
            "[EPOCH]: 23, [VAL LOSS]: 1.040245, [VAL ACCURACY]: 0.629 \n",
            "\n",
            "[EPOCH]: 24, [TRAIN LOSS]: 0.801016, [TRAIN ACCURACY]: 0.726\n",
            "[EPOCH]: 24, [VAL LOSS]: 1.021664, [VAL ACCURACY]: 0.636 \n",
            "\n",
            "[EPOCH]: 25, [TRAIN LOSS]: 0.791409, [TRAIN ACCURACY]: 0.729\n",
            "[EPOCH]: 25, [VAL LOSS]: 1.019824, [VAL ACCURACY]: 0.640 \n",
            "\n",
            "[EPOCH]: 26, [TRAIN LOSS]: 0.781809, [TRAIN ACCURACY]: 0.733\n",
            "[EPOCH]: 26, [VAL LOSS]: 0.992116, [VAL ACCURACY]: 0.653 \n",
            "\n",
            "[EPOCH]: 27, [TRAIN LOSS]: 0.766846, [TRAIN ACCURACY]: 0.737\n",
            "[EPOCH]: 27, [VAL LOSS]: 0.980246, [VAL ACCURACY]: 0.652 \n",
            "\n",
            "[EPOCH]: 28, [TRAIN LOSS]: 0.757170, [TRAIN ACCURACY]: 0.742\n",
            "[EPOCH]: 28, [VAL LOSS]: 1.011490, [VAL ACCURACY]: 0.645 \n",
            "\n",
            "[EPOCH]: 29, [TRAIN LOSS]: 0.744468, [TRAIN ACCURACY]: 0.745\n",
            "[EPOCH]: 29, [VAL LOSS]: 0.968099, [VAL ACCURACY]: 0.659 \n",
            "\n",
            "[EPOCH]: 30, [TRAIN LOSS]: 0.736008, [TRAIN ACCURACY]: 0.749\n",
            "[EPOCH]: 30, [VAL LOSS]: 0.975833, [VAL ACCURACY]: 0.658 \n",
            "\n",
            "[EPOCH]: 31, [TRAIN LOSS]: 0.723558, [TRAIN ACCURACY]: 0.754\n",
            "[EPOCH]: 31, [VAL LOSS]: 0.941917, [VAL ACCURACY]: 0.667 \n",
            "\n",
            "[EPOCH]: 32, [TRAIN LOSS]: 0.715237, [TRAIN ACCURACY]: 0.758\n",
            "[EPOCH]: 32, [VAL LOSS]: 0.936259, [VAL ACCURACY]: 0.670 \n",
            "\n",
            "[EPOCH]: 33, [TRAIN LOSS]: 0.706480, [TRAIN ACCURACY]: 0.761\n",
            "[EPOCH]: 33, [VAL LOSS]: 0.990243, [VAL ACCURACY]: 0.654 \n",
            "\n",
            "[EPOCH]: 34, [TRAIN LOSS]: 0.696213, [TRAIN ACCURACY]: 0.764\n",
            "[EPOCH]: 34, [VAL LOSS]: 0.959181, [VAL ACCURACY]: 0.663 \n",
            "\n",
            "[EPOCH]: 35, [TRAIN LOSS]: 0.686255, [TRAIN ACCURACY]: 0.770\n",
            "[EPOCH]: 35, [VAL LOSS]: 0.944778, [VAL ACCURACY]: 0.666 \n",
            "\n",
            "[EPOCH]: 36, [TRAIN LOSS]: 0.676646, [TRAIN ACCURACY]: 0.772\n",
            "[EPOCH]: 36, [VAL LOSS]: 0.960059, [VAL ACCURACY]: 0.662 \n",
            "\n",
            "[EPOCH]: 37, [TRAIN LOSS]: 0.666887, [TRAIN ACCURACY]: 0.774\n",
            "[EPOCH]: 37, [VAL LOSS]: 0.953536, [VAL ACCURACY]: 0.666 \n",
            "\n"
          ],
          "name": "stdout"
        },
        {
          "output_type": "display_data",
          "data": {
            "application/vnd.jupyter.widget-view+json": {
              "model_id": "de09b3dcfb0d49619e3c5c64eb6c164b",
              "version_major": 2,
              "version_minor": 0
            },
            "text/plain": [
              "HBox(children=(IntProgress(value=0, max=50), HTML(value='')))"
            ]
          },
          "metadata": {
            "tags": []
          }
        },
        {
          "output_type": "stream",
          "text": [
            "[EPOCH]: 0, [TRAIN LOSS]: 0.793028, [TRAIN ACCURACY]: 0.725\n",
            "[EPOCH]: 0, [VAL LOSS]: 0.957552, [VAL ACCURACY]: 0.664 \n",
            "\n",
            "[EPOCH]: 1, [TRAIN LOSS]: 0.731831, [TRAIN ACCURACY]: 0.746\n",
            "[EPOCH]: 1, [VAL LOSS]: 0.862650, [VAL ACCURACY]: 0.700 \n",
            "\n",
            "[EPOCH]: 2, [TRAIN LOSS]: 0.677874, [TRAIN ACCURACY]: 0.767\n",
            "[EPOCH]: 2, [VAL LOSS]: 0.874315, [VAL ACCURACY]: 0.697 \n",
            "\n",
            "[EPOCH]: 3, [TRAIN LOSS]: 0.628142, [TRAIN ACCURACY]: 0.784\n",
            "[EPOCH]: 3, [VAL LOSS]: 0.772819, [VAL ACCURACY]: 0.730 \n",
            "\n",
            "[EPOCH]: 4, [TRAIN LOSS]: 0.589662, [TRAIN ACCURACY]: 0.798\n",
            "[EPOCH]: 4, [VAL LOSS]: 0.767791, [VAL ACCURACY]: 0.732 \n",
            "\n",
            "[EPOCH]: 5, [TRAIN LOSS]: 0.551223, [TRAIN ACCURACY]: 0.811\n",
            "[EPOCH]: 5, [VAL LOSS]: 0.742755, [VAL ACCURACY]: 0.742 \n",
            "\n",
            "[EPOCH]: 6, [TRAIN LOSS]: 0.520188, [TRAIN ACCURACY]: 0.822\n",
            "[EPOCH]: 6, [VAL LOSS]: 0.725174, [VAL ACCURACY]: 0.751 \n",
            "\n",
            "[EPOCH]: 7, [TRAIN LOSS]: 0.494052, [TRAIN ACCURACY]: 0.832\n",
            "[EPOCH]: 7, [VAL LOSS]: 0.687635, [VAL ACCURACY]: 0.763 \n",
            "\n",
            "[EPOCH]: 8, [TRAIN LOSS]: 0.468420, [TRAIN ACCURACY]: 0.839\n",
            "[EPOCH]: 8, [VAL LOSS]: 0.679864, [VAL ACCURACY]: 0.767 \n",
            "\n",
            "[EPOCH]: 9, [TRAIN LOSS]: 0.436193, [TRAIN ACCURACY]: 0.853\n",
            "[EPOCH]: 9, [VAL LOSS]: 0.673417, [VAL ACCURACY]: 0.769 \n",
            "\n",
            "[EPOCH]: 10, [TRAIN LOSS]: 0.409760, [TRAIN ACCURACY]: 0.860\n",
            "[EPOCH]: 10, [VAL LOSS]: 0.633063, [VAL ACCURACY]: 0.785 \n",
            "\n",
            "[EPOCH]: 11, [TRAIN LOSS]: 0.391796, [TRAIN ACCURACY]: 0.865\n",
            "[EPOCH]: 11, [VAL LOSS]: 0.620810, [VAL ACCURACY]: 0.789 \n",
            "\n",
            "[EPOCH]: 12, [TRAIN LOSS]: 0.377084, [TRAIN ACCURACY]: 0.870\n",
            "[EPOCH]: 12, [VAL LOSS]: 0.642729, [VAL ACCURACY]: 0.777 \n",
            "\n",
            "[EPOCH]: 13, [TRAIN LOSS]: 0.351370, [TRAIN ACCURACY]: 0.880\n",
            "[EPOCH]: 13, [VAL LOSS]: 0.640433, [VAL ACCURACY]: 0.780 \n",
            "\n",
            "[EPOCH]: 14, [TRAIN LOSS]: 0.335103, [TRAIN ACCURACY]: 0.885\n",
            "[EPOCH]: 14, [VAL LOSS]: 0.645879, [VAL ACCURACY]: 0.777 \n",
            "\n",
            "[EPOCH]: 15, [TRAIN LOSS]: 0.316482, [TRAIN ACCURACY]: 0.893\n",
            "[EPOCH]: 15, [VAL LOSS]: 0.619943, [VAL ACCURACY]: 0.785 \n",
            "\n",
            "[EPOCH]: 16, [TRAIN LOSS]: 0.295417, [TRAIN ACCURACY]: 0.900\n",
            "[EPOCH]: 16, [VAL LOSS]: 0.597299, [VAL ACCURACY]: 0.798 \n",
            "\n",
            "[EPOCH]: 17, [TRAIN LOSS]: 0.279794, [TRAIN ACCURACY]: 0.905\n",
            "[EPOCH]: 17, [VAL LOSS]: 0.569140, [VAL ACCURACY]: 0.807 \n",
            "\n",
            "[EPOCH]: 18, [TRAIN LOSS]: 0.263485, [TRAIN ACCURACY]: 0.910\n",
            "[EPOCH]: 18, [VAL LOSS]: 0.621813, [VAL ACCURACY]: 0.793 \n",
            "\n",
            "[EPOCH]: 19, [TRAIN LOSS]: 0.254071, [TRAIN ACCURACY]: 0.913\n",
            "[EPOCH]: 19, [VAL LOSS]: 0.591874, [VAL ACCURACY]: 0.804 \n",
            "\n",
            "[EPOCH]: 20, [TRAIN LOSS]: 0.243214, [TRAIN ACCURACY]: 0.917\n",
            "[EPOCH]: 20, [VAL LOSS]: 0.607513, [VAL ACCURACY]: 0.802 \n",
            "\n",
            "[EPOCH]: 21, [TRAIN LOSS]: 0.231318, [TRAIN ACCURACY]: 0.922\n",
            "[EPOCH]: 21, [VAL LOSS]: 0.624872, [VAL ACCURACY]: 0.797 \n",
            "\n",
            "[EPOCH]: 22, [TRAIN LOSS]: 0.216588, [TRAIN ACCURACY]: 0.926\n",
            "[EPOCH]: 22, [VAL LOSS]: 0.594557, [VAL ACCURACY]: 0.807 \n",
            "\n"
          ],
          "name": "stdout"
        },
        {
          "output_type": "stream",
          "text": [
            "/scratch/hg1580/kaggle/lib/python3.7/site-packages/ipykernel_launcher.py:14: MatplotlibDeprecationWarning: Adding an axes using the same arguments as a previous axes currently reuses the earlier instance.  In a future version, a new instance will always be created and returned.  Meanwhile, this warning can be suppressed, and the future behavior ensured, by passing a unique label to each axes instance.\n",
            "  \n",
            "/scratch/hg1580/kaggle/lib/python3.7/site-packages/ipykernel_launcher.py:18: MatplotlibDeprecationWarning: Adding an axes using the same arguments as a previous axes currently reuses the earlier instance.  In a future version, a new instance will always be created and returned.  Meanwhile, this warning can be suppressed, and the future behavior ensured, by passing a unique label to each axes instance.\n"
          ],
          "name": "stderr"
        },
        {
          "output_type": "display_data",
          "data": {
            "application/vnd.jupyter.widget-view+json": {
              "model_id": "baba7d30e51947c89ea70181ee4bd0a7",
              "version_major": 2,
              "version_minor": 0
            },
            "text/plain": [
              "HBox(children=(IntProgress(value=0, max=50), HTML(value='')))"
            ]
          },
          "metadata": {
            "tags": []
          }
        },
        {
          "output_type": "stream",
          "text": [
            "[EPOCH]: 0, [TRAIN LOSS]: 0.832857, [TRAIN ACCURACY]: 0.715\n",
            "[EPOCH]: 0, [VAL LOSS]: 0.826909, [VAL ACCURACY]: 0.720 \n",
            "\n",
            "[EPOCH]: 1, [TRAIN LOSS]: 0.638784, [TRAIN ACCURACY]: 0.778\n",
            "[EPOCH]: 1, [VAL LOSS]: 0.779023, [VAL ACCURACY]: 0.742 \n",
            "\n",
            "[EPOCH]: 2, [TRAIN LOSS]: 0.554677, [TRAIN ACCURACY]: 0.808\n",
            "[EPOCH]: 2, [VAL LOSS]: 0.730005, [VAL ACCURACY]: 0.749 \n",
            "\n",
            "[EPOCH]: 3, [TRAIN LOSS]: 0.507261, [TRAIN ACCURACY]: 0.823\n",
            "[EPOCH]: 3, [VAL LOSS]: 0.583333, [VAL ACCURACY]: 0.801 \n",
            "\n",
            "[EPOCH]: 4, [TRAIN LOSS]: 0.453330, [TRAIN ACCURACY]: 0.845\n",
            "[EPOCH]: 4, [VAL LOSS]: 0.529623, [VAL ACCURACY]: 0.819 \n",
            "\n",
            "[EPOCH]: 5, [TRAIN LOSS]: 0.418096, [TRAIN ACCURACY]: 0.854\n",
            "[EPOCH]: 5, [VAL LOSS]: 0.576672, [VAL ACCURACY]: 0.804 \n",
            "\n",
            "[EPOCH]: 6, [TRAIN LOSS]: 0.392919, [TRAIN ACCURACY]: 0.863\n",
            "[EPOCH]: 6, [VAL LOSS]: 0.538233, [VAL ACCURACY]: 0.822 \n",
            "\n",
            "[EPOCH]: 7, [TRAIN LOSS]: 0.359928, [TRAIN ACCURACY]: 0.875\n",
            "[EPOCH]: 7, [VAL LOSS]: 0.582830, [VAL ACCURACY]: 0.809 \n",
            "\n",
            "[EPOCH]: 8, [TRAIN LOSS]: 0.337587, [TRAIN ACCURACY]: 0.882\n",
            "[EPOCH]: 8, [VAL LOSS]: 0.566694, [VAL ACCURACY]: 0.812 \n",
            "\n",
            "[EPOCH]: 9, [TRAIN LOSS]: 0.310546, [TRAIN ACCURACY]: 0.892\n",
            "[EPOCH]: 9, [VAL LOSS]: 0.596956, [VAL ACCURACY]: 0.806 \n",
            "\n",
            "[EPOCH]: 10, [TRAIN LOSS]: 0.292419, [TRAIN ACCURACY]: 0.897\n",
            "[EPOCH]: 10, [VAL LOSS]: 0.592580, [VAL ACCURACY]: 0.806 \n",
            "\n",
            "[EPOCH]: 11, [TRAIN LOSS]: 0.277324, [TRAIN ACCURACY]: 0.901\n",
            "[EPOCH]: 11, [VAL LOSS]: 0.499420, [VAL ACCURACY]: 0.834 \n",
            "\n",
            "[EPOCH]: 12, [TRAIN LOSS]: 0.261077, [TRAIN ACCURACY]: 0.910\n",
            "[EPOCH]: 12, [VAL LOSS]: 0.621820, [VAL ACCURACY]: 0.810 \n",
            "\n",
            "[EPOCH]: 13, [TRAIN LOSS]: 0.242459, [TRAIN ACCURACY]: 0.915\n",
            "[EPOCH]: 13, [VAL LOSS]: 0.686368, [VAL ACCURACY]: 0.796 \n",
            "\n",
            "[EPOCH]: 14, [TRAIN LOSS]: 0.238436, [TRAIN ACCURACY]: 0.916\n",
            "[EPOCH]: 14, [VAL LOSS]: 0.553080, [VAL ACCURACY]: 0.825 \n",
            "\n",
            "[EPOCH]: 15, [TRAIN LOSS]: 0.220015, [TRAIN ACCURACY]: 0.922\n",
            "[EPOCH]: 15, [VAL LOSS]: 0.617935, [VAL ACCURACY]: 0.810 \n",
            "\n",
            "[EPOCH]: 16, [TRAIN LOSS]: 0.212343, [TRAIN ACCURACY]: 0.927\n",
            "[EPOCH]: 16, [VAL LOSS]: 0.607961, [VAL ACCURACY]: 0.813 \n",
            "\n",
            "[EPOCH]: 17, [TRAIN LOSS]: 0.196572, [TRAIN ACCURACY]: 0.931\n",
            "[EPOCH]: 17, [VAL LOSS]: 0.520871, [VAL ACCURACY]: 0.836 \n",
            "\n",
            "[EPOCH]: 18, [TRAIN LOSS]: 0.186396, [TRAIN ACCURACY]: 0.935\n",
            "[EPOCH]: 18, [VAL LOSS]: 0.555967, [VAL ACCURACY]: 0.834 \n",
            "\n",
            "[EPOCH]: 19, [TRAIN LOSS]: 0.184585, [TRAIN ACCURACY]: 0.935\n",
            "[EPOCH]: 19, [VAL LOSS]: 0.547692, [VAL ACCURACY]: 0.835 \n",
            "\n",
            "[EPOCH]: 20, [TRAIN LOSS]: 0.173057, [TRAIN ACCURACY]: 0.939\n",
            "[EPOCH]: 20, [VAL LOSS]: 0.594410, [VAL ACCURACY]: 0.827 \n",
            "\n",
            "[EPOCH]: 21, [TRAIN LOSS]: 0.162763, [TRAIN ACCURACY]: 0.943\n",
            "[EPOCH]: 21, [VAL LOSS]: 0.740098, [VAL ACCURACY]: 0.799 \n",
            "\n",
            "[EPOCH]: 22, [TRAIN LOSS]: 0.155147, [TRAIN ACCURACY]: 0.945\n",
            "[EPOCH]: 22, [VAL LOSS]: 0.683206, [VAL ACCURACY]: 0.816 \n",
            "\n"
          ],
          "name": "stdout"
        },
        {
          "output_type": "display_data",
          "data": {
            "application/vnd.jupyter.widget-view+json": {
              "model_id": "8547e80cb57a49e7858263b456d0c648",
              "version_major": 2,
              "version_minor": 0
            },
            "text/plain": [
              "HBox(children=(IntProgress(value=0, max=50), HTML(value='')))"
            ]
          },
          "metadata": {
            "tags": []
          }
        },
        {
          "output_type": "stream",
          "text": [
            "[EPOCH]: 0, [TRAIN LOSS]: 0.975248, [TRAIN ACCURACY]: 0.689\n",
            "[EPOCH]: 0, [VAL LOSS]: 0.741840, [VAL ACCURACY]: 0.748 \n",
            "\n",
            "[EPOCH]: 1, [TRAIN LOSS]: 0.640837, [TRAIN ACCURACY]: 0.782\n",
            "[EPOCH]: 1, [VAL LOSS]: 0.832443, [VAL ACCURACY]: 0.726 \n",
            "\n",
            "[EPOCH]: 2, [TRAIN LOSS]: 0.527144, [TRAIN ACCURACY]: 0.817\n",
            "[EPOCH]: 2, [VAL LOSS]: 0.610774, [VAL ACCURACY]: 0.796 \n",
            "\n",
            "[EPOCH]: 3, [TRAIN LOSS]: 0.462183, [TRAIN ACCURACY]: 0.838\n",
            "[EPOCH]: 3, [VAL LOSS]: 0.631826, [VAL ACCURACY]: 0.785 \n",
            "\n",
            "[EPOCH]: 4, [TRAIN LOSS]: 0.415674, [TRAIN ACCURACY]: 0.854\n",
            "[EPOCH]: 4, [VAL LOSS]: 0.646323, [VAL ACCURACY]: 0.798 \n",
            "\n",
            "[EPOCH]: 5, [TRAIN LOSS]: 0.381869, [TRAIN ACCURACY]: 0.867\n",
            "[EPOCH]: 5, [VAL LOSS]: 0.737591, [VAL ACCURACY]: 0.767 \n",
            "\n",
            "[EPOCH]: 6, [TRAIN LOSS]: 0.355487, [TRAIN ACCURACY]: 0.877\n",
            "[EPOCH]: 6, [VAL LOSS]: 0.673072, [VAL ACCURACY]: 0.782 \n",
            "\n",
            "[EPOCH]: 7, [TRAIN LOSS]: 0.333736, [TRAIN ACCURACY]: 0.884\n",
            "[EPOCH]: 7, [VAL LOSS]: 0.539395, [VAL ACCURACY]: 0.819 \n",
            "\n",
            "[EPOCH]: 8, [TRAIN LOSS]: 0.317776, [TRAIN ACCURACY]: 0.888\n",
            "[EPOCH]: 8, [VAL LOSS]: 0.709292, [VAL ACCURACY]: 0.793 \n",
            "\n",
            "[EPOCH]: 9, [TRAIN LOSS]: 0.299099, [TRAIN ACCURACY]: 0.896\n",
            "[EPOCH]: 9, [VAL LOSS]: 0.520784, [VAL ACCURACY]: 0.830 \n",
            "\n",
            "[EPOCH]: 10, [TRAIN LOSS]: 0.282085, [TRAIN ACCURACY]: 0.900\n",
            "[EPOCH]: 10, [VAL LOSS]: 0.577027, [VAL ACCURACY]: 0.809 \n",
            "\n",
            "[EPOCH]: 11, [TRAIN LOSS]: 0.272318, [TRAIN ACCURACY]: 0.905\n",
            "[EPOCH]: 11, [VAL LOSS]: 0.510104, [VAL ACCURACY]: 0.836 \n",
            "\n",
            "[EPOCH]: 12, [TRAIN LOSS]: 0.258183, [TRAIN ACCURACY]: 0.910\n",
            "[EPOCH]: 12, [VAL LOSS]: 0.541252, [VAL ACCURACY]: 0.830 \n",
            "\n",
            "[EPOCH]: 13, [TRAIN LOSS]: 0.250819, [TRAIN ACCURACY]: 0.912\n",
            "[EPOCH]: 13, [VAL LOSS]: 0.601706, [VAL ACCURACY]: 0.813 \n",
            "\n",
            "[EPOCH]: 14, [TRAIN LOSS]: 0.237679, [TRAIN ACCURACY]: 0.918\n",
            "[EPOCH]: 14, [VAL LOSS]: 0.605611, [VAL ACCURACY]: 0.813 \n",
            "\n",
            "[EPOCH]: 15, [TRAIN LOSS]: 0.234926, [TRAIN ACCURACY]: 0.917\n",
            "[EPOCH]: 15, [VAL LOSS]: 0.605138, [VAL ACCURACY]: 0.818 \n",
            "\n",
            "[EPOCH]: 16, [TRAIN LOSS]: 0.219524, [TRAIN ACCURACY]: 0.923\n",
            "[EPOCH]: 16, [VAL LOSS]: 0.659733, [VAL ACCURACY]: 0.805 \n",
            "\n"
          ],
          "name": "stdout"
        },
        {
          "output_type": "display_data",
          "data": {
            "application/vnd.jupyter.widget-view+json": {
              "model_id": "ccbe839b36d944f4b1a3933606e9d817",
              "version_major": 2,
              "version_minor": 0
            },
            "text/plain": [
              "HBox(children=(IntProgress(value=0, max=50), HTML(value='')))"
            ]
          },
          "metadata": {
            "tags": []
          }
        },
        {
          "output_type": "stream",
          "text": [
            "[EPOCH]: 0, [TRAIN LOSS]: 1.302455, [TRAIN ACCURACY]: 0.590\n",
            "[EPOCH]: 0, [VAL LOSS]: 1.126760, [VAL ACCURACY]: 0.624 \n",
            "\n",
            "[EPOCH]: 1, [TRAIN LOSS]: 0.906767, [TRAIN ACCURACY]: 0.694\n",
            "[EPOCH]: 1, [VAL LOSS]: 1.511396, [VAL ACCURACY]: 0.514 \n",
            "\n",
            "[EPOCH]: 2, [TRAIN LOSS]: 0.804308, [TRAIN ACCURACY]: 0.731\n",
            "[EPOCH]: 2, [VAL LOSS]: 1.468124, [VAL ACCURACY]: 0.505 \n",
            "\n",
            "[EPOCH]: 3, [TRAIN LOSS]: 0.716899, [TRAIN ACCURACY]: 0.759\n",
            "[EPOCH]: 3, [VAL LOSS]: 1.920846, [VAL ACCURACY]: 0.514 \n",
            "\n",
            "[EPOCH]: 4, [TRAIN LOSS]: 0.692205, [TRAIN ACCURACY]: 0.771\n",
            "[EPOCH]: 4, [VAL LOSS]: 2.369976, [VAL ACCURACY]: 0.404 \n",
            "\n",
            "[EPOCH]: 5, [TRAIN LOSS]: 0.616741, [TRAIN ACCURACY]: 0.795\n",
            "[EPOCH]: 5, [VAL LOSS]: 1.824056, [VAL ACCURACY]: 0.427 \n",
            "\n"
          ],
          "name": "stdout"
        },
        {
          "output_type": "display_data",
          "data": {
            "image/png": "[encoded data removed]",
            "text/plain": [
              "<Figure size 432x288 with 2 Axes>"
            ]
          },
          "metadata": {
            "tags": [],
            "needs_background": "light"
          }
        }
      ]
    },
    {
      "cell_type": "code",
      "metadata": {
        "scrolled": false,
        "id": "0sToGE2uZ2Z1",
        "outputId": "a1acf393-6990-4eab-d4be-70db785e71e5",
        "colab": {
          "referenced_widgets": [
            "1f1ac4e4c1434952aa526820993b9017",
            "230ac51f98e249228130d74729b4e225",
            "7274bbc16e604b708d9ad24e60257381",
            "82a4f712adc14a37918cef9ab2e0aefa",
            "ab10ea3c986d49edacc4b1c7a4eff17e"
          ]
        }
      },
      "source": [
        "if torch.cuda.is_available():\n",
        "    device = torch.device(\"cuda\")\n",
        "else:\n",
        "    device = torch.device(\"cpu\")\n",
        "model=ResidualConvnet(3,10)\n",
        "model=model.to(device)\n",
        "criterion=nn.CrossEntropyLoss()\n",
        "\n",
        "acc=[]\n",
        "optimizer=torch.optim.SGD(model.parameters(),lr=1e-1)\n",
        "for gama in [0.05,0.15,0.45,0.75,0.9]:\n",
        "  scheduler = StepLR(optimizer, step_size=12, gamma=gama)\n",
        "  train_losses_lr, train_accuracies_lr, val_losses_lr, val_accuracies_lr=train_loop2(model, criterion, optimizer, scheduler,  train_loader, val_loader)\n",
        "  acc.append(max(val_accuracies_lr))\n",
        "  plt.subplot(2, 1, 1) \n",
        "  plt.plot(range(len(train_losses_lr)),train_losses_lr,label=str(gama))\n",
        "  plt.title('Adam train loss with scheduler')\n",
        "  plt.legend()\n",
        "  plt.subplot(2, 1, 2) \n",
        "  plt.plot(range(len(val_losses_lr)),val_losses_lr,label=str(gama))\n",
        "  plt.title('Adam val loss with scheduler')\n",
        "  plt.legend()"
      ],
      "execution_count": null,
      "outputs": [
        {
          "output_type": "display_data",
          "data": {
            "application/vnd.jupyter.widget-view+json": {
              "model_id": "1f1ac4e4c1434952aa526820993b9017",
              "version_major": 2,
              "version_minor": 0
            },
            "text/plain": [
              "HBox(children=(IntProgress(value=0, max=50), HTML(value='')))"
            ]
          },
          "metadata": {
            "tags": []
          }
        },
        {
          "output_type": "stream",
          "text": [
            "[EPOCH]: 0, [TRAIN LOSS]: 2.295830, [TRAIN ACCURACY]: 0.321\n",
            "[EPOCH]: 0, [VAL LOSS]: 1.770328, [VAL ACCURACY]: 0.380 \n",
            "\n",
            "[EPOCH]: 1, [TRAIN LOSS]: 1.507786, [TRAIN ACCURACY]: 0.476\n",
            "[EPOCH]: 1, [VAL LOSS]: 3.289527, [VAL ACCURACY]: 0.393 \n",
            "\n",
            "[EPOCH]: 2, [TRAIN LOSS]: 1.285704, [TRAIN ACCURACY]: 0.560\n",
            "[EPOCH]: 2, [VAL LOSS]: 2.434022, [VAL ACCURACY]: 0.419 \n",
            "\n",
            "[EPOCH]: 3, [TRAIN LOSS]: 1.107171, [TRAIN ACCURACY]: 0.622\n",
            "[EPOCH]: 3, [VAL LOSS]: 6.801866, [VAL ACCURACY]: 0.418 \n",
            "\n",
            "[EPOCH]: 4, [TRAIN LOSS]: 0.964386, [TRAIN ACCURACY]: 0.670\n",
            "[EPOCH]: 4, [VAL LOSS]: 1.234838, [VAL ACCURACY]: 0.640 \n",
            "\n",
            "[EPOCH]: 5, [TRAIN LOSS]: 0.853441, [TRAIN ACCURACY]: 0.711\n",
            "[EPOCH]: 5, [VAL LOSS]: 0.846562, [VAL ACCURACY]: 0.727 \n",
            "\n",
            "[EPOCH]: 6, [TRAIN LOSS]: 0.762065, [TRAIN ACCURACY]: 0.740\n",
            "[EPOCH]: 6, [VAL LOSS]: 1.060226, [VAL ACCURACY]: 0.637 \n",
            "\n",
            "[EPOCH]: 7, [TRAIN LOSS]: 0.699781, [TRAIN ACCURACY]: 0.762\n",
            "[EPOCH]: 7, [VAL LOSS]: 0.969377, [VAL ACCURACY]: 0.676 \n",
            "\n",
            "[EPOCH]: 8, [TRAIN LOSS]: 0.642030, [TRAIN ACCURACY]: 0.778\n",
            "[EPOCH]: 8, [VAL LOSS]: 0.756952, [VAL ACCURACY]: 0.749 \n",
            "\n",
            "[EPOCH]: 9, [TRAIN LOSS]: 0.597266, [TRAIN ACCURACY]: 0.795\n",
            "[EPOCH]: 9, [VAL LOSS]: 0.761383, [VAL ACCURACY]: 0.754 \n",
            "\n",
            "[EPOCH]: 10, [TRAIN LOSS]: 0.559170, [TRAIN ACCURACY]: 0.807\n",
            "[EPOCH]: 10, [VAL LOSS]: 0.585602, [VAL ACCURACY]: 0.801 \n",
            "\n",
            "[EPOCH]: 11, [TRAIN LOSS]: 0.529924, [TRAIN ACCURACY]: 0.818\n",
            "[EPOCH]: 11, [VAL LOSS]: 0.571842, [VAL ACCURACY]: 0.805 \n",
            "\n",
            "[EPOCH]: 12, [TRAIN LOSS]: 0.402117, [TRAIN ACCURACY]: 0.863\n",
            "[EPOCH]: 12, [VAL LOSS]: 0.484876, [VAL ACCURACY]: 0.832 \n",
            "\n",
            "[EPOCH]: 13, [TRAIN LOSS]: 0.369034, [TRAIN ACCURACY]: 0.874\n",
            "[EPOCH]: 13, [VAL LOSS]: 0.480411, [VAL ACCURACY]: 0.835 \n",
            "\n",
            "[EPOCH]: 14, [TRAIN LOSS]: 0.353284, [TRAIN ACCURACY]: 0.879\n",
            "[EPOCH]: 14, [VAL LOSS]: 0.474906, [VAL ACCURACY]: 0.837 \n",
            "\n",
            "[EPOCH]: 15, [TRAIN LOSS]: 0.340619, [TRAIN ACCURACY]: 0.884\n",
            "[EPOCH]: 15, [VAL LOSS]: 0.482418, [VAL ACCURACY]: 0.837 \n",
            "\n",
            "[EPOCH]: 16, [TRAIN LOSS]: 0.337230, [TRAIN ACCURACY]: 0.883\n",
            "[EPOCH]: 16, [VAL LOSS]: 0.472644, [VAL ACCURACY]: 0.841 \n",
            "\n",
            "[EPOCH]: 17, [TRAIN LOSS]: 0.326705, [TRAIN ACCURACY]: 0.888\n",
            "[EPOCH]: 17, [VAL LOSS]: 0.477932, [VAL ACCURACY]: 0.839 \n",
            "\n",
            "[EPOCH]: 18, [TRAIN LOSS]: 0.320116, [TRAIN ACCURACY]: 0.890\n",
            "[EPOCH]: 18, [VAL LOSS]: 0.475152, [VAL ACCURACY]: 0.841 \n",
            "\n",
            "[EPOCH]: 19, [TRAIN LOSS]: 0.315667, [TRAIN ACCURACY]: 0.890\n",
            "[EPOCH]: 19, [VAL LOSS]: 0.476793, [VAL ACCURACY]: 0.838 \n",
            "\n",
            "[EPOCH]: 20, [TRAIN LOSS]: 0.304112, [TRAIN ACCURACY]: 0.895\n",
            "[EPOCH]: 20, [VAL LOSS]: 0.474630, [VAL ACCURACY]: 0.841 \n",
            "\n",
            "[EPOCH]: 21, [TRAIN LOSS]: 0.300837, [TRAIN ACCURACY]: 0.896\n",
            "[EPOCH]: 21, [VAL LOSS]: 0.470630, [VAL ACCURACY]: 0.841 \n",
            "\n",
            "[EPOCH]: 22, [TRAIN LOSS]: 0.296723, [TRAIN ACCURACY]: 0.896\n",
            "[EPOCH]: 22, [VAL LOSS]: 0.474860, [VAL ACCURACY]: 0.842 \n",
            "\n",
            "[EPOCH]: 23, [TRAIN LOSS]: 0.291796, [TRAIN ACCURACY]: 0.900\n",
            "[EPOCH]: 23, [VAL LOSS]: 0.473241, [VAL ACCURACY]: 0.842 \n",
            "\n",
            "[EPOCH]: 24, [TRAIN LOSS]: 0.284562, [TRAIN ACCURACY]: 0.902\n",
            "[EPOCH]: 24, [VAL LOSS]: 0.472512, [VAL ACCURACY]: 0.842 \n",
            "\n",
            "[EPOCH]: 25, [TRAIN LOSS]: 0.282838, [TRAIN ACCURACY]: 0.903\n",
            "[EPOCH]: 25, [VAL LOSS]: 0.469913, [VAL ACCURACY]: 0.842 \n",
            "\n",
            "[EPOCH]: 26, [TRAIN LOSS]: 0.283878, [TRAIN ACCURACY]: 0.902\n",
            "[EPOCH]: 26, [VAL LOSS]: 0.467484, [VAL ACCURACY]: 0.844 \n",
            "\n",
            "[EPOCH]: 27, [TRAIN LOSS]: 0.280984, [TRAIN ACCURACY]: 0.903\n",
            "[EPOCH]: 27, [VAL LOSS]: 0.465680, [VAL ACCURACY]: 0.843 \n",
            "\n",
            "[EPOCH]: 28, [TRAIN LOSS]: 0.284174, [TRAIN ACCURACY]: 0.902\n",
            "[EPOCH]: 28, [VAL LOSS]: 0.472239, [VAL ACCURACY]: 0.842 \n",
            "\n",
            "[EPOCH]: 29, [TRAIN LOSS]: 0.284280, [TRAIN ACCURACY]: 0.900\n",
            "[EPOCH]: 29, [VAL LOSS]: 0.469454, [VAL ACCURACY]: 0.843 \n",
            "\n",
            "[EPOCH]: 30, [TRAIN LOSS]: 0.282749, [TRAIN ACCURACY]: 0.902\n",
            "[EPOCH]: 30, [VAL LOSS]: 0.471821, [VAL ACCURACY]: 0.841 \n",
            "\n",
            "[EPOCH]: 31, [TRAIN LOSS]: 0.281057, [TRAIN ACCURACY]: 0.904\n",
            "[EPOCH]: 31, [VAL LOSS]: 0.468194, [VAL ACCURACY]: 0.843 \n",
            "\n"
          ],
          "name": "stdout"
        },
        {
          "output_type": "display_data",
          "data": {
            "application/vnd.jupyter.widget-view+json": {
              "model_id": "230ac51f98e249228130d74729b4e225",
              "version_major": 2,
              "version_minor": 0
            },
            "text/plain": [
              "HBox(children=(IntProgress(value=0, max=50), HTML(value='')))"
            ]
          },
          "metadata": {
            "tags": []
          }
        },
        {
          "output_type": "stream",
          "text": [
            "[EPOCH]: 0, [TRAIN LOSS]: 0.479237, [TRAIN ACCURACY]: 0.833\n",
            "[EPOCH]: 0, [VAL LOSS]: 0.641743, [VAL ACCURACY]: 0.792 \n",
            "\n",
            "[EPOCH]: 1, [TRAIN LOSS]: 0.441574, [TRAIN ACCURACY]: 0.846\n",
            "[EPOCH]: 1, [VAL LOSS]: 0.609295, [VAL ACCURACY]: 0.805 \n",
            "\n",
            "[EPOCH]: 2, [TRAIN LOSS]: 0.415801, [TRAIN ACCURACY]: 0.853\n",
            "[EPOCH]: 2, [VAL LOSS]: 0.545818, [VAL ACCURACY]: 0.817 \n",
            "\n",
            "[EPOCH]: 3, [TRAIN LOSS]: 0.397695, [TRAIN ACCURACY]: 0.861\n",
            "[EPOCH]: 3, [VAL LOSS]: 0.572627, [VAL ACCURACY]: 0.810 \n",
            "\n",
            "[EPOCH]: 4, [TRAIN LOSS]: 0.372579, [TRAIN ACCURACY]: 0.872\n",
            "[EPOCH]: 4, [VAL LOSS]: 0.519657, [VAL ACCURACY]: 0.824 \n",
            "\n",
            "[EPOCH]: 5, [TRAIN LOSS]: 0.357155, [TRAIN ACCURACY]: 0.874\n",
            "[EPOCH]: 5, [VAL LOSS]: 0.559328, [VAL ACCURACY]: 0.819 \n",
            "\n",
            "[EPOCH]: 6, [TRAIN LOSS]: 0.340112, [TRAIN ACCURACY]: 0.879\n",
            "[EPOCH]: 6, [VAL LOSS]: 0.642998, [VAL ACCURACY]: 0.798 \n",
            "\n",
            "[EPOCH]: 7, [TRAIN LOSS]: 0.315530, [TRAIN ACCURACY]: 0.888\n",
            "[EPOCH]: 7, [VAL LOSS]: 0.575874, [VAL ACCURACY]: 0.813 \n",
            "\n",
            "[EPOCH]: 8, [TRAIN LOSS]: 0.296438, [TRAIN ACCURACY]: 0.896\n",
            "[EPOCH]: 8, [VAL LOSS]: 0.617269, [VAL ACCURACY]: 0.807 \n",
            "\n",
            "[EPOCH]: 9, [TRAIN LOSS]: 0.288162, [TRAIN ACCURACY]: 0.898\n",
            "[EPOCH]: 9, [VAL LOSS]: 0.515268, [VAL ACCURACY]: 0.835 \n",
            "\n",
            "[EPOCH]: 10, [TRAIN LOSS]: 0.271759, [TRAIN ACCURACY]: 0.904\n",
            "[EPOCH]: 10, [VAL LOSS]: 0.545253, [VAL ACCURACY]: 0.828 \n",
            "\n",
            "[EPOCH]: 11, [TRAIN LOSS]: 0.259900, [TRAIN ACCURACY]: 0.909\n",
            "[EPOCH]: 11, [VAL LOSS]: 0.605979, [VAL ACCURACY]: 0.811 \n",
            "\n",
            "[EPOCH]: 12, [TRAIN LOSS]: 0.177474, [TRAIN ACCURACY]: 0.940\n",
            "[EPOCH]: 12, [VAL LOSS]: 0.460029, [VAL ACCURACY]: 0.854 \n",
            "\n",
            "[EPOCH]: 13, [TRAIN LOSS]: 0.147021, [TRAIN ACCURACY]: 0.951\n",
            "[EPOCH]: 13, [VAL LOSS]: 0.458785, [VAL ACCURACY]: 0.860 \n",
            "\n",
            "[EPOCH]: 14, [TRAIN LOSS]: 0.134151, [TRAIN ACCURACY]: 0.955\n",
            "[EPOCH]: 14, [VAL LOSS]: 0.466037, [VAL ACCURACY]: 0.857 \n",
            "\n",
            "[EPOCH]: 15, [TRAIN LOSS]: 0.127379, [TRAIN ACCURACY]: 0.957\n",
            "[EPOCH]: 15, [VAL LOSS]: 0.477590, [VAL ACCURACY]: 0.856 \n",
            "\n",
            "[EPOCH]: 16, [TRAIN LOSS]: 0.119295, [TRAIN ACCURACY]: 0.960\n",
            "[EPOCH]: 16, [VAL LOSS]: 0.464786, [VAL ACCURACY]: 0.861 \n",
            "\n",
            "[EPOCH]: 17, [TRAIN LOSS]: 0.111662, [TRAIN ACCURACY]: 0.962\n",
            "[EPOCH]: 17, [VAL LOSS]: 0.478144, [VAL ACCURACY]: 0.859 \n",
            "\n",
            "[EPOCH]: 18, [TRAIN LOSS]: 0.107963, [TRAIN ACCURACY]: 0.963\n",
            "[EPOCH]: 18, [VAL LOSS]: 0.483466, [VAL ACCURACY]: 0.856 \n",
            "\n",
            "[EPOCH]: 19, [TRAIN LOSS]: 0.101101, [TRAIN ACCURACY]: 0.966\n",
            "[EPOCH]: 19, [VAL LOSS]: 0.480962, [VAL ACCURACY]: 0.858 \n",
            "\n",
            "[EPOCH]: 20, [TRAIN LOSS]: 0.099280, [TRAIN ACCURACY]: 0.966\n",
            "[EPOCH]: 20, [VAL LOSS]: 0.497262, [VAL ACCURACY]: 0.856 \n",
            "\n",
            "[EPOCH]: 21, [TRAIN LOSS]: 0.097507, [TRAIN ACCURACY]: 0.967\n",
            "[EPOCH]: 21, [VAL LOSS]: 0.476445, [VAL ACCURACY]: 0.860 \n",
            "\n"
          ],
          "name": "stdout"
        },
        {
          "output_type": "stream",
          "text": [
            "/scratch/hg1580/kaggle/lib/python3.7/site-packages/ipykernel_launcher.py:15: MatplotlibDeprecationWarning: Adding an axes using the same arguments as a previous axes currently reuses the earlier instance.  In a future version, a new instance will always be created and returned.  Meanwhile, this warning can be suppressed, and the future behavior ensured, by passing a unique label to each axes instance.\n",
            "  from ipykernel import kernelapp as app\n",
            "/scratch/hg1580/kaggle/lib/python3.7/site-packages/ipykernel_launcher.py:19: MatplotlibDeprecationWarning: Adding an axes using the same arguments as a previous axes currently reuses the earlier instance.  In a future version, a new instance will always be created and returned.  Meanwhile, this warning can be suppressed, and the future behavior ensured, by passing a unique label to each axes instance.\n"
          ],
          "name": "stderr"
        },
        {
          "output_type": "display_data",
          "data": {
            "application/vnd.jupyter.widget-view+json": {
              "model_id": "7274bbc16e604b708d9ad24e60257381",
              "version_major": 2,
              "version_minor": 0
            },
            "text/plain": [
              "HBox(children=(IntProgress(value=0, max=50), HTML(value='')))"
            ]
          },
          "metadata": {
            "tags": []
          }
        },
        {
          "output_type": "stream",
          "text": [
            "[EPOCH]: 0, [TRAIN LOSS]: 0.222281, [TRAIN ACCURACY]: 0.921\n",
            "[EPOCH]: 0, [VAL LOSS]: 0.747848, [VAL ACCURACY]: 0.790 \n",
            "\n",
            "[EPOCH]: 1, [TRAIN LOSS]: 0.229629, [TRAIN ACCURACY]: 0.919\n",
            "[EPOCH]: 1, [VAL LOSS]: 0.549852, [VAL ACCURACY]: 0.834 \n",
            "\n",
            "[EPOCH]: 2, [TRAIN LOSS]: 0.212556, [TRAIN ACCURACY]: 0.925\n",
            "[EPOCH]: 2, [VAL LOSS]: 0.604398, [VAL ACCURACY]: 0.819 \n",
            "\n",
            "[EPOCH]: 3, [TRAIN LOSS]: 0.197509, [TRAIN ACCURACY]: 0.930\n",
            "[EPOCH]: 3, [VAL LOSS]: 0.569395, [VAL ACCURACY]: 0.837 \n",
            "\n",
            "[EPOCH]: 4, [TRAIN LOSS]: 0.190291, [TRAIN ACCURACY]: 0.933\n",
            "[EPOCH]: 4, [VAL LOSS]: 0.560941, [VAL ACCURACY]: 0.834 \n",
            "\n",
            "[EPOCH]: 5, [TRAIN LOSS]: 0.186804, [TRAIN ACCURACY]: 0.934\n",
            "[EPOCH]: 5, [VAL LOSS]: 0.637220, [VAL ACCURACY]: 0.819 \n",
            "\n",
            "[EPOCH]: 6, [TRAIN LOSS]: 0.182070, [TRAIN ACCURACY]: 0.935\n",
            "[EPOCH]: 6, [VAL LOSS]: 0.553787, [VAL ACCURACY]: 0.835 \n",
            "\n",
            "[EPOCH]: 7, [TRAIN LOSS]: 0.167680, [TRAIN ACCURACY]: 0.941\n",
            "[EPOCH]: 7, [VAL LOSS]: 0.673053, [VAL ACCURACY]: 0.811 \n",
            "\n",
            "[EPOCH]: 8, [TRAIN LOSS]: 0.154993, [TRAIN ACCURACY]: 0.945\n",
            "[EPOCH]: 8, [VAL LOSS]: 0.752457, [VAL ACCURACY]: 0.799 \n",
            "\n",
            "[EPOCH]: 9, [TRAIN LOSS]: 0.155240, [TRAIN ACCURACY]: 0.945\n",
            "[EPOCH]: 9, [VAL LOSS]: 0.578252, [VAL ACCURACY]: 0.837 \n",
            "\n",
            "[EPOCH]: 10, [TRAIN LOSS]: 0.146392, [TRAIN ACCURACY]: 0.948\n",
            "[EPOCH]: 10, [VAL LOSS]: 0.582146, [VAL ACCURACY]: 0.839 \n",
            "\n",
            "[EPOCH]: 11, [TRAIN LOSS]: 0.137652, [TRAIN ACCURACY]: 0.951\n",
            "[EPOCH]: 11, [VAL LOSS]: 0.656400, [VAL ACCURACY]: 0.818 \n",
            "\n",
            "[EPOCH]: 12, [TRAIN LOSS]: 0.087034, [TRAIN ACCURACY]: 0.971\n",
            "[EPOCH]: 12, [VAL LOSS]: 0.544782, [VAL ACCURACY]: 0.850 \n",
            "\n",
            "[EPOCH]: 13, [TRAIN LOSS]: 0.067820, [TRAIN ACCURACY]: 0.978\n",
            "[EPOCH]: 13, [VAL LOSS]: 0.536111, [VAL ACCURACY]: 0.858 \n",
            "\n",
            "[EPOCH]: 14, [TRAIN LOSS]: 0.066047, [TRAIN ACCURACY]: 0.978\n",
            "[EPOCH]: 14, [VAL LOSS]: 0.557811, [VAL ACCURACY]: 0.851 \n",
            "\n",
            "[EPOCH]: 15, [TRAIN LOSS]: 0.059828, [TRAIN ACCURACY]: 0.980\n",
            "[EPOCH]: 15, [VAL LOSS]: 0.545343, [VAL ACCURACY]: 0.855 \n",
            "\n",
            "[EPOCH]: 16, [TRAIN LOSS]: 0.056486, [TRAIN ACCURACY]: 0.981\n",
            "[EPOCH]: 16, [VAL LOSS]: 0.532565, [VAL ACCURACY]: 0.860 \n",
            "\n",
            "[EPOCH]: 17, [TRAIN LOSS]: 0.049744, [TRAIN ACCURACY]: 0.984\n",
            "[EPOCH]: 17, [VAL LOSS]: 0.544059, [VAL ACCURACY]: 0.860 \n",
            "\n",
            "[EPOCH]: 18, [TRAIN LOSS]: 0.047922, [TRAIN ACCURACY]: 0.984\n",
            "[EPOCH]: 18, [VAL LOSS]: 0.554182, [VAL ACCURACY]: 0.857 \n",
            "\n",
            "[EPOCH]: 19, [TRAIN LOSS]: 0.046391, [TRAIN ACCURACY]: 0.985\n",
            "[EPOCH]: 19, [VAL LOSS]: 0.556884, [VAL ACCURACY]: 0.856 \n",
            "\n",
            "[EPOCH]: 20, [TRAIN LOSS]: 0.042933, [TRAIN ACCURACY]: 0.987\n",
            "[EPOCH]: 20, [VAL LOSS]: 0.589796, [VAL ACCURACY]: 0.853 \n",
            "\n",
            "[EPOCH]: 21, [TRAIN LOSS]: 0.042478, [TRAIN ACCURACY]: 0.986\n",
            "[EPOCH]: 21, [VAL LOSS]: 0.597281, [VAL ACCURACY]: 0.852 \n",
            "\n"
          ],
          "name": "stdout"
        },
        {
          "output_type": "display_data",
          "data": {
            "application/vnd.jupyter.widget-view+json": {
              "model_id": "82a4f712adc14a37918cef9ab2e0aefa",
              "version_major": 2,
              "version_minor": 0
            },
            "text/plain": [
              "HBox(children=(IntProgress(value=0, max=50), HTML(value='')))"
            ]
          },
          "metadata": {
            "tags": []
          }
        },
        {
          "output_type": "stream",
          "text": [
            "[EPOCH]: 0, [TRAIN LOSS]: 0.095913, [TRAIN ACCURACY]: 0.967\n",
            "[EPOCH]: 0, [VAL LOSS]: 0.675153, [VAL ACCURACY]: 0.831 \n",
            "\n",
            "[EPOCH]: 1, [TRAIN LOSS]: 0.112499, [TRAIN ACCURACY]: 0.960\n",
            "[EPOCH]: 1, [VAL LOSS]: 0.754240, [VAL ACCURACY]: 0.814 \n",
            "\n",
            "[EPOCH]: 2, [TRAIN LOSS]: 0.109055, [TRAIN ACCURACY]: 0.962\n",
            "[EPOCH]: 2, [VAL LOSS]: 0.640864, [VAL ACCURACY]: 0.839 \n",
            "\n",
            "[EPOCH]: 3, [TRAIN LOSS]: 0.110643, [TRAIN ACCURACY]: 0.962\n",
            "[EPOCH]: 3, [VAL LOSS]: 0.680001, [VAL ACCURACY]: 0.833 \n",
            "\n",
            "[EPOCH]: 4, [TRAIN LOSS]: 0.104741, [TRAIN ACCURACY]: 0.963\n",
            "[EPOCH]: 4, [VAL LOSS]: 0.702352, [VAL ACCURACY]: 0.828 \n",
            "\n",
            "[EPOCH]: 5, [TRAIN LOSS]: 0.098350, [TRAIN ACCURACY]: 0.966\n",
            "[EPOCH]: 5, [VAL LOSS]: 0.597894, [VAL ACCURACY]: 0.848 \n",
            "\n",
            "[EPOCH]: 6, [TRAIN LOSS]: 0.091804, [TRAIN ACCURACY]: 0.967\n",
            "[EPOCH]: 6, [VAL LOSS]: 0.689653, [VAL ACCURACY]: 0.821 \n",
            "\n",
            "[EPOCH]: 7, [TRAIN LOSS]: 0.091100, [TRAIN ACCURACY]: 0.968\n",
            "[EPOCH]: 7, [VAL LOSS]: 0.604794, [VAL ACCURACY]: 0.851 \n",
            "\n",
            "[EPOCH]: 8, [TRAIN LOSS]: 0.087433, [TRAIN ACCURACY]: 0.969\n",
            "[EPOCH]: 8, [VAL LOSS]: 0.596616, [VAL ACCURACY]: 0.847 \n",
            "\n",
            "[EPOCH]: 9, [TRAIN LOSS]: 0.087744, [TRAIN ACCURACY]: 0.969\n",
            "[EPOCH]: 9, [VAL LOSS]: 0.736469, [VAL ACCURACY]: 0.823 \n",
            "\n",
            "[EPOCH]: 10, [TRAIN LOSS]: 0.080847, [TRAIN ACCURACY]: 0.972\n",
            "[EPOCH]: 10, [VAL LOSS]: 0.628923, [VAL ACCURACY]: 0.846 \n",
            "\n",
            "[EPOCH]: 11, [TRAIN LOSS]: 0.081943, [TRAIN ACCURACY]: 0.971\n",
            "[EPOCH]: 11, [VAL LOSS]: 0.665426, [VAL ACCURACY]: 0.840 \n",
            "\n",
            "[EPOCH]: 12, [TRAIN LOSS]: 0.061806, [TRAIN ACCURACY]: 0.978\n",
            "[EPOCH]: 12, [VAL LOSS]: 0.638476, [VAL ACCURACY]: 0.846 \n",
            "\n"
          ],
          "name": "stdout"
        },
        {
          "output_type": "display_data",
          "data": {
            "application/vnd.jupyter.widget-view+json": {
              "model_id": "ab10ea3c986d49edacc4b1c7a4eff17e",
              "version_major": 2,
              "version_minor": 0
            },
            "text/plain": [
              "HBox(children=(IntProgress(value=0, max=50), HTML(value='')))"
            ]
          },
          "metadata": {
            "tags": []
          }
        },
        {
          "output_type": "stream",
          "text": [
            "[EPOCH]: 0, [TRAIN LOSS]: 0.060255, [TRAIN ACCURACY]: 0.979\n",
            "[EPOCH]: 0, [VAL LOSS]: 0.694556, [VAL ACCURACY]: 0.839 \n",
            "\n",
            "[EPOCH]: 1, [TRAIN LOSS]: 0.068413, [TRAIN ACCURACY]: 0.976\n",
            "[EPOCH]: 1, [VAL LOSS]: 0.668350, [VAL ACCURACY]: 0.846 \n",
            "\n",
            "[EPOCH]: 2, [TRAIN LOSS]: 0.061504, [TRAIN ACCURACY]: 0.980\n",
            "[EPOCH]: 2, [VAL LOSS]: 0.677702, [VAL ACCURACY]: 0.843 \n",
            "\n",
            "[EPOCH]: 3, [TRAIN LOSS]: 0.065465, [TRAIN ACCURACY]: 0.978\n",
            "[EPOCH]: 3, [VAL LOSS]: 0.639786, [VAL ACCURACY]: 0.848 \n",
            "\n",
            "[EPOCH]: 4, [TRAIN LOSS]: 0.060641, [TRAIN ACCURACY]: 0.979\n",
            "[EPOCH]: 4, [VAL LOSS]: 0.707540, [VAL ACCURACY]: 0.833 \n",
            "\n",
            "[EPOCH]: 5, [TRAIN LOSS]: 0.063021, [TRAIN ACCURACY]: 0.978\n",
            "[EPOCH]: 5, [VAL LOSS]: 0.682248, [VAL ACCURACY]: 0.841 \n",
            "\n",
            "[EPOCH]: 6, [TRAIN LOSS]: 0.066872, [TRAIN ACCURACY]: 0.977\n",
            "[EPOCH]: 6, [VAL LOSS]: 0.680851, [VAL ACCURACY]: 0.837 \n",
            "\n",
            "[EPOCH]: 7, [TRAIN LOSS]: 0.060015, [TRAIN ACCURACY]: 0.979\n",
            "[EPOCH]: 7, [VAL LOSS]: 0.680703, [VAL ACCURACY]: 0.844 \n",
            "\n",
            "[EPOCH]: 8, [TRAIN LOSS]: 0.056813, [TRAIN ACCURACY]: 0.980\n",
            "[EPOCH]: 8, [VAL LOSS]: 0.674467, [VAL ACCURACY]: 0.844 \n",
            "\n"
          ],
          "name": "stdout"
        },
        {
          "output_type": "display_data",
          "data": {
            "image/png": "[encoded data removed]",
            "text/plain": [
              "<Figure size 432x288 with 2 Axes>"
            ]
          },
          "metadata": {
            "tags": [],
            "needs_background": "light"
          }
        }
      ]
    },
    {
      "cell_type": "markdown",
      "metadata": {
        "id": "LtQrfg6_ch1C"
      },
      "source": [
        "### Best model: SGD with learning rate 0.1"
      ]
    },
    {
      "cell_type": "markdown",
      "metadata": {
        "id": "JiLexWP36qp6"
      },
      "source": [
        "### Q2.12 Load the model that gave you best validation accuracy and report results on the test set. "
      ]
    },
    {
      "cell_type": "code",
      "metadata": {
        "id": "wIbQYfJ3Z2Z6"
      },
      "source": [
        "def evaluate_model(model, dataloader,loss_fn):\n",
        "    model.eval()\n",
        "    running_correct = 0\n",
        "    running_loss = 0\n",
        "    running_total = 0\n",
        "    probs=[]\n",
        "    truth=[]\n",
        "    prediction=[]\n",
        "    for i, (image,label) in enumerate(dataloader):\n",
        "        image = image.to(device)\n",
        "        label = label.to(device)\n",
        "        output = model(image)\n",
        "        loss = loss_fn(output, label)\n",
        "        _, preds = torch.max(output,dim = 1)\n",
        "        prediction+= preds.to('cpu').tolist()\n",
        "        num_imgs = image.size()[0]\n",
        "        running_correct += torch.sum(preds ==label).item()\n",
        "        running_loss += loss.item()*num_imgs\n",
        "        running_total += num_imgs\n",
        "    accuracy = float(running_correct/running_total)\n",
        "    loss = float(running_loss/running_total)\n",
        "    \n",
        "    return accuracy, loss"
      ],
      "execution_count": 41,
      "outputs": []
    },
    {
      "cell_type": "code",
      "metadata": {
        "id": "weCG1-AZZ2Z5"
      },
      "source": [
        "import pickle\n",
        "mo1 = ResidualConvnet(3,10)\n",
        "load=torch.load('/content/drive/My Drive/share/SGD0.1.pickle')\n",
        "mo1.load_state_dict(load['model_stat_dict'])\n",
        "mo2=mo1.to(device)"
      ],
      "execution_count": 31,
      "outputs": []
    },
    {
      "cell_type": "code",
      "metadata": {
        "id": "GntzA5YBZ2Z8"
      },
      "source": [
        "criterion=nn.CrossEntropyLoss()\n",
        "acc_new_sgd, loss_new_sgd= evaluate_model(mo2, test_loader, criterion)"
      ],
      "execution_count": 50,
      "outputs": []
    },
    {
      "cell_type": "code",
      "metadata": {
        "id": "Hz-m4xZU_nV8",
        "outputId": "562a0ded-f3bb-4bf2-fdba-796214d7b149",
        "colab": {
          "base_uri": "https://localhost:8080/",
          "height": 51
        }
      },
      "source": [
        "print('Accuracy on test set using best model is ',acc_new_sgd)\n",
        "print('Loss on test set with best model is ', loss_new_sgd)"
      ],
      "execution_count": 52,
      "outputs": [
        {
          "output_type": "stream",
          "text": [
            "Accuracy on test set using best model is  0.8698\n",
            "Loss on test set with best model is  0.5016978687286376\n"
          ],
          "name": "stdout"
        }
      ]
    },
    {
      "cell_type": "code",
      "metadata": {
        "id": "bH3LFNYlZ2aH"
      },
      "source": [
        ""
      ],
      "execution_count": null,
      "outputs": []
    }
  ]
}